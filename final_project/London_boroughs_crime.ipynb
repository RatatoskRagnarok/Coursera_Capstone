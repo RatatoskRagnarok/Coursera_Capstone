{
 "cells": [
  {
   "cell_type": "markdown",
   "metadata": {
    "collapsed": true,
    "pycharm": {
     "name": "#%% md\n"
    }
   },
   "source": [
    "# Capstone Project - London Borough Crime Rates and Venues\n",
    "### Applied Data Science Capstone by IBM/Coursera"
   ]
  },
  {
   "cell_type": "markdown",
   "source": [
    "## Table of contents\n",
    "* [Introduction: Business Problem](#introduction)\n",
    "* [Data](#data)\n",
    "* [Methodology](#methodology)\n",
    "* [Analysis](#analysis)\n",
    "* [Results and Discussion](#results)\n",
    "* [Conclusion](#conclusion)\n",
    "***"
   ],
   "metadata": {
    "collapsed": false,
    "pycharm": {
     "name": "#%% md\n"
    }
   }
  },
  {
   "cell_type": "markdown",
   "source": [
    "\n",
    "\n",
    "## Introduction <a name=\"introduction\"></a>\n",
    "Rising crime rates in some areas have been linked to a lack of amenities and 'things to do' for young people in those areas.\n",
    "\n",
    "This report will attempt to investigate whether crime rates in London boroughs are related to the number or type of venues in those boroughs.\n",
    "\n",
    "**Question:** Are crime rates lower or higher in areas with more venues? Does the type of venue matter?\n",
    "\n",
    "**Audience:** Local and UK government, Police, town planners, community and volunteer groups.\n",
    "\n",
    "If there is a link between types of venue and crime rate, then this can help with planning in the future for which venues to build and fund in order to prevent crime."
   ],
   "metadata": {
    "collapsed": false
   }
  },
  {
   "cell_type": "markdown",
   "source": [
    "## Data <a name=\"data\"></a>\n",
    "The City of London has been excluded as it is not technically a London Borough.\n",
    "\n",
    "Data sources are as follows:\n",
    "- Metropolitan Police and the London Datastore\n",
    "    - Crime data for each London Borough for the past 24 months\n",
    "    - [Link to website](https://data.london.gov.uk/dataset/recorded_crime_summary)\n",
    "\n",
    "- Wikipedia\n",
    "    - [Population estimate for each London Borough](https://en.wikipedia.org/wiki/List_of_London_boroughs)\n",
    "\n",
    "- Office for National Statistics\n",
    "    - CSV file of the central coordinates for each London Borough\n",
    "    - Through their [geoportal](https://geoportal.statistics.gov.uk/datasets/local-authority-districts-april-2019-uk-bfc/data?geometry=-64.265%2C46.017%2C59.397%2C63.434)\n",
    "\n",
    "- http://martinjc.github.io/UK-GeoJSON/\n",
    "    - Geojson file of Local Authority boundaries for England\n",
    "- Foursquare API\n",
    "    - For the data on venues in each borough\n",
    "    - For example:\n",
    "        - ('Bittacy Hill Park', 51.610528350617194, -0.21479129791259766, 'Park')\n",
    "    - It was decided to restrict the venues examined to four categories, offering various options of 'things to do', rather than categories that offered only 'places to be' like restaurants or bars.\n",
    "\n",
    "    - While the distinction is not exact, this is a rough estimation, using the categories available in Foursquare's API.\n",
    "\n",
    "        1. Arts & Entertainment\n",
    "            - for example, cinemas, music venues, bowling alleys, museums\n",
    "        2. Outdoor Recreation\n",
    "            - for example, parks, tennis courts, football fields\n",
    "        3. Study\n",
    "            - Universities, colleges and libraries (not schools)\n",
    "        4. Social and Religious\n",
    "            - Community centres, social clubs and religious centres\n",
    "    - The search radius needs to be determined in order to cover each borough, and the data cleaned to remove venues not in the borough.\n",
    "    - The venue limit on the API for this type of search is 50 venues. If it seems I am reaching that cap, I will have to add extra search points within each borough to try and pick up extra venues."
   ],
   "metadata": {
    "collapsed": false,
    "pycharm": {
     "name": "#%% md\n"
    }
   }
  },
  {
   "cell_type": "code",
   "source": [
    "# Import needed libraries\n",
    "import random\n",
    "import pandas as pd\n",
    "import json\n",
    "import requests\n",
    "from shapely.geometry import Point\n",
    "from shapely.geometry import shape\n",
    "from bs4 import BeautifulSoup\n",
    "import geopandas as gpd\n",
    "import numpy as np\n",
    "from sklearn.cluster import KMeans\n",
    "import matplotlib.pyplot as plt\n",
    "import matplotlib.cm as cm\n",
    "import matplotlib.colors as colors\n",
    "import seaborn as sns\n",
    "import scipy.stats\n",
    "import folium\n",
    "\n",
    "sns.set_style(\"whitegrid\")\n"
   ],
   "metadata": {
    "collapsed": false,
    "pycharm": {
     "name": "#%%\n"
    }
   },
   "execution_count": 1,
   "outputs": []
  },
  {
   "cell_type": "markdown",
   "source": [
    "### Make Crime Dataframe"
   ],
   "metadata": {
    "collapsed": false,
    "pycharm": {
     "name": "#%% md\n"
    }
   }
  },
  {
   "cell_type": "code",
   "execution_count": 2,
   "outputs": [
    {
     "data": {
      "text/plain": "                   MajorText                          MinorText  \\\n0  Arson and Criminal Damage                              Arson   \n1  Arson and Criminal Damage                    Criminal Damage   \n2                   Burglary  Burglary - Business and Community   \n3                   Burglary             Burglary - Residential   \n4              Drug Offences                   Drug Trafficking   \n\n     LookUp_BoroughName  201812  201901  201902  201903  201904  201905  \\\n0  Barking and Dagenham       1       5       2       5       5      11   \n1  Barking and Dagenham      88      97     127     138     130     140   \n2  Barking and Dagenham      33      45      24      29      27      21   \n3  Barking and Dagenham     164     114     107      99      96     114   \n4  Barking and Dagenham       4       6       2       6       5       9   \n\n   201906  ...  202002  202003  202004  202005  202006  202007  202008  \\\n0       3  ...       5       6       2       2       4       4       6   \n1     113  ...     103     107      80      86     121     122     114   \n2      27  ...      17      28      29      16      16      28      24   \n3      96  ...     123      97      57      42      63      72      63   \n4       6  ...       6       6      15      13      12      21       9   \n\n   202009  202010  202011  \n0       2       7       4  \n1     116     119     100  \n2      32      21      19  \n3      54      67      90  \n4      11      14      17  \n\n[5 rows x 27 columns]",
      "text/html": "<div>\n<style scoped>\n    .dataframe tbody tr th:only-of-type {\n        vertical-align: middle;\n    }\n\n    .dataframe tbody tr th {\n        vertical-align: top;\n    }\n\n    .dataframe thead th {\n        text-align: right;\n    }\n</style>\n<table border=\"1\" class=\"dataframe\">\n  <thead>\n    <tr style=\"text-align: right;\">\n      <th></th>\n      <th>MajorText</th>\n      <th>MinorText</th>\n      <th>LookUp_BoroughName</th>\n      <th>201812</th>\n      <th>201901</th>\n      <th>201902</th>\n      <th>201903</th>\n      <th>201904</th>\n      <th>201905</th>\n      <th>201906</th>\n      <th>...</th>\n      <th>202002</th>\n      <th>202003</th>\n      <th>202004</th>\n      <th>202005</th>\n      <th>202006</th>\n      <th>202007</th>\n      <th>202008</th>\n      <th>202009</th>\n      <th>202010</th>\n      <th>202011</th>\n    </tr>\n  </thead>\n  <tbody>\n    <tr>\n      <th>0</th>\n      <td>Arson and Criminal Damage</td>\n      <td>Arson</td>\n      <td>Barking and Dagenham</td>\n      <td>1</td>\n      <td>5</td>\n      <td>2</td>\n      <td>5</td>\n      <td>5</td>\n      <td>11</td>\n      <td>3</td>\n      <td>...</td>\n      <td>5</td>\n      <td>6</td>\n      <td>2</td>\n      <td>2</td>\n      <td>4</td>\n      <td>4</td>\n      <td>6</td>\n      <td>2</td>\n      <td>7</td>\n      <td>4</td>\n    </tr>\n    <tr>\n      <th>1</th>\n      <td>Arson and Criminal Damage</td>\n      <td>Criminal Damage</td>\n      <td>Barking and Dagenham</td>\n      <td>88</td>\n      <td>97</td>\n      <td>127</td>\n      <td>138</td>\n      <td>130</td>\n      <td>140</td>\n      <td>113</td>\n      <td>...</td>\n      <td>103</td>\n      <td>107</td>\n      <td>80</td>\n      <td>86</td>\n      <td>121</td>\n      <td>122</td>\n      <td>114</td>\n      <td>116</td>\n      <td>119</td>\n      <td>100</td>\n    </tr>\n    <tr>\n      <th>2</th>\n      <td>Burglary</td>\n      <td>Burglary - Business and Community</td>\n      <td>Barking and Dagenham</td>\n      <td>33</td>\n      <td>45</td>\n      <td>24</td>\n      <td>29</td>\n      <td>27</td>\n      <td>21</td>\n      <td>27</td>\n      <td>...</td>\n      <td>17</td>\n      <td>28</td>\n      <td>29</td>\n      <td>16</td>\n      <td>16</td>\n      <td>28</td>\n      <td>24</td>\n      <td>32</td>\n      <td>21</td>\n      <td>19</td>\n    </tr>\n    <tr>\n      <th>3</th>\n      <td>Burglary</td>\n      <td>Burglary - Residential</td>\n      <td>Barking and Dagenham</td>\n      <td>164</td>\n      <td>114</td>\n      <td>107</td>\n      <td>99</td>\n      <td>96</td>\n      <td>114</td>\n      <td>96</td>\n      <td>...</td>\n      <td>123</td>\n      <td>97</td>\n      <td>57</td>\n      <td>42</td>\n      <td>63</td>\n      <td>72</td>\n      <td>63</td>\n      <td>54</td>\n      <td>67</td>\n      <td>90</td>\n    </tr>\n    <tr>\n      <th>4</th>\n      <td>Drug Offences</td>\n      <td>Drug Trafficking</td>\n      <td>Barking and Dagenham</td>\n      <td>4</td>\n      <td>6</td>\n      <td>2</td>\n      <td>6</td>\n      <td>5</td>\n      <td>9</td>\n      <td>6</td>\n      <td>...</td>\n      <td>6</td>\n      <td>6</td>\n      <td>15</td>\n      <td>13</td>\n      <td>12</td>\n      <td>21</td>\n      <td>9</td>\n      <td>11</td>\n      <td>14</td>\n      <td>17</td>\n    </tr>\n  </tbody>\n</table>\n<p>5 rows × 27 columns</p>\n</div>"
     },
     "execution_count": 2,
     "metadata": {},
     "output_type": "execute_result"
    }
   ],
   "source": [
    "crime_df = pd.read_csv('MPS Borough Level Crime (most recent 24 months).csv')\n",
    "crime_df.head()"
   ],
   "metadata": {
    "collapsed": false,
    "pycharm": {
     "name": "#%%\n"
    }
   }
  },
  {
   "cell_type": "code",
   "execution_count": 3,
   "outputs": [
    {
     "data": {
      "text/plain": "                       Crime               Borough  Total_Crime\n0  Arson and Criminal Damage  Barking and Dagenham          115\n1  Arson and Criminal Damage  Barking and Dagenham         2687\n2                   Burglary  Barking and Dagenham          656\n3                   Burglary  Barking and Dagenham         2193\n4              Drug Offences  Barking and Dagenham          228",
      "text/html": "<div>\n<style scoped>\n    .dataframe tbody tr th:only-of-type {\n        vertical-align: middle;\n    }\n\n    .dataframe tbody tr th {\n        vertical-align: top;\n    }\n\n    .dataframe thead th {\n        text-align: right;\n    }\n</style>\n<table border=\"1\" class=\"dataframe\">\n  <thead>\n    <tr style=\"text-align: right;\">\n      <th></th>\n      <th>Crime</th>\n      <th>Borough</th>\n      <th>Total_Crime</th>\n    </tr>\n  </thead>\n  <tbody>\n    <tr>\n      <th>0</th>\n      <td>Arson and Criminal Damage</td>\n      <td>Barking and Dagenham</td>\n      <td>115</td>\n    </tr>\n    <tr>\n      <th>1</th>\n      <td>Arson and Criminal Damage</td>\n      <td>Barking and Dagenham</td>\n      <td>2687</td>\n    </tr>\n    <tr>\n      <th>2</th>\n      <td>Burglary</td>\n      <td>Barking and Dagenham</td>\n      <td>656</td>\n    </tr>\n    <tr>\n      <th>3</th>\n      <td>Burglary</td>\n      <td>Barking and Dagenham</td>\n      <td>2193</td>\n    </tr>\n    <tr>\n      <th>4</th>\n      <td>Drug Offences</td>\n      <td>Barking and Dagenham</td>\n      <td>228</td>\n    </tr>\n  </tbody>\n</table>\n</div>"
     },
     "execution_count": 3,
     "metadata": {},
     "output_type": "execute_result"
    }
   ],
   "source": [
    "# add the crimes together to get a total crimes for the past 24 months\n",
    "crime_df['Total_Crime'] = crime_df.sum(axis=1)\n",
    "# remove unnecessary columns, and rename them\n",
    "crime_df = crime_df[['MajorText', 'LookUp_BoroughName', 'Total_Crime']]\n",
    "crime_df.columns = ['Crime', 'Borough', 'Total_Crime']\n",
    "crime_df.head()\n"
   ],
   "metadata": {
    "collapsed": false,
    "pycharm": {
     "name": "#%%\n"
    }
   }
  },
  {
   "cell_type": "code",
   "execution_count": 4,
   "outputs": [
    {
     "data": {
      "text/plain": "                      Total_Crime\nBorough                          \nBarking and Dagenham        39456\nBarnet                      59167\nBexley                      33929\nBrent                       59257\nBromley                     47499",
      "text/html": "<div>\n<style scoped>\n    .dataframe tbody tr th:only-of-type {\n        vertical-align: middle;\n    }\n\n    .dataframe tbody tr th {\n        vertical-align: top;\n    }\n\n    .dataframe thead th {\n        text-align: right;\n    }\n</style>\n<table border=\"1\" class=\"dataframe\">\n  <thead>\n    <tr style=\"text-align: right;\">\n      <th></th>\n      <th>Total_Crime</th>\n    </tr>\n    <tr>\n      <th>Borough</th>\n      <th></th>\n    </tr>\n  </thead>\n  <tbody>\n    <tr>\n      <th>Barking and Dagenham</th>\n      <td>39456</td>\n    </tr>\n    <tr>\n      <th>Barnet</th>\n      <td>59167</td>\n    </tr>\n    <tr>\n      <th>Bexley</th>\n      <td>33929</td>\n    </tr>\n    <tr>\n      <th>Brent</th>\n      <td>59257</td>\n    </tr>\n    <tr>\n      <th>Bromley</th>\n      <td>47499</td>\n    </tr>\n  </tbody>\n</table>\n</div>"
     },
     "execution_count": 4,
     "metadata": {},
     "output_type": "execute_result"
    }
   ],
   "source": [
    "# group the dataframe by borough to get a total number of crimes for each borough\n",
    "total_crime_df = crime_df.groupby('Borough').sum()\n",
    "total_crime_df.head()\n"
   ],
   "metadata": {
    "collapsed": false,
    "pycharm": {
     "name": "#%%\n"
    }
   }
  },
  {
   "cell_type": "markdown",
   "source": [
    "### Make London Dataframe"
   ],
   "metadata": {
    "collapsed": false,
    "pycharm": {
     "name": "#%% md\n"
    }
   }
  },
  {
   "cell_type": "code",
   "execution_count": 5,
   "outputs": [
    {
     "data": {
      "text/plain": "                         Borough Inner Status  \\\n0  Barking and Dagenham [note 1]   NaN    NaN   \n1                         Barnet   NaN    NaN   \n2                         Bexley   NaN    NaN   \n3                          Brent   NaN    NaN   \n4                        Bromley   NaN    NaN   \n\n                               Local authority Political control  \\\n0  Barking and Dagenham London Borough Council            Labour   \n1                Barnet London Borough Council      Conservative   \n2                Bexley London Borough Council      Conservative   \n3                 Brent London Borough Council            Labour   \n4               Bromley London Borough Council      Conservative   \n\n                                Headquarters  Area (sq mi)  \\\n0                   Town Hall, 1 Town Square         13.93   \n1  Barnet House, 2 Bristol Avenue, Colindale         33.49   \n2            Civic Offices, 2 Watling Street         23.38   \n3          Brent Civic Centre, Engineers Way         16.70   \n4              Civic Centre, Stockwell Close         57.97   \n\n   Population (2019 est)[1]  \\\n0                    212906   \n1                    395896   \n2                    248287   \n3                    329771   \n4                    332336   \n\n                                        Co-ordinates  Nr. in map  \n0  .mw-parser-output .geo-default,.mw-parser-outp...          25  \n1        51°37′31″N 0°09′06″W﻿ / ﻿51.6252°N 0.1517°W          31  \n2        51°27′18″N 0°09′02″E﻿ / ﻿51.4549°N 0.1505°E          23  \n3        51°33′32″N 0°16′54″W﻿ / ﻿51.5588°N 0.2817°W          12  \n4        51°24′14″N 0°01′11″E﻿ / ﻿51.4039°N 0.0198°E          20  ",
      "text/html": "<div>\n<style scoped>\n    .dataframe tbody tr th:only-of-type {\n        vertical-align: middle;\n    }\n\n    .dataframe tbody tr th {\n        vertical-align: top;\n    }\n\n    .dataframe thead th {\n        text-align: right;\n    }\n</style>\n<table border=\"1\" class=\"dataframe\">\n  <thead>\n    <tr style=\"text-align: right;\">\n      <th></th>\n      <th>Borough</th>\n      <th>Inner</th>\n      <th>Status</th>\n      <th>Local authority</th>\n      <th>Political control</th>\n      <th>Headquarters</th>\n      <th>Area (sq mi)</th>\n      <th>Population (2019 est)[1]</th>\n      <th>Co-ordinates</th>\n      <th>Nr. in map</th>\n    </tr>\n  </thead>\n  <tbody>\n    <tr>\n      <th>0</th>\n      <td>Barking and Dagenham [note 1]</td>\n      <td>NaN</td>\n      <td>NaN</td>\n      <td>Barking and Dagenham London Borough Council</td>\n      <td>Labour</td>\n      <td>Town Hall, 1 Town Square</td>\n      <td>13.93</td>\n      <td>212906</td>\n      <td>.mw-parser-output .geo-default,.mw-parser-outp...</td>\n      <td>25</td>\n    </tr>\n    <tr>\n      <th>1</th>\n      <td>Barnet</td>\n      <td>NaN</td>\n      <td>NaN</td>\n      <td>Barnet London Borough Council</td>\n      <td>Conservative</td>\n      <td>Barnet House, 2 Bristol Avenue, Colindale</td>\n      <td>33.49</td>\n      <td>395896</td>\n      <td>51°37′31″N 0°09′06″W﻿ / ﻿51.6252°N 0.1517°W</td>\n      <td>31</td>\n    </tr>\n    <tr>\n      <th>2</th>\n      <td>Bexley</td>\n      <td>NaN</td>\n      <td>NaN</td>\n      <td>Bexley London Borough Council</td>\n      <td>Conservative</td>\n      <td>Civic Offices, 2 Watling Street</td>\n      <td>23.38</td>\n      <td>248287</td>\n      <td>51°27′18″N 0°09′02″E﻿ / ﻿51.4549°N 0.1505°E</td>\n      <td>23</td>\n    </tr>\n    <tr>\n      <th>3</th>\n      <td>Brent</td>\n      <td>NaN</td>\n      <td>NaN</td>\n      <td>Brent London Borough Council</td>\n      <td>Labour</td>\n      <td>Brent Civic Centre, Engineers Way</td>\n      <td>16.70</td>\n      <td>329771</td>\n      <td>51°33′32″N 0°16′54″W﻿ / ﻿51.5588°N 0.2817°W</td>\n      <td>12</td>\n    </tr>\n    <tr>\n      <th>4</th>\n      <td>Bromley</td>\n      <td>NaN</td>\n      <td>NaN</td>\n      <td>Bromley London Borough Council</td>\n      <td>Conservative</td>\n      <td>Civic Centre, Stockwell Close</td>\n      <td>57.97</td>\n      <td>332336</td>\n      <td>51°24′14″N 0°01′11″E﻿ / ﻿51.4039°N 0.0198°E</td>\n      <td>20</td>\n    </tr>\n  </tbody>\n</table>\n</div>"
     },
     "execution_count": 5,
     "metadata": {},
     "output_type": "execute_result"
    }
   ],
   "source": [
    "# get list of boroughs and populations from wikipedia\n",
    "url = \"https://en.wikipedia.org/wiki/List_of_London_boroughs\"\n",
    "wikitable = \"wikitable sortable jquery-tablesorter\"\n",
    "response = requests.get(url)\n",
    "\n",
    "# turn it into a dataframe using beautifulsoup\n",
    "soup = BeautifulSoup(response.text, 'html.parser')\n",
    "london = soup.find('table', {'class': \"wikitable\"})\n",
    "\n",
    "london_df = pd.read_html(str(london))\n",
    "london_df = pd.DataFrame(london_df[0])\n",
    "london_df.head()"
   ],
   "metadata": {
    "collapsed": false,
    "pycharm": {
     "name": "#%%\n"
    }
   }
  },
  {
   "cell_type": "markdown",
   "source": [
    "The wikipedia table has coordinates for each borough, but they are for the headquarters, not for the borough centres, and so are not useful for using as the basis of a search.\n",
    "\n",
    "I will therefore remove these, and get the coords elsewhere.\n"
   ],
   "metadata": {
    "collapsed": false,
    "pycharm": {
     "name": "#%% md\n"
    }
   }
  },
  {
   "cell_type": "code",
   "execution_count": 6,
   "outputs": [
    {
     "data": {
      "text/plain": "                Borough  Population\n0  Barking and Dagenham      212906\n1                Barnet      395896\n2                Bexley      248287\n3                 Brent      329771\n4               Bromley      332336",
      "text/html": "<div>\n<style scoped>\n    .dataframe tbody tr th:only-of-type {\n        vertical-align: middle;\n    }\n\n    .dataframe tbody tr th {\n        vertical-align: top;\n    }\n\n    .dataframe thead th {\n        text-align: right;\n    }\n</style>\n<table border=\"1\" class=\"dataframe\">\n  <thead>\n    <tr style=\"text-align: right;\">\n      <th></th>\n      <th>Borough</th>\n      <th>Population</th>\n    </tr>\n  </thead>\n  <tbody>\n    <tr>\n      <th>0</th>\n      <td>Barking and Dagenham</td>\n      <td>212906</td>\n    </tr>\n    <tr>\n      <th>1</th>\n      <td>Barnet</td>\n      <td>395896</td>\n    </tr>\n    <tr>\n      <th>2</th>\n      <td>Bexley</td>\n      <td>248287</td>\n    </tr>\n    <tr>\n      <th>3</th>\n      <td>Brent</td>\n      <td>329771</td>\n    </tr>\n    <tr>\n      <th>4</th>\n      <td>Bromley</td>\n      <td>332336</td>\n    </tr>\n  </tbody>\n</table>\n</div>"
     },
     "execution_count": 6,
     "metadata": {},
     "output_type": "execute_result"
    }
   ],
   "source": [
    "# remove unnecessary columns, rename columns\n",
    "# has the coords, but they aren't in the centre of the borough, so the searches don't work!\n",
    "london_df = london_df[['Borough','Population (2019 est)[1]']]\n",
    "london_df.columns = ['Borough','Population']\n",
    "# get rid of the [note n] notes\n",
    "london_df.Borough = london_df['Borough'].replace(to_replace =\" \\[note [1-9]\\]\", value = '', regex = True)\n",
    "london_df.head()"
   ],
   "metadata": {
    "collapsed": false,
    "pycharm": {
     "name": "#%%\n"
    }
   }
  },
  {
   "cell_type": "markdown",
   "source": [
    "### Getting the co-ordinates for London Boroughs"
   ],
   "metadata": {
    "collapsed": false,
    "pycharm": {
     "name": "#%% md\n"
    }
   }
  },
  {
   "cell_type": "code",
   "execution_count": 7,
   "outputs": [
    {
     "data": {
      "text/plain": "                Borough  longitude  latitude\n0            Hartlepool   -1.27023   54.6762\n1         Middlesbrough   -1.21099   54.5447\n2  Redcar and Cleveland   -1.00611   54.5675\n3      Stockton-on-Tees   -1.30669   54.5569\n4            Darlington   -1.56835   54.5353",
      "text/html": "<div>\n<style scoped>\n    .dataframe tbody tr th:only-of-type {\n        vertical-align: middle;\n    }\n\n    .dataframe tbody tr th {\n        vertical-align: top;\n    }\n\n    .dataframe thead th {\n        text-align: right;\n    }\n</style>\n<table border=\"1\" class=\"dataframe\">\n  <thead>\n    <tr style=\"text-align: right;\">\n      <th></th>\n      <th>Borough</th>\n      <th>longitude</th>\n      <th>latitude</th>\n    </tr>\n  </thead>\n  <tbody>\n    <tr>\n      <th>0</th>\n      <td>Hartlepool</td>\n      <td>-1.27023</td>\n      <td>54.6762</td>\n    </tr>\n    <tr>\n      <th>1</th>\n      <td>Middlesbrough</td>\n      <td>-1.21099</td>\n      <td>54.5447</td>\n    </tr>\n    <tr>\n      <th>2</th>\n      <td>Redcar and Cleveland</td>\n      <td>-1.00611</td>\n      <td>54.5675</td>\n    </tr>\n    <tr>\n      <th>3</th>\n      <td>Stockton-on-Tees</td>\n      <td>-1.30669</td>\n      <td>54.5569</td>\n    </tr>\n    <tr>\n      <th>4</th>\n      <td>Darlington</td>\n      <td>-1.56835</td>\n      <td>54.5353</td>\n    </tr>\n  </tbody>\n</table>\n</div>"
     },
     "execution_count": 7,
     "metadata": {},
     "output_type": "execute_result"
    }
   ],
   "source": [
    "# get the coords for each borough\n",
    "coords = pd.read_csv('Local_Authority_Districts.csv')\n",
    "coords = coords[['LAD19NM', 'LONG', 'LAT']]  # remove other columns\n",
    "coords.columns = ['Borough', 'longitude', 'latitude']  # rename columns\n",
    "coords.head()"
   ],
   "metadata": {
    "collapsed": false,
    "pycharm": {
     "name": "#%%\n"
    }
   }
  },
  {
   "cell_type": "code",
   "execution_count": 8,
   "outputs": [
    {
     "data": {
      "text/plain": "                Borough  Population  longitude  latitude\n0  Barking and Dagenham      212906   0.129506   51.5455\n1                Barnet      395896  -0.218210   51.6111\n2                Bexley      248287   0.146212   51.4582\n3                 Brent      329771  -0.275680   51.5644\n4               Bromley      332336   0.039246   51.3727",
      "text/html": "<div>\n<style scoped>\n    .dataframe tbody tr th:only-of-type {\n        vertical-align: middle;\n    }\n\n    .dataframe tbody tr th {\n        vertical-align: top;\n    }\n\n    .dataframe thead th {\n        text-align: right;\n    }\n</style>\n<table border=\"1\" class=\"dataframe\">\n  <thead>\n    <tr style=\"text-align: right;\">\n      <th></th>\n      <th>Borough</th>\n      <th>Population</th>\n      <th>longitude</th>\n      <th>latitude</th>\n    </tr>\n  </thead>\n  <tbody>\n    <tr>\n      <th>0</th>\n      <td>Barking and Dagenham</td>\n      <td>212906</td>\n      <td>0.129506</td>\n      <td>51.5455</td>\n    </tr>\n    <tr>\n      <th>1</th>\n      <td>Barnet</td>\n      <td>395896</td>\n      <td>-0.218210</td>\n      <td>51.6111</td>\n    </tr>\n    <tr>\n      <th>2</th>\n      <td>Bexley</td>\n      <td>248287</td>\n      <td>0.146212</td>\n      <td>51.4582</td>\n    </tr>\n    <tr>\n      <th>3</th>\n      <td>Brent</td>\n      <td>329771</td>\n      <td>-0.275680</td>\n      <td>51.5644</td>\n    </tr>\n    <tr>\n      <th>4</th>\n      <td>Bromley</td>\n      <td>332336</td>\n      <td>0.039246</td>\n      <td>51.3727</td>\n    </tr>\n  </tbody>\n</table>\n</div>"
     },
     "execution_count": 8,
     "metadata": {},
     "output_type": "execute_result"
    }
   ],
   "source": [
    "# merge with london df\n",
    "london_df = pd.merge(london_df, coords, on='Borough')\n",
    "london_df.head()\n"
   ],
   "metadata": {
    "collapsed": false,
    "pycharm": {
     "name": "#%%\n"
    }
   }
  },
  {
   "cell_type": "code",
   "execution_count": 9,
   "outputs": [
    {
     "data": {
      "text/plain": "                Borough  Population  longitude  latitude  Total_Crime\n0  Barking and Dagenham      212906   0.129506   51.5455        39456\n1                Barnet      395896  -0.218210   51.6111        59167\n2                Bexley      248287   0.146212   51.4582        33929\n3                 Brent      329771  -0.275680   51.5644        59257\n4               Bromley      332336   0.039246   51.3727        47499",
      "text/html": "<div>\n<style scoped>\n    .dataframe tbody tr th:only-of-type {\n        vertical-align: middle;\n    }\n\n    .dataframe tbody tr th {\n        vertical-align: top;\n    }\n\n    .dataframe thead th {\n        text-align: right;\n    }\n</style>\n<table border=\"1\" class=\"dataframe\">\n  <thead>\n    <tr style=\"text-align: right;\">\n      <th></th>\n      <th>Borough</th>\n      <th>Population</th>\n      <th>longitude</th>\n      <th>latitude</th>\n      <th>Total_Crime</th>\n    </tr>\n  </thead>\n  <tbody>\n    <tr>\n      <th>0</th>\n      <td>Barking and Dagenham</td>\n      <td>212906</td>\n      <td>0.129506</td>\n      <td>51.5455</td>\n      <td>39456</td>\n    </tr>\n    <tr>\n      <th>1</th>\n      <td>Barnet</td>\n      <td>395896</td>\n      <td>-0.218210</td>\n      <td>51.6111</td>\n      <td>59167</td>\n    </tr>\n    <tr>\n      <th>2</th>\n      <td>Bexley</td>\n      <td>248287</td>\n      <td>0.146212</td>\n      <td>51.4582</td>\n      <td>33929</td>\n    </tr>\n    <tr>\n      <th>3</th>\n      <td>Brent</td>\n      <td>329771</td>\n      <td>-0.275680</td>\n      <td>51.5644</td>\n      <td>59257</td>\n    </tr>\n    <tr>\n      <th>4</th>\n      <td>Bromley</td>\n      <td>332336</td>\n      <td>0.039246</td>\n      <td>51.3727</td>\n      <td>47499</td>\n    </tr>\n  </tbody>\n</table>\n</div>"
     },
     "execution_count": 9,
     "metadata": {},
     "output_type": "execute_result"
    }
   ],
   "source": [
    "# add total crimes for each borough\n",
    "london_crimes = pd.merge(london_df, total_crime_df, on='Borough')\n",
    "london_crimes.head()\n"
   ],
   "metadata": {
    "collapsed": false,
    "pycharm": {
     "name": "#%%\n"
    }
   }
  },
  {
   "cell_type": "markdown",
   "source": [
    "### Calculate crime rate per 100,000 people\n",
    "\n",
    "crime rate = (number of crimes / number of people) x 100000"
   ],
   "metadata": {
    "collapsed": false,
    "pycharm": {
     "name": "#%% md\n"
    }
   }
  },
  {
   "cell_type": "code",
   "execution_count": 10,
   "outputs": [
    {
     "data": {
      "text/plain": "                Borough  Population  longitude  latitude  Total_Crime  \\\n0  Barking and Dagenham      212906   0.129506   51.5455        39456   \n1                Barnet      395896  -0.218210   51.6111        59167   \n2                Bexley      248287   0.146212   51.4582        33929   \n3                 Brent      329771  -0.275680   51.5644        59257   \n4               Bromley      332336   0.039246   51.3727        47499   \n\n   Crime_Rate  \n0    18532.12  \n1    14945.09  \n2    13665.23  \n3    17969.14  \n4    14292.46  ",
      "text/html": "<div>\n<style scoped>\n    .dataframe tbody tr th:only-of-type {\n        vertical-align: middle;\n    }\n\n    .dataframe tbody tr th {\n        vertical-align: top;\n    }\n\n    .dataframe thead th {\n        text-align: right;\n    }\n</style>\n<table border=\"1\" class=\"dataframe\">\n  <thead>\n    <tr style=\"text-align: right;\">\n      <th></th>\n      <th>Borough</th>\n      <th>Population</th>\n      <th>longitude</th>\n      <th>latitude</th>\n      <th>Total_Crime</th>\n      <th>Crime_Rate</th>\n    </tr>\n  </thead>\n  <tbody>\n    <tr>\n      <th>0</th>\n      <td>Barking and Dagenham</td>\n      <td>212906</td>\n      <td>0.129506</td>\n      <td>51.5455</td>\n      <td>39456</td>\n      <td>18532.12</td>\n    </tr>\n    <tr>\n      <th>1</th>\n      <td>Barnet</td>\n      <td>395896</td>\n      <td>-0.218210</td>\n      <td>51.6111</td>\n      <td>59167</td>\n      <td>14945.09</td>\n    </tr>\n    <tr>\n      <th>2</th>\n      <td>Bexley</td>\n      <td>248287</td>\n      <td>0.146212</td>\n      <td>51.4582</td>\n      <td>33929</td>\n      <td>13665.23</td>\n    </tr>\n    <tr>\n      <th>3</th>\n      <td>Brent</td>\n      <td>329771</td>\n      <td>-0.275680</td>\n      <td>51.5644</td>\n      <td>59257</td>\n      <td>17969.14</td>\n    </tr>\n    <tr>\n      <th>4</th>\n      <td>Bromley</td>\n      <td>332336</td>\n      <td>0.039246</td>\n      <td>51.3727</td>\n      <td>47499</td>\n      <td>14292.46</td>\n    </tr>\n  </tbody>\n</table>\n</div>"
     },
     "execution_count": 10,
     "metadata": {},
     "output_type": "execute_result"
    }
   ],
   "source": [
    "# calculate crime rate for each borough\n",
    "london_crimes['Crime_Rate'] = round((london_crimes['Total_Crime'] / london_crimes['Population']) * 100000, 2)\n",
    "london_crimes.head()"
   ],
   "metadata": {
    "collapsed": false,
    "pycharm": {
     "name": "#%%\n"
    }
   }
  },
  {
   "cell_type": "markdown",
   "source": [
    "### GeoJson\n",
    "\n",
    "I need this both for plotting maps and for working out which borough each venue is in"
   ],
   "metadata": {
    "collapsed": false,
    "pycharm": {
     "name": "#%% md\n"
    }
   }
  },
  {
   "cell_type": "code",
   "execution_count": 11,
   "outputs": [
    {
     "data": {
      "text/plain": "           Borough  Population  longitude  latitude  Total_Crime  Crime_Rate  \\\n27          Sutton      206349   -0.17227   51.3576        27146    13155.38   \n28   Tower Hamlets      324745   -0.03640   51.5155        67146    20676.53   \n29  Waltham Forest      276983   -0.01881   51.5946        47946    17310.09   \n30      Wandsworth      329677   -0.20021   51.4524        51171    15521.56   \n31     Westminster      261317   -0.15295   51.5122       134848    51603.23   \n\n                                             geometry  \n27  POLYGON ((-0.16646 51.38969, -0.16529 51.38798...  \n28  POLYGON ((-0.02947 51.54303, -0.02901 51.54227...  \n29  POLYGON ((-0.00822 51.64361, -0.00668 51.64333...  \n30  POLYGON ((-0.12636 51.48447, -0.12750 51.48202...  \n31  POLYGON ((-0.17414 51.53820, -0.17351 51.53763...  ",
      "text/html": "<div>\n<style scoped>\n    .dataframe tbody tr th:only-of-type {\n        vertical-align: middle;\n    }\n\n    .dataframe tbody tr th {\n        vertical-align: top;\n    }\n\n    .dataframe thead th {\n        text-align: right;\n    }\n</style>\n<table border=\"1\" class=\"dataframe\">\n  <thead>\n    <tr style=\"text-align: right;\">\n      <th></th>\n      <th>Borough</th>\n      <th>Population</th>\n      <th>longitude</th>\n      <th>latitude</th>\n      <th>Total_Crime</th>\n      <th>Crime_Rate</th>\n      <th>geometry</th>\n    </tr>\n  </thead>\n  <tbody>\n    <tr>\n      <th>27</th>\n      <td>Sutton</td>\n      <td>206349</td>\n      <td>-0.17227</td>\n      <td>51.3576</td>\n      <td>27146</td>\n      <td>13155.38</td>\n      <td>POLYGON ((-0.16646 51.38969, -0.16529 51.38798...</td>\n    </tr>\n    <tr>\n      <th>28</th>\n      <td>Tower Hamlets</td>\n      <td>324745</td>\n      <td>-0.03640</td>\n      <td>51.5155</td>\n      <td>67146</td>\n      <td>20676.53</td>\n      <td>POLYGON ((-0.02947 51.54303, -0.02901 51.54227...</td>\n    </tr>\n    <tr>\n      <th>29</th>\n      <td>Waltham Forest</td>\n      <td>276983</td>\n      <td>-0.01881</td>\n      <td>51.5946</td>\n      <td>47946</td>\n      <td>17310.09</td>\n      <td>POLYGON ((-0.00822 51.64361, -0.00668 51.64333...</td>\n    </tr>\n    <tr>\n      <th>30</th>\n      <td>Wandsworth</td>\n      <td>329677</td>\n      <td>-0.20021</td>\n      <td>51.4524</td>\n      <td>51171</td>\n      <td>15521.56</td>\n      <td>POLYGON ((-0.12636 51.48447, -0.12750 51.48202...</td>\n    </tr>\n    <tr>\n      <th>31</th>\n      <td>Westminster</td>\n      <td>261317</td>\n      <td>-0.15295</td>\n      <td>51.5122</td>\n      <td>134848</td>\n      <td>51603.23</td>\n      <td>POLYGON ((-0.17414 51.53820, -0.17351 51.53763...</td>\n    </tr>\n  </tbody>\n</table>\n</div>"
     },
     "execution_count": 11,
     "metadata": {},
     "output_type": "execute_result"
    }
   ],
   "source": [
    "london_geo = gpd.read_file('gb_boroughs.json')\n",
    "# # The column names are weird and have non-utf characters in, so this was the easiest way to choose columns!\n",
    "london_geo.columns = ['dunno', 'stuff', 'Borough', 'huh', 'whut', 'geometry']\n",
    "london_geo = london_geo[['Borough', 'geometry']]\n",
    "london_geo = london_crimes.merge(london_geo, on='Borough')\n",
    "london_geo.tail()"
   ],
   "metadata": {
    "collapsed": false,
    "pycharm": {
     "name": "#%%\n"
    }
   }
  },
  {
   "cell_type": "markdown",
   "source": [
    "### Getting venue data\n",
    "\n",
    "First I needed to work out the required radius of the search circle to be certain to cover the largest (by area) of the London Boroughs, Bromley.\n",
    "\n",
    "I did this by plotting Bromley on a map, and increasing the size of a plotted circle until it covered the entire area."
   ],
   "metadata": {
    "collapsed": false,
    "pycharm": {
     "name": "#%% md\n"
    }
   }
  },
  {
   "cell_type": "code",
   "execution_count": 12,
   "outputs": [],
   "source": [
    "# don't run this cell till the last run through!\n",
    "# lat_brom = 51.3680\n",
    "# lng_brom = \t0.0701\n",
    "#\n",
    "# bromley = folium.Map(location=[lat_brom, lng_brom], zoom_start=10)\n",
    "# folium.GeoJson('gb_boroughs.json', name=\"geojson\").add_to(bromley)\n",
    "# folium.Circle(radius=12500,\n",
    "#         location=[51.3680, 0.0701],\n",
    "#         color='crimson',\n",
    "#         fill=False,\n",
    "#         ).add_to(bromley)\n",
    "# bromley"
   ],
   "metadata": {
    "collapsed": false,
    "pycharm": {
     "name": "#%%\n"
    }
   }
  },
  {
   "cell_type": "markdown",
   "source": [
    "This was with a radius of 12500 m, so that is the radius I will use.\n",
    "\n",
    "A radius this big means I will undoubtedly get overlap with other boroughs when searching, so I wrote a function to check whether each venue was within the borough being searched before being added to the list."
   ],
   "metadata": {
    "collapsed": false,
    "pycharm": {
     "name": "#%% md\n"
    }
   }
  },
  {
   "cell_type": "code",
   "execution_count": 13,
   "outputs": [],
   "source": [
    "# Foursquare credentials\n",
    "with open('credentials.json') as f:\n",
    "    creds = json.load(f)\n",
    "\n",
    "    CLIENT_ID = creds[0]['CLIENT_ID']\n",
    "    CLIENT_SECRET = creds[0]['CLIENT_SECRET']\n",
    "\n",
    "VERSION =  \"20200101\"\n",
    "LIMIT = 50  # highest it can be for a search on Foursquare API\n"
   ],
   "metadata": {
    "collapsed": false,
    "pycharm": {
     "name": "#%%\n"
    }
   }
  },
  {
   "cell_type": "code",
   "execution_count": 14,
   "outputs": [],
   "source": [
    "# function for checking something is in the right borough\n",
    "def check_venue(borough, lat, lon):\n",
    "        point = Point(lon, lat)\n",
    "        poly = london_geo[london_geo['Borough'] == borough]['geometry'].item()\n",
    "        poly = shape(poly)\n",
    "\n",
    "        if poly.contains(point):\n",
    "            return True\n",
    "        else:\n",
    "            return False\n",
    "\n",
    "\n",
    "# function for getting venues\n",
    "def get_venues(boroughs, lats, lngs, cat, radius=12500):\n",
    "\n",
    "    venues_list=[]\n",
    "    for borough, lat, lng in zip(boroughs, lats, lngs):\n",
    "        url = 'https://api.foursquare.com/v2/venues/search?&client_id={}&client_secret={}&v={}&ll={},{}&radius={}&limit={}&categoryId={}'.format(\n",
    "            CLIENT_ID,\n",
    "            CLIENT_SECRET,\n",
    "            VERSION,\n",
    "            lat,\n",
    "            lng,\n",
    "            radius,\n",
    "            LIMIT,\n",
    "            cat\n",
    "            )\n",
    "\n",
    "        results = requests.get(url).json()[\"response\"]['venues']\n",
    "\n",
    "        if check_venue(borough, lat, lng):\n",
    "            venues_list.append([(\n",
    "                borough,\n",
    "                lat,\n",
    "                lng,\n",
    "                v['name'],\n",
    "                v['id'],  # to check for duplicates\n",
    "                v['location']['lat'],\n",
    "                v['location']['lng'],\n",
    "                v['categories'][0]['name']) for v in results])\n",
    "\n",
    "    nearby_venues = pd.DataFrame([item for venue_list in venues_list for item in venue_list])\n",
    "    nearby_venues.columns = ['Borough',\n",
    "                             'Latitude',\n",
    "                             'Longitude',\n",
    "                             'Venue',\n",
    "                             'id',\n",
    "                             'Venue Latitude',\n",
    "                             'Venue Longitude',\n",
    "                             'Venue Category']\n",
    "\n",
    "    return nearby_venues"
   ],
   "metadata": {
    "collapsed": false,
    "pycharm": {
     "name": "#%%\n"
    }
   }
  },
  {
   "cell_type": "code",
   "execution_count": 15,
   "outputs": [],
   "source": [
    "# different categories of venues\n",
    "cat_art = '4d4b7104d754a06370d81259'  # Arts & Entertainment\n",
    "cat_out = '4d4b7105d754a06377d81259' # outdoors recreation\n",
    "cat_study = '4d4b7105d754a06372d81259,4bf58dd8d48988d12f941735' # college and university, libraries\n",
    "cat_social = '52e81612bcbc57f1066b7a34,52e81612bcbc57f1066b7a33,4bf58dd8d48988d131941735'  # community centre, social club, religious centres\n",
    "\n",
    "# values for getting venues\n",
    "bor = london_crimes.Borough\n",
    "lat = london_crimes.latitude\n",
    "lng = london_crimes.longitude\n",
    "\n",
    "# Let's go get the venues!\n",
    "arts = get_venues(bor, lat, lng, cat_art)\n",
    "outs = get_venues(bor, lat, lng, cat_out)\n",
    "studs = get_venues(bor, lat, lng, cat_study)\n",
    "socials = get_venues(bor, lat, lng, cat_social)"
   ],
   "metadata": {
    "collapsed": false,
    "pycharm": {
     "name": "#%%\n"
    }
   }
  },
  {
   "cell_type": "code",
   "execution_count": 16,
   "outputs": [
    {
     "data": {
      "text/plain": "                      Latitude  Longitude  Venue  id  Venue Latitude  \\\nBorough                                                                \nBarking and Dagenham        50         50     50  50              50   \nBarnet                      50         50     50  50              50   \nBexley                      50         50     50  50              50   \nBrent                       50         50     50  50              50   \nBromley                     50         50     50  50              50   \n\n                      Venue Longitude  Venue Category  \nBorough                                                \nBarking and Dagenham               50              50  \nBarnet                             50              50  \nBexley                             50              50  \nBrent                              50              50  \nBromley                            50              50  ",
      "text/html": "<div>\n<style scoped>\n    .dataframe tbody tr th:only-of-type {\n        vertical-align: middle;\n    }\n\n    .dataframe tbody tr th {\n        vertical-align: top;\n    }\n\n    .dataframe thead th {\n        text-align: right;\n    }\n</style>\n<table border=\"1\" class=\"dataframe\">\n  <thead>\n    <tr style=\"text-align: right;\">\n      <th></th>\n      <th>Latitude</th>\n      <th>Longitude</th>\n      <th>Venue</th>\n      <th>id</th>\n      <th>Venue Latitude</th>\n      <th>Venue Longitude</th>\n      <th>Venue Category</th>\n    </tr>\n    <tr>\n      <th>Borough</th>\n      <th></th>\n      <th></th>\n      <th></th>\n      <th></th>\n      <th></th>\n      <th></th>\n      <th></th>\n    </tr>\n  </thead>\n  <tbody>\n    <tr>\n      <th>Barking and Dagenham</th>\n      <td>50</td>\n      <td>50</td>\n      <td>50</td>\n      <td>50</td>\n      <td>50</td>\n      <td>50</td>\n      <td>50</td>\n    </tr>\n    <tr>\n      <th>Barnet</th>\n      <td>50</td>\n      <td>50</td>\n      <td>50</td>\n      <td>50</td>\n      <td>50</td>\n      <td>50</td>\n      <td>50</td>\n    </tr>\n    <tr>\n      <th>Bexley</th>\n      <td>50</td>\n      <td>50</td>\n      <td>50</td>\n      <td>50</td>\n      <td>50</td>\n      <td>50</td>\n      <td>50</td>\n    </tr>\n    <tr>\n      <th>Brent</th>\n      <td>50</td>\n      <td>50</td>\n      <td>50</td>\n      <td>50</td>\n      <td>50</td>\n      <td>50</td>\n      <td>50</td>\n    </tr>\n    <tr>\n      <th>Bromley</th>\n      <td>50</td>\n      <td>50</td>\n      <td>50</td>\n      <td>50</td>\n      <td>50</td>\n      <td>50</td>\n      <td>50</td>\n    </tr>\n  </tbody>\n</table>\n</div>"
     },
     "execution_count": 16,
     "metadata": {},
     "output_type": "execute_result"
    }
   ],
   "source": [
    "# check one out to see if we are reaching the caps\n",
    "arts.groupby('Borough').count().head()"
   ],
   "metadata": {
    "collapsed": false,
    "pycharm": {
     "name": "#%%\n"
    }
   }
  },
  {
   "cell_type": "markdown",
   "source": [
    "Its clear we are reaching the cap of 50 venues for each search here.\n",
    "\n",
    "So to try to pick up extras, I will also search 5 random, smaller circles within each borough."
   ],
   "metadata": {
    "collapsed": false,
    "pycharm": {
     "name": "#%% md\n"
    }
   }
  },
  {
   "cell_type": "code",
   "execution_count": 17,
   "outputs": [],
   "source": [
    "# function for generating random points\n",
    "def generate_random(polygon, number=5):\n",
    "    list_of_points = []\n",
    "    minx, miny, maxx, maxy = polygon.bounds\n",
    "    counter = 0\n",
    "    while counter < number:\n",
    "        pnt = Point(random.uniform(minx, maxx), random.uniform(miny, maxy))\n",
    "        if polygon.contains(pnt):\n",
    "            coords = pnt.coords.xy\n",
    "            lat = coords[1][0]\n",
    "            lng = coords[0][0]\n",
    "            list_of_points.append([lat, lng])\n",
    "            counter += 1\n",
    "    return list_of_points\n",
    "\n",
    "# function to get random points for each borough in a df\n",
    "def get_points(df):\n",
    "    points_list = []\n",
    "    for index, row in df.iterrows():\n",
    "        borough = row['Borough']\n",
    "        poly = shape(row['geometry'])\n",
    "\n",
    "        list_of_points = generate_random(poly)\n",
    "        points_list.append([borough, list_of_points])\n",
    "\n",
    "    return points_list\n",
    "\n",
    "# function to create a df I can use in my get_venues function\n",
    "def points_df(geo_df):\n",
    "    points_list = get_points(geo_df)\n",
    "\n",
    "    df = pd.DataFrame(columns = ['Borough', 'latitude', 'longitude'])\n",
    "    for x in range(len(points_list)):\n",
    "        coords =  points_list[x][1]\n",
    "        for i in range(len(coords)):\n",
    "            borough = points_list[x][0]\n",
    "            lat = (coords[i][0])\n",
    "            lng = (coords[i][1])\n",
    "\n",
    "            df = df.append({'Borough': borough, 'latitude': lat, 'longitude': lng}, ignore_index=True)\n",
    "    return df"
   ],
   "metadata": {
    "collapsed": false,
    "pycharm": {
     "name": "#%%\n"
    }
   }
  },
  {
   "cell_type": "code",
   "execution_count": 18,
   "outputs": [],
   "source": [
    "extra_points = points_df(london_geo)\n",
    "bor = extra_points.Borough\n",
    "lat = extra_points.latitude\n",
    "lng = extra_points.longitude\n",
    "\n",
    "arts_extra = get_venues(bor, lat, lng, cat_art, radius=1000)\n",
    "outs_extra = get_venues(bor, lat, lng, cat_out, radius=1000)\n",
    "studs_extra = get_venues(bor, lat, lng, cat_study, radius=1000)\n",
    "socials_extra = get_venues(bor, lat, lng, cat_social, radius=1000)"
   ],
   "metadata": {
    "collapsed": false,
    "pycharm": {
     "name": "#%%\n"
    }
   }
  },
  {
   "cell_type": "code",
   "execution_count": 19,
   "outputs": [
    {
     "name": "stdout",
     "output_type": "stream",
     "text": [
      "(1590, 8)\n",
      "(3920, 8)\n"
     ]
    },
    {
     "data": {
      "text/plain": "                Borough  Latitude  Longitude                   Venue  \\\n0  Barking and Dagenham   51.5455   0.129506            The O2 Arena   \n1  Barking and Dagenham   51.5455   0.129506       The Castle Cinema   \n2  Barking and Dagenham   51.5455   0.129506  The Duke of Wellington   \n3  Barking and Dagenham   51.5455   0.129506         Everyman Cinema   \n4  Barking and Dagenham   51.5455   0.129506            Eleanor Arms   \n\n                         id  Venue Latitude  Venue Longitude  \\\n0  4ac518eaf964a52007ac20e3       51.502827         0.003182   \n1  57e6ecb738fa7204f0b558c0       51.551238        -0.043369   \n2  4adb8de1f964a520f02821e3       51.546283        -0.080575   \n3  555ce26c498e4946535303cf       51.505901        -0.017625   \n4  4ae39a3ef964a5202e9721e3       51.535149        -0.033129   \n\n        Venue Category  \n0          Music Venue  \n1  Indie Movie Theater  \n2                  Pub  \n3        Movie Theater  \n4                  Pub  ",
      "text/html": "<div>\n<style scoped>\n    .dataframe tbody tr th:only-of-type {\n        vertical-align: middle;\n    }\n\n    .dataframe tbody tr th {\n        vertical-align: top;\n    }\n\n    .dataframe thead th {\n        text-align: right;\n    }\n</style>\n<table border=\"1\" class=\"dataframe\">\n  <thead>\n    <tr style=\"text-align: right;\">\n      <th></th>\n      <th>Borough</th>\n      <th>Latitude</th>\n      <th>Longitude</th>\n      <th>Venue</th>\n      <th>id</th>\n      <th>Venue Latitude</th>\n      <th>Venue Longitude</th>\n      <th>Venue Category</th>\n    </tr>\n  </thead>\n  <tbody>\n    <tr>\n      <th>0</th>\n      <td>Barking and Dagenham</td>\n      <td>51.5455</td>\n      <td>0.129506</td>\n      <td>The O2 Arena</td>\n      <td>4ac518eaf964a52007ac20e3</td>\n      <td>51.502827</td>\n      <td>0.003182</td>\n      <td>Music Venue</td>\n    </tr>\n    <tr>\n      <th>1</th>\n      <td>Barking and Dagenham</td>\n      <td>51.5455</td>\n      <td>0.129506</td>\n      <td>The Castle Cinema</td>\n      <td>57e6ecb738fa7204f0b558c0</td>\n      <td>51.551238</td>\n      <td>-0.043369</td>\n      <td>Indie Movie Theater</td>\n    </tr>\n    <tr>\n      <th>2</th>\n      <td>Barking and Dagenham</td>\n      <td>51.5455</td>\n      <td>0.129506</td>\n      <td>The Duke of Wellington</td>\n      <td>4adb8de1f964a520f02821e3</td>\n      <td>51.546283</td>\n      <td>-0.080575</td>\n      <td>Pub</td>\n    </tr>\n    <tr>\n      <th>3</th>\n      <td>Barking and Dagenham</td>\n      <td>51.5455</td>\n      <td>0.129506</td>\n      <td>Everyman Cinema</td>\n      <td>555ce26c498e4946535303cf</td>\n      <td>51.505901</td>\n      <td>-0.017625</td>\n      <td>Movie Theater</td>\n    </tr>\n    <tr>\n      <th>4</th>\n      <td>Barking and Dagenham</td>\n      <td>51.5455</td>\n      <td>0.129506</td>\n      <td>Eleanor Arms</td>\n      <td>4ae39a3ef964a5202e9721e3</td>\n      <td>51.535149</td>\n      <td>-0.033129</td>\n      <td>Pub</td>\n    </tr>\n  </tbody>\n</table>\n</div>"
     },
     "execution_count": 19,
     "metadata": {},
     "output_type": "execute_result"
    }
   ],
   "source": [
    "print(arts.shape)\n",
    "arts2 = pd.concat([arts, arts_extra])\n",
    "arts2.drop_duplicates(subset=['Borough', 'id'], keep='last', inplace=True)\n",
    "print(arts2.shape)  # so it has added more venues\n",
    "arts2.head()"
   ],
   "metadata": {
    "collapsed": false,
    "pycharm": {
     "name": "#%%\n"
    }
   }
  },
  {
   "cell_type": "code",
   "execution_count": 20,
   "outputs": [],
   "source": [
    "outs2 = pd.concat([outs, outs_extra])\n",
    "outs2.drop_duplicates(subset=['Borough', 'id'], keep='last', inplace=True)\n",
    "studs2 = pd.concat([studs, studs_extra])\n",
    "studs2.drop_duplicates(subset=['Borough', 'id'], keep='last', inplace=True)\n",
    "socials2 = pd.concat([socials, socials_extra])\n",
    "socials2.drop_duplicates(subset=['Borough', 'id'], keep='last', inplace=True)"
   ],
   "metadata": {
    "collapsed": false,
    "pycharm": {
     "name": "#%%\n"
    }
   }
  },
  {
   "cell_type": "code",
   "execution_count": 21,
   "outputs": [
    {
     "data": {
      "text/plain": "                      Latitude  Longitude  Venue  id  Venue Latitude  \\\nBorough                                                                \nBarking and Dagenham        76         76     76  76              76   \nBarnet                      71         71     71  71              71   \nBexley                      61         61     61  61              61   \nBrent                       97         97     97  97              97   \nBromley                     50         50     50  50              50   \n\n                      Venue Longitude  Venue Category  \nBorough                                                \nBarking and Dagenham               76              76  \nBarnet                             71              71  \nBexley                             61              61  \nBrent                              97              97  \nBromley                            50              50  ",
      "text/html": "<div>\n<style scoped>\n    .dataframe tbody tr th:only-of-type {\n        vertical-align: middle;\n    }\n\n    .dataframe tbody tr th {\n        vertical-align: top;\n    }\n\n    .dataframe thead th {\n        text-align: right;\n    }\n</style>\n<table border=\"1\" class=\"dataframe\">\n  <thead>\n    <tr style=\"text-align: right;\">\n      <th></th>\n      <th>Latitude</th>\n      <th>Longitude</th>\n      <th>Venue</th>\n      <th>id</th>\n      <th>Venue Latitude</th>\n      <th>Venue Longitude</th>\n      <th>Venue Category</th>\n    </tr>\n    <tr>\n      <th>Borough</th>\n      <th></th>\n      <th></th>\n      <th></th>\n      <th></th>\n      <th></th>\n      <th></th>\n      <th></th>\n    </tr>\n  </thead>\n  <tbody>\n    <tr>\n      <th>Barking and Dagenham</th>\n      <td>76</td>\n      <td>76</td>\n      <td>76</td>\n      <td>76</td>\n      <td>76</td>\n      <td>76</td>\n      <td>76</td>\n    </tr>\n    <tr>\n      <th>Barnet</th>\n      <td>71</td>\n      <td>71</td>\n      <td>71</td>\n      <td>71</td>\n      <td>71</td>\n      <td>71</td>\n      <td>71</td>\n    </tr>\n    <tr>\n      <th>Bexley</th>\n      <td>61</td>\n      <td>61</td>\n      <td>61</td>\n      <td>61</td>\n      <td>61</td>\n      <td>61</td>\n      <td>61</td>\n    </tr>\n    <tr>\n      <th>Brent</th>\n      <td>97</td>\n      <td>97</td>\n      <td>97</td>\n      <td>97</td>\n      <td>97</td>\n      <td>97</td>\n      <td>97</td>\n    </tr>\n    <tr>\n      <th>Bromley</th>\n      <td>50</td>\n      <td>50</td>\n      <td>50</td>\n      <td>50</td>\n      <td>50</td>\n      <td>50</td>\n      <td>50</td>\n    </tr>\n  </tbody>\n</table>\n</div>"
     },
     "execution_count": 21,
     "metadata": {},
     "output_type": "execute_result"
    }
   ],
   "source": [
    "# get the totals of each type of venue\n",
    "arts_total = arts2.groupby('Borough').count()\n",
    "outs_total = outs2.groupby('Borough').count()\n",
    "studs_total = studs2.groupby('Borough').count()\n",
    "socials_total = socials2.groupby('Borough').count()\n",
    "\n",
    "# check one\n",
    "studs_total.head()"
   ],
   "metadata": {
    "collapsed": false,
    "pycharm": {
     "name": "#%%\n"
    }
   }
  },
  {
   "cell_type": "code",
   "execution_count": 22,
   "outputs": [
    {
     "data": {
      "text/plain": "                Borough  Population  longitude  latitude  Total_Crime  \\\n0  Barking and Dagenham      212906   0.129506   51.5455        39456   \n1                Barnet      395896  -0.218210   51.6111        59167   \n2                Bexley      248287   0.146212   51.4582        33929   \n3                 Brent      329771  -0.275680   51.5644        59257   \n4               Bromley      332336   0.039246   51.3727        47499   \n\n   Crime_Rate  Arts  Outdoors  Study  Social and Religious  \n0    18532.12    65        97     76                    75  \n1    14945.09    66       120     71                    72  \n2    13665.23    61        84     61                    72  \n3    17969.14    76       110     97                    82  \n4    14292.46    54        58     50                    57  ",
      "text/html": "<div>\n<style scoped>\n    .dataframe tbody tr th:only-of-type {\n        vertical-align: middle;\n    }\n\n    .dataframe tbody tr th {\n        vertical-align: top;\n    }\n\n    .dataframe thead th {\n        text-align: right;\n    }\n</style>\n<table border=\"1\" class=\"dataframe\">\n  <thead>\n    <tr style=\"text-align: right;\">\n      <th></th>\n      <th>Borough</th>\n      <th>Population</th>\n      <th>longitude</th>\n      <th>latitude</th>\n      <th>Total_Crime</th>\n      <th>Crime_Rate</th>\n      <th>Arts</th>\n      <th>Outdoors</th>\n      <th>Study</th>\n      <th>Social and Religious</th>\n    </tr>\n  </thead>\n  <tbody>\n    <tr>\n      <th>0</th>\n      <td>Barking and Dagenham</td>\n      <td>212906</td>\n      <td>0.129506</td>\n      <td>51.5455</td>\n      <td>39456</td>\n      <td>18532.12</td>\n      <td>65</td>\n      <td>97</td>\n      <td>76</td>\n      <td>75</td>\n    </tr>\n    <tr>\n      <th>1</th>\n      <td>Barnet</td>\n      <td>395896</td>\n      <td>-0.218210</td>\n      <td>51.6111</td>\n      <td>59167</td>\n      <td>14945.09</td>\n      <td>66</td>\n      <td>120</td>\n      <td>71</td>\n      <td>72</td>\n    </tr>\n    <tr>\n      <th>2</th>\n      <td>Bexley</td>\n      <td>248287</td>\n      <td>0.146212</td>\n      <td>51.4582</td>\n      <td>33929</td>\n      <td>13665.23</td>\n      <td>61</td>\n      <td>84</td>\n      <td>61</td>\n      <td>72</td>\n    </tr>\n    <tr>\n      <th>3</th>\n      <td>Brent</td>\n      <td>329771</td>\n      <td>-0.275680</td>\n      <td>51.5644</td>\n      <td>59257</td>\n      <td>17969.14</td>\n      <td>76</td>\n      <td>110</td>\n      <td>97</td>\n      <td>82</td>\n    </tr>\n    <tr>\n      <th>4</th>\n      <td>Bromley</td>\n      <td>332336</td>\n      <td>0.039246</td>\n      <td>51.3727</td>\n      <td>47499</td>\n      <td>14292.46</td>\n      <td>54</td>\n      <td>58</td>\n      <td>50</td>\n      <td>57</td>\n    </tr>\n  </tbody>\n</table>\n</div>"
     },
     "execution_count": 22,
     "metadata": {},
     "output_type": "execute_result"
    }
   ],
   "source": [
    "# add the totals to london_crimes df\n",
    "london1 = london_crimes.merge(arts_total['Venue'], on='Borough')\n",
    "london1.rename(columns = {'Venue':'Arts'}, inplace=True)\n",
    "london1 = london1.merge(outs_total['Venue'], on='Borough')\n",
    "london1.rename(columns = {'Venue':'Outdoors'}, inplace=True)\n",
    "london1 = london1.merge(studs_total['Venue'], on='Borough')\n",
    "london1.rename(columns = {'Venue':'Study'}, inplace=True)\n",
    "london1 = london1.merge(socials_total['Venue'], on='Borough')\n",
    "london1.rename(columns = {'Venue':'Social and Religious'}, inplace=True)\n",
    "london1.head()"
   ],
   "metadata": {
    "collapsed": false,
    "pycharm": {
     "name": "#%%\n"
    }
   }
  },
  {
   "cell_type": "code",
   "execution_count": 23,
   "outputs": [],
   "source": [
    "# get total venues\n",
    "london1['Total_Venues'] = london1.Arts + london1.Outdoors + london1.Study + london1['Social and Religious']\n",
    "london1.to_csv('london1.csv', index=False)  # save to a local file for later"
   ],
   "metadata": {
    "collapsed": false,
    "pycharm": {
     "name": "#%%\n"
    }
   }
  },
  {
   "cell_type": "code",
   "execution_count": 24,
   "outputs": [],
   "source": [
    "# make a df with all venues for later clustering\n",
    "all_venues = pd.concat([arts2, outs2, studs2, socials2])"
   ],
   "metadata": {
    "collapsed": false,
    "pycharm": {
     "name": "#%%\n"
    }
   }
  },
  {
   "cell_type": "markdown",
   "source": [
    "## Methodology <a name=\"methodology\"></a>"
   ],
   "metadata": {
    "collapsed": false,
    "pycharm": {
     "name": "#%% md\n"
    }
   }
  },
  {
   "cell_type": "markdown",
   "source": [
    "I will first look to see if there is a correlation between the number of venues, and the number of types of venues, and crime rates per borough.\n",
    "\n",
    "I want to see if there is a correlation between crime rate and:\n",
    "- total number of venues\n",
    "- number of arts venues\n",
    "- number of outdoor recreation venues\n",
    "- number of colleges and libraries\n",
    "- number of social and religious venues\n",
    "\n",
    "I will do this by first plotting scatter plots for each pair to see if there is a positive or negative correlation, and then using the Pearson Correlation test to see if any correlations are statistically significant.\n",
    "\n",
    "I will then look at the question from a slightly different angle, rather than comparing venue numbers to crime rates, I will use machine learning to categorise each borough into clusters based on the type of venues there. For this I will use K-Means clustering.\n",
    "\n",
    "I will then examine each cluster and assign it a name based on the venues it contains most of.\n",
    "\n",
    "I will plot crime rates and clusters on a map of London, and see if there are any obvious correlations.\n",
    "\n",
    "Finally, depending on the number of clusters, I will use an ANOVA or a T test to check for differences in mean crime rates between clusters, and whether these are statistically significant."
   ],
   "metadata": {
    "collapsed": false,
    "pycharm": {
     "name": "#%% md\n"
    }
   }
  },
  {
   "cell_type": "markdown",
   "source": [
    "## Analysis <a name=\"analysis\"></a>"
   ],
   "metadata": {
    "collapsed": false,
    "pycharm": {
     "name": "#%% md\n"
    }
   }
  },
  {
   "cell_type": "markdown",
   "source": [
    "### Comparing Numbers of Venues and Crime Rates\n",
    "\n",
    "First I will change numbers of venues, to numbers of venues per 100,000 people, like the crime rate, to account for differences in population between boroughs."
   ],
   "metadata": {
    "collapsed": false,
    "pycharm": {
     "name": "#%% md\n"
    }
   }
  },
  {
   "cell_type": "code",
   "execution_count": 27,
   "outputs": [
    {
     "data": {
      "text/plain": "                Borough  Population  longitude  latitude  Total_Crime  \\\n0  Barking and Dagenham      212906   0.129506   51.5455        39456   \n1                Barnet      395896  -0.218210   51.6111        59167   \n2                Bexley      248287   0.146212   51.4582        33929   \n3                 Brent      329771  -0.275680   51.5644        59257   \n4               Bromley      332336   0.039246   51.3727        47499   \n\n   Crime_Rate   Arts  Outdoors  Study  Social and Religious  Total_Venues  \n0    18532.12  30.53     45.56  35.70                 35.23        147.01  \n1    14945.09  16.67     30.31  17.93                 18.19         83.10  \n2    13665.23  24.57     33.83  24.57                 29.00        111.97  \n3    17969.14  23.05     33.36  29.41                 24.87        110.68  \n4    14292.46  16.25     17.45  15.05                 17.15         65.90  ",
      "text/html": "<div>\n<style scoped>\n    .dataframe tbody tr th:only-of-type {\n        vertical-align: middle;\n    }\n\n    .dataframe tbody tr th {\n        vertical-align: top;\n    }\n\n    .dataframe thead th {\n        text-align: right;\n    }\n</style>\n<table border=\"1\" class=\"dataframe\">\n  <thead>\n    <tr style=\"text-align: right;\">\n      <th></th>\n      <th>Borough</th>\n      <th>Population</th>\n      <th>longitude</th>\n      <th>latitude</th>\n      <th>Total_Crime</th>\n      <th>Crime_Rate</th>\n      <th>Arts</th>\n      <th>Outdoors</th>\n      <th>Study</th>\n      <th>Social and Religious</th>\n      <th>Total_Venues</th>\n    </tr>\n  </thead>\n  <tbody>\n    <tr>\n      <th>0</th>\n      <td>Barking and Dagenham</td>\n      <td>212906</td>\n      <td>0.129506</td>\n      <td>51.5455</td>\n      <td>39456</td>\n      <td>18532.12</td>\n      <td>30.53</td>\n      <td>45.56</td>\n      <td>35.70</td>\n      <td>35.23</td>\n      <td>147.01</td>\n    </tr>\n    <tr>\n      <th>1</th>\n      <td>Barnet</td>\n      <td>395896</td>\n      <td>-0.218210</td>\n      <td>51.6111</td>\n      <td>59167</td>\n      <td>14945.09</td>\n      <td>16.67</td>\n      <td>30.31</td>\n      <td>17.93</td>\n      <td>18.19</td>\n      <td>83.10</td>\n    </tr>\n    <tr>\n      <th>2</th>\n      <td>Bexley</td>\n      <td>248287</td>\n      <td>0.146212</td>\n      <td>51.4582</td>\n      <td>33929</td>\n      <td>13665.23</td>\n      <td>24.57</td>\n      <td>33.83</td>\n      <td>24.57</td>\n      <td>29.00</td>\n      <td>111.97</td>\n    </tr>\n    <tr>\n      <th>3</th>\n      <td>Brent</td>\n      <td>329771</td>\n      <td>-0.275680</td>\n      <td>51.5644</td>\n      <td>59257</td>\n      <td>17969.14</td>\n      <td>23.05</td>\n      <td>33.36</td>\n      <td>29.41</td>\n      <td>24.87</td>\n      <td>110.68</td>\n    </tr>\n    <tr>\n      <th>4</th>\n      <td>Bromley</td>\n      <td>332336</td>\n      <td>0.039246</td>\n      <td>51.3727</td>\n      <td>47499</td>\n      <td>14292.46</td>\n      <td>16.25</td>\n      <td>17.45</td>\n      <td>15.05</td>\n      <td>17.15</td>\n      <td>65.90</td>\n    </tr>\n  </tbody>\n</table>\n</div>"
     },
     "execution_count": 27,
     "metadata": {},
     "output_type": "execute_result"
    }
   ],
   "source": [
    "london1['Arts'] = round((london1['Arts']/london1['Population']) * 100000, 2)\n",
    "london1['Outdoors'] = round((london1['Outdoors']/london1['Population']) * 100000, 2)\n",
    "london1['Study'] = round((london1['Study']/london1['Population']) * 100000, 2)\n",
    "london1['Social and Religious'] = round((london1['Social and Religious']/london1['Population']) * 100000, 2)\n",
    "london1['Total_Venues'] = round((london1['Total_Venues']/london1['Population']) * 100000, 2)\n",
    "london1.head()"
   ],
   "metadata": {
    "collapsed": false,
    "pycharm": {
     "name": "#%%\n"
    }
   }
  },
  {
   "cell_type": "code",
   "execution_count": 28,
   "outputs": [
    {
     "data": {
      "text/plain": "                      Population  longitude  latitude  Total_Crime  \\\nPopulation              1.000000   0.101452  0.205335     0.462454   \nlongitude               0.101452   1.000000  0.058903     0.023742   \nlatitude                0.205335   0.058903  1.000000     0.221116   \nTotal_Crime             0.462454   0.023742  0.221116     1.000000   \nCrime_Rate             -0.083029  -0.036664  0.150148     0.836521   \nArts                   -0.524894  -0.154283 -0.091984     0.266649   \nOutdoors               -0.621883  -0.276308 -0.178964     0.070793   \nStudy                  -0.567293  -0.148976 -0.068430     0.215134   \nSocial and Religious   -0.599480  -0.147591 -0.052939     0.226909   \nTotal_Venues           -0.594798  -0.188064 -0.102990     0.203506   \n\n                      Crime_Rate      Arts  Outdoors     Study  \\\nPopulation             -0.083029 -0.524894 -0.621883 -0.567293   \nlongitude              -0.036664 -0.154283 -0.276308 -0.148976   \nlatitude                0.150148 -0.091984 -0.178964 -0.068430   \nTotal_Crime             0.836521  0.266649  0.070793  0.215134   \nCrime_Rate              1.000000  0.646931  0.466871  0.629472   \nArts                    0.646931  1.000000  0.935325  0.930093   \nOutdoors                0.466871  0.935325  1.000000  0.850952   \nStudy                   0.629472  0.930093  0.850952  1.000000   \nSocial and Religious    0.650852  0.949523  0.866680  0.929749   \nTotal_Venues            0.619234  0.988616  0.947168  0.960823   \n\n                      Social and Religious  Total_Venues  \nPopulation                       -0.599480     -0.594798  \nlongitude                        -0.147591     -0.188064  \nlatitude                         -0.052939     -0.102990  \nTotal_Crime                       0.226909      0.203506  \nCrime_Rate                        0.650852      0.619234  \nArts                              0.949523      0.988616  \nOutdoors                          0.866680      0.947168  \nStudy                             0.929749      0.960823  \nSocial and Religious              1.000000      0.966202  \nTotal_Venues                      0.966202      1.000000  ",
      "text/html": "<div>\n<style scoped>\n    .dataframe tbody tr th:only-of-type {\n        vertical-align: middle;\n    }\n\n    .dataframe tbody tr th {\n        vertical-align: top;\n    }\n\n    .dataframe thead th {\n        text-align: right;\n    }\n</style>\n<table border=\"1\" class=\"dataframe\">\n  <thead>\n    <tr style=\"text-align: right;\">\n      <th></th>\n      <th>Population</th>\n      <th>longitude</th>\n      <th>latitude</th>\n      <th>Total_Crime</th>\n      <th>Crime_Rate</th>\n      <th>Arts</th>\n      <th>Outdoors</th>\n      <th>Study</th>\n      <th>Social and Religious</th>\n      <th>Total_Venues</th>\n    </tr>\n  </thead>\n  <tbody>\n    <tr>\n      <th>Population</th>\n      <td>1.000000</td>\n      <td>0.101452</td>\n      <td>0.205335</td>\n      <td>0.462454</td>\n      <td>-0.083029</td>\n      <td>-0.524894</td>\n      <td>-0.621883</td>\n      <td>-0.567293</td>\n      <td>-0.599480</td>\n      <td>-0.594798</td>\n    </tr>\n    <tr>\n      <th>longitude</th>\n      <td>0.101452</td>\n      <td>1.000000</td>\n      <td>0.058903</td>\n      <td>0.023742</td>\n      <td>-0.036664</td>\n      <td>-0.154283</td>\n      <td>-0.276308</td>\n      <td>-0.148976</td>\n      <td>-0.147591</td>\n      <td>-0.188064</td>\n    </tr>\n    <tr>\n      <th>latitude</th>\n      <td>0.205335</td>\n      <td>0.058903</td>\n      <td>1.000000</td>\n      <td>0.221116</td>\n      <td>0.150148</td>\n      <td>-0.091984</td>\n      <td>-0.178964</td>\n      <td>-0.068430</td>\n      <td>-0.052939</td>\n      <td>-0.102990</td>\n    </tr>\n    <tr>\n      <th>Total_Crime</th>\n      <td>0.462454</td>\n      <td>0.023742</td>\n      <td>0.221116</td>\n      <td>1.000000</td>\n      <td>0.836521</td>\n      <td>0.266649</td>\n      <td>0.070793</td>\n      <td>0.215134</td>\n      <td>0.226909</td>\n      <td>0.203506</td>\n    </tr>\n    <tr>\n      <th>Crime_Rate</th>\n      <td>-0.083029</td>\n      <td>-0.036664</td>\n      <td>0.150148</td>\n      <td>0.836521</td>\n      <td>1.000000</td>\n      <td>0.646931</td>\n      <td>0.466871</td>\n      <td>0.629472</td>\n      <td>0.650852</td>\n      <td>0.619234</td>\n    </tr>\n    <tr>\n      <th>Arts</th>\n      <td>-0.524894</td>\n      <td>-0.154283</td>\n      <td>-0.091984</td>\n      <td>0.266649</td>\n      <td>0.646931</td>\n      <td>1.000000</td>\n      <td>0.935325</td>\n      <td>0.930093</td>\n      <td>0.949523</td>\n      <td>0.988616</td>\n    </tr>\n    <tr>\n      <th>Outdoors</th>\n      <td>-0.621883</td>\n      <td>-0.276308</td>\n      <td>-0.178964</td>\n      <td>0.070793</td>\n      <td>0.466871</td>\n      <td>0.935325</td>\n      <td>1.000000</td>\n      <td>0.850952</td>\n      <td>0.866680</td>\n      <td>0.947168</td>\n    </tr>\n    <tr>\n      <th>Study</th>\n      <td>-0.567293</td>\n      <td>-0.148976</td>\n      <td>-0.068430</td>\n      <td>0.215134</td>\n      <td>0.629472</td>\n      <td>0.930093</td>\n      <td>0.850952</td>\n      <td>1.000000</td>\n      <td>0.929749</td>\n      <td>0.960823</td>\n    </tr>\n    <tr>\n      <th>Social and Religious</th>\n      <td>-0.599480</td>\n      <td>-0.147591</td>\n      <td>-0.052939</td>\n      <td>0.226909</td>\n      <td>0.650852</td>\n      <td>0.949523</td>\n      <td>0.866680</td>\n      <td>0.929749</td>\n      <td>1.000000</td>\n      <td>0.966202</td>\n    </tr>\n    <tr>\n      <th>Total_Venues</th>\n      <td>-0.594798</td>\n      <td>-0.188064</td>\n      <td>-0.102990</td>\n      <td>0.203506</td>\n      <td>0.619234</td>\n      <td>0.988616</td>\n      <td>0.947168</td>\n      <td>0.960823</td>\n      <td>0.966202</td>\n      <td>1.000000</td>\n    </tr>\n  </tbody>\n</table>\n</div>"
     },
     "execution_count": 28,
     "metadata": {},
     "output_type": "execute_result"
    }
   ],
   "source": [
    "# use pandas .corr() to have a quick check for correlations\n",
    "london1.corr()"
   ],
   "metadata": {
    "collapsed": false,
    "pycharm": {
     "name": "#%%\n"
    }
   }
  },
  {
   "cell_type": "markdown",
   "source": [
    "Plots of each relationship\n"
   ],
   "metadata": {
    "collapsed": false,
    "pycharm": {
     "name": "#%% md\n"
    }
   }
  },
  {
   "cell_type": "code",
   "execution_count": 31,
   "outputs": [
    {
     "data": {
      "text/plain": "Text(0.5, 1.0, 'Total Venues Vs Crime Rate')"
     },
     "execution_count": 31,
     "metadata": {},
     "output_type": "execute_result"
    },
    {
     "data": {
      "text/plain": "<Figure size 432x288 with 1 Axes>",
      "image/png": "[encoded data removed]"
     },
     "metadata": {},
     "output_type": "display_data"
    }
   ],
   "source": [
    "sns.regplot(x=\"Total_Venues\", y=\"Crime_Rate\", data=london1)\n",
    "plt.ylim(0,)\n",
    "plt.title('Total Venues Vs Crime Rate')"
   ],
   "metadata": {
    "collapsed": false,
    "pycharm": {
     "name": "#%%\n"
    }
   }
  },
  {
   "cell_type": "code",
   "execution_count": 32,
   "outputs": [
    {
     "data": {
      "text/plain": "Text(0.5, 1.0, 'Art Venues Vs Crime Rate')"
     },
     "execution_count": 32,
     "metadata": {},
     "output_type": "execute_result"
    },
    {
     "data": {
      "text/plain": "<Figure size 432x288 with 1 Axes>",
      "image/png": "[encoded data removed]"
     },
     "metadata": {},
     "output_type": "display_data"
    }
   ],
   "source": [
    "sns.regplot(x=\"Arts\", y=\"Crime_Rate\", data=london1)\n",
    "plt.ylim(0,)\n",
    "plt.title('Art Venues Vs Crime Rate')\n"
   ],
   "metadata": {
    "collapsed": false,
    "pycharm": {
     "name": "#%%\n"
    }
   }
  },
  {
   "cell_type": "code",
   "execution_count": 33,
   "outputs": [
    {
     "data": {
      "text/plain": "Text(0.5, 1.0, 'Outdoor Recreation Venues Vs Crime Rate')"
     },
     "execution_count": 33,
     "metadata": {},
     "output_type": "execute_result"
    },
    {
     "data": {
      "text/plain": "<Figure size 432x288 with 1 Axes>",
      "image/png": "[encoded data removed]"
     },
     "metadata": {},
     "output_type": "display_data"
    }
   ],
   "source": [
    "sns.regplot(x=\"Outdoors\", y=\"Crime_Rate\", data=london1)\n",
    "plt.ylim(0,)\n",
    "plt.title('Outdoor Recreation Venues Vs Crime Rate')"
   ],
   "metadata": {
    "collapsed": false,
    "pycharm": {
     "name": "#%%\n"
    }
   }
  },
  {
   "cell_type": "code",
   "execution_count": 34,
   "outputs": [
    {
     "data": {
      "text/plain": "Text(0.5, 1.0, 'Study Venues Vs Crime Rate')"
     },
     "execution_count": 34,
     "metadata": {},
     "output_type": "execute_result"
    },
    {
     "data": {
      "text/plain": "<Figure size 432x288 with 1 Axes>",
      "image/png": "[encoded data removed]"
     },
     "metadata": {},
     "output_type": "display_data"
    }
   ],
   "source": [
    "sns.regplot(x=\"Study\", y=\"Crime_Rate\", data=london1)\n",
    "plt.ylim(0,)\n",
    "plt.title('Study Venues Vs Crime Rate')"
   ],
   "metadata": {
    "collapsed": false,
    "pycharm": {
     "name": "#%%\n"
    }
   }
  },
  {
   "cell_type": "code",
   "execution_count": 35,
   "outputs": [
    {
     "data": {
      "text/plain": "Text(0.5, 1.0, 'Social and Religious Venues Vs Crime Rate')"
     },
     "execution_count": 35,
     "metadata": {},
     "output_type": "execute_result"
    },
    {
     "data": {
      "text/plain": "<Figure size 432x288 with 1 Axes>",
      "image/png": "[encoded data removed]"
     },
     "metadata": {},
     "output_type": "display_data"
    }
   ],
   "source": [
    "sns.regplot(x=\"Social and Religious\", y=\"Crime_Rate\", data=london1)\n",
    "plt.ylim(0,)\n",
    "plt.title('Social and Religious Venues Vs Crime Rate')"
   ],
   "metadata": {
    "collapsed": false,
    "pycharm": {
     "name": "#%%\n"
    }
   }
  },
  {
   "cell_type": "markdown",
   "source": [
    "All appear to have positive correlations with crime rate, which is not at all what we expected!\n",
    "\n",
    "### Pearson Correlation Test\n",
    "\n",
    "The null hypothesis is that there is no correlation between the number of total venues, or the number of each type of venues, and crime rate.\n",
    "\n",
    "The closer to 1 or -1 the correlation coefficient is, the larger the correlation is.\n",
    "\n",
    "I have chosen a p value of 0.05, so p must be below that for the result to be statistically significant."
   ],
   "metadata": {
    "collapsed": false,
    "pycharm": {
     "name": "#%% md\n"
    }
   }
  },
  {
   "cell_type": "code",
   "execution_count": 36,
   "outputs": [
    {
     "name": "stdout",
     "output_type": "stream",
     "text": [
      "The correlation coefficient for Arts with crime rate is 0.647, with a p-value of 0.0\n",
      "The correlation is statistically significant.\n",
      "The correlation coefficient for Outdoors with crime rate is 0.467, with a p-value of 0.007\n",
      "The correlation is statistically significant.\n",
      "The correlation coefficient for Study with crime rate is 0.629, with a p-value of 0.0\n",
      "The correlation is statistically significant.\n",
      "The correlation coefficient for Social and Religious with crime rate is 0.651, with a p-value of 0.0\n",
      "The correlation is statistically significant.\n",
      "The correlation coefficient for Total_Venues with crime rate is 0.619, with a p-value of 0.0\n",
      "The correlation is statistically significant.\n"
     ]
    }
   ],
   "source": [
    "def calc_pearson(var):\n",
    "    pearson_coef, p_value = scipy.stats.pearsonr(london1[var], london1['Crime_Rate'])\n",
    "    print(f'The correlation coefficient for {var} with crime rate is {round(pearson_coef, 3)}, with a p-value of {round(p_value, 3)}')\n",
    "    if p_value < 0.05:\n",
    "        print('The correlation is statistically significant.')\n",
    "    else:\n",
    "        print('The correlation is not statistically significant.')\n",
    "\n",
    "cols = ['Arts', 'Outdoors', 'Study', 'Social and Religious', 'Total_Venues']\n",
    "for col in cols:\n",
    "    calc_pearson(col)"
   ],
   "metadata": {
    "collapsed": false,
    "pycharm": {
     "name": "#%%\n"
    }
   }
  },
  {
   "cell_type": "markdown",
   "source": [
    "From these results, we **reject the null hypothesis**.\n",
    "\n",
    "**There is a correlation between numbers of venues, and numbers of types of venues and crime rate.**\n",
    "\n",
    "This correlation is **positive**, the more of each venue type, the higher the crime rate.\n",
    "\n",
    "For all venue types, except outdoor recreation, the correlation coefficient is approximately 0.6.\n",
    "\n",
    "For outdoor recreation, the correlation coefficient is lower at only approximately 0.5.\n",
    "\n",
    "However, correlation is not causation!"
   ],
   "metadata": {
    "collapsed": false,
    "pycharm": {
     "name": "#%% md\n"
    }
   }
  },
  {
   "cell_type": "markdown",
   "source": [
    "### Preparing data for K-means Clustering"
   ],
   "metadata": {
    "collapsed": false,
    "pycharm": {
     "name": "#%% md\n"
    }
   }
  },
  {
   "cell_type": "code",
   "execution_count": 57,
   "outputs": [
    {
     "data": {
      "text/plain": "                Borough  Adult Education Center  American Restaurant  \\\n0  Barking and Dagenham                       0                    0   \n1  Barking and Dagenham                       0                    0   \n2  Barking and Dagenham                       0                    0   \n3  Barking and Dagenham                       0                    0   \n4  Barking and Dagenham                       0                    0   \n\n   Aquarium  Arcade  Art Gallery  Art Museum  Arts & Crafts Store  \\\n0         0       0            0           0                    0   \n1         0       0            0           0                    0   \n2         0       0            0           0                    0   \n3         0       0            0           0                    0   \n4         0       0            0           0                    0   \n\n   Arts & Entertainment  Athletics & Sports  ...  Water Park  Waterfall  \\\n0                     0                   0  ...           0          0   \n1                     0                   0  ...           0          0   \n2                     0                   0  ...           0          0   \n3                     0                   0  ...           0          0   \n4                     0                   0  ...           0          0   \n\n   Waterfront  Weight Loss Center  Well  Windmill  Wine Bar  Yoga Studio  Zoo  \\\n0           0                   0     0         0         0            0    0   \n1           0                   0     0         0         0            0    0   \n2           0                   0     0         0         0            0    0   \n3           0                   0     0         0         0            0    0   \n4           0                   0     0         0         0            0    0   \n\n   Zoo Exhibit  \n0            0  \n1            0  \n2            0  \n3            0  \n4            0  \n\n[5 rows x 259 columns]",
      "text/html": "<div>\n<style scoped>\n    .dataframe tbody tr th:only-of-type {\n        vertical-align: middle;\n    }\n\n    .dataframe tbody tr th {\n        vertical-align: top;\n    }\n\n    .dataframe thead th {\n        text-align: right;\n    }\n</style>\n<table border=\"1\" class=\"dataframe\">\n  <thead>\n    <tr style=\"text-align: right;\">\n      <th></th>\n      <th>Borough</th>\n      <th>Adult Education Center</th>\n      <th>American Restaurant</th>\n      <th>Aquarium</th>\n      <th>Arcade</th>\n      <th>Art Gallery</th>\n      <th>Art Museum</th>\n      <th>Arts &amp; Crafts Store</th>\n      <th>Arts &amp; Entertainment</th>\n      <th>Athletics &amp; Sports</th>\n      <th>...</th>\n      <th>Water Park</th>\n      <th>Waterfall</th>\n      <th>Waterfront</th>\n      <th>Weight Loss Center</th>\n      <th>Well</th>\n      <th>Windmill</th>\n      <th>Wine Bar</th>\n      <th>Yoga Studio</th>\n      <th>Zoo</th>\n      <th>Zoo Exhibit</th>\n    </tr>\n  </thead>\n  <tbody>\n    <tr>\n      <th>0</th>\n      <td>Barking and Dagenham</td>\n      <td>0</td>\n      <td>0</td>\n      <td>0</td>\n      <td>0</td>\n      <td>0</td>\n      <td>0</td>\n      <td>0</td>\n      <td>0</td>\n      <td>0</td>\n      <td>...</td>\n      <td>0</td>\n      <td>0</td>\n      <td>0</td>\n      <td>0</td>\n      <td>0</td>\n      <td>0</td>\n      <td>0</td>\n      <td>0</td>\n      <td>0</td>\n      <td>0</td>\n    </tr>\n    <tr>\n      <th>1</th>\n      <td>Barking and Dagenham</td>\n      <td>0</td>\n      <td>0</td>\n      <td>0</td>\n      <td>0</td>\n      <td>0</td>\n      <td>0</td>\n      <td>0</td>\n      <td>0</td>\n      <td>0</td>\n      <td>...</td>\n      <td>0</td>\n      <td>0</td>\n      <td>0</td>\n      <td>0</td>\n      <td>0</td>\n      <td>0</td>\n      <td>0</td>\n      <td>0</td>\n      <td>0</td>\n      <td>0</td>\n    </tr>\n    <tr>\n      <th>2</th>\n      <td>Barking and Dagenham</td>\n      <td>0</td>\n      <td>0</td>\n      <td>0</td>\n      <td>0</td>\n      <td>0</td>\n      <td>0</td>\n      <td>0</td>\n      <td>0</td>\n      <td>0</td>\n      <td>...</td>\n      <td>0</td>\n      <td>0</td>\n      <td>0</td>\n      <td>0</td>\n      <td>0</td>\n      <td>0</td>\n      <td>0</td>\n      <td>0</td>\n      <td>0</td>\n      <td>0</td>\n    </tr>\n    <tr>\n      <th>3</th>\n      <td>Barking and Dagenham</td>\n      <td>0</td>\n      <td>0</td>\n      <td>0</td>\n      <td>0</td>\n      <td>0</td>\n      <td>0</td>\n      <td>0</td>\n      <td>0</td>\n      <td>0</td>\n      <td>...</td>\n      <td>0</td>\n      <td>0</td>\n      <td>0</td>\n      <td>0</td>\n      <td>0</td>\n      <td>0</td>\n      <td>0</td>\n      <td>0</td>\n      <td>0</td>\n      <td>0</td>\n    </tr>\n    <tr>\n      <th>4</th>\n      <td>Barking and Dagenham</td>\n      <td>0</td>\n      <td>0</td>\n      <td>0</td>\n      <td>0</td>\n      <td>0</td>\n      <td>0</td>\n      <td>0</td>\n      <td>0</td>\n      <td>0</td>\n      <td>...</td>\n      <td>0</td>\n      <td>0</td>\n      <td>0</td>\n      <td>0</td>\n      <td>0</td>\n      <td>0</td>\n      <td>0</td>\n      <td>0</td>\n      <td>0</td>\n      <td>0</td>\n    </tr>\n  </tbody>\n</table>\n<p>5 rows × 259 columns</p>\n</div>"
     },
     "execution_count": 57,
     "metadata": {},
     "output_type": "execute_result"
    }
   ],
   "source": [
    "all_venues = pd.read_csv('all_venues.csv')  # so i don't have to redo the stuff above\n",
    "\n",
    "# one hot encoding\n",
    "london_onehot = pd.get_dummies(all_venues[['Venue Category']], prefix=\"\", prefix_sep=\"\")\n",
    "\n",
    "# add borough column back to dataframe\n",
    "london_onehot['Borough'] = all_venues['Borough']\n",
    "\n",
    "# move borough column to the first column\n",
    "fixed_columns = [london_onehot.columns[-1]] + list(london_onehot.columns[:-1])\n",
    "london_onehot = london_onehot[fixed_columns]\n",
    "\n",
    "london_onehot.head()"
   ],
   "metadata": {
    "collapsed": false,
    "pycharm": {
     "name": "#%%\n"
    }
   }
  },
  {
   "cell_type": "code",
   "execution_count": 58,
   "outputs": [
    {
     "data": {
      "text/plain": "                   Borough  Adult Education Center  American Restaurant  \\\n0     Barking and Dagenham                0.000000             0.000000   \n1                   Barnet                0.003040             0.003040   \n2                   Bexley                0.000000             0.000000   \n3                    Brent                0.002740             0.002740   \n4                  Bromley                0.000000             0.000000   \n5                   Camden                0.001285             0.002571   \n6                  Croydon                0.002833             0.002833   \n7                   Ealing                0.002577             0.002577   \n8                  Enfield                0.000000             0.000000   \n9                Greenwich                0.002079             0.000000   \n10                 Hackney                0.001326             0.001326   \n11  Hammersmith and Fulham                0.001647             0.001647   \n12                Haringey                0.002299             0.002299   \n13                  Harrow                0.000000             0.000000   \n14                Havering                0.000000             0.000000   \n15              Hillingdon                0.000000             0.000000   \n16                Hounslow                0.000000             0.000000   \n17               Islington                0.001376             0.001376   \n18  Kensington and Chelsea                0.001209             0.001209   \n19    Kingston upon Thames                0.000000             0.000000   \n20                 Lambeth                0.001460             0.001460   \n21                Lewisham                0.001718             0.001718   \n22                  Merton                0.002358             0.002358   \n23                  Newham                0.002062             0.002062   \n24               Redbridge                0.000000             0.000000   \n25    Richmond upon Thames                0.001764             0.001764   \n26               Southwark                0.001290             0.001290   \n27                  Sutton                0.000000             0.000000   \n28           Tower Hamlets                0.001721             0.001721   \n29          Waltham Forest                0.002703             0.000000   \n30              Wandsworth                0.001653             0.001653   \n31             Westminster                0.001025             0.003074   \n\n    Aquarium    Arcade  Art Gallery  Art Museum  Arts & Crafts Store  \\\n0    0.00000  0.003195     0.028754    0.000000              0.00000   \n1    0.00000  0.003040     0.009119    0.012158              0.00000   \n2    0.00000  0.000000     0.010791    0.000000              0.00000   \n3    0.00000  0.002740     0.013699    0.016438              0.00000   \n4    0.00000  0.000000     0.018265    0.000000              0.00000   \n5    0.00000  0.001285     0.028278    0.008997              0.00000   \n6    0.00000  0.000000     0.025496    0.011331              0.00000   \n7    0.00000  0.002577     0.010309    0.015464              0.00000   \n8    0.00000  0.000000     0.024221    0.000000              0.00000   \n9    0.00000  0.000000     0.035343    0.008316              0.00000   \n10   0.00000  0.002653     0.071618    0.006631              0.00000   \n11   0.00000  0.001647     0.039539    0.009885              0.00000   \n12   0.00000  0.002299     0.027586    0.011494              0.00000   \n13   0.00000  0.000000     0.016393    0.002732              0.00000   \n14   0.00000  0.004274     0.012821    0.000000              0.00000   \n15   0.00000  0.000000     0.010309    0.003436              0.00000   \n16   0.00000  0.003077     0.012308    0.006154              0.00000   \n17   0.00000  0.004127     0.048143    0.009629              0.00000   \n18   0.00000  0.000000     0.061669    0.007255              0.00000   \n19   0.00000  0.000000     0.014388    0.002398              0.00000   \n20   0.00146  0.000000     0.036496    0.011679              0.00000   \n21   0.00000  0.000000     0.056701    0.008591              0.00000   \n22   0.00000  0.002358     0.016509    0.014151              0.00000   \n23   0.00000  0.006186     0.030928    0.010309              0.00000   \n24   0.00000  0.000000     0.022581    0.000000              0.00000   \n25   0.00000  0.000000     0.024691    0.010582              0.00000   \n26   0.00000  0.001290     0.080000    0.007742              0.00129   \n27   0.00000  0.000000     0.021818    0.007273              0.00000   \n28   0.00000  0.001721     0.032702    0.008606              0.00000   \n29   0.00000  0.000000     0.018919    0.013514              0.00000   \n30   0.00000  0.000000     0.029752    0.011570              0.00000   \n31   0.00000  0.000000     0.050205    0.007172              0.00000   \n\n    Arts & Entertainment  Athletics & Sports  ...  Water Park  Waterfall  \\\n0               0.000000            0.003195  ...    0.000000   0.000000   \n1               0.003040            0.021277  ...    0.000000   0.000000   \n2               0.000000            0.010791  ...    0.000000   0.000000   \n3               0.000000            0.002740  ...    0.000000   0.000000   \n4               0.000000            0.000000  ...    0.000000   0.000000   \n5               0.001285            0.002571  ...    0.000000   0.000000   \n6               0.000000            0.016997  ...    0.000000   0.000000   \n7               0.000000            0.015464  ...    0.000000   0.000000   \n8               0.000000            0.010381  ...    0.000000   0.000000   \n9               0.000000            0.006237  ...    0.000000   0.000000   \n10              0.001326            0.014589  ...    0.000000   0.000000   \n11              0.003295            0.016474  ...    0.000000   0.000000   \n12              0.000000            0.016092  ...    0.000000   0.000000   \n13              0.000000            0.019126  ...    0.000000   0.000000   \n14              0.000000            0.008547  ...    0.000000   0.000000   \n15              0.000000            0.010309  ...    0.000000   0.000000   \n16              0.000000            0.012308  ...    0.000000   0.000000   \n17              0.000000            0.011004  ...    0.001376   0.000000   \n18              0.001209            0.003628  ...    0.001209   0.000000   \n19              0.000000            0.023981  ...    0.000000   0.000000   \n20              0.002920            0.008759  ...    0.000000   0.000000   \n21              0.001718            0.008591  ...    0.000000   0.000000   \n22              0.000000            0.011792  ...    0.000000   0.000000   \n23              0.006186            0.010309  ...    0.000000   0.000000   \n24              0.000000            0.003226  ...    0.000000   0.000000   \n25              0.000000            0.014109  ...    0.000000   0.000000   \n26              0.001290            0.006452  ...    0.000000   0.000000   \n27              0.000000            0.000000  ...    0.000000   0.000000   \n28              0.003442            0.005164  ...    0.000000   0.000000   \n29              0.000000            0.008108  ...    0.000000   0.000000   \n30              0.000000            0.018182  ...    0.001653   0.000000   \n31              0.000000            0.002049  ...    0.001025   0.001025   \n\n    Waterfront  Weight Loss Center      Well  Windmill  Wine Bar  Yoga Studio  \\\n0     0.000000            0.000000  0.003195  0.000000  0.000000     0.000000   \n1     0.000000            0.003040  0.000000  0.000000  0.000000     0.006079   \n2     0.000000            0.000000  0.000000  0.000000  0.000000     0.000000   \n3     0.000000            0.000000  0.000000  0.000000  0.000000     0.002740   \n4     0.000000            0.000000  0.000000  0.000000  0.000000     0.004566   \n5     0.000000            0.000000  0.000000  0.000000  0.000000     0.008997   \n6     0.000000            0.000000  0.000000  0.000000  0.002833     0.002833   \n7     0.000000            0.000000  0.000000  0.000000  0.000000     0.000000   \n8     0.000000            0.000000  0.000000  0.000000  0.000000     0.003460   \n9     0.000000            0.000000  0.000000  0.000000  0.000000     0.008316   \n10    0.000000            0.000000  0.000000  0.000000  0.000000     0.017241   \n11    0.000000            0.000000  0.000000  0.000000  0.000000     0.006590   \n12    0.000000            0.002299  0.000000  0.000000  0.000000     0.009195   \n13    0.000000            0.000000  0.002732  0.000000  0.000000     0.000000   \n14    0.000000            0.000000  0.000000  0.004274  0.000000     0.000000   \n15    0.000000            0.000000  0.003436  0.000000  0.000000     0.003436   \n16    0.000000            0.000000  0.003077  0.000000  0.000000     0.000000   \n17    0.000000            0.001376  0.000000  0.000000  0.000000     0.006878   \n18    0.000000            0.000000  0.000000  0.000000  0.000000     0.006046   \n19    0.000000            0.000000  0.002398  0.000000  0.000000     0.004796   \n20    0.000000            0.000000  0.000000  0.000000  0.000000     0.018978   \n21    0.000000            0.000000  0.000000  0.000000  0.000000     0.010309   \n22    0.000000            0.000000  0.000000  0.007075  0.000000     0.002358   \n23    0.006186            0.000000  0.000000  0.000000  0.000000     0.000000   \n24    0.000000            0.000000  0.000000  0.000000  0.000000     0.000000   \n25    0.001764            0.000000  0.000000  0.000000  0.000000     0.007055   \n26    0.002581            0.000000  0.000000  0.000000  0.001290     0.007742   \n27    0.003636            0.000000  0.000000  0.000000  0.000000     0.000000   \n28    0.003442            0.000000  0.000000  0.000000  0.000000     0.000000   \n29    0.000000            0.000000  0.000000  0.000000  0.000000     0.002703   \n30    0.000000            0.003306  0.000000  0.000000  0.000000     0.024793   \n31    0.000000            0.000000  0.000000  0.000000  0.000000     0.004098   \n\n         Zoo  Zoo Exhibit  \n0   0.000000     0.003195  \n1   0.003040     0.003040  \n2   0.000000     0.003597  \n3   0.002740     0.002740  \n4   0.000000     0.004566  \n5   0.001285     0.019280  \n6   0.000000     0.000000  \n7   0.002577     0.002577  \n8   0.003460     0.006920  \n9   0.000000     0.002079  \n10  0.001326     0.005305  \n11  0.001647     0.001647  \n12  0.002299     0.002299  \n13  0.005464     0.005464  \n14  0.000000     0.004274  \n15  0.000000     0.000000  \n16  0.000000     0.000000  \n17  0.001376     0.004127  \n18  0.001209     0.001209  \n19  0.000000     0.000000  \n20  0.001460     0.001460  \n21  0.001718     0.001718  \n22  0.002358     0.002358  \n23  0.002062     0.002062  \n24  0.000000     0.003226  \n25  0.000000     0.000000  \n26  0.001290     0.001290  \n27  0.000000     0.000000  \n28  0.001721     0.001721  \n29  0.002703     0.002703  \n30  0.001653     0.001653  \n31  0.001025     0.001025  \n\n[32 rows x 259 columns]",
      "text/html": "<div>\n<style scoped>\n    .dataframe tbody tr th:only-of-type {\n        vertical-align: middle;\n    }\n\n    .dataframe tbody tr th {\n        vertical-align: top;\n    }\n\n    .dataframe thead th {\n        text-align: right;\n    }\n</style>\n<table border=\"1\" class=\"dataframe\">\n  <thead>\n    <tr style=\"text-align: right;\">\n      <th></th>\n      <th>Borough</th>\n      <th>Adult Education Center</th>\n      <th>American Restaurant</th>\n      <th>Aquarium</th>\n      <th>Arcade</th>\n      <th>Art Gallery</th>\n      <th>Art Museum</th>\n      <th>Arts &amp; Crafts Store</th>\n      <th>Arts &amp; Entertainment</th>\n      <th>Athletics &amp; Sports</th>\n      <th>...</th>\n      <th>Water Park</th>\n      <th>Waterfall</th>\n      <th>Waterfront</th>\n      <th>Weight Loss Center</th>\n      <th>Well</th>\n      <th>Windmill</th>\n      <th>Wine Bar</th>\n      <th>Yoga Studio</th>\n      <th>Zoo</th>\n      <th>Zoo Exhibit</th>\n    </tr>\n  </thead>\n  <tbody>\n    <tr>\n      <th>0</th>\n      <td>Barking and Dagenham</td>\n      <td>0.000000</td>\n      <td>0.000000</td>\n      <td>0.00000</td>\n      <td>0.003195</td>\n      <td>0.028754</td>\n      <td>0.000000</td>\n      <td>0.00000</td>\n      <td>0.000000</td>\n      <td>0.003195</td>\n      <td>...</td>\n      <td>0.000000</td>\n      <td>0.000000</td>\n      <td>0.000000</td>\n      <td>0.000000</td>\n      <td>0.003195</td>\n      <td>0.000000</td>\n      <td>0.000000</td>\n      <td>0.000000</td>\n      <td>0.000000</td>\n      <td>0.003195</td>\n    </tr>\n    <tr>\n      <th>1</th>\n      <td>Barnet</td>\n      <td>0.003040</td>\n      <td>0.003040</td>\n      <td>0.00000</td>\n      <td>0.003040</td>\n      <td>0.009119</td>\n      <td>0.012158</td>\n      <td>0.00000</td>\n      <td>0.003040</td>\n      <td>0.021277</td>\n      <td>...</td>\n      <td>0.000000</td>\n      <td>0.000000</td>\n      <td>0.000000</td>\n      <td>0.003040</td>\n      <td>0.000000</td>\n      <td>0.000000</td>\n      <td>0.000000</td>\n      <td>0.006079</td>\n      <td>0.003040</td>\n      <td>0.003040</td>\n    </tr>\n    <tr>\n      <th>2</th>\n      <td>Bexley</td>\n      <td>0.000000</td>\n      <td>0.000000</td>\n      <td>0.00000</td>\n      <td>0.000000</td>\n      <td>0.010791</td>\n      <td>0.000000</td>\n      <td>0.00000</td>\n      <td>0.000000</td>\n      <td>0.010791</td>\n      <td>...</td>\n      <td>0.000000</td>\n      <td>0.000000</td>\n      <td>0.000000</td>\n      <td>0.000000</td>\n      <td>0.000000</td>\n      <td>0.000000</td>\n      <td>0.000000</td>\n      <td>0.000000</td>\n      <td>0.000000</td>\n      <td>0.003597</td>\n    </tr>\n    <tr>\n      <th>3</th>\n      <td>Brent</td>\n      <td>0.002740</td>\n      <td>0.002740</td>\n      <td>0.00000</td>\n      <td>0.002740</td>\n      <td>0.013699</td>\n      <td>0.016438</td>\n      <td>0.00000</td>\n      <td>0.000000</td>\n      <td>0.002740</td>\n      <td>...</td>\n      <td>0.000000</td>\n      <td>0.000000</td>\n      <td>0.000000</td>\n      <td>0.000000</td>\n      <td>0.000000</td>\n      <td>0.000000</td>\n      <td>0.000000</td>\n      <td>0.002740</td>\n      <td>0.002740</td>\n      <td>0.002740</td>\n    </tr>\n    <tr>\n      <th>4</th>\n      <td>Bromley</td>\n      <td>0.000000</td>\n      <td>0.000000</td>\n      <td>0.00000</td>\n      <td>0.000000</td>\n      <td>0.018265</td>\n      <td>0.000000</td>\n      <td>0.00000</td>\n      <td>0.000000</td>\n      <td>0.000000</td>\n      <td>...</td>\n      <td>0.000000</td>\n      <td>0.000000</td>\n      <td>0.000000</td>\n      <td>0.000000</td>\n      <td>0.000000</td>\n      <td>0.000000</td>\n      <td>0.000000</td>\n      <td>0.004566</td>\n      <td>0.000000</td>\n      <td>0.004566</td>\n    </tr>\n    <tr>\n      <th>5</th>\n      <td>Camden</td>\n      <td>0.001285</td>\n      <td>0.002571</td>\n      <td>0.00000</td>\n      <td>0.001285</td>\n      <td>0.028278</td>\n      <td>0.008997</td>\n      <td>0.00000</td>\n      <td>0.001285</td>\n      <td>0.002571</td>\n      <td>...</td>\n      <td>0.000000</td>\n      <td>0.000000</td>\n      <td>0.000000</td>\n      <td>0.000000</td>\n      <td>0.000000</td>\n      <td>0.000000</td>\n      <td>0.000000</td>\n      <td>0.008997</td>\n      <td>0.001285</td>\n      <td>0.019280</td>\n    </tr>\n    <tr>\n      <th>6</th>\n      <td>Croydon</td>\n      <td>0.002833</td>\n      <td>0.002833</td>\n      <td>0.00000</td>\n      <td>0.000000</td>\n      <td>0.025496</td>\n      <td>0.011331</td>\n      <td>0.00000</td>\n      <td>0.000000</td>\n      <td>0.016997</td>\n      <td>...</td>\n      <td>0.000000</td>\n      <td>0.000000</td>\n      <td>0.000000</td>\n      <td>0.000000</td>\n      <td>0.000000</td>\n      <td>0.000000</td>\n      <td>0.002833</td>\n      <td>0.002833</td>\n      <td>0.000000</td>\n      <td>0.000000</td>\n    </tr>\n    <tr>\n      <th>7</th>\n      <td>Ealing</td>\n      <td>0.002577</td>\n      <td>0.002577</td>\n      <td>0.00000</td>\n      <td>0.002577</td>\n      <td>0.010309</td>\n      <td>0.015464</td>\n      <td>0.00000</td>\n      <td>0.000000</td>\n      <td>0.015464</td>\n      <td>...</td>\n      <td>0.000000</td>\n      <td>0.000000</td>\n      <td>0.000000</td>\n      <td>0.000000</td>\n      <td>0.000000</td>\n      <td>0.000000</td>\n      <td>0.000000</td>\n      <td>0.000000</td>\n      <td>0.002577</td>\n      <td>0.002577</td>\n    </tr>\n    <tr>\n      <th>8</th>\n      <td>Enfield</td>\n      <td>0.000000</td>\n      <td>0.000000</td>\n      <td>0.00000</td>\n      <td>0.000000</td>\n      <td>0.024221</td>\n      <td>0.000000</td>\n      <td>0.00000</td>\n      <td>0.000000</td>\n      <td>0.010381</td>\n      <td>...</td>\n      <td>0.000000</td>\n      <td>0.000000</td>\n      <td>0.000000</td>\n      <td>0.000000</td>\n      <td>0.000000</td>\n      <td>0.000000</td>\n      <td>0.000000</td>\n      <td>0.003460</td>\n      <td>0.003460</td>\n      <td>0.006920</td>\n    </tr>\n    <tr>\n      <th>9</th>\n      <td>Greenwich</td>\n      <td>0.002079</td>\n      <td>0.000000</td>\n      <td>0.00000</td>\n      <td>0.000000</td>\n      <td>0.035343</td>\n      <td>0.008316</td>\n      <td>0.00000</td>\n      <td>0.000000</td>\n      <td>0.006237</td>\n      <td>...</td>\n      <td>0.000000</td>\n      <td>0.000000</td>\n      <td>0.000000</td>\n      <td>0.000000</td>\n      <td>0.000000</td>\n      <td>0.000000</td>\n      <td>0.000000</td>\n      <td>0.008316</td>\n      <td>0.000000</td>\n      <td>0.002079</td>\n    </tr>\n    <tr>\n      <th>10</th>\n      <td>Hackney</td>\n      <td>0.001326</td>\n      <td>0.001326</td>\n      <td>0.00000</td>\n      <td>0.002653</td>\n      <td>0.071618</td>\n      <td>0.006631</td>\n      <td>0.00000</td>\n      <td>0.001326</td>\n      <td>0.014589</td>\n      <td>...</td>\n      <td>0.000000</td>\n      <td>0.000000</td>\n      <td>0.000000</td>\n      <td>0.000000</td>\n      <td>0.000000</td>\n      <td>0.000000</td>\n      <td>0.000000</td>\n      <td>0.017241</td>\n      <td>0.001326</td>\n      <td>0.005305</td>\n    </tr>\n    <tr>\n      <th>11</th>\n      <td>Hammersmith and Fulham</td>\n      <td>0.001647</td>\n      <td>0.001647</td>\n      <td>0.00000</td>\n      <td>0.001647</td>\n      <td>0.039539</td>\n      <td>0.009885</td>\n      <td>0.00000</td>\n      <td>0.003295</td>\n      <td>0.016474</td>\n      <td>...</td>\n      <td>0.000000</td>\n      <td>0.000000</td>\n      <td>0.000000</td>\n      <td>0.000000</td>\n      <td>0.000000</td>\n      <td>0.000000</td>\n      <td>0.000000</td>\n      <td>0.006590</td>\n      <td>0.001647</td>\n      <td>0.001647</td>\n    </tr>\n    <tr>\n      <th>12</th>\n      <td>Haringey</td>\n      <td>0.002299</td>\n      <td>0.002299</td>\n      <td>0.00000</td>\n      <td>0.002299</td>\n      <td>0.027586</td>\n      <td>0.011494</td>\n      <td>0.00000</td>\n      <td>0.000000</td>\n      <td>0.016092</td>\n      <td>...</td>\n      <td>0.000000</td>\n      <td>0.000000</td>\n      <td>0.000000</td>\n      <td>0.002299</td>\n      <td>0.000000</td>\n      <td>0.000000</td>\n      <td>0.000000</td>\n      <td>0.009195</td>\n      <td>0.002299</td>\n      <td>0.002299</td>\n    </tr>\n    <tr>\n      <th>13</th>\n      <td>Harrow</td>\n      <td>0.000000</td>\n      <td>0.000000</td>\n      <td>0.00000</td>\n      <td>0.000000</td>\n      <td>0.016393</td>\n      <td>0.002732</td>\n      <td>0.00000</td>\n      <td>0.000000</td>\n      <td>0.019126</td>\n      <td>...</td>\n      <td>0.000000</td>\n      <td>0.000000</td>\n      <td>0.000000</td>\n      <td>0.000000</td>\n      <td>0.002732</td>\n      <td>0.000000</td>\n      <td>0.000000</td>\n      <td>0.000000</td>\n      <td>0.005464</td>\n      <td>0.005464</td>\n    </tr>\n    <tr>\n      <th>14</th>\n      <td>Havering</td>\n      <td>0.000000</td>\n      <td>0.000000</td>\n      <td>0.00000</td>\n      <td>0.004274</td>\n      <td>0.012821</td>\n      <td>0.000000</td>\n      <td>0.00000</td>\n      <td>0.000000</td>\n      <td>0.008547</td>\n      <td>...</td>\n      <td>0.000000</td>\n      <td>0.000000</td>\n      <td>0.000000</td>\n      <td>0.000000</td>\n      <td>0.000000</td>\n      <td>0.004274</td>\n      <td>0.000000</td>\n      <td>0.000000</td>\n      <td>0.000000</td>\n      <td>0.004274</td>\n    </tr>\n    <tr>\n      <th>15</th>\n      <td>Hillingdon</td>\n      <td>0.000000</td>\n      <td>0.000000</td>\n      <td>0.00000</td>\n      <td>0.000000</td>\n      <td>0.010309</td>\n      <td>0.003436</td>\n      <td>0.00000</td>\n      <td>0.000000</td>\n      <td>0.010309</td>\n      <td>...</td>\n      <td>0.000000</td>\n      <td>0.000000</td>\n      <td>0.000000</td>\n      <td>0.000000</td>\n      <td>0.003436</td>\n      <td>0.000000</td>\n      <td>0.000000</td>\n      <td>0.003436</td>\n      <td>0.000000</td>\n      <td>0.000000</td>\n    </tr>\n    <tr>\n      <th>16</th>\n      <td>Hounslow</td>\n      <td>0.000000</td>\n      <td>0.000000</td>\n      <td>0.00000</td>\n      <td>0.003077</td>\n      <td>0.012308</td>\n      <td>0.006154</td>\n      <td>0.00000</td>\n      <td>0.000000</td>\n      <td>0.012308</td>\n      <td>...</td>\n      <td>0.000000</td>\n      <td>0.000000</td>\n      <td>0.000000</td>\n      <td>0.000000</td>\n      <td>0.003077</td>\n      <td>0.000000</td>\n      <td>0.000000</td>\n      <td>0.000000</td>\n      <td>0.000000</td>\n      <td>0.000000</td>\n    </tr>\n    <tr>\n      <th>17</th>\n      <td>Islington</td>\n      <td>0.001376</td>\n      <td>0.001376</td>\n      <td>0.00000</td>\n      <td>0.004127</td>\n      <td>0.048143</td>\n      <td>0.009629</td>\n      <td>0.00000</td>\n      <td>0.000000</td>\n      <td>0.011004</td>\n      <td>...</td>\n      <td>0.001376</td>\n      <td>0.000000</td>\n      <td>0.000000</td>\n      <td>0.001376</td>\n      <td>0.000000</td>\n      <td>0.000000</td>\n      <td>0.000000</td>\n      <td>0.006878</td>\n      <td>0.001376</td>\n      <td>0.004127</td>\n    </tr>\n    <tr>\n      <th>18</th>\n      <td>Kensington and Chelsea</td>\n      <td>0.001209</td>\n      <td>0.001209</td>\n      <td>0.00000</td>\n      <td>0.000000</td>\n      <td>0.061669</td>\n      <td>0.007255</td>\n      <td>0.00000</td>\n      <td>0.001209</td>\n      <td>0.003628</td>\n      <td>...</td>\n      <td>0.001209</td>\n      <td>0.000000</td>\n      <td>0.000000</td>\n      <td>0.000000</td>\n      <td>0.000000</td>\n      <td>0.000000</td>\n      <td>0.000000</td>\n      <td>0.006046</td>\n      <td>0.001209</td>\n      <td>0.001209</td>\n    </tr>\n    <tr>\n      <th>19</th>\n      <td>Kingston upon Thames</td>\n      <td>0.000000</td>\n      <td>0.000000</td>\n      <td>0.00000</td>\n      <td>0.000000</td>\n      <td>0.014388</td>\n      <td>0.002398</td>\n      <td>0.00000</td>\n      <td>0.000000</td>\n      <td>0.023981</td>\n      <td>...</td>\n      <td>0.000000</td>\n      <td>0.000000</td>\n      <td>0.000000</td>\n      <td>0.000000</td>\n      <td>0.002398</td>\n      <td>0.000000</td>\n      <td>0.000000</td>\n      <td>0.004796</td>\n      <td>0.000000</td>\n      <td>0.000000</td>\n    </tr>\n    <tr>\n      <th>20</th>\n      <td>Lambeth</td>\n      <td>0.001460</td>\n      <td>0.001460</td>\n      <td>0.00146</td>\n      <td>0.000000</td>\n      <td>0.036496</td>\n      <td>0.011679</td>\n      <td>0.00000</td>\n      <td>0.002920</td>\n      <td>0.008759</td>\n      <td>...</td>\n      <td>0.000000</td>\n      <td>0.000000</td>\n      <td>0.000000</td>\n      <td>0.000000</td>\n      <td>0.000000</td>\n      <td>0.000000</td>\n      <td>0.000000</td>\n      <td>0.018978</td>\n      <td>0.001460</td>\n      <td>0.001460</td>\n    </tr>\n    <tr>\n      <th>21</th>\n      <td>Lewisham</td>\n      <td>0.001718</td>\n      <td>0.001718</td>\n      <td>0.00000</td>\n      <td>0.000000</td>\n      <td>0.056701</td>\n      <td>0.008591</td>\n      <td>0.00000</td>\n      <td>0.001718</td>\n      <td>0.008591</td>\n      <td>...</td>\n      <td>0.000000</td>\n      <td>0.000000</td>\n      <td>0.000000</td>\n      <td>0.000000</td>\n      <td>0.000000</td>\n      <td>0.000000</td>\n      <td>0.000000</td>\n      <td>0.010309</td>\n      <td>0.001718</td>\n      <td>0.001718</td>\n    </tr>\n    <tr>\n      <th>22</th>\n      <td>Merton</td>\n      <td>0.002358</td>\n      <td>0.002358</td>\n      <td>0.00000</td>\n      <td>0.002358</td>\n      <td>0.016509</td>\n      <td>0.014151</td>\n      <td>0.00000</td>\n      <td>0.000000</td>\n      <td>0.011792</td>\n      <td>...</td>\n      <td>0.000000</td>\n      <td>0.000000</td>\n      <td>0.000000</td>\n      <td>0.000000</td>\n      <td>0.000000</td>\n      <td>0.007075</td>\n      <td>0.000000</td>\n      <td>0.002358</td>\n      <td>0.002358</td>\n      <td>0.002358</td>\n    </tr>\n    <tr>\n      <th>23</th>\n      <td>Newham</td>\n      <td>0.002062</td>\n      <td>0.002062</td>\n      <td>0.00000</td>\n      <td>0.006186</td>\n      <td>0.030928</td>\n      <td>0.010309</td>\n      <td>0.00000</td>\n      <td>0.006186</td>\n      <td>0.010309</td>\n      <td>...</td>\n      <td>0.000000</td>\n      <td>0.000000</td>\n      <td>0.006186</td>\n      <td>0.000000</td>\n      <td>0.000000</td>\n      <td>0.000000</td>\n      <td>0.000000</td>\n      <td>0.000000</td>\n      <td>0.002062</td>\n      <td>0.002062</td>\n    </tr>\n    <tr>\n      <th>24</th>\n      <td>Redbridge</td>\n      <td>0.000000</td>\n      <td>0.000000</td>\n      <td>0.00000</td>\n      <td>0.000000</td>\n      <td>0.022581</td>\n      <td>0.000000</td>\n      <td>0.00000</td>\n      <td>0.000000</td>\n      <td>0.003226</td>\n      <td>...</td>\n      <td>0.000000</td>\n      <td>0.000000</td>\n      <td>0.000000</td>\n      <td>0.000000</td>\n      <td>0.000000</td>\n      <td>0.000000</td>\n      <td>0.000000</td>\n      <td>0.000000</td>\n      <td>0.000000</td>\n      <td>0.003226</td>\n    </tr>\n    <tr>\n      <th>25</th>\n      <td>Richmond upon Thames</td>\n      <td>0.001764</td>\n      <td>0.001764</td>\n      <td>0.00000</td>\n      <td>0.000000</td>\n      <td>0.024691</td>\n      <td>0.010582</td>\n      <td>0.00000</td>\n      <td>0.000000</td>\n      <td>0.014109</td>\n      <td>...</td>\n      <td>0.000000</td>\n      <td>0.000000</td>\n      <td>0.001764</td>\n      <td>0.000000</td>\n      <td>0.000000</td>\n      <td>0.000000</td>\n      <td>0.000000</td>\n      <td>0.007055</td>\n      <td>0.000000</td>\n      <td>0.000000</td>\n    </tr>\n    <tr>\n      <th>26</th>\n      <td>Southwark</td>\n      <td>0.001290</td>\n      <td>0.001290</td>\n      <td>0.00000</td>\n      <td>0.001290</td>\n      <td>0.080000</td>\n      <td>0.007742</td>\n      <td>0.00129</td>\n      <td>0.001290</td>\n      <td>0.006452</td>\n      <td>...</td>\n      <td>0.000000</td>\n      <td>0.000000</td>\n      <td>0.002581</td>\n      <td>0.000000</td>\n      <td>0.000000</td>\n      <td>0.000000</td>\n      <td>0.001290</td>\n      <td>0.007742</td>\n      <td>0.001290</td>\n      <td>0.001290</td>\n    </tr>\n    <tr>\n      <th>27</th>\n      <td>Sutton</td>\n      <td>0.000000</td>\n      <td>0.000000</td>\n      <td>0.00000</td>\n      <td>0.000000</td>\n      <td>0.021818</td>\n      <td>0.007273</td>\n      <td>0.00000</td>\n      <td>0.000000</td>\n      <td>0.000000</td>\n      <td>...</td>\n      <td>0.000000</td>\n      <td>0.000000</td>\n      <td>0.003636</td>\n      <td>0.000000</td>\n      <td>0.000000</td>\n      <td>0.000000</td>\n      <td>0.000000</td>\n      <td>0.000000</td>\n      <td>0.000000</td>\n      <td>0.000000</td>\n    </tr>\n    <tr>\n      <th>28</th>\n      <td>Tower Hamlets</td>\n      <td>0.001721</td>\n      <td>0.001721</td>\n      <td>0.00000</td>\n      <td>0.001721</td>\n      <td>0.032702</td>\n      <td>0.008606</td>\n      <td>0.00000</td>\n      <td>0.003442</td>\n      <td>0.005164</td>\n      <td>...</td>\n      <td>0.000000</td>\n      <td>0.000000</td>\n      <td>0.003442</td>\n      <td>0.000000</td>\n      <td>0.000000</td>\n      <td>0.000000</td>\n      <td>0.000000</td>\n      <td>0.000000</td>\n      <td>0.001721</td>\n      <td>0.001721</td>\n    </tr>\n    <tr>\n      <th>29</th>\n      <td>Waltham Forest</td>\n      <td>0.002703</td>\n      <td>0.000000</td>\n      <td>0.00000</td>\n      <td>0.000000</td>\n      <td>0.018919</td>\n      <td>0.013514</td>\n      <td>0.00000</td>\n      <td>0.000000</td>\n      <td>0.008108</td>\n      <td>...</td>\n      <td>0.000000</td>\n      <td>0.000000</td>\n      <td>0.000000</td>\n      <td>0.000000</td>\n      <td>0.000000</td>\n      <td>0.000000</td>\n      <td>0.000000</td>\n      <td>0.002703</td>\n      <td>0.002703</td>\n      <td>0.002703</td>\n    </tr>\n    <tr>\n      <th>30</th>\n      <td>Wandsworth</td>\n      <td>0.001653</td>\n      <td>0.001653</td>\n      <td>0.00000</td>\n      <td>0.000000</td>\n      <td>0.029752</td>\n      <td>0.011570</td>\n      <td>0.00000</td>\n      <td>0.000000</td>\n      <td>0.018182</td>\n      <td>...</td>\n      <td>0.001653</td>\n      <td>0.000000</td>\n      <td>0.000000</td>\n      <td>0.003306</td>\n      <td>0.000000</td>\n      <td>0.000000</td>\n      <td>0.000000</td>\n      <td>0.024793</td>\n      <td>0.001653</td>\n      <td>0.001653</td>\n    </tr>\n    <tr>\n      <th>31</th>\n      <td>Westminster</td>\n      <td>0.001025</td>\n      <td>0.003074</td>\n      <td>0.00000</td>\n      <td>0.000000</td>\n      <td>0.050205</td>\n      <td>0.007172</td>\n      <td>0.00000</td>\n      <td>0.000000</td>\n      <td>0.002049</td>\n      <td>...</td>\n      <td>0.001025</td>\n      <td>0.001025</td>\n      <td>0.000000</td>\n      <td>0.000000</td>\n      <td>0.000000</td>\n      <td>0.000000</td>\n      <td>0.000000</td>\n      <td>0.004098</td>\n      <td>0.001025</td>\n      <td>0.001025</td>\n    </tr>\n  </tbody>\n</table>\n<p>32 rows × 259 columns</p>\n</div>"
     },
     "execution_count": 58,
     "metadata": {},
     "output_type": "execute_result"
    }
   ],
   "source": [
    "london_grouped = london_onehot.groupby('Borough').mean().reset_index()\n",
    "london_grouped"
   ],
   "metadata": {
    "collapsed": false,
    "pycharm": {
     "name": "#%%\n"
    }
   }
  },
  {
   "cell_type": "markdown",
   "source": [
    "Find the top 10 venue categories per borough\n",
    "\n"
   ],
   "metadata": {
    "collapsed": false,
    "pycharm": {
     "name": "#%% md\n"
    }
   }
  },
  {
   "cell_type": "code",
   "execution_count": 59,
   "outputs": [
    {
     "data": {
      "text/plain": "                Borough 1st Most Common Venue 2nd Most Common Venue  \\\n0  Barking and Dagenham                Church                  Park   \n1                Barnet                Church                  Park   \n2                Bexley                Church                  Park   \n3                 Brent                Church                  Park   \n4               Bromley                Church                  Park   \n\n  3rd Most Common Venue         4th Most Common Venue  \\\n0           Social Club     College Academic Building   \n1               Library  General College & University   \n2               Library                 Historic Site   \n3               Library                    University   \n4         Historic Site                       Library   \n\n       5th Most Common Venue         6th Most Common Venue  \\\n0                    Library  General College & University   \n1  College Academic Building          Gym / Fitness Center   \n2  College Academic Building                   Social Club   \n3  College Academic Building             College Classroom   \n4  College Academic Building                    University   \n\n          7th Most Common Venue 8th Most Common Venue  \\\n0          Gym / Fitness Center            University   \n1                         Plaza           Social Club   \n2  General College & University      Community Center   \n3                         Plaza           Golf Course   \n4              Community Center           Social Club   \n\n          9th Most Common Venue 10th Most Common Venue  \n0                   Art Gallery       Community Center  \n1                        Garden             University  \n2                    University   Gym / Fitness Center  \n3                 Historic Site  General Entertainment  \n4  General College & University      Outdoor Sculpture  ",
      "text/html": "<div>\n<style scoped>\n    .dataframe tbody tr th:only-of-type {\n        vertical-align: middle;\n    }\n\n    .dataframe tbody tr th {\n        vertical-align: top;\n    }\n\n    .dataframe thead th {\n        text-align: right;\n    }\n</style>\n<table border=\"1\" class=\"dataframe\">\n  <thead>\n    <tr style=\"text-align: right;\">\n      <th></th>\n      <th>Borough</th>\n      <th>1st Most Common Venue</th>\n      <th>2nd Most Common Venue</th>\n      <th>3rd Most Common Venue</th>\n      <th>4th Most Common Venue</th>\n      <th>5th Most Common Venue</th>\n      <th>6th Most Common Venue</th>\n      <th>7th Most Common Venue</th>\n      <th>8th Most Common Venue</th>\n      <th>9th Most Common Venue</th>\n      <th>10th Most Common Venue</th>\n    </tr>\n  </thead>\n  <tbody>\n    <tr>\n      <th>0</th>\n      <td>Barking and Dagenham</td>\n      <td>Church</td>\n      <td>Park</td>\n      <td>Social Club</td>\n      <td>College Academic Building</td>\n      <td>Library</td>\n      <td>General College &amp; University</td>\n      <td>Gym / Fitness Center</td>\n      <td>University</td>\n      <td>Art Gallery</td>\n      <td>Community Center</td>\n    </tr>\n    <tr>\n      <th>1</th>\n      <td>Barnet</td>\n      <td>Church</td>\n      <td>Park</td>\n      <td>Library</td>\n      <td>General College &amp; University</td>\n      <td>College Academic Building</td>\n      <td>Gym / Fitness Center</td>\n      <td>Plaza</td>\n      <td>Social Club</td>\n      <td>Garden</td>\n      <td>University</td>\n    </tr>\n    <tr>\n      <th>2</th>\n      <td>Bexley</td>\n      <td>Church</td>\n      <td>Park</td>\n      <td>Library</td>\n      <td>Historic Site</td>\n      <td>College Academic Building</td>\n      <td>Social Club</td>\n      <td>General College &amp; University</td>\n      <td>Community Center</td>\n      <td>University</td>\n      <td>Gym / Fitness Center</td>\n    </tr>\n    <tr>\n      <th>3</th>\n      <td>Brent</td>\n      <td>Church</td>\n      <td>Park</td>\n      <td>Library</td>\n      <td>University</td>\n      <td>College Academic Building</td>\n      <td>College Classroom</td>\n      <td>Plaza</td>\n      <td>Golf Course</td>\n      <td>Historic Site</td>\n      <td>General Entertainment</td>\n    </tr>\n    <tr>\n      <th>4</th>\n      <td>Bromley</td>\n      <td>Church</td>\n      <td>Park</td>\n      <td>Historic Site</td>\n      <td>Library</td>\n      <td>College Academic Building</td>\n      <td>University</td>\n      <td>Community Center</td>\n      <td>Social Club</td>\n      <td>General College &amp; University</td>\n      <td>Outdoor Sculpture</td>\n    </tr>\n  </tbody>\n</table>\n</div>"
     },
     "execution_count": 59,
     "metadata": {},
     "output_type": "execute_result"
    }
   ],
   "source": [
    "# top 10 categories per borough\n",
    "\n",
    "# function to find the top venues for each neighbourhood\n",
    "def return_most_common_venues(row, num_top_venues):\n",
    "    row_categories = row.iloc[1:]\n",
    "    row_categories_sorted = row_categories.sort_values(ascending=False)\n",
    "\n",
    "    return row_categories_sorted.index.values[0:num_top_venues]\n",
    "\n",
    "num_top_venues = 10\n",
    "\n",
    "indicators = ['st', 'nd', 'rd']\n",
    "\n",
    "# create columns according to number of top venues\n",
    "columns = ['Borough']\n",
    "for ind in np.arange(num_top_venues):\n",
    "    try:\n",
    "        columns.append('{}{} Most Common Venue'.format(ind+1, indicators[ind]))\n",
    "    except:\n",
    "        columns.append('{}th Most Common Venue'.format(ind+1))\n",
    "\n",
    "# create a new dataframe\n",
    "Boroughs_venues_sorted = pd.DataFrame(columns=columns)\n",
    "Boroughs_venues_sorted['Borough'] = london_grouped['Borough']\n",
    "\n",
    "for ind in np.arange(london_grouped.shape[0]):\n",
    "    Boroughs_venues_sorted.iloc[ind, 1:] = return_most_common_venues(london_grouped.iloc[ind, :], num_top_venues)\n",
    "\n",
    "Boroughs_venues_sorted.head()"
   ],
   "metadata": {
    "collapsed": false,
    "pycharm": {
     "name": "#%%\n"
    }
   }
  },
  {
   "cell_type": "markdown",
   "source": [
    "### Finding the correct value for k"
   ],
   "metadata": {
    "collapsed": false,
    "pycharm": {
     "name": "#%% md\n"
    }
   }
  },
  {
   "cell_type": "markdown",
   "source": [
    "#### Elbow method"
   ],
   "metadata": {
    "collapsed": false,
    "pycharm": {
     "name": "#%% md\n"
    }
   }
  },
  {
   "cell_type": "code",
   "execution_count": 60,
   "outputs": [
    {
     "data": {
      "text/plain": "<Figure size 1152x576 with 1 Axes>",
      "image/png": "[encoded data removed]"
     },
     "metadata": {},
     "output_type": "display_data"
    }
   ],
   "source": [
    "london_grouped_clustering = london_grouped.drop('Borough', 1)\n",
    "\n",
    "distortions = []\n",
    "K = range(1,10)\n",
    "for k in K:\n",
    "    kmeanModel = KMeans(n_clusters=k)\n",
    "    kmeanModel.fit(london_grouped_clustering)\n",
    "    distortions.append(kmeanModel.inertia_)\n",
    "\n",
    "plt.figure(figsize=(16,8))\n",
    "plt.plot(K, distortions, 'bx-')\n",
    "plt.xlabel('k')\n",
    "plt.ylabel('Distortion')\n",
    "plt.title('The Elbow Method showing the optimal k')\n",
    "plt.show()"
   ],
   "metadata": {
    "collapsed": false,
    "pycharm": {
     "name": "#%%\n"
    }
   }
  },
  {
   "cell_type": "markdown",
   "source": [
    "From the elbow method, the correct value for k is 2."
   ],
   "metadata": {
    "collapsed": false,
    "pycharm": {
     "name": "#%% md\n"
    }
   }
  },
  {
   "cell_type": "code",
   "execution_count": 61,
   "outputs": [
    {
     "data": {
      "text/plain": "array([1, 1, 1, 1, 1, 0, 1, 1, 1, 0])"
     },
     "execution_count": 61,
     "metadata": {},
     "output_type": "execute_result"
    }
   ],
   "source": [
    "# set number of clusters\n",
    "kclusters = 2\n",
    "\n",
    "\n",
    "\n",
    "# run k-means clustering\n",
    "kmeans = KMeans(n_clusters=kclusters, random_state=0).fit(london_grouped_clustering)\n",
    "\n",
    "# check cluster labels generated for each row in the dataframe\n",
    "kmeans.labels_[0:10]"
   ],
   "metadata": {
    "collapsed": false,
    "pycharm": {
     "name": "#%%\n"
    }
   }
  },
  {
   "cell_type": "code",
   "execution_count": 62,
   "outputs": [
    {
     "data": {
      "text/plain": "                Borough  Population  longitude  latitude  Total_Crime  \\\n0  Barking and Dagenham      212906   0.129506   51.5455        39456   \n1                Barnet      395896  -0.218210   51.6111        59167   \n2                Bexley      248287   0.146212   51.4582        33929   \n3                 Brent      329771  -0.275680   51.5644        59257   \n4               Bromley      332336   0.039246   51.3727        47499   \n\n   Crime_Rate  Cluster Labels 1st Most Common Venue 2nd Most Common Venue  \\\n0    18532.12               1                Church                  Park   \n1    14945.09               1                Church                  Park   \n2    13665.23               1                Church                  Park   \n3    17969.14               1                Church                  Park   \n4    14292.46               1                Church                  Park   \n\n  3rd Most Common Venue         4th Most Common Venue  \\\n0           Social Club     College Academic Building   \n1               Library  General College & University   \n2               Library                 Historic Site   \n3               Library                    University   \n4         Historic Site                       Library   \n\n       5th Most Common Venue         6th Most Common Venue  \\\n0                    Library  General College & University   \n1  College Academic Building          Gym / Fitness Center   \n2  College Academic Building                   Social Club   \n3  College Academic Building             College Classroom   \n4  College Academic Building                    University   \n\n          7th Most Common Venue 8th Most Common Venue  \\\n0          Gym / Fitness Center            University   \n1                         Plaza           Social Club   \n2  General College & University      Community Center   \n3                         Plaza           Golf Course   \n4              Community Center           Social Club   \n\n          9th Most Common Venue 10th Most Common Venue  \n0                   Art Gallery       Community Center  \n1                        Garden             University  \n2                    University   Gym / Fitness Center  \n3                 Historic Site  General Entertainment  \n4  General College & University      Outdoor Sculpture  ",
      "text/html": "<div>\n<style scoped>\n    .dataframe tbody tr th:only-of-type {\n        vertical-align: middle;\n    }\n\n    .dataframe tbody tr th {\n        vertical-align: top;\n    }\n\n    .dataframe thead th {\n        text-align: right;\n    }\n</style>\n<table border=\"1\" class=\"dataframe\">\n  <thead>\n    <tr style=\"text-align: right;\">\n      <th></th>\n      <th>Borough</th>\n      <th>Population</th>\n      <th>longitude</th>\n      <th>latitude</th>\n      <th>Total_Crime</th>\n      <th>Crime_Rate</th>\n      <th>Cluster Labels</th>\n      <th>1st Most Common Venue</th>\n      <th>2nd Most Common Venue</th>\n      <th>3rd Most Common Venue</th>\n      <th>4th Most Common Venue</th>\n      <th>5th Most Common Venue</th>\n      <th>6th Most Common Venue</th>\n      <th>7th Most Common Venue</th>\n      <th>8th Most Common Venue</th>\n      <th>9th Most Common Venue</th>\n      <th>10th Most Common Venue</th>\n    </tr>\n  </thead>\n  <tbody>\n    <tr>\n      <th>0</th>\n      <td>Barking and Dagenham</td>\n      <td>212906</td>\n      <td>0.129506</td>\n      <td>51.5455</td>\n      <td>39456</td>\n      <td>18532.12</td>\n      <td>1</td>\n      <td>Church</td>\n      <td>Park</td>\n      <td>Social Club</td>\n      <td>College Academic Building</td>\n      <td>Library</td>\n      <td>General College &amp; University</td>\n      <td>Gym / Fitness Center</td>\n      <td>University</td>\n      <td>Art Gallery</td>\n      <td>Community Center</td>\n    </tr>\n    <tr>\n      <th>1</th>\n      <td>Barnet</td>\n      <td>395896</td>\n      <td>-0.218210</td>\n      <td>51.6111</td>\n      <td>59167</td>\n      <td>14945.09</td>\n      <td>1</td>\n      <td>Church</td>\n      <td>Park</td>\n      <td>Library</td>\n      <td>General College &amp; University</td>\n      <td>College Academic Building</td>\n      <td>Gym / Fitness Center</td>\n      <td>Plaza</td>\n      <td>Social Club</td>\n      <td>Garden</td>\n      <td>University</td>\n    </tr>\n    <tr>\n      <th>2</th>\n      <td>Bexley</td>\n      <td>248287</td>\n      <td>0.146212</td>\n      <td>51.4582</td>\n      <td>33929</td>\n      <td>13665.23</td>\n      <td>1</td>\n      <td>Church</td>\n      <td>Park</td>\n      <td>Library</td>\n      <td>Historic Site</td>\n      <td>College Academic Building</td>\n      <td>Social Club</td>\n      <td>General College &amp; University</td>\n      <td>Community Center</td>\n      <td>University</td>\n      <td>Gym / Fitness Center</td>\n    </tr>\n    <tr>\n      <th>3</th>\n      <td>Brent</td>\n      <td>329771</td>\n      <td>-0.275680</td>\n      <td>51.5644</td>\n      <td>59257</td>\n      <td>17969.14</td>\n      <td>1</td>\n      <td>Church</td>\n      <td>Park</td>\n      <td>Library</td>\n      <td>University</td>\n      <td>College Academic Building</td>\n      <td>College Classroom</td>\n      <td>Plaza</td>\n      <td>Golf Course</td>\n      <td>Historic Site</td>\n      <td>General Entertainment</td>\n    </tr>\n    <tr>\n      <th>4</th>\n      <td>Bromley</td>\n      <td>332336</td>\n      <td>0.039246</td>\n      <td>51.3727</td>\n      <td>47499</td>\n      <td>14292.46</td>\n      <td>1</td>\n      <td>Church</td>\n      <td>Park</td>\n      <td>Historic Site</td>\n      <td>Library</td>\n      <td>College Academic Building</td>\n      <td>University</td>\n      <td>Community Center</td>\n      <td>Social Club</td>\n      <td>General College &amp; University</td>\n      <td>Outdoor Sculpture</td>\n    </tr>\n  </tbody>\n</table>\n</div>"
     },
     "execution_count": 62,
     "metadata": {},
     "output_type": "execute_result"
    }
   ],
   "source": [
    "# add clustering labels\n",
    "Boroughs_venues_sorted.insert(0, 'Cluster Labels', kmeans.labels_)\n",
    "\n",
    "london2= london_crimes.copy()\n",
    "\n",
    "# merge toronto_grouped with toronto_data to add latitude/longitude for each Borough\n",
    "london2 = london2.join(Boroughs_venues_sorted.set_index('Borough'), on='Borough')\n",
    "\n",
    "london2.head()"
   ],
   "metadata": {
    "collapsed": false,
    "pycharm": {
     "name": "#%%\n"
    }
   }
  },
  {
   "cell_type": "markdown",
   "source": [
    "### Examining and naming the clusters\n"
   ],
   "metadata": {
    "collapsed": false,
    "pycharm": {
     "name": "#%% md\n"
    }
   }
  },
  {
   "cell_type": "markdown",
   "source": [
    "#### Cluster 1: Fun London\n",
    "This cluster has more art galleries, music venues, theatres and outdoor spaces like gardens and playgrounds"
   ],
   "metadata": {
    "collapsed": false,
    "pycharm": {
     "name": "#%% md\n"
    }
   }
  },
  {
   "cell_type": "code",
   "execution_count": 63,
   "outputs": [
    {
     "data": {
      "text/plain": "                   Borough 1st Most Common Venue 2nd Most Common Venue  \\\n5                   Camden                Church                  Park   \n9                Greenwich                Church                  Park   \n10                 Hackney                Church                  Park   \n11  Hammersmith and Fulham                Church                  Park   \n12                Haringey                Church                  Park   \n17               Islington                Church                  Park   \n18  Kensington and Chelsea                Church           Art Gallery   \n20                 Lambeth                Church                  Park   \n21                Lewisham                Church                  Park   \n23                  Newham                Church                  Park   \n25    Richmond upon Thames                Church                  Park   \n26               Southwark                Church           Art Gallery   \n28           Tower Hamlets                Church                  Park   \n30              Wandsworth                Church                  Park   \n31             Westminster                Church           Art Gallery   \n\n        3rd Most Common Venue      4th Most Common Venue  \\\n5                       Plaza                 University   \n9   College Academic Building                    Library   \n10                Art Gallery       Gym / Fitness Center   \n11       Gym / Fitness Center                Art Gallery   \n12       Gym / Fitness Center                Music Venue   \n17                Art Gallery                Music Venue   \n18                       Park       Gym / Fitness Center   \n20                Art Gallery       Gym / Fitness Center   \n21                Art Gallery                 University   \n23                     Mosque       Gym / Fitness Center   \n25          Outdoor Sculpture                     Garden   \n26                       Park       Gym / Fitness Center   \n28                 University  College Academic Building   \n30       Gym / Fitness Center      General Entertainment   \n31                       Park       Gym / Fitness Center   \n\n    5th Most Common Venue      6th Most Common Venue  \\\n5             Art Gallery                    Library   \n9              University                Art Gallery   \n10       Community Center                 University   \n11  General Entertainment                 University   \n12          Historic Site                    Library   \n17                Library      General Entertainment   \n18                 Garden  College Academic Building   \n20                Theater                    Library   \n21                Library       Gym / Fitness Center   \n23             University                Art Gallery   \n25            Art Gallery  College Academic Building   \n26  General Entertainment           Community Center   \n28            Art Gallery       Gym / Fitness Center   \n30            Art Gallery                     Garden   \n31                 Garden                Social Club   \n\n           7th Most Common Venue         8th Most Common Venue  \\\n5                        Theater                   Social Club   \n9           Gym / Fitness Center                         Plaza   \n10                       Library                   Music Venue   \n11             College Classroom                        Garden   \n12                    University                   Art Gallery   \n17          Gym / Fitness Center                    Playground   \n18                    University  General College & University   \n20                   Social Club                    University   \n21        College Residence Hall     College Academic Building   \n23             College Classroom     College Academic Building   \n25                       Library                    Playground   \n26                 Historic Site                        Garden   \n28         General Entertainment                       Library   \n30                    University                    Playground   \n31  General College & University                         Plaza   \n\n           9th Most Common Venue     10th Most Common Venue  \n5           Gym / Fitness Center                Music Venue  \n9   General College & University           Community Center  \n10                        Garden      Performing Arts Venue  \n11                           Gym              Historic Site  \n12         General Entertainment                 Playground  \n17  General College & University                     Garden  \n18                           Gym              Historic Site  \n20                 Historic Site                Music Venue  \n21  General College & University      General Entertainment  \n23         General Entertainment     College Residence Hall  \n25                 Historic Site       Gym / Fitness Center  \n26  General College & University                 University  \n28  General College & University          College Classroom  \n30                       Library                Yoga Studio  \n31                    University  College Academic Building  ",
      "text/html": "<div>\n<style scoped>\n    .dataframe tbody tr th:only-of-type {\n        vertical-align: middle;\n    }\n\n    .dataframe tbody tr th {\n        vertical-align: top;\n    }\n\n    .dataframe thead th {\n        text-align: right;\n    }\n</style>\n<table border=\"1\" class=\"dataframe\">\n  <thead>\n    <tr style=\"text-align: right;\">\n      <th></th>\n      <th>Borough</th>\n      <th>1st Most Common Venue</th>\n      <th>2nd Most Common Venue</th>\n      <th>3rd Most Common Venue</th>\n      <th>4th Most Common Venue</th>\n      <th>5th Most Common Venue</th>\n      <th>6th Most Common Venue</th>\n      <th>7th Most Common Venue</th>\n      <th>8th Most Common Venue</th>\n      <th>9th Most Common Venue</th>\n      <th>10th Most Common Venue</th>\n    </tr>\n  </thead>\n  <tbody>\n    <tr>\n      <th>5</th>\n      <td>Camden</td>\n      <td>Church</td>\n      <td>Park</td>\n      <td>Plaza</td>\n      <td>University</td>\n      <td>Art Gallery</td>\n      <td>Library</td>\n      <td>Theater</td>\n      <td>Social Club</td>\n      <td>Gym / Fitness Center</td>\n      <td>Music Venue</td>\n    </tr>\n    <tr>\n      <th>9</th>\n      <td>Greenwich</td>\n      <td>Church</td>\n      <td>Park</td>\n      <td>College Academic Building</td>\n      <td>Library</td>\n      <td>University</td>\n      <td>Art Gallery</td>\n      <td>Gym / Fitness Center</td>\n      <td>Plaza</td>\n      <td>General College &amp; University</td>\n      <td>Community Center</td>\n    </tr>\n    <tr>\n      <th>10</th>\n      <td>Hackney</td>\n      <td>Church</td>\n      <td>Park</td>\n      <td>Art Gallery</td>\n      <td>Gym / Fitness Center</td>\n      <td>Community Center</td>\n      <td>University</td>\n      <td>Library</td>\n      <td>Music Venue</td>\n      <td>Garden</td>\n      <td>Performing Arts Venue</td>\n    </tr>\n    <tr>\n      <th>11</th>\n      <td>Hammersmith and Fulham</td>\n      <td>Church</td>\n      <td>Park</td>\n      <td>Gym / Fitness Center</td>\n      <td>Art Gallery</td>\n      <td>General Entertainment</td>\n      <td>University</td>\n      <td>College Classroom</td>\n      <td>Garden</td>\n      <td>Gym</td>\n      <td>Historic Site</td>\n    </tr>\n    <tr>\n      <th>12</th>\n      <td>Haringey</td>\n      <td>Church</td>\n      <td>Park</td>\n      <td>Gym / Fitness Center</td>\n      <td>Music Venue</td>\n      <td>Historic Site</td>\n      <td>Library</td>\n      <td>University</td>\n      <td>Art Gallery</td>\n      <td>General Entertainment</td>\n      <td>Playground</td>\n    </tr>\n    <tr>\n      <th>17</th>\n      <td>Islington</td>\n      <td>Church</td>\n      <td>Park</td>\n      <td>Art Gallery</td>\n      <td>Music Venue</td>\n      <td>Library</td>\n      <td>General Entertainment</td>\n      <td>Gym / Fitness Center</td>\n      <td>Playground</td>\n      <td>General College &amp; University</td>\n      <td>Garden</td>\n    </tr>\n    <tr>\n      <th>18</th>\n      <td>Kensington and Chelsea</td>\n      <td>Church</td>\n      <td>Art Gallery</td>\n      <td>Park</td>\n      <td>Gym / Fitness Center</td>\n      <td>Garden</td>\n      <td>College Academic Building</td>\n      <td>University</td>\n      <td>General College &amp; University</td>\n      <td>Gym</td>\n      <td>Historic Site</td>\n    </tr>\n    <tr>\n      <th>20</th>\n      <td>Lambeth</td>\n      <td>Church</td>\n      <td>Park</td>\n      <td>Art Gallery</td>\n      <td>Gym / Fitness Center</td>\n      <td>Theater</td>\n      <td>Library</td>\n      <td>Social Club</td>\n      <td>University</td>\n      <td>Historic Site</td>\n      <td>Music Venue</td>\n    </tr>\n    <tr>\n      <th>21</th>\n      <td>Lewisham</td>\n      <td>Church</td>\n      <td>Park</td>\n      <td>Art Gallery</td>\n      <td>University</td>\n      <td>Library</td>\n      <td>Gym / Fitness Center</td>\n      <td>College Residence Hall</td>\n      <td>College Academic Building</td>\n      <td>General College &amp; University</td>\n      <td>General Entertainment</td>\n    </tr>\n    <tr>\n      <th>23</th>\n      <td>Newham</td>\n      <td>Church</td>\n      <td>Park</td>\n      <td>Mosque</td>\n      <td>Gym / Fitness Center</td>\n      <td>University</td>\n      <td>Art Gallery</td>\n      <td>College Classroom</td>\n      <td>College Academic Building</td>\n      <td>General Entertainment</td>\n      <td>College Residence Hall</td>\n    </tr>\n    <tr>\n      <th>25</th>\n      <td>Richmond upon Thames</td>\n      <td>Church</td>\n      <td>Park</td>\n      <td>Outdoor Sculpture</td>\n      <td>Garden</td>\n      <td>Art Gallery</td>\n      <td>College Academic Building</td>\n      <td>Library</td>\n      <td>Playground</td>\n      <td>Historic Site</td>\n      <td>Gym / Fitness Center</td>\n    </tr>\n    <tr>\n      <th>26</th>\n      <td>Southwark</td>\n      <td>Church</td>\n      <td>Art Gallery</td>\n      <td>Park</td>\n      <td>Gym / Fitness Center</td>\n      <td>General Entertainment</td>\n      <td>Community Center</td>\n      <td>Historic Site</td>\n      <td>Garden</td>\n      <td>General College &amp; University</td>\n      <td>University</td>\n    </tr>\n    <tr>\n      <th>28</th>\n      <td>Tower Hamlets</td>\n      <td>Church</td>\n      <td>Park</td>\n      <td>University</td>\n      <td>College Academic Building</td>\n      <td>Art Gallery</td>\n      <td>Gym / Fitness Center</td>\n      <td>General Entertainment</td>\n      <td>Library</td>\n      <td>General College &amp; University</td>\n      <td>College Classroom</td>\n    </tr>\n    <tr>\n      <th>30</th>\n      <td>Wandsworth</td>\n      <td>Church</td>\n      <td>Park</td>\n      <td>Gym / Fitness Center</td>\n      <td>General Entertainment</td>\n      <td>Art Gallery</td>\n      <td>Garden</td>\n      <td>University</td>\n      <td>Playground</td>\n      <td>Library</td>\n      <td>Yoga Studio</td>\n    </tr>\n    <tr>\n      <th>31</th>\n      <td>Westminster</td>\n      <td>Church</td>\n      <td>Art Gallery</td>\n      <td>Park</td>\n      <td>Gym / Fitness Center</td>\n      <td>Garden</td>\n      <td>Social Club</td>\n      <td>General College &amp; University</td>\n      <td>Plaza</td>\n      <td>University</td>\n      <td>College Academic Building</td>\n    </tr>\n  </tbody>\n</table>\n</div>"
     },
     "execution_count": 63,
     "metadata": {},
     "output_type": "execute_result"
    }
   ],
   "source": [
    "london2.loc[london2['Cluster Labels'] == 0, london2.columns[[0] + list(range(7, london2.shape[1]))]]"
   ],
   "metadata": {
    "collapsed": false,
    "pycharm": {
     "name": "#%%\n"
    }
   }
  },
  {
   "cell_type": "markdown",
   "source": [
    "#### Cluster 2: Sensible London\n",
    "This cluster has more gyms, sports clubs and academic buildings."
   ],
   "metadata": {
    "collapsed": false,
    "pycharm": {
     "name": "#%% md\n"
    }
   }
  },
  {
   "cell_type": "code",
   "execution_count": 65,
   "outputs": [
    {
     "data": {
      "text/plain": "                 Borough 1st Most Common Venue 2nd Most Common Venue  \\\n0   Barking and Dagenham                Church                  Park   \n1                 Barnet                Church                  Park   \n2                 Bexley                Church                  Park   \n3                  Brent                Church                  Park   \n4                Bromley                Church                  Park   \n6                Croydon                Church                  Park   \n7                 Ealing                Church                  Park   \n8                Enfield                Church                  Park   \n13                Harrow                Church                  Park   \n14              Havering                Church                  Park   \n15            Hillingdon                Church                  Park   \n16              Hounslow                Church                  Park   \n19  Kingston upon Thames                Church                  Park   \n22                Merton                Church                  Park   \n24             Redbridge                Church                  Park   \n27                Sutton                Church                  Park   \n29        Waltham Forest                Church                  Park   \n\n        3rd Most Common Venue         4th Most Common Venue  \\\n0                 Social Club     College Academic Building   \n1                     Library  General College & University   \n2                     Library                 Historic Site   \n3                     Library                    University   \n4               Historic Site                       Library   \n6                     Library             College Classroom   \n7                     Library     College Academic Building   \n8                     Library     College Academic Building   \n13                    Library     College Academic Building   \n14  College Academic Building                       Library   \n15                    Library     College Academic Building   \n16                        Gym                       Library   \n19                    Library     College Academic Building   \n22               Tennis Court                       Library   \n24       Gym / Fitness Center                       Library   \n27                    Library     College Academic Building   \n29                    Library                    University   \n\n           5th Most Common Venue         6th Most Common Venue  \\\n0                        Library  General College & University   \n1      College Academic Building          Gym / Fitness Center   \n2      College Academic Building                   Social Club   \n3      College Academic Building             College Classroom   \n4      College Academic Building                    University   \n6                        Theater     College Academic Building   \n7                     University                        Bridge   \n8   General College & University                   Art Gallery   \n13  General College & University          Gym / Fitness Center   \n14                   Social Club  General College & University   \n15                 Historic Site          Other Great Outdoors   \n16                 Historic Site     College Academic Building   \n19                    University          Gym / Fitness Center   \n22     College Academic Building                    University   \n24  General College & University                   Social Club   \n27                 Historic Site         General Entertainment   \n29     College Academic Building                           Gym   \n\n           7th Most Common Venue         8th Most Common Venue  \\\n0           Gym / Fitness Center                    University   \n1                          Plaza                   Social Club   \n2   General College & University              Community Center   \n3                          Plaza                   Golf Course   \n4               Community Center                   Social Club   \n6                    Art Gallery                    University   \n7   General College & University                  Soccer Field   \n8                         Garden                    University   \n13                        Mosque         General Entertainment   \n14             College Classroom          Gym / Fitness Center   \n15                    University             Outdoor Sculpture   \n16                    Playground  General College & University   \n19             College Classroom            Athletics & Sports   \n22         General Entertainment                       Theater   \n24     College Academic Building              Community Center   \n27                    Playground                   Art Gallery   \n29                        Mosque          Gym / Fitness Center   \n\n           9th Most Common Venue 10th Most Common Venue  \n0                    Art Gallery       Community Center  \n1                         Garden             University  \n2                     University   Gym / Fitness Center  \n3                  Historic Site  General Entertainment  \n4   General College & University      Outdoor Sculpture  \n6               Community Center                  Plaza  \n7           Gym / Fitness Center  General Entertainment  \n8           Gym / Fitness Center           Tennis Court  \n13              Spiritual Center         Soccer Stadium  \n14                   Music Venue   Other Great Outdoors  \n15                   Sports Club            Music Venue  \n16                        Garden  General Entertainment  \n19                    Playground                    Gym  \n22                           Gym                  Plaza  \n24                   Art Gallery                    Pub  \n27                    University   Gym / Fitness Center  \n29         General Entertainment                  Plaza  ",
      "text/html": "<div>\n<style scoped>\n    .dataframe tbody tr th:only-of-type {\n        vertical-align: middle;\n    }\n\n    .dataframe tbody tr th {\n        vertical-align: top;\n    }\n\n    .dataframe thead th {\n        text-align: right;\n    }\n</style>\n<table border=\"1\" class=\"dataframe\">\n  <thead>\n    <tr style=\"text-align: right;\">\n      <th></th>\n      <th>Borough</th>\n      <th>1st Most Common Venue</th>\n      <th>2nd Most Common Venue</th>\n      <th>3rd Most Common Venue</th>\n      <th>4th Most Common Venue</th>\n      <th>5th Most Common Venue</th>\n      <th>6th Most Common Venue</th>\n      <th>7th Most Common Venue</th>\n      <th>8th Most Common Venue</th>\n      <th>9th Most Common Venue</th>\n      <th>10th Most Common Venue</th>\n    </tr>\n  </thead>\n  <tbody>\n    <tr>\n      <th>0</th>\n      <td>Barking and Dagenham</td>\n      <td>Church</td>\n      <td>Park</td>\n      <td>Social Club</td>\n      <td>College Academic Building</td>\n      <td>Library</td>\n      <td>General College &amp; University</td>\n      <td>Gym / Fitness Center</td>\n      <td>University</td>\n      <td>Art Gallery</td>\n      <td>Community Center</td>\n    </tr>\n    <tr>\n      <th>1</th>\n      <td>Barnet</td>\n      <td>Church</td>\n      <td>Park</td>\n      <td>Library</td>\n      <td>General College &amp; University</td>\n      <td>College Academic Building</td>\n      <td>Gym / Fitness Center</td>\n      <td>Plaza</td>\n      <td>Social Club</td>\n      <td>Garden</td>\n      <td>University</td>\n    </tr>\n    <tr>\n      <th>2</th>\n      <td>Bexley</td>\n      <td>Church</td>\n      <td>Park</td>\n      <td>Library</td>\n      <td>Historic Site</td>\n      <td>College Academic Building</td>\n      <td>Social Club</td>\n      <td>General College &amp; University</td>\n      <td>Community Center</td>\n      <td>University</td>\n      <td>Gym / Fitness Center</td>\n    </tr>\n    <tr>\n      <th>3</th>\n      <td>Brent</td>\n      <td>Church</td>\n      <td>Park</td>\n      <td>Library</td>\n      <td>University</td>\n      <td>College Academic Building</td>\n      <td>College Classroom</td>\n      <td>Plaza</td>\n      <td>Golf Course</td>\n      <td>Historic Site</td>\n      <td>General Entertainment</td>\n    </tr>\n    <tr>\n      <th>4</th>\n      <td>Bromley</td>\n      <td>Church</td>\n      <td>Park</td>\n      <td>Historic Site</td>\n      <td>Library</td>\n      <td>College Academic Building</td>\n      <td>University</td>\n      <td>Community Center</td>\n      <td>Social Club</td>\n      <td>General College &amp; University</td>\n      <td>Outdoor Sculpture</td>\n    </tr>\n    <tr>\n      <th>6</th>\n      <td>Croydon</td>\n      <td>Church</td>\n      <td>Park</td>\n      <td>Library</td>\n      <td>College Classroom</td>\n      <td>Theater</td>\n      <td>College Academic Building</td>\n      <td>Art Gallery</td>\n      <td>University</td>\n      <td>Community Center</td>\n      <td>Plaza</td>\n    </tr>\n    <tr>\n      <th>7</th>\n      <td>Ealing</td>\n      <td>Church</td>\n      <td>Park</td>\n      <td>Library</td>\n      <td>College Academic Building</td>\n      <td>University</td>\n      <td>Bridge</td>\n      <td>General College &amp; University</td>\n      <td>Soccer Field</td>\n      <td>Gym / Fitness Center</td>\n      <td>General Entertainment</td>\n    </tr>\n    <tr>\n      <th>8</th>\n      <td>Enfield</td>\n      <td>Church</td>\n      <td>Park</td>\n      <td>Library</td>\n      <td>College Academic Building</td>\n      <td>General College &amp; University</td>\n      <td>Art Gallery</td>\n      <td>Garden</td>\n      <td>University</td>\n      <td>Gym / Fitness Center</td>\n      <td>Tennis Court</td>\n    </tr>\n    <tr>\n      <th>13</th>\n      <td>Harrow</td>\n      <td>Church</td>\n      <td>Park</td>\n      <td>Library</td>\n      <td>College Academic Building</td>\n      <td>General College &amp; University</td>\n      <td>Gym / Fitness Center</td>\n      <td>Mosque</td>\n      <td>General Entertainment</td>\n      <td>Spiritual Center</td>\n      <td>Soccer Stadium</td>\n    </tr>\n    <tr>\n      <th>14</th>\n      <td>Havering</td>\n      <td>Church</td>\n      <td>Park</td>\n      <td>College Academic Building</td>\n      <td>Library</td>\n      <td>Social Club</td>\n      <td>General College &amp; University</td>\n      <td>College Classroom</td>\n      <td>Gym / Fitness Center</td>\n      <td>Music Venue</td>\n      <td>Other Great Outdoors</td>\n    </tr>\n    <tr>\n      <th>15</th>\n      <td>Hillingdon</td>\n      <td>Church</td>\n      <td>Park</td>\n      <td>Library</td>\n      <td>College Academic Building</td>\n      <td>Historic Site</td>\n      <td>Other Great Outdoors</td>\n      <td>University</td>\n      <td>Outdoor Sculpture</td>\n      <td>Sports Club</td>\n      <td>Music Venue</td>\n    </tr>\n    <tr>\n      <th>16</th>\n      <td>Hounslow</td>\n      <td>Church</td>\n      <td>Park</td>\n      <td>Gym</td>\n      <td>Library</td>\n      <td>Historic Site</td>\n      <td>College Academic Building</td>\n      <td>Playground</td>\n      <td>General College &amp; University</td>\n      <td>Garden</td>\n      <td>General Entertainment</td>\n    </tr>\n    <tr>\n      <th>19</th>\n      <td>Kingston upon Thames</td>\n      <td>Church</td>\n      <td>Park</td>\n      <td>Library</td>\n      <td>College Academic Building</td>\n      <td>University</td>\n      <td>Gym / Fitness Center</td>\n      <td>College Classroom</td>\n      <td>Athletics &amp; Sports</td>\n      <td>Playground</td>\n      <td>Gym</td>\n    </tr>\n    <tr>\n      <th>22</th>\n      <td>Merton</td>\n      <td>Church</td>\n      <td>Park</td>\n      <td>Tennis Court</td>\n      <td>Library</td>\n      <td>College Academic Building</td>\n      <td>University</td>\n      <td>General Entertainment</td>\n      <td>Theater</td>\n      <td>Gym</td>\n      <td>Plaza</td>\n    </tr>\n    <tr>\n      <th>24</th>\n      <td>Redbridge</td>\n      <td>Church</td>\n      <td>Park</td>\n      <td>Gym / Fitness Center</td>\n      <td>Library</td>\n      <td>General College &amp; University</td>\n      <td>Social Club</td>\n      <td>College Academic Building</td>\n      <td>Community Center</td>\n      <td>Art Gallery</td>\n      <td>Pub</td>\n    </tr>\n    <tr>\n      <th>27</th>\n      <td>Sutton</td>\n      <td>Church</td>\n      <td>Park</td>\n      <td>Library</td>\n      <td>College Academic Building</td>\n      <td>Historic Site</td>\n      <td>General Entertainment</td>\n      <td>Playground</td>\n      <td>Art Gallery</td>\n      <td>University</td>\n      <td>Gym / Fitness Center</td>\n    </tr>\n    <tr>\n      <th>29</th>\n      <td>Waltham Forest</td>\n      <td>Church</td>\n      <td>Park</td>\n      <td>Library</td>\n      <td>University</td>\n      <td>College Academic Building</td>\n      <td>Gym</td>\n      <td>Mosque</td>\n      <td>Gym / Fitness Center</td>\n      <td>General Entertainment</td>\n      <td>Plaza</td>\n    </tr>\n  </tbody>\n</table>\n</div>"
     },
     "execution_count": 65,
     "metadata": {},
     "output_type": "execute_result"
    }
   ],
   "source": [
    "london2.loc[london2['Cluster Labels'] == 1, london2.columns[[0] + list(range(7, london2.shape[1]))]]"
   ],
   "metadata": {
    "collapsed": false,
    "pycharm": {
     "name": "#%%\n"
    }
   }
  },
  {
   "cell_type": "code",
   "execution_count": 66,
   "outputs": [
    {
     "data": {
      "text/plain": "                Borough  Population  longitude  latitude  Total_Crime  \\\n0  Barking and Dagenham      212906   0.129506   51.5455        39456   \n1                Barnet      395896  -0.218210   51.6111        59167   \n2                Bexley      248287   0.146212   51.4582        33929   \n3                 Brent      329771  -0.275680   51.5644        59257   \n4               Bromley      332336   0.039246   51.3727        47499   \n\n   Crime_Rate  Cluster Labels 1st Most Common Venue 2nd Most Common Venue  \\\n0    18532.12               1                Church                  Park   \n1    14945.09               1                Church                  Park   \n2    13665.23               1                Church                  Park   \n3    17969.14               1                Church                  Park   \n4    14292.46               1                Church                  Park   \n\n  3rd Most Common Venue         4th Most Common Venue  \\\n0           Social Club     College Academic Building   \n1               Library  General College & University   \n2               Library                 Historic Site   \n3               Library                    University   \n4         Historic Site                       Library   \n\n       5th Most Common Venue         6th Most Common Venue  \\\n0                    Library  General College & University   \n1  College Academic Building          Gym / Fitness Center   \n2  College Academic Building                   Social Club   \n3  College Academic Building             College Classroom   \n4  College Academic Building                    University   \n\n          7th Most Common Venue 8th Most Common Venue  \\\n0          Gym / Fitness Center            University   \n1                         Plaza           Social Club   \n2  General College & University      Community Center   \n3                         Plaza           Golf Course   \n4              Community Center           Social Club   \n\n          9th Most Common Venue 10th Most Common Venue    Cluster Names  \n0                   Art Gallery       Community Center  Sensible London  \n1                        Garden             University  Sensible London  \n2                    University   Gym / Fitness Center  Sensible London  \n3                 Historic Site  General Entertainment  Sensible London  \n4  General College & University      Outdoor Sculpture  Sensible London  ",
      "text/html": "<div>\n<style scoped>\n    .dataframe tbody tr th:only-of-type {\n        vertical-align: middle;\n    }\n\n    .dataframe tbody tr th {\n        vertical-align: top;\n    }\n\n    .dataframe thead th {\n        text-align: right;\n    }\n</style>\n<table border=\"1\" class=\"dataframe\">\n  <thead>\n    <tr style=\"text-align: right;\">\n      <th></th>\n      <th>Borough</th>\n      <th>Population</th>\n      <th>longitude</th>\n      <th>latitude</th>\n      <th>Total_Crime</th>\n      <th>Crime_Rate</th>\n      <th>Cluster Labels</th>\n      <th>1st Most Common Venue</th>\n      <th>2nd Most Common Venue</th>\n      <th>3rd Most Common Venue</th>\n      <th>4th Most Common Venue</th>\n      <th>5th Most Common Venue</th>\n      <th>6th Most Common Venue</th>\n      <th>7th Most Common Venue</th>\n      <th>8th Most Common Venue</th>\n      <th>9th Most Common Venue</th>\n      <th>10th Most Common Venue</th>\n      <th>Cluster Names</th>\n    </tr>\n  </thead>\n  <tbody>\n    <tr>\n      <th>0</th>\n      <td>Barking and Dagenham</td>\n      <td>212906</td>\n      <td>0.129506</td>\n      <td>51.5455</td>\n      <td>39456</td>\n      <td>18532.12</td>\n      <td>1</td>\n      <td>Church</td>\n      <td>Park</td>\n      <td>Social Club</td>\n      <td>College Academic Building</td>\n      <td>Library</td>\n      <td>General College &amp; University</td>\n      <td>Gym / Fitness Center</td>\n      <td>University</td>\n      <td>Art Gallery</td>\n      <td>Community Center</td>\n      <td>Sensible London</td>\n    </tr>\n    <tr>\n      <th>1</th>\n      <td>Barnet</td>\n      <td>395896</td>\n      <td>-0.218210</td>\n      <td>51.6111</td>\n      <td>59167</td>\n      <td>14945.09</td>\n      <td>1</td>\n      <td>Church</td>\n      <td>Park</td>\n      <td>Library</td>\n      <td>General College &amp; University</td>\n      <td>College Academic Building</td>\n      <td>Gym / Fitness Center</td>\n      <td>Plaza</td>\n      <td>Social Club</td>\n      <td>Garden</td>\n      <td>University</td>\n      <td>Sensible London</td>\n    </tr>\n    <tr>\n      <th>2</th>\n      <td>Bexley</td>\n      <td>248287</td>\n      <td>0.146212</td>\n      <td>51.4582</td>\n      <td>33929</td>\n      <td>13665.23</td>\n      <td>1</td>\n      <td>Church</td>\n      <td>Park</td>\n      <td>Library</td>\n      <td>Historic Site</td>\n      <td>College Academic Building</td>\n      <td>Social Club</td>\n      <td>General College &amp; University</td>\n      <td>Community Center</td>\n      <td>University</td>\n      <td>Gym / Fitness Center</td>\n      <td>Sensible London</td>\n    </tr>\n    <tr>\n      <th>3</th>\n      <td>Brent</td>\n      <td>329771</td>\n      <td>-0.275680</td>\n      <td>51.5644</td>\n      <td>59257</td>\n      <td>17969.14</td>\n      <td>1</td>\n      <td>Church</td>\n      <td>Park</td>\n      <td>Library</td>\n      <td>University</td>\n      <td>College Academic Building</td>\n      <td>College Classroom</td>\n      <td>Plaza</td>\n      <td>Golf Course</td>\n      <td>Historic Site</td>\n      <td>General Entertainment</td>\n      <td>Sensible London</td>\n    </tr>\n    <tr>\n      <th>4</th>\n      <td>Bromley</td>\n      <td>332336</td>\n      <td>0.039246</td>\n      <td>51.3727</td>\n      <td>47499</td>\n      <td>14292.46</td>\n      <td>1</td>\n      <td>Church</td>\n      <td>Park</td>\n      <td>Historic Site</td>\n      <td>Library</td>\n      <td>College Academic Building</td>\n      <td>University</td>\n      <td>Community Center</td>\n      <td>Social Club</td>\n      <td>General College &amp; University</td>\n      <td>Outdoor Sculpture</td>\n      <td>Sensible London</td>\n    </tr>\n  </tbody>\n</table>\n</div>"
     },
     "execution_count": 66,
     "metadata": {},
     "output_type": "execute_result"
    }
   ],
   "source": [
    "# add my names to the df\n",
    "labels = {0: \"Fun London\", 1: \"Sensible London\"}\n",
    "\n",
    "london2['Cluster Names'] = london2['Cluster Labels'].map(labels)\n",
    "london2.head()\n"
   ],
   "metadata": {
    "collapsed": false,
    "pycharm": {
     "name": "#%%\n"
    }
   }
  },
  {
   "cell_type": "code",
   "execution_count": 67,
   "outputs": [],
   "source": [
    "# save it locally for later\n",
    "london2.to_csv('london2.csv', index=False)"
   ],
   "metadata": {
    "collapsed": false,
    "pycharm": {
     "name": "#%%\n"
    }
   }
  },
  {
   "cell_type": "markdown",
   "source": [
    "### Mapping the crime rate and clusters"
   ],
   "metadata": {
    "collapsed": false,
    "pycharm": {
     "name": "#%% md\n"
    }
   }
  },
  {
   "cell_type": "code",
   "execution_count": 68,
   "outputs": [],
   "source": [
    "london_geox = gpd.read_file('gb_boroughs.json')\n",
    "# London's starting coords from google\n",
    "london_map = folium.Map(location=[51.5074, -0.1278], zoom_start=10)"
   ],
   "metadata": {
    "collapsed": false,
    "pycharm": {
     "name": "#%%\n"
    }
   }
  },
  {
   "cell_type": "code",
   "execution_count": null,
   "outputs": [],
   "source": [
    "# dividing the crime rate into 3 bins, low, medium and high\n",
    "\n",
    "bins = list(london2[\"Crime_Rate\"].quantile([0, 1/3, 2/3, 1]))\n",
    "\n",
    "folium.Choropleth(\n",
    "    geo_data=london_geox,\n",
    "    data=london2,\n",
    "    columns=['Borough', 'Crime_Rate'],\n",
    "    key_on='feature.properties.name',\n",
    "    fill_color='BuPu',\n",
    "    fill_opacity=0.4,\n",
    "    line_opacity=0.5,\n",
    "    bins=bins,\n",
    "    nan_fill_color='black',\n",
    "    nan_fill_opacity=0.7,\n",
    "    legend_name='Crime Rates in London'\n",
    ").add_to(london_map)"
   ],
   "metadata": {
    "collapsed": false,
    "pycharm": {
     "name": "#%%\n"
    }
   }
  },
  {
   "cell_type": "markdown",
   "source": [
    "### London Map showing crime rates"
   ],
   "metadata": {
    "collapsed": false,
    "pycharm": {
     "name": "#%% md\n"
    }
   }
  },
  {
   "cell_type": "code",
   "execution_count": 69,
   "outputs": [],
   "source": [
    "# london_map\n"
   ],
   "metadata": {
    "collapsed": false,
    "pycharm": {
     "name": "#%%\n"
    }
   }
  },
  {
   "cell_type": "markdown",
   "source": [
    "#### Adding categories to map\n",
    "\n"
   ],
   "metadata": {
    "collapsed": false,
    "pycharm": {
     "name": "#%% md\n"
    }
   }
  },
  {
   "cell_type": "code",
   "execution_count": 70,
   "outputs": [],
   "source": [
    "# set color scheme for the clusters\n",
    "x = np.arange(4)\n",
    "ys = [i + x + (i*x)**2 for i in range(4)]\n",
    "colors_array = cm.rainbow(np.linspace(0, 1, len(ys)))\n",
    "rainbow = [colors.rgb2hex(i) for i in colors_array]\n",
    "\n",
    "# add markers to the map\n",
    "markers_colors = []\n",
    "for lat, lon, poi, cluster, name in zip(london2['latitude'], london2['longitude'], london2['Borough'], london2['Cluster Labels'], london2['Cluster Names']):\n",
    "    label = folium.Popup(str(poi) + ' Cluster ' + str(name), parse_html=True)\n",
    "    folium.CircleMarker(\n",
    "        [lat, lon],\n",
    "        radius=5,\n",
    "        popup=label,\n",
    "        color=rainbow[cluster-1],\n",
    "        fill=True,\n",
    "        fill_color=rainbow[cluster-1],\n",
    "        fill_opacity=0.7).add_to(london_map)"
   ],
   "metadata": {
    "collapsed": false,
    "pycharm": {
     "name": "#%%\n"
    }
   }
  },
  {
   "cell_type": "markdown",
   "source": [
    "### London Map, with crime rate and markers showing borough category\n"
   ],
   "metadata": {
    "collapsed": false,
    "pycharm": {
     "name": "#%% md\n"
    }
   }
  },
  {
   "cell_type": "code",
   "execution_count": 71,
   "outputs": [],
   "source": [
    "# london_map"
   ],
   "metadata": {
    "collapsed": false,
    "pycharm": {
     "name": "#%%\n"
    }
   }
  },
  {
   "cell_type": "markdown",
   "source": [
    "As you can see from the map, I might as well have named the clusters Inner and Outer London!\n",
    "\n",
    "However, there does seem to be some correlation with crime rates, so I will do a test to be sure.\n",
    "\n",
    "As there are only two clusters, I will do a T test.\n",
    "\n",
    "The null hypothesis is that there is no difference between the mean crime rates for the two clusters."
   ],
   "metadata": {
    "collapsed": false,
    "pycharm": {
     "name": "#%% md\n"
    }
   }
  },
  {
   "cell_type": "code",
   "execution_count": 77,
   "outputs": [
    {
     "data": {
      "text/plain": "<seaborn.axisgrid.FacetGrid at 0x1dd40a5dd60>"
     },
     "execution_count": 77,
     "metadata": {},
     "output_type": "execute_result"
    },
    {
     "data": {
      "text/plain": "<Figure size 360x360 with 1 Axes>",
      "image/png": "[encoded data removed]"
     },
     "metadata": {},
     "output_type": "display_data"
    }
   ],
   "source": [
    "# Check for normal(ish) distribution\n",
    "ax = sns.displot(london_crimes['Crime_Rate'],\n",
    "                  kind=\"kde\",\n",
    "                  color='red')\n",
    "ax.set(xlabel='Normal Distribution', ylabel='Frequency')"
   ],
   "metadata": {
    "collapsed": false,
    "pycharm": {
     "name": "#%%\n"
    }
   }
  },
  {
   "cell_type": "code",
   "execution_count": 79,
   "outputs": [
    {
     "data": {
      "text/plain": "LeveneResult(statistic=2.7959206922869164, pvalue=0.10490417325634456)"
     },
     "execution_count": 79,
     "metadata": {},
     "output_type": "execute_result"
    }
   ],
   "source": [
    "# do levene's test of equal variance to check for, um, equal variance!\n",
    "group1 = london2.loc[london2['Cluster Labels'] == 0, 'Crime_Rate']\n",
    "group2 = london2.loc[london2['Cluster Labels'] == 1, 'Crime_Rate']\n",
    "\n",
    "scipy.stats.levene(group1, group2, center='mean')"
   ],
   "metadata": {
    "collapsed": false,
    "pycharm": {
     "name": "#%%\n"
    }
   }
  },
  {
   "cell_type": "code",
   "execution_count": 80,
   "outputs": [
    {
     "data": {
      "text/plain": "Ttest_indResult(statistic=3.3774381946559893, pvalue=0.0020411064947291136)"
     },
     "execution_count": 80,
     "metadata": {},
     "output_type": "execute_result"
    }
   ],
   "source": [
    "# as p > 0.05, variances are equal\n",
    "# Finally, the t test!\n",
    "scipy.stats.ttest_ind(group1, group2, equal_var=True)\n"
   ],
   "metadata": {
    "collapsed": false,
    "pycharm": {
     "name": "#%%\n"
    }
   }
  },
  {
   "cell_type": "markdown",
   "source": [
    "As p < 0.05, we **reject** the null hypothesis.\n",
    "\n",
    "**There is a difference between the mean crime rates of the clusters.**\n",
    "\n",
    "From the map 'Fun London' has a higher crime rate than 'Sensible London'."
   ],
   "metadata": {
    "collapsed": false,
    "pycharm": {
     "name": "#%% md\n"
    }
   }
  },
  {
   "cell_type": "markdown",
   "source": [
    "## Results and Discussion <a name=\"results\"></a>"
   ],
   "metadata": {
    "collapsed": false,
    "pycharm": {
     "name": "#%% md\n"
    }
   }
  },
  {
   "cell_type": "markdown",
   "source": [
    "From our results and tests, we have shown relationships between both the number of venues and the types of venues, and crime rates in the area.\n",
    "\n",
    "There is a positive correlation between the total number of venues, and the number of each type of venues per capita, and the crime rate.\n",
    "\n",
    "But, this does not mean that to lower crime rates we should be tearing down our amenities.\n",
    "\n",
    "**Correlation does not equal causation!**\n",
    "\n",
    "Just because I have shown two things are correlated, it does not mean that one thing caused the other.\n",
    "\n",
    "In this case, I would say it is highly unlikely to be true.\n",
    "\n",
    "While it was interesting to try this approach, there are many other factors that impact on crime rates, such as poverty or drug use.\n",
    "\n",
    "It may also be my list of venues was too broad, and I really needed to be able to focus on places intended for young people such as community centres or youth clubs, which was not possible at this time. Perhaps I also needed to focus more specifically on the types of crime committed by younger people. Were stakeholders interested in repeating this study, that is how I would set it up in the future.\n",
    "\n",
    "I also found a correlation between the types of venues in Fun London (more music venues, theatres and art galleries) and a higher crime rate, and between the types of venues in Sensible London (Gyms, Sports Fields and Study types) and lower crime rates.\n",
    "\n",
    "In this case correlation may indeed be causation! But not quite in the way the study meant.\n",
    "\n",
    "Rather than providing 'things to do', these 'fun' venues are more likely attracting visitors from outside the area, and in central London, which is all in 'Fun London', many tourists.\n",
    "\n",
    "Tourists are more likely to be victims of crimes, as are people slightly the worse for wear at music venues and theatres!\n",
    "\n",
    "Perhaps to reduce crime, without tearing down venues providing income, patrols in these areas need to be increased.\n",
    "\n"
   ],
   "metadata": {
    "collapsed": false,
    "pycharm": {
     "name": "#%% md\n"
    }
   }
  },
  {
   "cell_type": "markdown",
   "source": [
    "## Conclusion <a name=\"results\"></a>\n",
    "\n",
    "The main lesson from this is that causes behind crime rates are more complicated than can be easily discovered by simply looking at one factor.\n",
    "\n",
    "Should stakeholders wish to investigate further, I would suggest refining the study to specific types of venues most suitable for young people, and those types of crime committed mostly by young people.\n"
   ],
   "metadata": {
    "collapsed": false,
    "pycharm": {
     "name": "#%% md\n"
    }
   }
  }
 ],
 "metadata": {
  "kernelspec": {
   "name": "ibm_capstone",
   "language": "python",
   "display_name": "Python (IBM_capstone)"
  },
  "language_info": {
   "codemirror_mode": {
    "name": "ipython",
    "version": 2
   },
   "file_extension": ".py",
   "mimetype": "text/x-python",
   "name": "python",
   "nbconvert_exporter": "python",
   "pygments_lexer": "ipython2",
   "version": "2.7.6"
  }
 },
 "nbformat": 4,
 "nbformat_minor": 0
}