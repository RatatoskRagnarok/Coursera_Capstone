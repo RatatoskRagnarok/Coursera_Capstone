{
 "cells": [
  {
   "cell_type": "markdown",
   "metadata": {
    "collapsed": true,
    "pycharm": {
     "name": "#%% md\n"
    }
   },
   "source": [
    "# Data"
   ]
  },
  {
   "cell_type": "markdown",
   "source": [
    "The data for my project will come from a variety of sources:\n",
    "\n",
    "## Location data\n",
    "- Foursquare\n",
    "    - For the data on hospitals in each zipcode of each county for New York and Kansas. Unsure yet if I will also collect data on doctor's offices.\n",
    "    - The data will need to be cleaned as sometimes there are multiple entries for each hospital, including separate wards and waiting areas.\n",
    "    - Depending on the radius, some searches may overlap, so I may need to discard duplicates.\n",
    "    - Here is an example of data from foursquare about a doctor's office:\n",
    "    ![data image](doc_data.jpg)\n",
    "\n",
    "- Economic Research Service, US Dept of Agriculture\n",
    "    - They have a listing of all counties in the US, and whether they are classed as 'metropolitan' or 'non-metropolitan' according to the 2013 Rural-Urban Continuum Codes from the Office of Management and Budget (OMB).\n",
    "    - I will be using this to determine which counties in New York and Kansas count as urban - metropolitan, or rural - non-metropolitan\n",
    "    - For more information, click [here](https://www.ers.usda.gov/data-products/rural-urban-continuum-codes/)\n",
    "    - Example of data:\n",
    "    ![data image](ruralurban.jpg)\n",
    "\n",
    "- https://public.opendatasoft.com/\n",
    "    - provided a geojson of the county boundaries in New York and Kansas, which can be used during visualisations\n",
    "    - provided a list of coordinates for all zip codes in New York and Kansas\n",
    "    - Example of data:\n",
    "    ![data image](coords.jpg)\n",
    "\n",
    "- https://www.unitedstateszipcodes.org/\n",
    "    - provided a csv file linking zip codes to counties\n",
    "    - Example of data:\n",
    "    ![data image](zipcodes.jpg)\n",
    "\n",
    "In combination this data means I can find out which counties are urban and rural.\n",
    "I can find the zip codes in each county, and then the coordinates for each zip code.\n",
    "I can pass those to Foursquare and get a list of hospitals in those zip codes.\n",
    "Once the data has been cleaned and processed, I will have a count of the number of hospitals per county, and per state.\n",
    "\n",
    "## Covid19 data\n",
    "\n",
    "- [Covid19 Tracking Project](https://github.com/COVID19Tracking)\n",
    "    - provided US population data, for states and counties\n",
    "    - Example of data:\n",
    "    ![data image](state_census.jpg)\n",
    "    - Example of data:\n",
    "    ![data image](county_census.jpg)\n",
    "- [New York Times Covid Tracker](https://github.com/nytimes/covid-19-data)\n",
    "    - provided the data on deaths per state and county\n",
    "    - Example of data:\n",
    "    ![data image](state_deaths.jpg)\n",
    "    - Example of data:\n",
    "    ![data image](county_deaths.jpg)\n",
    "\n",
    "Having both allows me to calculate death rates per 100k people."
   ],
   "metadata": {
    "collapsed": false,
    "pycharm": {
     "name": "#%% md\n"
    }
   }
  }
 ],
 "metadata": {
  "kernelspec": {
   "name": "ibm_capstone",
   "language": "python",
   "display_name": "Python (IBM_capstone)"
  },
  "language_info": {
   "codemirror_mode": {
    "name": "ipython",
    "version": 2
   },
   "file_extension": ".py",
   "mimetype": "text/x-python",
   "name": "python",
   "nbconvert_exporter": "python",
   "pygments_lexer": "ipython2",
   "version": "2.7.6"
  }
 },
 "nbformat": 4,
 "nbformat_minor": 0
}