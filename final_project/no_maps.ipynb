{
 "cells": [
  {
   "cell_type": "code",
   "execution_count": 62,
   "metadata": {
    "collapsed": true
   },
   "outputs": [],
   "source": [
    "from math import sqrt\n",
    "import pandas as pd\n",
    "import json\n",
    "import requests\n",
    "import random\n",
    "import folium\n",
    "from shapely.geometry import Point\n",
    "from shapely.geometry import shape\n",
    "import numpy as np"
   ]
  },
  {
   "cell_type": "code",
   "execution_count": 2,
   "outputs": [],
   "source": [
    "# Foursquare credentials\n",
    "with open('credentials.json') as f:\n",
    "    creds = json.load(f)\n",
    "\n",
    "    CLIENT_ID = creds[0]['CLIENT_ID']\n",
    "    CLIENT_SECRET = creds[0]['CLIENT_SECRET']\n",
    "\n",
    "VERSION =  \"20200101\"\n",
    "LIMIT = 50"
   ],
   "metadata": {
    "collapsed": false,
    "pycharm": {
     "name": "#%%\n"
    }
   }
  },
  {
   "cell_type": "code",
   "execution_count": 3,
   "outputs": [
    {
     "data": {
      "text/plain": "                      Geo Point  \\\n0  39.7847564917,-100.459899544   \n1  38.4561871377,-96.1526397502   \n2   43.560975208,-73.8460059552   \n3  37.2372753377,-97.4765502094   \n4   42.781081385,-76.8237785954   \n\n                                           Geo Shape  STATEFP  COUNTYFP  \\\n0  {\"type\": \"Polygon\", \"coordinates\": [[[-100.740...       20        39   \n1  {\"type\": \"Polygon\", \"coordinates\": [[[-96.3543...       20       111   \n2  {\"type\": \"Polygon\", \"coordinates\": [[[-74.1825...       36       113   \n3  {\"type\": \"Polygon\", \"coordinates\": [[[-97.8045...       20       191   \n4  {\"type\": \"Polygon\", \"coordinates\": [[[-76.9635...       36        99   \n\n   COUNTYNS  GEOID     NAME        NAMELSAD STUSAB  LSAD  ...  CSAFP   CBSAFP  \\\n0    484989  20039  Decatur  Decatur County     KS     6  ...    NaN      NaN   \n1    485020  20111     Lyon     Lyon County     KS     6  ...    NaN  21380.0   \n2    974154  36113   Warren   Warren County     NY     6  ...  104.0  24020.0   \n3    481812  20191   Sumner   Sumner County     KS     6  ...  556.0  48620.0   \n4    974147  36099   Seneca   Seneca County     NY     6  ...  464.0  42900.0   \n\n   METDIVFP  FUNCSTAT       ALAND     AWATER   INTPTLAT    INTPTLON  \\\n0       NaN         A  2314199329    1631670  39.783542 -100.459708   \n1       NaN         A  2194978406   20541643  38.455403  -96.161641   \n2       NaN         A  2246082355  166754989  43.555105  -73.838139   \n3       NaN         A  3060472194    8546399  37.236662  -97.493352   \n4       NaN         A   838403628  172828921  42.782294  -76.827088   \n\n   STATE_NAME  COUNTYFP NOZERO  \n0      Kansas               39  \n1      Kansas              111  \n2    New York              113  \n3      Kansas              191  \n4    New York               99  \n\n[5 rows x 22 columns]",
      "text/html": "<div>\n<style scoped>\n    .dataframe tbody tr th:only-of-type {\n        vertical-align: middle;\n    }\n\n    .dataframe tbody tr th {\n        vertical-align: top;\n    }\n\n    .dataframe thead th {\n        text-align: right;\n    }\n</style>\n<table border=\"1\" class=\"dataframe\">\n  <thead>\n    <tr style=\"text-align: right;\">\n      <th></th>\n      <th>Geo Point</th>\n      <th>Geo Shape</th>\n      <th>STATEFP</th>\n      <th>COUNTYFP</th>\n      <th>COUNTYNS</th>\n      <th>GEOID</th>\n      <th>NAME</th>\n      <th>NAMELSAD</th>\n      <th>STUSAB</th>\n      <th>LSAD</th>\n      <th>...</th>\n      <th>CSAFP</th>\n      <th>CBSAFP</th>\n      <th>METDIVFP</th>\n      <th>FUNCSTAT</th>\n      <th>ALAND</th>\n      <th>AWATER</th>\n      <th>INTPTLAT</th>\n      <th>INTPTLON</th>\n      <th>STATE_NAME</th>\n      <th>COUNTYFP NOZERO</th>\n    </tr>\n  </thead>\n  <tbody>\n    <tr>\n      <th>0</th>\n      <td>39.7847564917,-100.459899544</td>\n      <td>{\"type\": \"Polygon\", \"coordinates\": [[[-100.740...</td>\n      <td>20</td>\n      <td>39</td>\n      <td>484989</td>\n      <td>20039</td>\n      <td>Decatur</td>\n      <td>Decatur County</td>\n      <td>KS</td>\n      <td>6</td>\n      <td>...</td>\n      <td>NaN</td>\n      <td>NaN</td>\n      <td>NaN</td>\n      <td>A</td>\n      <td>2314199329</td>\n      <td>1631670</td>\n      <td>39.783542</td>\n      <td>-100.459708</td>\n      <td>Kansas</td>\n      <td>39</td>\n    </tr>\n    <tr>\n      <th>1</th>\n      <td>38.4561871377,-96.1526397502</td>\n      <td>{\"type\": \"Polygon\", \"coordinates\": [[[-96.3543...</td>\n      <td>20</td>\n      <td>111</td>\n      <td>485020</td>\n      <td>20111</td>\n      <td>Lyon</td>\n      <td>Lyon County</td>\n      <td>KS</td>\n      <td>6</td>\n      <td>...</td>\n      <td>NaN</td>\n      <td>21380.0</td>\n      <td>NaN</td>\n      <td>A</td>\n      <td>2194978406</td>\n      <td>20541643</td>\n      <td>38.455403</td>\n      <td>-96.161641</td>\n      <td>Kansas</td>\n      <td>111</td>\n    </tr>\n    <tr>\n      <th>2</th>\n      <td>43.560975208,-73.8460059552</td>\n      <td>{\"type\": \"Polygon\", \"coordinates\": [[[-74.1825...</td>\n      <td>36</td>\n      <td>113</td>\n      <td>974154</td>\n      <td>36113</td>\n      <td>Warren</td>\n      <td>Warren County</td>\n      <td>NY</td>\n      <td>6</td>\n      <td>...</td>\n      <td>104.0</td>\n      <td>24020.0</td>\n      <td>NaN</td>\n      <td>A</td>\n      <td>2246082355</td>\n      <td>166754989</td>\n      <td>43.555105</td>\n      <td>-73.838139</td>\n      <td>New York</td>\n      <td>113</td>\n    </tr>\n    <tr>\n      <th>3</th>\n      <td>37.2372753377,-97.4765502094</td>\n      <td>{\"type\": \"Polygon\", \"coordinates\": [[[-97.8045...</td>\n      <td>20</td>\n      <td>191</td>\n      <td>481812</td>\n      <td>20191</td>\n      <td>Sumner</td>\n      <td>Sumner County</td>\n      <td>KS</td>\n      <td>6</td>\n      <td>...</td>\n      <td>556.0</td>\n      <td>48620.0</td>\n      <td>NaN</td>\n      <td>A</td>\n      <td>3060472194</td>\n      <td>8546399</td>\n      <td>37.236662</td>\n      <td>-97.493352</td>\n      <td>Kansas</td>\n      <td>191</td>\n    </tr>\n    <tr>\n      <th>4</th>\n      <td>42.781081385,-76.8237785954</td>\n      <td>{\"type\": \"Polygon\", \"coordinates\": [[[-76.9635...</td>\n      <td>36</td>\n      <td>99</td>\n      <td>974147</td>\n      <td>36099</td>\n      <td>Seneca</td>\n      <td>Seneca County</td>\n      <td>NY</td>\n      <td>6</td>\n      <td>...</td>\n      <td>464.0</td>\n      <td>42900.0</td>\n      <td>NaN</td>\n      <td>A</td>\n      <td>838403628</td>\n      <td>172828921</td>\n      <td>42.782294</td>\n      <td>-76.827088</td>\n      <td>New York</td>\n      <td>99</td>\n    </tr>\n  </tbody>\n</table>\n<p>5 rows × 22 columns</p>\n</div>"
     },
     "execution_count": 3,
     "metadata": {},
     "output_type": "execute_result"
    }
   ],
   "source": [
    "geo_df = pd.read_csv('us-county-boundaries.csv', sep=';')\n",
    "geo_df.head()"
   ],
   "metadata": {
    "collapsed": false,
    "pycharm": {
     "name": "#%%\n"
    }
   }
  },
  {
   "cell_type": "code",
   "execution_count": 4,
   "outputs": [
    {
     "data": {
      "text/plain": "  state_name state          county                     Geo Point  \\\n0     Kansas    KS  Decatur County  39.7847564917,-100.459899544   \n1     Kansas    KS     Lyon County  38.4561871377,-96.1526397502   \n2   New York    NY   Warren County   43.560975208,-73.8460059552   \n3     Kansas    KS   Sumner County  37.2372753377,-97.4765502094   \n4   New York    NY   Seneca County   42.781081385,-76.8237785954   \n\n                                           Geo Shape        area  \\\n0  {\"type\": \"Polygon\", \"coordinates\": [[[-100.740...  2315830999   \n1  {\"type\": \"Polygon\", \"coordinates\": [[[-96.3543...  2215520049   \n2  {\"type\": \"Polygon\", \"coordinates\": [[[-74.1825...  2412837344   \n3  {\"type\": \"Polygon\", \"coordinates\": [[[-97.8045...  3069018593   \n4  {\"type\": \"Polygon\", \"coordinates\": [[[-76.9635...  1011232549   \n\n         county_state  \n0  Decatur County, KS  \n1     Lyon County, KS  \n2   Warren County, NY  \n3   Sumner County, KS  \n4   Seneca County, NY  ",
      "text/html": "<div>\n<style scoped>\n    .dataframe tbody tr th:only-of-type {\n        vertical-align: middle;\n    }\n\n    .dataframe tbody tr th {\n        vertical-align: top;\n    }\n\n    .dataframe thead th {\n        text-align: right;\n    }\n</style>\n<table border=\"1\" class=\"dataframe\">\n  <thead>\n    <tr style=\"text-align: right;\">\n      <th></th>\n      <th>state_name</th>\n      <th>state</th>\n      <th>county</th>\n      <th>Geo Point</th>\n      <th>Geo Shape</th>\n      <th>area</th>\n      <th>county_state</th>\n    </tr>\n  </thead>\n  <tbody>\n    <tr>\n      <th>0</th>\n      <td>Kansas</td>\n      <td>KS</td>\n      <td>Decatur County</td>\n      <td>39.7847564917,-100.459899544</td>\n      <td>{\"type\": \"Polygon\", \"coordinates\": [[[-100.740...</td>\n      <td>2315830999</td>\n      <td>Decatur County, KS</td>\n    </tr>\n    <tr>\n      <th>1</th>\n      <td>Kansas</td>\n      <td>KS</td>\n      <td>Lyon County</td>\n      <td>38.4561871377,-96.1526397502</td>\n      <td>{\"type\": \"Polygon\", \"coordinates\": [[[-96.3543...</td>\n      <td>2215520049</td>\n      <td>Lyon County, KS</td>\n    </tr>\n    <tr>\n      <th>2</th>\n      <td>New York</td>\n      <td>NY</td>\n      <td>Warren County</td>\n      <td>43.560975208,-73.8460059552</td>\n      <td>{\"type\": \"Polygon\", \"coordinates\": [[[-74.1825...</td>\n      <td>2412837344</td>\n      <td>Warren County, NY</td>\n    </tr>\n    <tr>\n      <th>3</th>\n      <td>Kansas</td>\n      <td>KS</td>\n      <td>Sumner County</td>\n      <td>37.2372753377,-97.4765502094</td>\n      <td>{\"type\": \"Polygon\", \"coordinates\": [[[-97.8045...</td>\n      <td>3069018593</td>\n      <td>Sumner County, KS</td>\n    </tr>\n    <tr>\n      <th>4</th>\n      <td>New York</td>\n      <td>NY</td>\n      <td>Seneca County</td>\n      <td>42.781081385,-76.8237785954</td>\n      <td>{\"type\": \"Polygon\", \"coordinates\": [[[-76.9635...</td>\n      <td>1011232549</td>\n      <td>Seneca County, NY</td>\n    </tr>\n  </tbody>\n</table>\n</div>"
     },
     "execution_count": 4,
     "metadata": {},
     "output_type": "execute_result"
    }
   ],
   "source": [
    "geo_df = geo_df[['STATE_NAME', 'STUSAB', 'NAMELSAD', 'ALAND', 'AWATER', 'Geo Point', 'Geo Shape']]\n",
    "geo_df['area'] = geo_df['ALAND'] + geo_df['AWATER']\n",
    "geo_df.drop(['ALAND', 'AWATER'], axis=1, inplace=True)\n",
    "geo_df['county_state'] = geo_df['NAMELSAD'] + ', ' + geo_df['STUSAB']\n",
    "geo_df.columns = ['state_name', 'state', 'county', 'Geo Point', 'Geo Shape', 'area', 'county_state']\n",
    "geo_df.head()"
   ],
   "metadata": {
    "collapsed": false,
    "pycharm": {
     "name": "#%%\n"
    }
   }
  },
  {
   "cell_type": "code",
   "execution_count": 40,
   "outputs": [],
   "source": [
    "# functions\n",
    "\n",
    "def generate_random(number, polygon):\n",
    "    list_of_points = []\n",
    "    minx, miny, maxx, maxy = polygon.bounds\n",
    "    counter = 0\n",
    "    while counter < number:\n",
    "        pnt = Point(random.uniform(minx, maxx), random.uniform(miny, maxy))\n",
    "        if polygon.contains(pnt):\n",
    "            coords = pnt.coords.xy\n",
    "            lat = coords[1][0]\n",
    "            lng = coords[0][0]\n",
    "            list_of_points.append([lat, lng])\n",
    "            counter += 1\n",
    "    return list_of_points\n",
    "\n",
    "def get_points(df):\n",
    "    points_list = []\n",
    "    for index, row in df.iterrows():\n",
    "        county = row['county_state']\n",
    "        poly = shape(json.loads(row['Geo Shape']))\n",
    "\n",
    "        number = int(sqrt(row['area'])/50000)\n",
    "        if number < 2:\n",
    "            number = 2\n",
    "\n",
    "        list_of_points = generate_random(number, poly)\n",
    "        points_list.append([county, list_of_points])\n",
    "\n",
    "    return points_list\n",
    "\n",
    "def points_to_df(points_list):\n",
    "    df = pd.DataFrame(columns = ['county', 'latitude', 'longitude'])\n",
    "    for x in range(len(points_list)):\n",
    "        coords =  points_list[x][1]\n",
    "        for i in range(len(coords)):\n",
    "            county = points_list[x][0]\n",
    "            lat = (coords[i][0])\n",
    "            lng = (coords[i][1])\n",
    "\n",
    "            df = df.append({'county': county, 'latitude': lat, 'longitude': lng}, ignore_index=True)\n",
    "    return df\n",
    "\n",
    "def get_hospitals(counties, lats, lngs):\n",
    "    categoryID1 = '4bf58dd8d48988d196941735'  # hospitals\n",
    "    radius = 100000\n",
    "    hospital_list = []\n",
    "    id_list = []\n",
    "    for i in range(len(lats)):\n",
    "        county = counties[i]\n",
    "        lat = lats[i]\n",
    "        lng = lngs[i]\n",
    "\n",
    "        # create the API request URL\n",
    "        url = 'https://api.foursquare.com/v2/venues/search?&client_id={}&client_secret={}&v={}&ll={},{}&radius={}&limit={}&categoryId={}'.format(\n",
    "            CLIENT_ID,\n",
    "            CLIENT_SECRET,\n",
    "            VERSION,\n",
    "            lat,\n",
    "            lng,\n",
    "            radius,\n",
    "            LIMIT,\n",
    "            categoryID1\n",
    "            )\n",
    "        try:\n",
    "            results = requests.get(url).json()[\"response\"]['venues']\n",
    "            # print(results)\n",
    "\n",
    "            # return only relevant information for each nearby venue\n",
    "            for x in range(len(results)):\n",
    "                if check_hospitals(county, results[x]['location']['lat'],\n",
    "                    results[x]['location']['lng']):\n",
    "                    if results[x]['id'] not in id_list:\n",
    "                        id_list.append(results[x]['id'])\n",
    "                        print(results[x]['name'])  # so I don't panic!\n",
    "                        hospital_list.append([(\n",
    "                        county,\n",
    "                        results[x]['name'],\n",
    "                        results[x]['location']['lat'],\n",
    "                        results[x]['location']['lng'],\n",
    "                        )])\n",
    "        except KeyError:\n",
    "            pass\n",
    "    return hospital_list\n",
    "\n",
    "def check_hospitals(county, lat, lon):\n",
    "        point = Point(lon, lat)\n",
    "        poly = geo_df[geo_df['county_state'] == county]['Geo Shape'].item()\n",
    "        poly = shape(json.loads(poly))\n",
    "\n",
    "        if poly.contains(point):\n",
    "            return True\n",
    "        else:\n",
    "            return False\n",
    "\n",
    "\n",
    "def hospital_list_to_df(hospital_list):\n",
    "    df2 = pd.DataFrame(columns=['county', 'hospital', 'latitude', 'longitude'])\n",
    "\n",
    "    for x in range(len(hospital_list)):\n",
    "        county = hospital_list[x][0][0]\n",
    "        hospital = hospital_list[x][0][1]\n",
    "        latitude = hospital_list[x][0][2]\n",
    "        longitude = hospital_list[x][0][3]\n",
    "\n",
    "        # if check_hospitals(county, latitude, longitude):\n",
    "        df2 = df2.append({'county': county, 'hospital': hospital, 'latitude': latitude, 'longitude': longitude}, ignore_index=True)\n",
    "\n",
    "\n",
    "    df2.drop_duplicates(subset=['latitude', 'longitude'], keep='last', inplace=True)\n",
    "\n",
    "    return df2\n"
   ],
   "metadata": {
    "collapsed": false,
    "pycharm": {
     "name": "#%%\n"
    }
   }
  },
  {
   "cell_type": "code",
   "execution_count": 24,
   "outputs": [
    {
     "data": {
      "text/plain": "   state_name state          county                     Geo Point  \\\n2    New York    NY   Warren County   43.560975208,-73.8460059552   \n4    New York    NY   Seneca County   42.781081385,-76.8237785954   \n5    New York    NY   Greene County  42.2765197661,-74.1227065013   \n8    New York    NY  Wyoming County  42.7023842075,-78.2244395122   \n10   New York    NY   Orange County   41.402131202,-74.3055376374   \n\n                                            Geo Shape        area  \\\n2   {\"type\": \"Polygon\", \"coordinates\": [[[-74.1825...  2412837344   \n4   {\"type\": \"Polygon\", \"coordinates\": [[[-76.9635...  1011232549   \n5   {\"type\": \"Polygon\", \"coordinates\": [[[-74.4796...  1704341556   \n8   {\"type\": \"Polygon\", \"coordinates\": [[[-78.4638...  1544377612   \n10  {\"type\": \"Polygon\", \"coordinates\": [[[-74.5297...  2171992499   \n\n          county_state  \n2    Warren County, NY  \n4    Seneca County, NY  \n5    Greene County, NY  \n8   Wyoming County, NY  \n10   Orange County, NY  ",
      "text/html": "<div>\n<style scoped>\n    .dataframe tbody tr th:only-of-type {\n        vertical-align: middle;\n    }\n\n    .dataframe tbody tr th {\n        vertical-align: top;\n    }\n\n    .dataframe thead th {\n        text-align: right;\n    }\n</style>\n<table border=\"1\" class=\"dataframe\">\n  <thead>\n    <tr style=\"text-align: right;\">\n      <th></th>\n      <th>state_name</th>\n      <th>state</th>\n      <th>county</th>\n      <th>Geo Point</th>\n      <th>Geo Shape</th>\n      <th>area</th>\n      <th>county_state</th>\n    </tr>\n  </thead>\n  <tbody>\n    <tr>\n      <th>2</th>\n      <td>New York</td>\n      <td>NY</td>\n      <td>Warren County</td>\n      <td>43.560975208,-73.8460059552</td>\n      <td>{\"type\": \"Polygon\", \"coordinates\": [[[-74.1825...</td>\n      <td>2412837344</td>\n      <td>Warren County, NY</td>\n    </tr>\n    <tr>\n      <th>4</th>\n      <td>New York</td>\n      <td>NY</td>\n      <td>Seneca County</td>\n      <td>42.781081385,-76.8237785954</td>\n      <td>{\"type\": \"Polygon\", \"coordinates\": [[[-76.9635...</td>\n      <td>1011232549</td>\n      <td>Seneca County, NY</td>\n    </tr>\n    <tr>\n      <th>5</th>\n      <td>New York</td>\n      <td>NY</td>\n      <td>Greene County</td>\n      <td>42.2765197661,-74.1227065013</td>\n      <td>{\"type\": \"Polygon\", \"coordinates\": [[[-74.4796...</td>\n      <td>1704341556</td>\n      <td>Greene County, NY</td>\n    </tr>\n    <tr>\n      <th>8</th>\n      <td>New York</td>\n      <td>NY</td>\n      <td>Wyoming County</td>\n      <td>42.7023842075,-78.2244395122</td>\n      <td>{\"type\": \"Polygon\", \"coordinates\": [[[-78.4638...</td>\n      <td>1544377612</td>\n      <td>Wyoming County, NY</td>\n    </tr>\n    <tr>\n      <th>10</th>\n      <td>New York</td>\n      <td>NY</td>\n      <td>Orange County</td>\n      <td>41.402131202,-74.3055376374</td>\n      <td>{\"type\": \"Polygon\", \"coordinates\": [[[-74.5297...</td>\n      <td>2171992499</td>\n      <td>Orange County, NY</td>\n    </tr>\n  </tbody>\n</table>\n</div>"
     },
     "execution_count": 24,
     "metadata": {},
     "output_type": "execute_result"
    }
   ],
   "source": [
    "ny_df = geo_df[geo_df.state == 'NY']\n",
    "ny_df.head()"
   ],
   "metadata": {
    "collapsed": false,
    "pycharm": {
     "name": "#%%\n"
    }
   }
  },
  {
   "cell_type": "code",
   "execution_count": 25,
   "outputs": [
    {
     "data": {
      "text/plain": "(62, 7)"
     },
     "execution_count": 25,
     "metadata": {},
     "output_type": "execute_result"
    }
   ],
   "source": [
    "ny_df.shape"
   ],
   "metadata": {
    "collapsed": false,
    "pycharm": {
     "name": "#%%\n"
    }
   }
  },
  {
   "cell_type": "code",
   "execution_count": 26,
   "outputs": [
    {
     "data": {
      "text/plain": "['Warren County, NY',\n [[43.72349663740705, -73.5742626674317],\n  [43.64048285283122, -73.8204972347205]]]"
     },
     "execution_count": 26,
     "metadata": {},
     "output_type": "execute_result"
    }
   ],
   "source": [
    "ny_points = get_points(ny_df)\n",
    "ny_points[0]"
   ],
   "metadata": {
    "collapsed": false,
    "pycharm": {
     "name": "#%%\n"
    }
   }
  },
  {
   "cell_type": "code",
   "execution_count": 27,
   "outputs": [
    {
     "data": {
      "text/plain": "              county   latitude  longitude\n0  Warren County, NY  43.723497 -73.574263\n1  Warren County, NY  43.640483 -73.820497\n2  Seneca County, NY  42.757725 -76.818349\n3  Seneca County, NY  43.017857 -76.808031\n4  Greene County, NY  42.302238 -73.819888",
      "text/html": "<div>\n<style scoped>\n    .dataframe tbody tr th:only-of-type {\n        vertical-align: middle;\n    }\n\n    .dataframe tbody tr th {\n        vertical-align: top;\n    }\n\n    .dataframe thead th {\n        text-align: right;\n    }\n</style>\n<table border=\"1\" class=\"dataframe\">\n  <thead>\n    <tr style=\"text-align: right;\">\n      <th></th>\n      <th>county</th>\n      <th>latitude</th>\n      <th>longitude</th>\n    </tr>\n  </thead>\n  <tbody>\n    <tr>\n      <th>0</th>\n      <td>Warren County, NY</td>\n      <td>43.723497</td>\n      <td>-73.574263</td>\n    </tr>\n    <tr>\n      <th>1</th>\n      <td>Warren County, NY</td>\n      <td>43.640483</td>\n      <td>-73.820497</td>\n    </tr>\n    <tr>\n      <th>2</th>\n      <td>Seneca County, NY</td>\n      <td>42.757725</td>\n      <td>-76.818349</td>\n    </tr>\n    <tr>\n      <th>3</th>\n      <td>Seneca County, NY</td>\n      <td>43.017857</td>\n      <td>-76.808031</td>\n    </tr>\n    <tr>\n      <th>4</th>\n      <td>Greene County, NY</td>\n      <td>42.302238</td>\n      <td>-73.819888</td>\n    </tr>\n  </tbody>\n</table>\n</div>"
     },
     "execution_count": 27,
     "metadata": {},
     "output_type": "execute_result"
    }
   ],
   "source": [
    "ny_points_df = points_to_df(ny_points)\n",
    "ny_points_df.head()"
   ],
   "metadata": {
    "collapsed": false,
    "pycharm": {
     "name": "#%%\n"
    }
   }
  },
  {
   "cell_type": "code",
   "execution_count": 28,
   "outputs": [
    {
     "data": {
      "text/plain": "(124, 3)"
     },
     "execution_count": 28,
     "metadata": {},
     "output_type": "execute_result"
    }
   ],
   "source": [
    "ny_points_df.shape"
   ],
   "metadata": {
    "collapsed": false,
    "pycharm": {
     "name": "#%%\n"
    }
   }
  },
  {
   "cell_type": "code",
   "execution_count": 29,
   "outputs": [
    {
     "data": {
      "text/plain": "                        latitude  longitude\ncounty                                     \nAlbany County, NY              2          2\nAllegany County, NY            2          2\nBronx County, NY               2          2\nBroome County, NY              2          2\nCattaraugus County, NY         2          2\n...                          ...        ...\nWashington County, NY          2          2\nWayne County, NY               2          2\nWestchester County, NY         2          2\nWyoming County, NY             2          2\nYates County, NY               2          2\n\n[62 rows x 2 columns]",
      "text/html": "<div>\n<style scoped>\n    .dataframe tbody tr th:only-of-type {\n        vertical-align: middle;\n    }\n\n    .dataframe tbody tr th {\n        vertical-align: top;\n    }\n\n    .dataframe thead th {\n        text-align: right;\n    }\n</style>\n<table border=\"1\" class=\"dataframe\">\n  <thead>\n    <tr style=\"text-align: right;\">\n      <th></th>\n      <th>latitude</th>\n      <th>longitude</th>\n    </tr>\n    <tr>\n      <th>county</th>\n      <th></th>\n      <th></th>\n    </tr>\n  </thead>\n  <tbody>\n    <tr>\n      <th>Albany County, NY</th>\n      <td>2</td>\n      <td>2</td>\n    </tr>\n    <tr>\n      <th>Allegany County, NY</th>\n      <td>2</td>\n      <td>2</td>\n    </tr>\n    <tr>\n      <th>Bronx County, NY</th>\n      <td>2</td>\n      <td>2</td>\n    </tr>\n    <tr>\n      <th>Broome County, NY</th>\n      <td>2</td>\n      <td>2</td>\n    </tr>\n    <tr>\n      <th>Cattaraugus County, NY</th>\n      <td>2</td>\n      <td>2</td>\n    </tr>\n    <tr>\n      <th>...</th>\n      <td>...</td>\n      <td>...</td>\n    </tr>\n    <tr>\n      <th>Washington County, NY</th>\n      <td>2</td>\n      <td>2</td>\n    </tr>\n    <tr>\n      <th>Wayne County, NY</th>\n      <td>2</td>\n      <td>2</td>\n    </tr>\n    <tr>\n      <th>Westchester County, NY</th>\n      <td>2</td>\n      <td>2</td>\n    </tr>\n    <tr>\n      <th>Wyoming County, NY</th>\n      <td>2</td>\n      <td>2</td>\n    </tr>\n    <tr>\n      <th>Yates County, NY</th>\n      <td>2</td>\n      <td>2</td>\n    </tr>\n  </tbody>\n</table>\n<p>62 rows × 2 columns</p>\n</div>"
     },
     "execution_count": 29,
     "metadata": {},
     "output_type": "execute_result"
    }
   ],
   "source": [
    "ny_points_df.groupby('county').count()"
   ],
   "metadata": {
    "collapsed": false,
    "pycharm": {
     "name": "#%%\n"
    }
   }
  },
  {
   "cell_type": "code",
   "execution_count": 41,
   "outputs": [
    {
     "name": "stdout",
     "output_type": "stream",
     "text": [
      "Glens Falls Hospital\n",
      "Glens Falls Hospital Snuggery\n",
      "Wyoming County Community Hospital\n",
      "Elmhurst Hospital Center\n",
      "NewYork-Presbyterian Queens\n",
      "St. Mary Hospital for Children\n",
      "Northwell - Long Island Jewish Medical Center\n",
      "Niagara Falls Memorial Medical Center\n",
      "NFMMC S3 Cardiac/Stroke Unit\n",
      "O'Connor Hospital\n",
      "Moses Ludington Hospital\n",
      "Elizabethtown Community Hospital\n",
      "Inter-Lakes Health\n",
      "Guthrie Clinic\n",
      "United Memorial Medical Center\n",
      "buffalo general\n",
      "Jones Memorial Medical Imaging\n",
      "Jones Memorial Hospital Maternity\n",
      "Cuba Memorial Hospital\n",
      "Little Falls Hospital\n",
      "Catskill Regional Medical Center\n",
      "Lewis County General Hospital\n",
      "UHS Wilson Medical Center\n",
      "Our Lady of Lourdes Memorial Hospital\n",
      "Lourdes Breast Care Center\n",
      "UHS Binghamton General Hospital\n",
      "Lenga Center For The Mentally Handicapped And Overweight\n",
      "South Tower 5\n",
      "Lourdes Ambulatory Surgery\n",
      "Strong Memorial Hospital | URMC\n",
      "Rochester General Hospital\n",
      "James P. Wilmot Cancer Center\n",
      "St. Mary's Unity Hospital\n",
      "Golisano Childrens Hospital At Strong\n",
      "Highland Hospital\n",
      "Strong Memorial Hospital Emergency Medicine\n",
      "Urmc 83600 Surgical Intensive Care Unit\n",
      "Family Medicine - Orchard Street\n",
      "Lakeside Memorial Hospital\n",
      "Cobleskill Regional Hospital\n",
      "Kings County Hospital Center\n",
      "Maimonides Medical Center\n",
      "Brookdale University Hospital Medical Center\n",
      "NYU Lutheran Medical Center\n",
      "Saratoga Hospital\n",
      "Saratoga Hospital Snuggery\n",
      "Faxton St. Luke's Healthcare: St. Luke's Campus\n",
      "St Elizabeth Medical Center\n",
      "Faxton St. Luke's Healthcare: Faxton Campus\n",
      "PCU\n",
      "3rd Floor St E's\n",
      "Faxton St. Lukes Outpatient Infusion Lab\n",
      "St. Lukes Family Waiting Area 1st Floor\n",
      "Ambulatory surgery\n",
      "Massena Memorial Hospital\n",
      "Claxton-Hepburn Medical Center\n",
      "Canton-Potsdam Hospital\n",
      "Clifton-Fine Hospital\n",
      "Gouverneur Hospital\n",
      "Massena Sleep Center\n",
      "L&D Ward SMC\n",
      "Canton-Potsdam Hospital\n",
      "Canton Potsdam Hospital\n",
      "St. Joseph's Hospital Health Center\n",
      "New York Spine & Wellness Center\n",
      "WellNow Urgent Care\n",
      "SUNY Upstate Medical University Hospital\n",
      "University Health Care Center\n",
      "Upstate University Hospital at Community General\n",
      "Golisano Childrens Hospital At Upstate Medical Center\n",
      "Medical Center West\n",
      "Crouse Hospital\n",
      "Syracuse VA Medical Center\n",
      "Van Duyn\n",
      "Dr. Pacioreks\n",
      "Upstate Golisano After Hours Care At Community General\n",
      "parking garage booth 1 at upstate university hospital at community general\n",
      "Lorie’s Gift Shop\n",
      "Upstate at Community Radiology\n",
      "Community Memorial Hospital\n",
      "North Shore University Hospital\n",
      "Winthrop University Hospital\n",
      "South Nassau Communities Hospital\n",
      "St. Francis Hospital\n",
      "Nassau University Medical Center (NuHealth)\n",
      "Samaritan Hospital\n",
      "St. Mary's Hospital\n",
      "St. Peter's Health Partners- St. Mary's Hospital\n",
      "Troy Pediatrics\n",
      "Olean General Hospital\n",
      "Adirondack Medical Center\n",
      "Alice Hyde Medical Center\n",
      "AHMC Family Maternity Center\n",
      "Cayuga Medical Center Emergency Department\n",
      "Cayuga Medical Center Imaging Services\n",
      "Cayuga Surgical Specialists\n",
      "Dr. Rudnicki Ob/Gyn\n",
      "Phelps Memorial Hospital\n",
      "Westchester Medical Center\n",
      "Bellevue Woman's Care Center\n",
      "Ellis Hospital McClellan Campus\n",
      "Ellis Hospital\n",
      "Ellis Hospital Cardiac Cath Lab\n",
      "Staten Island University Hospital / Northwell Health\n",
      "Oswego Hospital\n",
      "St. Mary's Hospital\n",
      "Champlain Valley Physicians Hospital (CVPH)\n",
      "Kenmore Mercy Hospital\n",
      "VA Medical Center\n",
      "Millard Fillmore Suburban Hospital\n",
      "Mercy Hospital of Buffalo\n",
      "Sisters of Charity Hospital\n",
      "Buffalo General Medical Center\n",
      "WellNow Urgent Care\n",
      "WellNow Urgent Care\n",
      "Erie County Medical Center (ECMC)\n",
      "Kenmore Mercy ICU Waiting Room\n",
      "Roswell Park Infusion Center\n",
      "Sisters Hospital Ambulatory Surgery 5th Floor\n",
      "Mercy Hospital Operating Room\n",
      "WCA Hospital\n",
      "Moonbrook Vetinarian\n",
      "Brooks Memorial Hospital\n",
      "Bellevue Hospital Center\n",
      "Memorial Sloan Kettering Cancer Center\n",
      "New York Presbyterian Hospital Weill Cornell Medical Center\n",
      "Mount Sinai Morningside\n",
      "The Mount Sinai Hospital\n",
      "Milstein Hospital Building\n",
      "Lenox Hill Hospital\n",
      "Mount Sinai Guggenheim Pavilion\n",
      "Annenberg Building\n",
      "Bellevue Hospital Center Speciality Surgery\n",
      "NYU Langone Medical Center\n",
      "Guthrie Corning Hospital\n",
      "St James Mercy Hospital\n",
      "Ira Davenport Memorial Hospital\n",
      "Arnot Skilled Nursing\n",
      "St Jos Xray\n",
      "Montefiore Medical Center\n",
      "Stony Brook University Medical Center\n",
      "Southside Hospital\n",
      "Long Island Community Hospital\n",
      "Northport VA Medical Center\n",
      "CityMD Rocky Point Urgent Care - Long Island\n",
      "Stony Brook Hospital Maternity Dpt\n",
      "Stony Brook University Medical Center 14N\n",
      "St. Catherine Of Siena Medical Center\n",
      "Pilgrim State Psychiatric Center\n",
      "Good Samaritan Hospital\n",
      "Stony Brook Hospital CPEP Facility\n",
      "Mount Carmel East at Teresian House\n",
      "Albany Medical Center South Clinical Campus\n",
      "Albany Memorial Hospital\n",
      "Albany Medical Center\n",
      "WellNow Urgent Care\n",
      "St. Peter's Hospital\n",
      "The Children's Hospital @Albany Medical Center\n",
      "Mercy Medical Campus Center St Peters Hospital\n",
      "St. Peters Hospital, Imaging\n",
      "3Rd Floor\n",
      "Albany Medical Center CCU\n",
      "NYOH\n",
      "st peters inpatient pharmacy\n",
      "Albany Medical Center Parking Garage Level 4\n",
      "WellNow Urgent Care\n",
      "Albany Med EmUrgentCare\n",
      "Newark Wayne Community Hospital\n",
      "Auburn Community Hospital\n",
      "Nuclear Medicine\n",
      "Internal Medicine Associates of Auburn\n",
      "Canandaigua VA Medical Center\n",
      "Clifton Springs Hospital\n",
      "Thompson Hospital\n",
      "Canandaigua Trinity OBGYN\n",
      "Nathan Littauer Hospital and Nursing Home\n"
     ]
    },
    {
     "data": {
      "text/plain": "('Warren County, NY',\n 'Glens Falls Hospital',\n 43.30654759929057,\n -73.64700120738856)"
     },
     "execution_count": 41,
     "metadata": {},
     "output_type": "execute_result"
    }
   ],
   "source": [
    "ny_hosp_list = get_hospitals(ny_points_df.county, ny_points_df.latitude, ny_points_df.longitude)\n",
    "ny_hosp_list[0][0]"
   ],
   "metadata": {
    "collapsed": false,
    "pycharm": {
     "name": "#%%\n"
    }
   }
  },
  {
   "cell_type": "code",
   "execution_count": 47,
   "outputs": [
    {
     "data": {
      "text/plain": "(               county                           hospital   latitude  longitude\n 0   Warren County, NY               Glens Falls Hospital  43.306548 -73.647001\n 1   Warren County, NY      Glens Falls Hospital Snuggery  43.305721 -73.647749\n 2  Wyoming County, NY  Wyoming County Community Hospital  42.754591 -78.131291\n 3   Queens County, NY           Elmhurst Hospital Center  40.745244 -73.885536\n 4   Queens County, NY        NewYork-Presbyterian Queens  40.747248 -73.825336,\n (176, 4))"
     },
     "execution_count": 47,
     "metadata": {},
     "output_type": "execute_result"
    }
   ],
   "source": [
    "ny_hosp_df = hospital_list_to_df(ny_hosp_list)\n",
    "ny_hosp_df.head(), ny_hosp_df.shape"
   ],
   "metadata": {
    "collapsed": false,
    "pycharm": {
     "name": "#%%\n"
    }
   }
  },
  {
   "cell_type": "code",
   "execution_count": 48,
   "outputs": [
    {
     "data": {
      "text/plain": "(170, 4)"
     },
     "execution_count": 48,
     "metadata": {},
     "output_type": "execute_result"
    }
   ],
   "source": [
    "# remove 'parking', 'Vetinarian', 'Snuggery', 'waiting',\n",
    "ny_hosp_df.drop(ny_hosp_df.loc[ny_hosp_df['hospital'].str.contains('parking')].index, inplace=True)\n",
    "ny_hosp_df.drop(ny_hosp_df.loc[ny_hosp_df['hospital'].str.contains('Vetinarian')].index, inplace=True)\n",
    "ny_hosp_df.drop(ny_hosp_df.loc[ny_hosp_df['hospital'].str.contains('Snuggery')].index, inplace=True)\n",
    "ny_hosp_df.drop(ny_hosp_df.loc[ny_hosp_df['hospital'].str.contains('Waiting')].index, inplace=True)\n",
    "ny_hosp_df.shape"
   ],
   "metadata": {
    "collapsed": false,
    "pycharm": {
     "name": "#%%\n"
    }
   }
  },
  {
   "cell_type": "markdown",
   "source": [
    "ok, it's not the 215 i should have, but hey, its a lot closer than 30!"
   ],
   "metadata": {
    "collapsed": false,
    "pycharm": {
     "name": "#%% md\n"
    }
   }
  },
  {
   "cell_type": "code",
   "execution_count": 50,
   "outputs": [
    {
     "data": {
      "text/plain": "                        hospital  latitude  longitude\ncounty                                               \nAlbany County, NY             16        16         16\nAllegany County, NY            4         4          4\nBronx County, NY               1         1          1\nBroome County, NY              7         7          7\nCattaraugus County, NY         1         1          1",
      "text/html": "<div>\n<style scoped>\n    .dataframe tbody tr th:only-of-type {\n        vertical-align: middle;\n    }\n\n    .dataframe tbody tr th {\n        vertical-align: top;\n    }\n\n    .dataframe thead th {\n        text-align: right;\n    }\n</style>\n<table border=\"1\" class=\"dataframe\">\n  <thead>\n    <tr style=\"text-align: right;\">\n      <th></th>\n      <th>hospital</th>\n      <th>latitude</th>\n      <th>longitude</th>\n    </tr>\n    <tr>\n      <th>county</th>\n      <th></th>\n      <th></th>\n      <th></th>\n    </tr>\n  </thead>\n  <tbody>\n    <tr>\n      <th>Albany County, NY</th>\n      <td>16</td>\n      <td>16</td>\n      <td>16</td>\n    </tr>\n    <tr>\n      <th>Allegany County, NY</th>\n      <td>4</td>\n      <td>4</td>\n      <td>4</td>\n    </tr>\n    <tr>\n      <th>Bronx County, NY</th>\n      <td>1</td>\n      <td>1</td>\n      <td>1</td>\n    </tr>\n    <tr>\n      <th>Broome County, NY</th>\n      <td>7</td>\n      <td>7</td>\n      <td>7</td>\n    </tr>\n    <tr>\n      <th>Cattaraugus County, NY</th>\n      <td>1</td>\n      <td>1</td>\n      <td>1</td>\n    </tr>\n  </tbody>\n</table>\n</div>"
     },
     "execution_count": 50,
     "metadata": {},
     "output_type": "execute_result"
    }
   ],
   "source": [
    "ny_hosp_count = ny_hosp_df.groupby('county').count()\n",
    "ny_hosp_count.head()"
   ],
   "metadata": {
    "collapsed": false,
    "pycharm": {
     "name": "#%%\n"
    }
   }
  },
  {
   "cell_type": "markdown",
   "source": [
    "kansas\n"
   ],
   "metadata": {
    "collapsed": false,
    "pycharm": {
     "name": "#%% md\n"
    }
   }
  },
  {
   "cell_type": "code",
   "execution_count": 51,
   "outputs": [
    {
     "data": {
      "text/plain": "['Decatur County, KS',\n [[39.88832631088242, -100.46679859703595],\n  [39.83495223567467, -100.6253582762825]]]"
     },
     "execution_count": 51,
     "metadata": {},
     "output_type": "execute_result"
    }
   ],
   "source": [
    "ks_df = geo_df[geo_df.state == 'KS']\n",
    "ks_points = get_points(ks_df)\n",
    "ks_points[0]"
   ],
   "metadata": {
    "collapsed": false,
    "pycharm": {
     "name": "#%%\n"
    }
   }
  },
  {
   "cell_type": "code",
   "execution_count": 52,
   "outputs": [
    {
     "data": {
      "text/plain": "               county   latitude   longitude\n0  Decatur County, KS  39.888326 -100.466799\n1  Decatur County, KS  39.834952 -100.625358\n2     Lyon County, KS  38.735745  -96.181838\n3     Lyon County, KS  38.466158  -96.088897\n4   Sumner County, KS  37.458485  -97.264679",
      "text/html": "<div>\n<style scoped>\n    .dataframe tbody tr th:only-of-type {\n        vertical-align: middle;\n    }\n\n    .dataframe tbody tr th {\n        vertical-align: top;\n    }\n\n    .dataframe thead th {\n        text-align: right;\n    }\n</style>\n<table border=\"1\" class=\"dataframe\">\n  <thead>\n    <tr style=\"text-align: right;\">\n      <th></th>\n      <th>county</th>\n      <th>latitude</th>\n      <th>longitude</th>\n    </tr>\n  </thead>\n  <tbody>\n    <tr>\n      <th>0</th>\n      <td>Decatur County, KS</td>\n      <td>39.888326</td>\n      <td>-100.466799</td>\n    </tr>\n    <tr>\n      <th>1</th>\n      <td>Decatur County, KS</td>\n      <td>39.834952</td>\n      <td>-100.625358</td>\n    </tr>\n    <tr>\n      <th>2</th>\n      <td>Lyon County, KS</td>\n      <td>38.735745</td>\n      <td>-96.181838</td>\n    </tr>\n    <tr>\n      <th>3</th>\n      <td>Lyon County, KS</td>\n      <td>38.466158</td>\n      <td>-96.088897</td>\n    </tr>\n    <tr>\n      <th>4</th>\n      <td>Sumner County, KS</td>\n      <td>37.458485</td>\n      <td>-97.264679</td>\n    </tr>\n  </tbody>\n</table>\n</div>"
     },
     "execution_count": 52,
     "metadata": {},
     "output_type": "execute_result"
    }
   ],
   "source": [
    "ks_points_df = points_to_df(ks_points)\n",
    "ks_points_df.head()\n"
   ],
   "metadata": {
    "collapsed": false,
    "pycharm": {
     "name": "#%%\n"
    }
   }
  },
  {
   "cell_type": "code",
   "execution_count": 53,
   "outputs": [
    {
     "name": "stdout",
     "output_type": "stream",
     "text": [
      "Cedar Living Center\n",
      "Sumner County Hospital\n",
      "Cheyenne County Hospital\n",
      "Logan County Hospital\n",
      "Sheridan County Health Complex\n",
      "St. Catherine Hospital\n",
      "Leavenworth Va Hospital\n",
      "Stanton County Hospital\n",
      "Rice County District Hospital\n",
      "Rice County Hospital\n",
      "Lindsborg Hospital\n",
      "Lindsborg Community Hospital\n",
      "Mercy Hospital\n",
      "Morris County Hospital\n",
      "Hodgeman Co Hospital\n",
      "Hays Medical Center\n",
      "Michael E. DeBakey Heart Institute\n",
      "KVC Wheatland Psychiatric Hospital\n",
      "Miller Medical Pavilion\n",
      "Rush County Memorial Hospital\n",
      "Ransom Memorial Hospital\n",
      "Atwood Hospital\n",
      "Coffeyville Hospital\n",
      "Hutchinson Regional Medical Center\n",
      "Cotton O'Neil Carbondale\n",
      "Lawrence Memorial Hospital\n",
      "LMH IT Department\n",
      "MedExpress Urgent Care\n",
      "Horton Community Hospital\n",
      "Bob Wilson Memorial Hospital\n",
      "Graham County Hospital\n",
      "Lincoln County Hospital\n",
      "BELLEVILLE HEALTH CARE\n",
      "Morton County Hospital\n",
      "Greeley County Hospital\n",
      "Comanche County Hospital\n",
      "William Newton Hospital\n",
      "Allen County Regional Hospital\n",
      "Allen County Hospital\n",
      "Salina Regional Health Center\n",
      "COMCARE\n",
      "Saferoom Salina\n",
      "Veridian Behavioral Health\n",
      "salina sports medical clinic\n",
      "Salina Regional Medical Center ICU family waiting area\n",
      "Salina Pediatric Care\n",
      "Salina Regional Urgent Care Clinic\n",
      "Salina Surgical Center, L.L.C.\n",
      "Salina Regional Hospital\n",
      "COMCARE\n",
      "Salina Urology Associates PA\n",
      "MedExpress Urgent Care\n",
      "Cloud County Community Hospital\n",
      "Coffey County Hospital\n",
      "Coffey County Hospital\n",
      "Anderson County Hospital\n",
      "Gove County Hospital\n",
      "Southwest Medical Center\n",
      "Ellsworth Medical Center\n",
      "Wichita County Hospital\n",
      "Newton Medical Center\n",
      "Associates in Women's Health\n",
      "Satanta District Hospital\n",
      "Via Christi Hospital in Pittsburg\n",
      "Ashland Health Center\n",
      "Minneola District Hospital\n",
      "Greenwood County Hospital\n",
      "Labette Health\n",
      "Oswego Community Hospital\n",
      "Parsons State Hospital\n",
      "Mitchell County Hospital\n",
      "Wilson Medical Center\n",
      "Anthony Medical Center\n",
      "Patterson Health Center\n",
      "Hanover Hospital\n",
      "Hamilton County Hospital\n",
      "Menorah Medical Center\n",
      "Overland Park Regional Medical Center\n",
      "AdventHealth Shawnee Mission\n",
      "Olathe Medical Center\n",
      "Saint Luke’s Community Hospital - Leawood\n",
      "Saint Luke's South Hospital\n",
      "Children's Mercy South\n",
      "Arbor Creek Animal Hospital\n",
      "University of Kansas-Indian Creek\n",
      "Spira Care By Bcbs - Shawnee\n",
      "Laboratory at OPRMC\n",
      "Surgicenter of Johnson County\n",
      "Memorial Hermann Woodlands\n",
      "Norton County Hospital\n",
      "Norton County Hospital\n",
      "Pratt Regional Medical Center\n",
      "Community Memorial Healthcare\n",
      "Scott County Hospital\n",
      "Sabetha Community Hospital\n",
      "Meade District Hospital\n",
      "Irwin Army Community Hospital\n",
      "Great Bend Regional Hospital\n",
      "Clara Barton Hospital\n",
      "Xpress Wellness Urgent Care\n",
      "Western Plains Medical Complex\n",
      "The Women's Center\n",
      "Via Christi Hospital St. Francis\n",
      "Via Christi St. Joseph\n",
      "Via Christi Hospital\n",
      "Wesley Woodlawn Hospital & ER\n",
      "Wesley Children's Hospital\n",
      "Robert J. Dole, Wichita VA Medical Center\n",
      "Rock Regional Hospital\n",
      "Wesley Rehab\n",
      "Cypress Surgery Center\n",
      "St. Francis MICU\n",
      "Via Christi Bayley Bldg\n",
      "St. Francis Cancer Center\n",
      "NCCU Via Christi\n",
      "Hopper's Floor @ Via Christi Hospital\n",
      "West Wichita Surgery Center\n",
      "Wesley Labor and Delivery\n",
      "Wesley Labor and Delivery Waiting Room\n",
      "Center For Same Day Surgery\n",
      "Immediate Medical Care-IMC East\n",
      "MedExpress Urgent Care\n",
      "Clearwater Nursing & Rehab\n",
      "Ridgewood Surgery & Endoscopy Center\n",
      "Ascension Living Via Christi Village (Via Christi Village)\n",
      "Surgicare of Wichita\n",
      "The Little Clinic\n",
      "Kansas Spine & Specialty Hospital\n",
      "The Little Clinic\n",
      "Saint Francis Hospice Unit\n",
      "Cardiothoracic ICU\n",
      "Wichita Specialty Hospital\n",
      "Surgicare\n",
      "Stevens County Hospital\n",
      "Ottawa County Health Center\n",
      "Rooks County Health Center\n",
      "Trego County Lemke Memorial Hospital\n",
      "Kearny County Hospital\n",
      "Phillips County Hospital\n",
      "Ascension Via Christi Hospital in Manhattan\n",
      "Arkham Asylum\n",
      "Russell Regional Hospital\n",
      "Edwards County Hospital\n",
      "Pawnee Valley Community Hospital\n",
      "Larned State Hospital\n",
      "The University of Kansas Hospital Cambridge Tower A\n",
      "Providence Medical Center\n",
      "The University of Kansas Medical Center\n",
      "The University of Kansas Hospital\n",
      "Ku Mri\n",
      "Kingman Community Hospital\n",
      "Stormont-Vail HealthCare\n",
      "Topeka Veterans Affairs Medical Center\n",
      "4 Pavilion\n",
      "Topeka VA  Non-VA Medical Care\n",
      "Stormont Vail 7 North Cardiology/Medical Floor\n",
      "Stormont Vail Surgical Waiting Area\n",
      "Topeka VA ICU\n",
      "Cotton O'Neil Cancer Center\n",
      "KMC Med Assist\n",
      "Smith Center Hospital\n"
     ]
    },
    {
     "data": {
      "text/plain": "('Decatur County, KS', 'Cedar Living Center', 39.822856, -100.532265)"
     },
     "execution_count": 53,
     "metadata": {},
     "output_type": "execute_result"
    }
   ],
   "source": [
    "ks_hosp_list = get_hospitals(ks_points_df.county, ks_points_df.latitude, ks_points_df.longitude)\n",
    "ks_hosp_list[0][0]\n"
   ],
   "metadata": {
    "collapsed": false,
    "pycharm": {
     "name": "#%%\n"
    }
   }
  },
  {
   "cell_type": "code",
   "execution_count": 84,
   "outputs": [
    {
     "data": {
      "text/plain": "(                county                        hospital   latitude   longitude\n 0   Decatur County, KS             Cedar Living Center  39.822856 -100.532265\n 1    Sumner County, KS          Sumner County Hospital  37.026218  -97.609818\n 2  Cheyenne County, KS        Cheyenne County Hospital  39.771112 -101.803468\n 3     Logan County, KS           Logan County Hospital  39.127211 -100.862950\n 4  Sheridan County, KS  Sheridan County Health Complex  39.354177 -100.432527,\n (160, 4))"
     },
     "execution_count": 84,
     "metadata": {},
     "output_type": "execute_result"
    }
   ],
   "source": [
    "ks_hosp_df = hospital_list_to_df(ks_hosp_list)\n",
    "ks_hosp_df.head(), ks_hosp_df.shape\n"
   ],
   "metadata": {
    "collapsed": false,
    "pycharm": {
     "name": "#%%\n"
    }
   }
  },
  {
   "cell_type": "code",
   "execution_count": 85,
   "outputs": [
    {
     "data": {
      "text/plain": "(156, 4)"
     },
     "execution_count": 85,
     "metadata": {},
     "output_type": "execute_result"
    }
   ],
   "source": [
    "# remove Waiting, Living\n",
    "\n",
    "ks_hosp_df.drop(ks_hosp_df.loc[ks_hosp_df['hospital'].str.contains('Waiting')].index, inplace=True)\n",
    "ks_hosp_df.drop(ks_hosp_df.loc[ks_hosp_df['hospital'].str.contains('Living')].index, inplace=True)\n",
    "ks_hosp_df.shape"
   ],
   "metadata": {
    "collapsed": false,
    "pycharm": {
     "name": "#%%\n"
    }
   }
  },
  {
   "cell_type": "code",
   "execution_count": 86,
   "outputs": [
    {
     "data": {
      "text/plain": "                     hospital  latitude  longitude\ncounty                                            \nAllen County, KS            2         2          2\nAnderson County, KS         1         1          1\nBarton County, KS           2         2          2\nBrown County, KS            1         1          1\nButler County, KS           1         1          1",
      "text/html": "<div>\n<style scoped>\n    .dataframe tbody tr th:only-of-type {\n        vertical-align: middle;\n    }\n\n    .dataframe tbody tr th {\n        vertical-align: top;\n    }\n\n    .dataframe thead th {\n        text-align: right;\n    }\n</style>\n<table border=\"1\" class=\"dataframe\">\n  <thead>\n    <tr style=\"text-align: right;\">\n      <th></th>\n      <th>hospital</th>\n      <th>latitude</th>\n      <th>longitude</th>\n    </tr>\n    <tr>\n      <th>county</th>\n      <th></th>\n      <th></th>\n      <th></th>\n    </tr>\n  </thead>\n  <tbody>\n    <tr>\n      <th>Allen County, KS</th>\n      <td>2</td>\n      <td>2</td>\n      <td>2</td>\n    </tr>\n    <tr>\n      <th>Anderson County, KS</th>\n      <td>1</td>\n      <td>1</td>\n      <td>1</td>\n    </tr>\n    <tr>\n      <th>Barton County, KS</th>\n      <td>2</td>\n      <td>2</td>\n      <td>2</td>\n    </tr>\n    <tr>\n      <th>Brown County, KS</th>\n      <td>1</td>\n      <td>1</td>\n      <td>1</td>\n    </tr>\n    <tr>\n      <th>Butler County, KS</th>\n      <td>1</td>\n      <td>1</td>\n      <td>1</td>\n    </tr>\n  </tbody>\n</table>\n</div>"
     },
     "execution_count": 86,
     "metadata": {},
     "output_type": "execute_result"
    }
   ],
   "source": [
    "ks_hosp_count = ks_hosp_df.groupby('county').count()\n",
    "ks_hosp_count.head()"
   ],
   "metadata": {
    "collapsed": false,
    "pycharm": {
     "name": "#%%\n"
    }
   }
  },
  {
   "cell_type": "code",
   "execution_count": 87,
   "outputs": [
    {
     "data": {
      "text/plain": "         date     county       state     fips  cases  deaths\n0  2020-01-21  Snohomish  Washington  53061.0      1     0.0\n1  2020-01-22  Snohomish  Washington  53061.0      1     0.0\n2  2020-01-23  Snohomish  Washington  53061.0      1     0.0\n3  2020-01-24       Cook    Illinois  17031.0      1     0.0\n4  2020-01-24  Snohomish  Washington  53061.0      1     0.0",
      "text/html": "<div>\n<style scoped>\n    .dataframe tbody tr th:only-of-type {\n        vertical-align: middle;\n    }\n\n    .dataframe tbody tr th {\n        vertical-align: top;\n    }\n\n    .dataframe thead th {\n        text-align: right;\n    }\n</style>\n<table border=\"1\" class=\"dataframe\">\n  <thead>\n    <tr style=\"text-align: right;\">\n      <th></th>\n      <th>date</th>\n      <th>county</th>\n      <th>state</th>\n      <th>fips</th>\n      <th>cases</th>\n      <th>deaths</th>\n    </tr>\n  </thead>\n  <tbody>\n    <tr>\n      <th>0</th>\n      <td>2020-01-21</td>\n      <td>Snohomish</td>\n      <td>Washington</td>\n      <td>53061.0</td>\n      <td>1</td>\n      <td>0.0</td>\n    </tr>\n    <tr>\n      <th>1</th>\n      <td>2020-01-22</td>\n      <td>Snohomish</td>\n      <td>Washington</td>\n      <td>53061.0</td>\n      <td>1</td>\n      <td>0.0</td>\n    </tr>\n    <tr>\n      <th>2</th>\n      <td>2020-01-23</td>\n      <td>Snohomish</td>\n      <td>Washington</td>\n      <td>53061.0</td>\n      <td>1</td>\n      <td>0.0</td>\n    </tr>\n    <tr>\n      <th>3</th>\n      <td>2020-01-24</td>\n      <td>Cook</td>\n      <td>Illinois</td>\n      <td>17031.0</td>\n      <td>1</td>\n      <td>0.0</td>\n    </tr>\n    <tr>\n      <th>4</th>\n      <td>2020-01-24</td>\n      <td>Snohomish</td>\n      <td>Washington</td>\n      <td>53061.0</td>\n      <td>1</td>\n      <td>0.0</td>\n    </tr>\n  </tbody>\n</table>\n</div>"
     },
     "execution_count": 87,
     "metadata": {},
     "output_type": "execute_result"
    }
   ],
   "source": [
    "county_df = pd.read_csv('https://raw.githubusercontent.com/nytimes/covid-19-data/master/us-counties.csv')\n",
    "county_df.head()"
   ],
   "metadata": {
    "collapsed": false,
    "pycharm": {
     "name": "#%%\n"
    }
   }
  },
  {
   "cell_type": "code",
   "execution_count": 88,
   "outputs": [],
   "source": [
    "county_df = county_df[['county', 'state', 'cases', 'deaths']]"
   ],
   "metadata": {
    "collapsed": false,
    "pycharm": {
     "name": "#%%\n"
    }
   }
  },
  {
   "cell_type": "code",
   "execution_count": 89,
   "outputs": [
    {
     "data": {
      "text/plain": "  county_name  state_name  cases  deaths\n0   Snohomish  Washington      1     0.0\n1   Snohomish  Washington      1     0.0\n2   Snohomish  Washington      1     0.0\n3        Cook    Illinois      1     0.0\n4   Snohomish  Washington      1     0.0",
      "text/html": "<div>\n<style scoped>\n    .dataframe tbody tr th:only-of-type {\n        vertical-align: middle;\n    }\n\n    .dataframe tbody tr th {\n        vertical-align: top;\n    }\n\n    .dataframe thead th {\n        text-align: right;\n    }\n</style>\n<table border=\"1\" class=\"dataframe\">\n  <thead>\n    <tr style=\"text-align: right;\">\n      <th></th>\n      <th>county_name</th>\n      <th>state_name</th>\n      <th>cases</th>\n      <th>deaths</th>\n    </tr>\n  </thead>\n  <tbody>\n    <tr>\n      <th>0</th>\n      <td>Snohomish</td>\n      <td>Washington</td>\n      <td>1</td>\n      <td>0.0</td>\n    </tr>\n    <tr>\n      <th>1</th>\n      <td>Snohomish</td>\n      <td>Washington</td>\n      <td>1</td>\n      <td>0.0</td>\n    </tr>\n    <tr>\n      <th>2</th>\n      <td>Snohomish</td>\n      <td>Washington</td>\n      <td>1</td>\n      <td>0.0</td>\n    </tr>\n    <tr>\n      <th>3</th>\n      <td>Cook</td>\n      <td>Illinois</td>\n      <td>1</td>\n      <td>0.0</td>\n    </tr>\n    <tr>\n      <th>4</th>\n      <td>Snohomish</td>\n      <td>Washington</td>\n      <td>1</td>\n      <td>0.0</td>\n    </tr>\n  </tbody>\n</table>\n</div>"
     },
     "execution_count": 89,
     "metadata": {},
     "output_type": "execute_result"
    }
   ],
   "source": [
    "county_df.columns = ['county_name', 'state_name', 'cases', 'deaths']\n",
    "county_df.head()"
   ],
   "metadata": {
    "collapsed": false,
    "pycharm": {
     "name": "#%%\n"
    }
   }
  },
  {
   "cell_type": "code",
   "execution_count": 90,
   "outputs": [
    {
     "data": {
      "text/plain": "       county_name state_name  cases  deaths\n416  New York City   New York      1     0.0\n448  New York City   New York      1     0.0\n482  New York City   New York      2     0.0\n518  New York City   New York      2     0.0\n519    Westchester   New York      9     0.0",
      "text/html": "<div>\n<style scoped>\n    .dataframe tbody tr th:only-of-type {\n        vertical-align: middle;\n    }\n\n    .dataframe tbody tr th {\n        vertical-align: top;\n    }\n\n    .dataframe thead th {\n        text-align: right;\n    }\n</style>\n<table border=\"1\" class=\"dataframe\">\n  <thead>\n    <tr style=\"text-align: right;\">\n      <th></th>\n      <th>county_name</th>\n      <th>state_name</th>\n      <th>cases</th>\n      <th>deaths</th>\n    </tr>\n  </thead>\n  <tbody>\n    <tr>\n      <th>416</th>\n      <td>New York City</td>\n      <td>New York</td>\n      <td>1</td>\n      <td>0.0</td>\n    </tr>\n    <tr>\n      <th>448</th>\n      <td>New York City</td>\n      <td>New York</td>\n      <td>1</td>\n      <td>0.0</td>\n    </tr>\n    <tr>\n      <th>482</th>\n      <td>New York City</td>\n      <td>New York</td>\n      <td>2</td>\n      <td>0.0</td>\n    </tr>\n    <tr>\n      <th>518</th>\n      <td>New York City</td>\n      <td>New York</td>\n      <td>2</td>\n      <td>0.0</td>\n    </tr>\n    <tr>\n      <th>519</th>\n      <td>Westchester</td>\n      <td>New York</td>\n      <td>9</td>\n      <td>0.0</td>\n    </tr>\n  </tbody>\n</table>\n</div>"
     },
     "execution_count": 90,
     "metadata": {},
     "output_type": "execute_result"
    }
   ],
   "source": [
    "county_df = county_df[(county_df['state_name'] == 'New York') | (county_df['state_name'] == 'Kansas')]\n",
    "county_df.head()"
   ],
   "metadata": {
    "collapsed": false,
    "pycharm": {
     "name": "#%%\n"
    }
   }
  },
  {
   "cell_type": "code",
   "execution_count": 91,
   "outputs": [
    {
     "data": {
      "text/plain": "       county_name state_name  cases  deaths state             county\n416  New York City   New York      1     0.0    NY  New York City, NY\n448  New York City   New York      1     0.0    NY  New York City, NY\n482  New York City   New York      2     0.0    NY  New York City, NY\n518  New York City   New York      2     0.0    NY  New York City, NY\n519    Westchester   New York      9     0.0    NY    Westchester, NY",
      "text/html": "<div>\n<style scoped>\n    .dataframe tbody tr th:only-of-type {\n        vertical-align: middle;\n    }\n\n    .dataframe tbody tr th {\n        vertical-align: top;\n    }\n\n    .dataframe thead th {\n        text-align: right;\n    }\n</style>\n<table border=\"1\" class=\"dataframe\">\n  <thead>\n    <tr style=\"text-align: right;\">\n      <th></th>\n      <th>county_name</th>\n      <th>state_name</th>\n      <th>cases</th>\n      <th>deaths</th>\n      <th>state</th>\n      <th>county</th>\n    </tr>\n  </thead>\n  <tbody>\n    <tr>\n      <th>416</th>\n      <td>New York City</td>\n      <td>New York</td>\n      <td>1</td>\n      <td>0.0</td>\n      <td>NY</td>\n      <td>New York City, NY</td>\n    </tr>\n    <tr>\n      <th>448</th>\n      <td>New York City</td>\n      <td>New York</td>\n      <td>1</td>\n      <td>0.0</td>\n      <td>NY</td>\n      <td>New York City, NY</td>\n    </tr>\n    <tr>\n      <th>482</th>\n      <td>New York City</td>\n      <td>New York</td>\n      <td>2</td>\n      <td>0.0</td>\n      <td>NY</td>\n      <td>New York City, NY</td>\n    </tr>\n    <tr>\n      <th>518</th>\n      <td>New York City</td>\n      <td>New York</td>\n      <td>2</td>\n      <td>0.0</td>\n      <td>NY</td>\n      <td>New York City, NY</td>\n    </tr>\n    <tr>\n      <th>519</th>\n      <td>Westchester</td>\n      <td>New York</td>\n      <td>9</td>\n      <td>0.0</td>\n      <td>NY</td>\n      <td>Westchester, NY</td>\n    </tr>\n  </tbody>\n</table>\n</div>"
     },
     "execution_count": 91,
     "metadata": {},
     "output_type": "execute_result"
    }
   ],
   "source": [
    "conditions = [(county_df['state_name'] == 'New York'),\n",
    "              (county_df['state_name'] == 'Kansas')]\n",
    "values = ['NY', 'KS']\n",
    "\n",
    "county_df['state'] = np.select(conditions, values)\n",
    "county_df['county'] = county_df['county_name'] + ', ' + county_df['state']\n",
    "county_df.head()\n"
   ],
   "metadata": {
    "collapsed": false,
    "pycharm": {
     "name": "#%%\n"
    }
   }
  },
  {
   "cell_type": "code",
   "execution_count": 92,
   "outputs": [],
   "source": [
    "county_df['case_fatality_rate'] = round((county_df.deaths/county_df.cases)*1000, 2)"
   ],
   "metadata": {
    "collapsed": false,
    "pycharm": {
     "name": "#%%\n"
    }
   }
  },
  {
   "cell_type": "code",
   "execution_count": 93,
   "outputs": [
    {
     "data": {
      "text/plain": "  state   county state_name  geo_id  population  pop_density\n0    AL  Autauga    Alabama    1001       55601    93.534505\n1    AL  Baldwin    Alabama    1003      218022   137.138546\n2    AL  Barbour    Alabama    1005       24881    28.114060\n3    AL     Bibb    Alabama    1007       22400    35.986169\n4    AL   Blount    Alabama    1009       57840    89.697955",
      "text/html": "<div>\n<style scoped>\n    .dataframe tbody tr th:only-of-type {\n        vertical-align: middle;\n    }\n\n    .dataframe tbody tr th {\n        vertical-align: top;\n    }\n\n    .dataframe thead th {\n        text-align: right;\n    }\n</style>\n<table border=\"1\" class=\"dataframe\">\n  <thead>\n    <tr style=\"text-align: right;\">\n      <th></th>\n      <th>state</th>\n      <th>county</th>\n      <th>state_name</th>\n      <th>geo_id</th>\n      <th>population</th>\n      <th>pop_density</th>\n    </tr>\n  </thead>\n  <tbody>\n    <tr>\n      <th>0</th>\n      <td>AL</td>\n      <td>Autauga</td>\n      <td>Alabama</td>\n      <td>1001</td>\n      <td>55601</td>\n      <td>93.534505</td>\n    </tr>\n    <tr>\n      <th>1</th>\n      <td>AL</td>\n      <td>Baldwin</td>\n      <td>Alabama</td>\n      <td>1003</td>\n      <td>218022</td>\n      <td>137.138546</td>\n    </tr>\n    <tr>\n      <th>2</th>\n      <td>AL</td>\n      <td>Barbour</td>\n      <td>Alabama</td>\n      <td>1005</td>\n      <td>24881</td>\n      <td>28.114060</td>\n    </tr>\n    <tr>\n      <th>3</th>\n      <td>AL</td>\n      <td>Bibb</td>\n      <td>Alabama</td>\n      <td>1007</td>\n      <td>22400</td>\n      <td>35.986169</td>\n    </tr>\n    <tr>\n      <th>4</th>\n      <td>AL</td>\n      <td>Blount</td>\n      <td>Alabama</td>\n      <td>1009</td>\n      <td>57840</td>\n      <td>89.697955</td>\n    </tr>\n  </tbody>\n</table>\n</div>"
     },
     "execution_count": 93,
     "metadata": {},
     "output_type": "execute_result"
    }
   ],
   "source": [
    "county_pop = pd.read_csv('US_county_pop.csv')\n",
    "county_pop.head()"
   ],
   "metadata": {
    "collapsed": false,
    "pycharm": {
     "name": "#%%\n"
    }
   }
  },
  {
   "cell_type": "code",
   "execution_count": 94,
   "outputs": [
    {
     "data": {
      "text/plain": "           county  population\n888     Allen, KS       12444\n889  Anderson, KS        7878\n890  Atchison, KS       16193\n891    Barber, KS        4472\n892    Barton, KS       26111",
      "text/html": "<div>\n<style scoped>\n    .dataframe tbody tr th:only-of-type {\n        vertical-align: middle;\n    }\n\n    .dataframe tbody tr th {\n        vertical-align: top;\n    }\n\n    .dataframe thead th {\n        text-align: right;\n    }\n</style>\n<table border=\"1\" class=\"dataframe\">\n  <thead>\n    <tr style=\"text-align: right;\">\n      <th></th>\n      <th>county</th>\n      <th>population</th>\n    </tr>\n  </thead>\n  <tbody>\n    <tr>\n      <th>888</th>\n      <td>Allen, KS</td>\n      <td>12444</td>\n    </tr>\n    <tr>\n      <th>889</th>\n      <td>Anderson, KS</td>\n      <td>7878</td>\n    </tr>\n    <tr>\n      <th>890</th>\n      <td>Atchison, KS</td>\n      <td>16193</td>\n    </tr>\n    <tr>\n      <th>891</th>\n      <td>Barber, KS</td>\n      <td>4472</td>\n    </tr>\n    <tr>\n      <th>892</th>\n      <td>Barton, KS</td>\n      <td>26111</td>\n    </tr>\n  </tbody>\n</table>\n</div>"
     },
     "execution_count": 94,
     "metadata": {},
     "output_type": "execute_result"
    }
   ],
   "source": [
    "county_pop['county'] = county_pop['county'] + ', ' + county_pop['state']\n",
    "county_pop = county_pop[(county_pop['state'] == 'NY') | (county_pop['state'] == 'KS')]\n",
    "county_pop = county_pop[['county', 'population']]\n",
    "county_pop.head()"
   ],
   "metadata": {
    "collapsed": false,
    "pycharm": {
     "name": "#%%\n"
    }
   }
  },
  {
   "cell_type": "code",
   "execution_count": 95,
   "outputs": [
    {
     "data": {
      "text/plain": "   county_name state_name  cases  deaths state           county  \\\n0  Westchester   New York      9     0.0    NY  Westchester, NY   \n1  Westchester   New York     17     0.0    NY  Westchester, NY   \n2  Westchester   New York     33     0.0    NY  Westchester, NY   \n3  Westchester   New York     69     0.0    NY  Westchester, NY   \n4  Westchester   New York     81     0.0    NY  Westchester, NY   \n\n   case_fatality_rate  population  \n0                 0.0      967612  \n1                 0.0      967612  \n2                 0.0      967612  \n3                 0.0      967612  \n4                 0.0      967612  ",
      "text/html": "<div>\n<style scoped>\n    .dataframe tbody tr th:only-of-type {\n        vertical-align: middle;\n    }\n\n    .dataframe tbody tr th {\n        vertical-align: top;\n    }\n\n    .dataframe thead th {\n        text-align: right;\n    }\n</style>\n<table border=\"1\" class=\"dataframe\">\n  <thead>\n    <tr style=\"text-align: right;\">\n      <th></th>\n      <th>county_name</th>\n      <th>state_name</th>\n      <th>cases</th>\n      <th>deaths</th>\n      <th>state</th>\n      <th>county</th>\n      <th>case_fatality_rate</th>\n      <th>population</th>\n    </tr>\n  </thead>\n  <tbody>\n    <tr>\n      <th>0</th>\n      <td>Westchester</td>\n      <td>New York</td>\n      <td>9</td>\n      <td>0.0</td>\n      <td>NY</td>\n      <td>Westchester, NY</td>\n      <td>0.0</td>\n      <td>967612</td>\n    </tr>\n    <tr>\n      <th>1</th>\n      <td>Westchester</td>\n      <td>New York</td>\n      <td>17</td>\n      <td>0.0</td>\n      <td>NY</td>\n      <td>Westchester, NY</td>\n      <td>0.0</td>\n      <td>967612</td>\n    </tr>\n    <tr>\n      <th>2</th>\n      <td>Westchester</td>\n      <td>New York</td>\n      <td>33</td>\n      <td>0.0</td>\n      <td>NY</td>\n      <td>Westchester, NY</td>\n      <td>0.0</td>\n      <td>967612</td>\n    </tr>\n    <tr>\n      <th>3</th>\n      <td>Westchester</td>\n      <td>New York</td>\n      <td>69</td>\n      <td>0.0</td>\n      <td>NY</td>\n      <td>Westchester, NY</td>\n      <td>0.0</td>\n      <td>967612</td>\n    </tr>\n    <tr>\n      <th>4</th>\n      <td>Westchester</td>\n      <td>New York</td>\n      <td>81</td>\n      <td>0.0</td>\n      <td>NY</td>\n      <td>Westchester, NY</td>\n      <td>0.0</td>\n      <td>967612</td>\n    </tr>\n  </tbody>\n</table>\n</div>"
     },
     "execution_count": 95,
     "metadata": {},
     "output_type": "execute_result"
    }
   ],
   "source": [
    "counties = pd.merge(county_df, county_pop, on='county')\n",
    "counties.head()"
   ],
   "metadata": {
    "collapsed": false,
    "pycharm": {
     "name": "#%%\n"
    }
   }
  },
  {
   "cell_type": "code",
   "execution_count": 96,
   "outputs": [
    {
     "data": {
      "text/plain": "                        hospital  latitude  longitude\ncounty                                               \nAlbany County, NY             16        16         16\nAllegany County, NY            4         4          4\nBronx County, NY               1         1          1\nBroome County, NY              7         7          7\nCattaraugus County, NY         1         1          1",
      "text/html": "<div>\n<style scoped>\n    .dataframe tbody tr th:only-of-type {\n        vertical-align: middle;\n    }\n\n    .dataframe tbody tr th {\n        vertical-align: top;\n    }\n\n    .dataframe thead th {\n        text-align: right;\n    }\n</style>\n<table border=\"1\" class=\"dataframe\">\n  <thead>\n    <tr style=\"text-align: right;\">\n      <th></th>\n      <th>hospital</th>\n      <th>latitude</th>\n      <th>longitude</th>\n    </tr>\n    <tr>\n      <th>county</th>\n      <th></th>\n      <th></th>\n      <th></th>\n    </tr>\n  </thead>\n  <tbody>\n    <tr>\n      <th>Albany County, NY</th>\n      <td>16</td>\n      <td>16</td>\n      <td>16</td>\n    </tr>\n    <tr>\n      <th>Allegany County, NY</th>\n      <td>4</td>\n      <td>4</td>\n      <td>4</td>\n    </tr>\n    <tr>\n      <th>Bronx County, NY</th>\n      <td>1</td>\n      <td>1</td>\n      <td>1</td>\n    </tr>\n    <tr>\n      <th>Broome County, NY</th>\n      <td>7</td>\n      <td>7</td>\n      <td>7</td>\n    </tr>\n    <tr>\n      <th>Cattaraugus County, NY</th>\n      <td>1</td>\n      <td>1</td>\n      <td>1</td>\n    </tr>\n  </tbody>\n</table>\n</div>"
     },
     "execution_count": 96,
     "metadata": {},
     "output_type": "execute_result"
    }
   ],
   "source": [
    "ny_hosp_count.head()"
   ],
   "metadata": {
    "collapsed": false,
    "pycharm": {
     "name": "#%%\n"
    }
   }
  },
  {
   "cell_type": "code",
   "execution_count": 97,
   "outputs": [
    {
     "data": {
      "text/plain": "                     hospital  latitude  longitude\ncounty                                            \nAllen County, KS            2         2          2\nAnderson County, KS         1         1          1\nBarton County, KS           2         2          2\nBrown County, KS            1         1          1\nButler County, KS           1         1          1",
      "text/html": "<div>\n<style scoped>\n    .dataframe tbody tr th:only-of-type {\n        vertical-align: middle;\n    }\n\n    .dataframe tbody tr th {\n        vertical-align: top;\n    }\n\n    .dataframe thead th {\n        text-align: right;\n    }\n</style>\n<table border=\"1\" class=\"dataframe\">\n  <thead>\n    <tr style=\"text-align: right;\">\n      <th></th>\n      <th>hospital</th>\n      <th>latitude</th>\n      <th>longitude</th>\n    </tr>\n    <tr>\n      <th>county</th>\n      <th></th>\n      <th></th>\n      <th></th>\n    </tr>\n  </thead>\n  <tbody>\n    <tr>\n      <th>Allen County, KS</th>\n      <td>2</td>\n      <td>2</td>\n      <td>2</td>\n    </tr>\n    <tr>\n      <th>Anderson County, KS</th>\n      <td>1</td>\n      <td>1</td>\n      <td>1</td>\n    </tr>\n    <tr>\n      <th>Barton County, KS</th>\n      <td>2</td>\n      <td>2</td>\n      <td>2</td>\n    </tr>\n    <tr>\n      <th>Brown County, KS</th>\n      <td>1</td>\n      <td>1</td>\n      <td>1</td>\n    </tr>\n    <tr>\n      <th>Butler County, KS</th>\n      <td>1</td>\n      <td>1</td>\n      <td>1</td>\n    </tr>\n  </tbody>\n</table>\n</div>"
     },
     "execution_count": 97,
     "metadata": {},
     "output_type": "execute_result"
    }
   ],
   "source": [
    "ks_hosp_count.head()"
   ],
   "metadata": {
    "collapsed": false,
    "pycharm": {
     "name": "#%%\n"
    }
   }
  },
  {
   "cell_type": "code",
   "execution_count": 99,
   "outputs": [
    {
     "data": {
      "text/plain": "<bound method NDFrame.head of                         hospital  latitude  longitude\ncounty                                               \nAlbany County, NY             16        16         16\nAllegany County, NY            4         4          4\nBronx County, NY               1         1          1\nBroome County, NY              7         7          7\nCattaraugus County, NY         1         1          1\n...                          ...       ...        ...\nTrego County, KS               1         1          1\nWashington County, KS          1         1          1\nWichita County, KS             1         1          1\nWilson County, KS              1         1          1\nWyandotte County, KS           5         5          5\n\n[118 rows x 3 columns]>"
     },
     "execution_count": 99,
     "metadata": {},
     "output_type": "execute_result"
    }
   ],
   "source": [
    "hosps = pd.concat([ny_hosp_count, ks_hosp_count])\n",
    "hosps.head"
   ],
   "metadata": {
    "collapsed": false,
    "pycharm": {
     "name": "#%%\n"
    }
   }
  },
  {
   "cell_type": "code",
   "execution_count": 102,
   "outputs": [
    {
     "data": {
      "text/plain": "Empty DataFrame\nColumns: [county_name, state_name, cases, deaths, state, county, case_fatality_rate, population, hospital]\nIndex: []",
      "text/html": "<div>\n<style scoped>\n    .dataframe tbody tr th:only-of-type {\n        vertical-align: middle;\n    }\n\n    .dataframe tbody tr th {\n        vertical-align: top;\n    }\n\n    .dataframe thead th {\n        text-align: right;\n    }\n</style>\n<table border=\"1\" class=\"dataframe\">\n  <thead>\n    <tr style=\"text-align: right;\">\n      <th></th>\n      <th>county_name</th>\n      <th>state_name</th>\n      <th>cases</th>\n      <th>deaths</th>\n      <th>state</th>\n      <th>county</th>\n      <th>case_fatality_rate</th>\n      <th>population</th>\n      <th>hospital</th>\n    </tr>\n  </thead>\n  <tbody>\n  </tbody>\n</table>\n</div>"
     },
     "execution_count": 102,
     "metadata": {},
     "output_type": "execute_result"
    }
   ],
   "source": [
    "# can't get them to merge"
   ],
   "metadata": {
    "collapsed": false,
    "pycharm": {
     "name": "#%%\n"
    }
   }
  },
  {
   "cell_type": "code",
   "execution_count": 16,
   "outputs": [],
   "source": [],
   "metadata": {
    "collapsed": false,
    "pycharm": {
     "name": "#%%\n"
    }
   }
  },
  {
   "cell_type": "code",
   "execution_count": 16,
   "outputs": [
    {
     "data": {
      "text/plain": "'{\"type\": MultiPolygon\"Polygon\", \"coordinates\":0      [[[[-1.241956526315958, 54.722452909315834], [...\\n1      [[[[-1.197048037027911, 54.58178034589915], [-...\\n2      [[[[-1.200988774224933, 54.57758968504015], [-...\\n3      [[[[-1.303874364736467, 54.56513718726291], [-...\\n4      [[[-1.637990666809223, 54.617194817277564], [-...\\n                             ...                        \\n321    [[[-0.166455224660887, 51.38969284414564], [-0...\\n322    [[[-0.02947478006328, 51.543029451145436], [-0...\\n323    [[[-0.0082177840334, 51.64360739434634], [-0.0...\\n324    [[[-0.126363701043512, 51.48446590586321], [-0...\\n325    [[[-0.174141477648115, 51.538199616490886], [-...\\nName: geometry.coordinates, Length: 326, dtype: object}'"
     },
     "execution_count": 16,
     "metadata": {},
     "output_type": "execute_result"
    }
   ],
   "source": [],
   "metadata": {
    "collapsed": false,
    "pycharm": {
     "name": "#%%\n"
    }
   }
  },
  {
   "cell_type": "code",
   "execution_count": null,
   "outputs": [],
   "source": [],
   "metadata": {
    "collapsed": false,
    "pycharm": {
     "name": "#%%\n"
    }
   }
  }
 ],
 "metadata": {
  "kernelspec": {
   "name": "ibm_capstone",
   "language": "python",
   "display_name": "Python (IBM_capstone)"
  },
  "language_info": {
   "codemirror_mode": {
    "name": "ipython",
    "version": 2
   },
   "file_extension": ".py",
   "mimetype": "text/x-python",
   "name": "python",
   "nbconvert_exporter": "python",
   "pygments_lexer": "ipython2",
   "version": "2.7.6"
  }
 },
 "nbformat": 4,
 "nbformat_minor": 0
}