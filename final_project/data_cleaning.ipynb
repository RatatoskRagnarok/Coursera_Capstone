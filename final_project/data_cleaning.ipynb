{
 "cells": [
  {
   "cell_type": "markdown",
   "source": [
    "# Data Cleaning and Pre-Processing"
   ],
   "metadata": {
    "collapsed": false
   }
  },
  {
   "cell_type": "markdown",
   "source": [
    "### Import libraries needed"
   ],
   "metadata": {
    "collapsed": false
   }
  },
  {
   "cell_type": "code",
   "execution_count": 1,
   "outputs": [],
   "source": [
    "import pandas as pd\n",
    "import json\n",
    "import requests\n",
    "from shapely.geometry import Point\n",
    "from shapely.geometry import shape\n",
    "from bs4 import BeautifulSoup\n",
    "import geopandas as gpd\n",
    "import numpy as np\n",
    "from sklearn.cluster import KMeans"
   ],
   "metadata": {
    "collapsed": false,
    "pycharm": {
     "name": "#%%\n"
    }
   }
  },
  {
   "cell_type": "markdown",
   "source": [
    "Credentials for map search later"
   ],
   "metadata": {
    "collapsed": false
   }
  },
  {
   "cell_type": "code",
   "execution_count": 2,
   "outputs": [],
   "source": [
    "# Foursquare credentials\n",
    "with open('credentials.json') as f:\n",
    "    creds = json.load(f)\n",
    "\n",
    "    CLIENT_ID = creds[0]['CLIENT_ID']\n",
    "    CLIENT_SECRET = creds[0]['CLIENT_SECRET']\n",
    "\n",
    "VERSION =  \"20200101\"\n",
    "LIMIT = 100"
   ],
   "metadata": {
    "collapsed": false,
    "pycharm": {
     "name": "#%%\n"
    }
   }
  },
  {
   "cell_type": "markdown",
   "source": [
    "## Crime Dataframe"
   ],
   "metadata": {
    "collapsed": false,
    "pycharm": {
     "name": "#%% md\n"
    }
   }
  },
  {
   "cell_type": "code",
   "execution_count": 3,
   "outputs": [
    {
     "data": {
      "text/plain": "                   MajorText                          MinorText  \\\n0  Arson and Criminal Damage                              Arson   \n1  Arson and Criminal Damage                    Criminal Damage   \n2                   Burglary  Burglary - Business and Community   \n3                   Burglary             Burglary - Residential   \n4              Drug Offences                   Drug Trafficking   \n\n     LookUp_BoroughName  201812  201901  201902  201903  201904  201905  \\\n0  Barking and Dagenham       1       5       2       5       5      11   \n1  Barking and Dagenham      88      97     127     138     130     140   \n2  Barking and Dagenham      33      45      24      29      27      21   \n3  Barking and Dagenham     164     114     107      99      96     114   \n4  Barking and Dagenham       4       6       2       6       5       9   \n\n   201906  ...  202002  202003  202004  202005  202006  202007  202008  \\\n0       3  ...       5       6       2       2       4       4       6   \n1     113  ...     103     107      80      86     121     122     114   \n2      27  ...      17      28      29      16      16      28      24   \n3      96  ...     123      97      57      42      63      72      63   \n4       6  ...       6       6      15      13      12      21       9   \n\n   202009  202010  202011  \n0       2       7       4  \n1     116     119     100  \n2      32      21      19  \n3      54      67      90  \n4      11      14      17  \n\n[5 rows x 27 columns]",
      "text/html": "<div>\n<style scoped>\n    .dataframe tbody tr th:only-of-type {\n        vertical-align: middle;\n    }\n\n    .dataframe tbody tr th {\n        vertical-align: top;\n    }\n\n    .dataframe thead th {\n        text-align: right;\n    }\n</style>\n<table border=\"1\" class=\"dataframe\">\n  <thead>\n    <tr style=\"text-align: right;\">\n      <th></th>\n      <th>MajorText</th>\n      <th>MinorText</th>\n      <th>LookUp_BoroughName</th>\n      <th>201812</th>\n      <th>201901</th>\n      <th>201902</th>\n      <th>201903</th>\n      <th>201904</th>\n      <th>201905</th>\n      <th>201906</th>\n      <th>...</th>\n      <th>202002</th>\n      <th>202003</th>\n      <th>202004</th>\n      <th>202005</th>\n      <th>202006</th>\n      <th>202007</th>\n      <th>202008</th>\n      <th>202009</th>\n      <th>202010</th>\n      <th>202011</th>\n    </tr>\n  </thead>\n  <tbody>\n    <tr>\n      <th>0</th>\n      <td>Arson and Criminal Damage</td>\n      <td>Arson</td>\n      <td>Barking and Dagenham</td>\n      <td>1</td>\n      <td>5</td>\n      <td>2</td>\n      <td>5</td>\n      <td>5</td>\n      <td>11</td>\n      <td>3</td>\n      <td>...</td>\n      <td>5</td>\n      <td>6</td>\n      <td>2</td>\n      <td>2</td>\n      <td>4</td>\n      <td>4</td>\n      <td>6</td>\n      <td>2</td>\n      <td>7</td>\n      <td>4</td>\n    </tr>\n    <tr>\n      <th>1</th>\n      <td>Arson and Criminal Damage</td>\n      <td>Criminal Damage</td>\n      <td>Barking and Dagenham</td>\n      <td>88</td>\n      <td>97</td>\n      <td>127</td>\n      <td>138</td>\n      <td>130</td>\n      <td>140</td>\n      <td>113</td>\n      <td>...</td>\n      <td>103</td>\n      <td>107</td>\n      <td>80</td>\n      <td>86</td>\n      <td>121</td>\n      <td>122</td>\n      <td>114</td>\n      <td>116</td>\n      <td>119</td>\n      <td>100</td>\n    </tr>\n    <tr>\n      <th>2</th>\n      <td>Burglary</td>\n      <td>Burglary - Business and Community</td>\n      <td>Barking and Dagenham</td>\n      <td>33</td>\n      <td>45</td>\n      <td>24</td>\n      <td>29</td>\n      <td>27</td>\n      <td>21</td>\n      <td>27</td>\n      <td>...</td>\n      <td>17</td>\n      <td>28</td>\n      <td>29</td>\n      <td>16</td>\n      <td>16</td>\n      <td>28</td>\n      <td>24</td>\n      <td>32</td>\n      <td>21</td>\n      <td>19</td>\n    </tr>\n    <tr>\n      <th>3</th>\n      <td>Burglary</td>\n      <td>Burglary - Residential</td>\n      <td>Barking and Dagenham</td>\n      <td>164</td>\n      <td>114</td>\n      <td>107</td>\n      <td>99</td>\n      <td>96</td>\n      <td>114</td>\n      <td>96</td>\n      <td>...</td>\n      <td>123</td>\n      <td>97</td>\n      <td>57</td>\n      <td>42</td>\n      <td>63</td>\n      <td>72</td>\n      <td>63</td>\n      <td>54</td>\n      <td>67</td>\n      <td>90</td>\n    </tr>\n    <tr>\n      <th>4</th>\n      <td>Drug Offences</td>\n      <td>Drug Trafficking</td>\n      <td>Barking and Dagenham</td>\n      <td>4</td>\n      <td>6</td>\n      <td>2</td>\n      <td>6</td>\n      <td>5</td>\n      <td>9</td>\n      <td>6</td>\n      <td>...</td>\n      <td>6</td>\n      <td>6</td>\n      <td>15</td>\n      <td>13</td>\n      <td>12</td>\n      <td>21</td>\n      <td>9</td>\n      <td>11</td>\n      <td>14</td>\n      <td>17</td>\n    </tr>\n  </tbody>\n</table>\n<p>5 rows × 27 columns</p>\n</div>"
     },
     "execution_count": 3,
     "metadata": {},
     "output_type": "execute_result"
    }
   ],
   "source": [
    "crime_df = pd.read_csv('MPS Borough Level Crime (most recent 24 months).csv')\n",
    "crime_df.head()"
   ],
   "metadata": {
    "collapsed": false,
    "pycharm": {
     "name": "#%%\n"
    }
   }
  },
  {
   "cell_type": "code",
   "execution_count": 4,
   "outputs": [],
   "source": [
    "crime_df['Total_Crime'] = crime_df.sum(axis=1)"
   ],
   "metadata": {
    "collapsed": false,
    "pycharm": {
     "name": "#%%\n"
    }
   }
  },
  {
   "cell_type": "code",
   "execution_count": 5,
   "outputs": [
    {
     "data": {
      "text/plain": "                       Crime               Borough  Total_Crime\n0  Arson and Criminal Damage  Barking and Dagenham          115\n1  Arson and Criminal Damage  Barking and Dagenham         2687\n2                   Burglary  Barking and Dagenham          656\n3                   Burglary  Barking and Dagenham         2193\n4              Drug Offences  Barking and Dagenham          228",
      "text/html": "<div>\n<style scoped>\n    .dataframe tbody tr th:only-of-type {\n        vertical-align: middle;\n    }\n\n    .dataframe tbody tr th {\n        vertical-align: top;\n    }\n\n    .dataframe thead th {\n        text-align: right;\n    }\n</style>\n<table border=\"1\" class=\"dataframe\">\n  <thead>\n    <tr style=\"text-align: right;\">\n      <th></th>\n      <th>Crime</th>\n      <th>Borough</th>\n      <th>Total_Crime</th>\n    </tr>\n  </thead>\n  <tbody>\n    <tr>\n      <th>0</th>\n      <td>Arson and Criminal Damage</td>\n      <td>Barking and Dagenham</td>\n      <td>115</td>\n    </tr>\n    <tr>\n      <th>1</th>\n      <td>Arson and Criminal Damage</td>\n      <td>Barking and Dagenham</td>\n      <td>2687</td>\n    </tr>\n    <tr>\n      <th>2</th>\n      <td>Burglary</td>\n      <td>Barking and Dagenham</td>\n      <td>656</td>\n    </tr>\n    <tr>\n      <th>3</th>\n      <td>Burglary</td>\n      <td>Barking and Dagenham</td>\n      <td>2193</td>\n    </tr>\n    <tr>\n      <th>4</th>\n      <td>Drug Offences</td>\n      <td>Barking and Dagenham</td>\n      <td>228</td>\n    </tr>\n  </tbody>\n</table>\n</div>"
     },
     "execution_count": 5,
     "metadata": {},
     "output_type": "execute_result"
    }
   ],
   "source": [
    "crime_df = crime_df[['MajorText', 'LookUp_BoroughName', 'Total_Crime']]\n",
    "crime_df.columns = ['Crime', 'Borough', 'Total_Crime']\n",
    "crime_df.head()"
   ],
   "metadata": {
    "collapsed": false,
    "pycharm": {
     "name": "#%%\n"
    }
   }
  },
  {
   "cell_type": "code",
   "execution_count": 6,
   "outputs": [
    {
     "data": {
      "text/plain": "array(['Arson and Criminal Damage', 'Burglary', 'Drug Offences',\n       'Miscellaneous Crimes Against Society', 'Possession of Weapons',\n       'Public Order Offences', 'Robbery', 'Sexual Offences', 'Theft',\n       'Vehicle Offences', 'Violence Against the Person'], dtype=object)"
     },
     "execution_count": 6,
     "metadata": {},
     "output_type": "execute_result"
    }
   ],
   "source": [
    "# get a look at all the different crime types\n",
    "crime_df.Crime.unique()"
   ],
   "metadata": {
    "collapsed": false,
    "pycharm": {
     "name": "#%%\n"
    }
   }
  },
  {
   "cell_type": "code",
   "execution_count": 7,
   "outputs": [
    {
     "data": {
      "text/plain": "                                                           Total_Crime\nBorough              Crime                                            \nBarking and Dagenham Arson and Criminal Damage                    2802\n                     Burglary                                     2849\n                     Drug Offences                                2768\n                     Miscellaneous Crimes Against Society          633\n                     Possession of Weapons                         353",
      "text/html": "<div>\n<style scoped>\n    .dataframe tbody tr th:only-of-type {\n        vertical-align: middle;\n    }\n\n    .dataframe tbody tr th {\n        vertical-align: top;\n    }\n\n    .dataframe thead th {\n        text-align: right;\n    }\n</style>\n<table border=\"1\" class=\"dataframe\">\n  <thead>\n    <tr style=\"text-align: right;\">\n      <th></th>\n      <th></th>\n      <th>Total_Crime</th>\n    </tr>\n    <tr>\n      <th>Borough</th>\n      <th>Crime</th>\n      <th></th>\n    </tr>\n  </thead>\n  <tbody>\n    <tr>\n      <th rowspan=\"5\" valign=\"top\">Barking and Dagenham</th>\n      <th>Arson and Criminal Damage</th>\n      <td>2802</td>\n    </tr>\n    <tr>\n      <th>Burglary</th>\n      <td>2849</td>\n    </tr>\n    <tr>\n      <th>Drug Offences</th>\n      <td>2768</td>\n    </tr>\n    <tr>\n      <th>Miscellaneous Crimes Against Society</th>\n      <td>633</td>\n    </tr>\n    <tr>\n      <th>Possession of Weapons</th>\n      <td>353</td>\n    </tr>\n  </tbody>\n</table>\n</div>"
     },
     "execution_count": 7,
     "metadata": {},
     "output_type": "execute_result"
    }
   ],
   "source": [
    "type_crime_df = crime_df.groupby(['Borough', 'Crime']).sum()\n",
    "type_crime_df.head()"
   ],
   "metadata": {
    "collapsed": false,
    "pycharm": {
     "name": "#%%\n"
    }
   }
  },
  {
   "cell_type": "code",
   "execution_count": 8,
   "outputs": [
    {
     "data": {
      "text/plain": "                      Total_Crime\nBorough                          \nBarking and Dagenham        39456\nBarnet                      59167\nBexley                      33929\nBrent                       59257\nBromley                     47499",
      "text/html": "<div>\n<style scoped>\n    .dataframe tbody tr th:only-of-type {\n        vertical-align: middle;\n    }\n\n    .dataframe tbody tr th {\n        vertical-align: top;\n    }\n\n    .dataframe thead th {\n        text-align: right;\n    }\n</style>\n<table border=\"1\" class=\"dataframe\">\n  <thead>\n    <tr style=\"text-align: right;\">\n      <th></th>\n      <th>Total_Crime</th>\n    </tr>\n    <tr>\n      <th>Borough</th>\n      <th></th>\n    </tr>\n  </thead>\n  <tbody>\n    <tr>\n      <th>Barking and Dagenham</th>\n      <td>39456</td>\n    </tr>\n    <tr>\n      <th>Barnet</th>\n      <td>59167</td>\n    </tr>\n    <tr>\n      <th>Bexley</th>\n      <td>33929</td>\n    </tr>\n    <tr>\n      <th>Brent</th>\n      <td>59257</td>\n    </tr>\n    <tr>\n      <th>Bromley</th>\n      <td>47499</td>\n    </tr>\n  </tbody>\n</table>\n</div>"
     },
     "execution_count": 8,
     "metadata": {},
     "output_type": "execute_result"
    }
   ],
   "source": [
    "total_crime_df = crime_df.groupby('Borough').sum()\n",
    "total_crime_df.head()"
   ],
   "metadata": {
    "collapsed": false,
    "pycharm": {
     "name": "#%%\n"
    }
   }
  },
  {
   "cell_type": "markdown",
   "source": [
    "## Borough Dataframe"
   ],
   "metadata": {
    "collapsed": false,
    "pycharm": {
     "name": "#%% md\n"
    }
   }
  },
  {
   "cell_type": "code",
   "execution_count": 9,
   "outputs": [
    {
     "name": "stdout",
     "output_type": "stream",
     "text": [
      "200\n"
     ]
    }
   ],
   "source": [
    "# get boroughs from wikipedia\n",
    "url = \"https://en.wikipedia.org/wiki/List_of_London_boroughs\"\n",
    "wikitable = \"wikitable sortable jquery-tablesorter\"\n",
    "response = requests.get(url)\n",
    "print(response.status_code)  # check connection"
   ],
   "metadata": {
    "collapsed": false,
    "pycharm": {
     "name": "#%%\n"
    }
   }
  },
  {
   "cell_type": "code",
   "execution_count": 10,
   "outputs": [
    {
     "data": {
      "text/plain": "                         Borough Inner Status  \\\n0  Barking and Dagenham [note 1]   NaN    NaN   \n1                         Barnet   NaN    NaN   \n2                         Bexley   NaN    NaN   \n3                          Brent   NaN    NaN   \n4                        Bromley   NaN    NaN   \n\n                               Local authority Political control  \\\n0  Barking and Dagenham London Borough Council            Labour   \n1                Barnet London Borough Council      Conservative   \n2                Bexley London Borough Council      Conservative   \n3                 Brent London Borough Council            Labour   \n4               Bromley London Borough Council      Conservative   \n\n                                Headquarters  Area (sq mi)  \\\n0                   Town Hall, 1 Town Square         13.93   \n1  Barnet House, 2 Bristol Avenue, Colindale         33.49   \n2            Civic Offices, 2 Watling Street         23.38   \n3          Brent Civic Centre, Engineers Way         16.70   \n4              Civic Centre, Stockwell Close         57.97   \n\n   Population (2019 est)[1]  \\\n0                    212906   \n1                    395896   \n2                    248287   \n3                    329771   \n4                    332336   \n\n                                        Co-ordinates  Nr. in map  \n0  .mw-parser-output .geo-default,.mw-parser-outp...          25  \n1        51°37′31″N 0°09′06″W﻿ / ﻿51.6252°N 0.1517°W          31  \n2        51°27′18″N 0°09′02″E﻿ / ﻿51.4549°N 0.1505°E          23  \n3        51°33′32″N 0°16′54″W﻿ / ﻿51.5588°N 0.2817°W          12  \n4        51°24′14″N 0°01′11″E﻿ / ﻿51.4039°N 0.0198°E          20  ",
      "text/html": "<div>\n<style scoped>\n    .dataframe tbody tr th:only-of-type {\n        vertical-align: middle;\n    }\n\n    .dataframe tbody tr th {\n        vertical-align: top;\n    }\n\n    .dataframe thead th {\n        text-align: right;\n    }\n</style>\n<table border=\"1\" class=\"dataframe\">\n  <thead>\n    <tr style=\"text-align: right;\">\n      <th></th>\n      <th>Borough</th>\n      <th>Inner</th>\n      <th>Status</th>\n      <th>Local authority</th>\n      <th>Political control</th>\n      <th>Headquarters</th>\n      <th>Area (sq mi)</th>\n      <th>Population (2019 est)[1]</th>\n      <th>Co-ordinates</th>\n      <th>Nr. in map</th>\n    </tr>\n  </thead>\n  <tbody>\n    <tr>\n      <th>0</th>\n      <td>Barking and Dagenham [note 1]</td>\n      <td>NaN</td>\n      <td>NaN</td>\n      <td>Barking and Dagenham London Borough Council</td>\n      <td>Labour</td>\n      <td>Town Hall, 1 Town Square</td>\n      <td>13.93</td>\n      <td>212906</td>\n      <td>.mw-parser-output .geo-default,.mw-parser-outp...</td>\n      <td>25</td>\n    </tr>\n    <tr>\n      <th>1</th>\n      <td>Barnet</td>\n      <td>NaN</td>\n      <td>NaN</td>\n      <td>Barnet London Borough Council</td>\n      <td>Conservative</td>\n      <td>Barnet House, 2 Bristol Avenue, Colindale</td>\n      <td>33.49</td>\n      <td>395896</td>\n      <td>51°37′31″N 0°09′06″W﻿ / ﻿51.6252°N 0.1517°W</td>\n      <td>31</td>\n    </tr>\n    <tr>\n      <th>2</th>\n      <td>Bexley</td>\n      <td>NaN</td>\n      <td>NaN</td>\n      <td>Bexley London Borough Council</td>\n      <td>Conservative</td>\n      <td>Civic Offices, 2 Watling Street</td>\n      <td>23.38</td>\n      <td>248287</td>\n      <td>51°27′18″N 0°09′02″E﻿ / ﻿51.4549°N 0.1505°E</td>\n      <td>23</td>\n    </tr>\n    <tr>\n      <th>3</th>\n      <td>Brent</td>\n      <td>NaN</td>\n      <td>NaN</td>\n      <td>Brent London Borough Council</td>\n      <td>Labour</td>\n      <td>Brent Civic Centre, Engineers Way</td>\n      <td>16.70</td>\n      <td>329771</td>\n      <td>51°33′32″N 0°16′54″W﻿ / ﻿51.5588°N 0.2817°W</td>\n      <td>12</td>\n    </tr>\n    <tr>\n      <th>4</th>\n      <td>Bromley</td>\n      <td>NaN</td>\n      <td>NaN</td>\n      <td>Bromley London Borough Council</td>\n      <td>Conservative</td>\n      <td>Civic Centre, Stockwell Close</td>\n      <td>57.97</td>\n      <td>332336</td>\n      <td>51°24′14″N 0°01′11″E﻿ / ﻿51.4039°N 0.0198°E</td>\n      <td>20</td>\n    </tr>\n  </tbody>\n</table>\n</div>"
     },
     "execution_count": 10,
     "metadata": {},
     "output_type": "execute_result"
    }
   ],
   "source": [
    "# nb. ignoring 2nd table on wiki, don't have geodata for city\n",
    "soup = BeautifulSoup(response.text, 'html.parser')\n",
    "london = soup.find('table', {'class': \"wikitable\"})\n",
    "\n",
    "london_df = pd.read_html(str(london))  # first table\n",
    "london_df = pd.DataFrame(london_df[0])\n",
    "london_df.head()"
   ],
   "metadata": {
    "collapsed": false,
    "pycharm": {
     "name": "#%%\n"
    }
   }
  },
  {
   "cell_type": "code",
   "execution_count": 11,
   "outputs": [
    {
     "data": {
      "text/plain": "                Borough  Population\n0  Barking and Dagenham      212906\n1                Barnet      395896\n2                Bexley      248287\n3                 Brent      329771\n4               Bromley      332336",
      "text/html": "<div>\n<style scoped>\n    .dataframe tbody tr th:only-of-type {\n        vertical-align: middle;\n    }\n\n    .dataframe tbody tr th {\n        vertical-align: top;\n    }\n\n    .dataframe thead th {\n        text-align: right;\n    }\n</style>\n<table border=\"1\" class=\"dataframe\">\n  <thead>\n    <tr style=\"text-align: right;\">\n      <th></th>\n      <th>Borough</th>\n      <th>Population</th>\n    </tr>\n  </thead>\n  <tbody>\n    <tr>\n      <th>0</th>\n      <td>Barking and Dagenham</td>\n      <td>212906</td>\n    </tr>\n    <tr>\n      <th>1</th>\n      <td>Barnet</td>\n      <td>395896</td>\n    </tr>\n    <tr>\n      <th>2</th>\n      <td>Bexley</td>\n      <td>248287</td>\n    </tr>\n    <tr>\n      <th>3</th>\n      <td>Brent</td>\n      <td>329771</td>\n    </tr>\n    <tr>\n      <th>4</th>\n      <td>Bromley</td>\n      <td>332336</td>\n    </tr>\n  </tbody>\n</table>\n</div>"
     },
     "execution_count": 11,
     "metadata": {},
     "output_type": "execute_result"
    }
   ],
   "source": [
    "# remove unnecessary columns, rename columns\n",
    "# has the coords, but they aren't in the centre of the borough, so the searches don't work!\n",
    "london_df = london_df[['Borough','Population (2019 est)[1]']]\n",
    "london_df.columns = ['Borough','Population']\n",
    "# get rid of the [note n] notes\n",
    "london_df.Borough = london_df['Borough'].replace(to_replace =\" \\[note [1-9]\\]\", value = '', regex = True)\n",
    "london_df.head()"
   ],
   "metadata": {
    "collapsed": false,
    "pycharm": {
     "name": "#%%\n"
    }
   }
  },
  {
   "cell_type": "code",
   "execution_count": 12,
   "outputs": [
    {
     "data": {
      "text/plain": "                Borough  longitude  latitude\n0            Hartlepool   -1.27023   54.6762\n1         Middlesbrough   -1.21099   54.5447\n2  Redcar and Cleveland   -1.00611   54.5675\n3      Stockton-on-Tees   -1.30669   54.5569\n4            Darlington   -1.56835   54.5353",
      "text/html": "<div>\n<style scoped>\n    .dataframe tbody tr th:only-of-type {\n        vertical-align: middle;\n    }\n\n    .dataframe tbody tr th {\n        vertical-align: top;\n    }\n\n    .dataframe thead th {\n        text-align: right;\n    }\n</style>\n<table border=\"1\" class=\"dataframe\">\n  <thead>\n    <tr style=\"text-align: right;\">\n      <th></th>\n      <th>Borough</th>\n      <th>longitude</th>\n      <th>latitude</th>\n    </tr>\n  </thead>\n  <tbody>\n    <tr>\n      <th>0</th>\n      <td>Hartlepool</td>\n      <td>-1.27023</td>\n      <td>54.6762</td>\n    </tr>\n    <tr>\n      <th>1</th>\n      <td>Middlesbrough</td>\n      <td>-1.21099</td>\n      <td>54.5447</td>\n    </tr>\n    <tr>\n      <th>2</th>\n      <td>Redcar and Cleveland</td>\n      <td>-1.00611</td>\n      <td>54.5675</td>\n    </tr>\n    <tr>\n      <th>3</th>\n      <td>Stockton-on-Tees</td>\n      <td>-1.30669</td>\n      <td>54.5569</td>\n    </tr>\n    <tr>\n      <th>4</th>\n      <td>Darlington</td>\n      <td>-1.56835</td>\n      <td>54.5353</td>\n    </tr>\n  </tbody>\n</table>\n</div>"
     },
     "execution_count": 12,
     "metadata": {},
     "output_type": "execute_result"
    }
   ],
   "source": [
    "# get the coords for each borough\n",
    "coords = pd.read_csv('Local_Authority_Districts.csv')\n",
    "coords = coords[['LAD19NM', 'LONG', 'LAT']]\n",
    "coords.columns = ['Borough', 'longitude', 'latitude']\n",
    "coords.head()"
   ],
   "metadata": {
    "collapsed": false,
    "pycharm": {
     "name": "#%%\n"
    }
   }
  },
  {
   "cell_type": "code",
   "execution_count": 13,
   "outputs": [
    {
     "data": {
      "text/plain": "                Borough  Population  longitude  latitude\n0  Barking and Dagenham      212906   0.129506   51.5455\n1                Barnet      395896  -0.218210   51.6111\n2                Bexley      248287   0.146212   51.4582\n3                 Brent      329771  -0.275680   51.5644\n4               Bromley      332336   0.039246   51.3727",
      "text/html": "<div>\n<style scoped>\n    .dataframe tbody tr th:only-of-type {\n        vertical-align: middle;\n    }\n\n    .dataframe tbody tr th {\n        vertical-align: top;\n    }\n\n    .dataframe thead th {\n        text-align: right;\n    }\n</style>\n<table border=\"1\" class=\"dataframe\">\n  <thead>\n    <tr style=\"text-align: right;\">\n      <th></th>\n      <th>Borough</th>\n      <th>Population</th>\n      <th>longitude</th>\n      <th>latitude</th>\n    </tr>\n  </thead>\n  <tbody>\n    <tr>\n      <th>0</th>\n      <td>Barking and Dagenham</td>\n      <td>212906</td>\n      <td>0.129506</td>\n      <td>51.5455</td>\n    </tr>\n    <tr>\n      <th>1</th>\n      <td>Barnet</td>\n      <td>395896</td>\n      <td>-0.218210</td>\n      <td>51.6111</td>\n    </tr>\n    <tr>\n      <th>2</th>\n      <td>Bexley</td>\n      <td>248287</td>\n      <td>0.146212</td>\n      <td>51.4582</td>\n    </tr>\n    <tr>\n      <th>3</th>\n      <td>Brent</td>\n      <td>329771</td>\n      <td>-0.275680</td>\n      <td>51.5644</td>\n    </tr>\n    <tr>\n      <th>4</th>\n      <td>Bromley</td>\n      <td>332336</td>\n      <td>0.039246</td>\n      <td>51.3727</td>\n    </tr>\n  </tbody>\n</table>\n</div>"
     },
     "execution_count": 13,
     "metadata": {},
     "output_type": "execute_result"
    }
   ],
   "source": [
    "london_df = pd.merge(london_df, coords, on='Borough')\n",
    "london_df.head()"
   ],
   "metadata": {
    "collapsed": false,
    "pycharm": {
     "name": "#%%\n"
    }
   }
  },
  {
   "cell_type": "code",
   "execution_count": 14,
   "outputs": [
    {
     "data": {
      "text/plain": "                Borough  Population  longitude  latitude  Total_Crime\n0  Barking and Dagenham      212906   0.129506   51.5455        39456\n1                Barnet      395896  -0.218210   51.6111        59167\n2                Bexley      248287   0.146212   51.4582        33929\n3                 Brent      329771  -0.275680   51.5644        59257\n4               Bromley      332336   0.039246   51.3727        47499",
      "text/html": "<div>\n<style scoped>\n    .dataframe tbody tr th:only-of-type {\n        vertical-align: middle;\n    }\n\n    .dataframe tbody tr th {\n        vertical-align: top;\n    }\n\n    .dataframe thead th {\n        text-align: right;\n    }\n</style>\n<table border=\"1\" class=\"dataframe\">\n  <thead>\n    <tr style=\"text-align: right;\">\n      <th></th>\n      <th>Borough</th>\n      <th>Population</th>\n      <th>longitude</th>\n      <th>latitude</th>\n      <th>Total_Crime</th>\n    </tr>\n  </thead>\n  <tbody>\n    <tr>\n      <th>0</th>\n      <td>Barking and Dagenham</td>\n      <td>212906</td>\n      <td>0.129506</td>\n      <td>51.5455</td>\n      <td>39456</td>\n    </tr>\n    <tr>\n      <th>1</th>\n      <td>Barnet</td>\n      <td>395896</td>\n      <td>-0.218210</td>\n      <td>51.6111</td>\n      <td>59167</td>\n    </tr>\n    <tr>\n      <th>2</th>\n      <td>Bexley</td>\n      <td>248287</td>\n      <td>0.146212</td>\n      <td>51.4582</td>\n      <td>33929</td>\n    </tr>\n    <tr>\n      <th>3</th>\n      <td>Brent</td>\n      <td>329771</td>\n      <td>-0.275680</td>\n      <td>51.5644</td>\n      <td>59257</td>\n    </tr>\n    <tr>\n      <th>4</th>\n      <td>Bromley</td>\n      <td>332336</td>\n      <td>0.039246</td>\n      <td>51.3727</td>\n      <td>47499</td>\n    </tr>\n  </tbody>\n</table>\n</div>"
     },
     "execution_count": 14,
     "metadata": {},
     "output_type": "execute_result"
    }
   ],
   "source": [
    "# add total crimes for each borough\n",
    "london_crimes = pd.merge(london_df, total_crime_df, on='Borough')\n",
    "london_crimes.head()"
   ],
   "metadata": {
    "collapsed": false,
    "pycharm": {
     "name": "#%%\n"
    }
   }
  },
  {
   "cell_type": "code",
   "execution_count": 15,
   "outputs": [
    {
     "data": {
      "text/plain": "                Borough  Population  longitude  latitude  Total_Crime  \\\n0  Barking and Dagenham      212906   0.129506   51.5455        39456   \n1                Barnet      395896  -0.218210   51.6111        59167   \n2                Bexley      248287   0.146212   51.4582        33929   \n3                 Brent      329771  -0.275680   51.5644        59257   \n4               Bromley      332336   0.039246   51.3727        47499   \n\n   Crime_Rate  \n0    18532.12  \n1    14945.09  \n2    13665.23  \n3    17969.14  \n4    14292.46  ",
      "text/html": "<div>\n<style scoped>\n    .dataframe tbody tr th:only-of-type {\n        vertical-align: middle;\n    }\n\n    .dataframe tbody tr th {\n        vertical-align: top;\n    }\n\n    .dataframe thead th {\n        text-align: right;\n    }\n</style>\n<table border=\"1\" class=\"dataframe\">\n  <thead>\n    <tr style=\"text-align: right;\">\n      <th></th>\n      <th>Borough</th>\n      <th>Population</th>\n      <th>longitude</th>\n      <th>latitude</th>\n      <th>Total_Crime</th>\n      <th>Crime_Rate</th>\n    </tr>\n  </thead>\n  <tbody>\n    <tr>\n      <th>0</th>\n      <td>Barking and Dagenham</td>\n      <td>212906</td>\n      <td>0.129506</td>\n      <td>51.5455</td>\n      <td>39456</td>\n      <td>18532.12</td>\n    </tr>\n    <tr>\n      <th>1</th>\n      <td>Barnet</td>\n      <td>395896</td>\n      <td>-0.218210</td>\n      <td>51.6111</td>\n      <td>59167</td>\n      <td>14945.09</td>\n    </tr>\n    <tr>\n      <th>2</th>\n      <td>Bexley</td>\n      <td>248287</td>\n      <td>0.146212</td>\n      <td>51.4582</td>\n      <td>33929</td>\n      <td>13665.23</td>\n    </tr>\n    <tr>\n      <th>3</th>\n      <td>Brent</td>\n      <td>329771</td>\n      <td>-0.275680</td>\n      <td>51.5644</td>\n      <td>59257</td>\n      <td>17969.14</td>\n    </tr>\n    <tr>\n      <th>4</th>\n      <td>Bromley</td>\n      <td>332336</td>\n      <td>0.039246</td>\n      <td>51.3727</td>\n      <td>47499</td>\n      <td>14292.46</td>\n    </tr>\n  </tbody>\n</table>\n</div>"
     },
     "execution_count": 15,
     "metadata": {},
     "output_type": "execute_result"
    }
   ],
   "source": [
    "# calculate crime rate for each borough\n",
    "london_crimes['Crime_Rate'] = round((london_crimes['Total_Crime'] / london_crimes['Population']) * 100000, 2)\n",
    "london_crimes.head()"
   ],
   "metadata": {
    "collapsed": false,
    "pycharm": {
     "name": "#%%\n"
    }
   }
  },
  {
   "cell_type": "code",
   "execution_count": 16,
   "outputs": [
    {
     "data": {
      "text/plain": "                Borough  Population  longitude  latitude  Total_Crime  \\\n0  Barking and Dagenham      212906   0.129506   51.5455        39456   \n1                Barnet      395896  -0.218210   51.6111        59167   \n2                Bexley      248287   0.146212   51.4582        33929   \n3                 Brent      329771  -0.275680   51.5644        59257   \n4               Bromley      332336   0.039246   51.3727        47499   \n\n   Crime_Rate Crime_Rate_binned  \n0    18532.12            Medium  \n1    14945.09               Low  \n2    13665.23               Low  \n3    17969.14            Medium  \n4    14292.46               Low  ",
      "text/html": "<div>\n<style scoped>\n    .dataframe tbody tr th:only-of-type {\n        vertical-align: middle;\n    }\n\n    .dataframe tbody tr th {\n        vertical-align: top;\n    }\n\n    .dataframe thead th {\n        text-align: right;\n    }\n</style>\n<table border=\"1\" class=\"dataframe\">\n  <thead>\n    <tr style=\"text-align: right;\">\n      <th></th>\n      <th>Borough</th>\n      <th>Population</th>\n      <th>longitude</th>\n      <th>latitude</th>\n      <th>Total_Crime</th>\n      <th>Crime_Rate</th>\n      <th>Crime_Rate_binned</th>\n    </tr>\n  </thead>\n  <tbody>\n    <tr>\n      <th>0</th>\n      <td>Barking and Dagenham</td>\n      <td>212906</td>\n      <td>0.129506</td>\n      <td>51.5455</td>\n      <td>39456</td>\n      <td>18532.12</td>\n      <td>Medium</td>\n    </tr>\n    <tr>\n      <th>1</th>\n      <td>Barnet</td>\n      <td>395896</td>\n      <td>-0.218210</td>\n      <td>51.6111</td>\n      <td>59167</td>\n      <td>14945.09</td>\n      <td>Low</td>\n    </tr>\n    <tr>\n      <th>2</th>\n      <td>Bexley</td>\n      <td>248287</td>\n      <td>0.146212</td>\n      <td>51.4582</td>\n      <td>33929</td>\n      <td>13665.23</td>\n      <td>Low</td>\n    </tr>\n    <tr>\n      <th>3</th>\n      <td>Brent</td>\n      <td>329771</td>\n      <td>-0.275680</td>\n      <td>51.5644</td>\n      <td>59257</td>\n      <td>17969.14</td>\n      <td>Medium</td>\n    </tr>\n    <tr>\n      <th>4</th>\n      <td>Bromley</td>\n      <td>332336</td>\n      <td>0.039246</td>\n      <td>51.3727</td>\n      <td>47499</td>\n      <td>14292.46</td>\n      <td>Low</td>\n    </tr>\n  </tbody>\n</table>\n</div>"
     },
     "execution_count": 16,
     "metadata": {},
     "output_type": "execute_result"
    }
   ],
   "source": [
    "bin_labels = ['Low', 'Medium', 'High']\n",
    "london_crimes['Crime_Rate_binned'] = pd.qcut(london_crimes['Crime_Rate'], q=3, labels=bin_labels)\n",
    "london_crimes.head()"
   ],
   "metadata": {
    "collapsed": false,
    "pycharm": {
     "name": "#%%\n"
    }
   }
  },
  {
   "cell_type": "markdown",
   "source": [
    "geojson"
   ],
   "metadata": {
    "collapsed": false,
    "pycharm": {
     "name": "#%% md\n"
    }
   }
  },
  {
   "cell_type": "code",
   "execution_count": 17,
   "outputs": [
    {
     "data": {
      "text/plain": "     LAD13CD LAD13CDO               LAD13NM LAD13NMW  \\\n0  E06000001     00EB            Hartlepool     None   \n1  E06000002     00EC         Middlesbrough     None   \n2  E06000003     00EE  Redcar and Cleveland     None   \n3  E06000004     00EF      Stockton-on-Tees     None   \n4  E06000005     00EH            Darlington     None   \n\n                                            geometry  \n0  MULTIPOLYGON (((-1.24196 54.72245, -1.24251 54...  \n1  MULTIPOLYGON (((-1.19705 54.58178, -1.19436 54...  \n2  MULTIPOLYGON (((-1.20099 54.57759, -1.20024 54...  \n3  MULTIPOLYGON (((-1.30387 54.56514, -1.30199 54...  \n4  POLYGON ((-1.63799 54.61719, -1.63766 54.61669...  ",
      "text/html": "<div>\n<style scoped>\n    .dataframe tbody tr th:only-of-type {\n        vertical-align: middle;\n    }\n\n    .dataframe tbody tr th {\n        vertical-align: top;\n    }\n\n    .dataframe thead th {\n        text-align: right;\n    }\n</style>\n<table border=\"1\" class=\"dataframe\">\n  <thead>\n    <tr style=\"text-align: right;\">\n      <th></th>\n      <th>LAD13CD</th>\n      <th>LAD13CDO</th>\n      <th>LAD13NM</th>\n      <th>LAD13NMW</th>\n      <th>geometry</th>\n    </tr>\n  </thead>\n  <tbody>\n    <tr>\n      <th>0</th>\n      <td>E06000001</td>\n      <td>00EB</td>\n      <td>Hartlepool</td>\n      <td>None</td>\n      <td>MULTIPOLYGON (((-1.24196 54.72245, -1.24251 54...</td>\n    </tr>\n    <tr>\n      <th>1</th>\n      <td>E06000002</td>\n      <td>00EC</td>\n      <td>Middlesbrough</td>\n      <td>None</td>\n      <td>MULTIPOLYGON (((-1.19705 54.58178, -1.19436 54...</td>\n    </tr>\n    <tr>\n      <th>2</th>\n      <td>E06000003</td>\n      <td>00EE</td>\n      <td>Redcar and Cleveland</td>\n      <td>None</td>\n      <td>MULTIPOLYGON (((-1.20099 54.57759, -1.20024 54...</td>\n    </tr>\n    <tr>\n      <th>3</th>\n      <td>E06000004</td>\n      <td>00EF</td>\n      <td>Stockton-on-Tees</td>\n      <td>None</td>\n      <td>MULTIPOLYGON (((-1.30387 54.56514, -1.30199 54...</td>\n    </tr>\n    <tr>\n      <th>4</th>\n      <td>E06000005</td>\n      <td>00EH</td>\n      <td>Darlington</td>\n      <td>None</td>\n      <td>POLYGON ((-1.63799 54.61719, -1.63766 54.61669...</td>\n    </tr>\n  </tbody>\n</table>\n</div>"
     },
     "execution_count": 17,
     "metadata": {},
     "output_type": "execute_result"
    }
   ],
   "source": [
    "london_geo = gpd.read_file('gb_boroughs.json')\n",
    "london_geo.head()"
   ],
   "metadata": {
    "collapsed": false,
    "pycharm": {
     "name": "#%%\n"
    }
   }
  },
  {
   "cell_type": "code",
   "execution_count": 18,
   "outputs": [
    {
     "data": {
      "text/plain": "           Borough  Population  longitude  latitude  Total_Crime  Crime_Rate  \\\n27          Sutton      206349   -0.17227   51.3576        27146    13155.38   \n28   Tower Hamlets      324745   -0.03640   51.5155        67146    20676.53   \n29  Waltham Forest      276983   -0.01881   51.5946        47946    17310.09   \n30      Wandsworth      329677   -0.20021   51.4524        51171    15521.56   \n31     Westminster      261317   -0.15295   51.5122       134848    51603.23   \n\n   Crime_Rate_binned                                           geometry  \n27               Low  POLYGON ((-0.16646 51.38969, -0.16529 51.38798...  \n28              High  POLYGON ((-0.02947 51.54303, -0.02901 51.54227...  \n29            Medium  POLYGON ((-0.00822 51.64361, -0.00668 51.64333...  \n30               Low  POLYGON ((-0.12636 51.48447, -0.12750 51.48202...  \n31              High  POLYGON ((-0.17414 51.53820, -0.17351 51.53763...  ",
      "text/html": "<div>\n<style scoped>\n    .dataframe tbody tr th:only-of-type {\n        vertical-align: middle;\n    }\n\n    .dataframe tbody tr th {\n        vertical-align: top;\n    }\n\n    .dataframe thead th {\n        text-align: right;\n    }\n</style>\n<table border=\"1\" class=\"dataframe\">\n  <thead>\n    <tr style=\"text-align: right;\">\n      <th></th>\n      <th>Borough</th>\n      <th>Population</th>\n      <th>longitude</th>\n      <th>latitude</th>\n      <th>Total_Crime</th>\n      <th>Crime_Rate</th>\n      <th>Crime_Rate_binned</th>\n      <th>geometry</th>\n    </tr>\n  </thead>\n  <tbody>\n    <tr>\n      <th>27</th>\n      <td>Sutton</td>\n      <td>206349</td>\n      <td>-0.17227</td>\n      <td>51.3576</td>\n      <td>27146</td>\n      <td>13155.38</td>\n      <td>Low</td>\n      <td>POLYGON ((-0.16646 51.38969, -0.16529 51.38798...</td>\n    </tr>\n    <tr>\n      <th>28</th>\n      <td>Tower Hamlets</td>\n      <td>324745</td>\n      <td>-0.03640</td>\n      <td>51.5155</td>\n      <td>67146</td>\n      <td>20676.53</td>\n      <td>High</td>\n      <td>POLYGON ((-0.02947 51.54303, -0.02901 51.54227...</td>\n    </tr>\n    <tr>\n      <th>29</th>\n      <td>Waltham Forest</td>\n      <td>276983</td>\n      <td>-0.01881</td>\n      <td>51.5946</td>\n      <td>47946</td>\n      <td>17310.09</td>\n      <td>Medium</td>\n      <td>POLYGON ((-0.00822 51.64361, -0.00668 51.64333...</td>\n    </tr>\n    <tr>\n      <th>30</th>\n      <td>Wandsworth</td>\n      <td>329677</td>\n      <td>-0.20021</td>\n      <td>51.4524</td>\n      <td>51171</td>\n      <td>15521.56</td>\n      <td>Low</td>\n      <td>POLYGON ((-0.12636 51.48447, -0.12750 51.48202...</td>\n    </tr>\n    <tr>\n      <th>31</th>\n      <td>Westminster</td>\n      <td>261317</td>\n      <td>-0.15295</td>\n      <td>51.5122</td>\n      <td>134848</td>\n      <td>51603.23</td>\n      <td>High</td>\n      <td>POLYGON ((-0.17414 51.53820, -0.17351 51.53763...</td>\n    </tr>\n  </tbody>\n</table>\n</div>"
     },
     "execution_count": 18,
     "metadata": {},
     "output_type": "execute_result"
    }
   ],
   "source": [
    "# the names are weird and can't be found when i search for them so...\n",
    "london_geo.columns = ['dunno', 'stuff', 'Borough', 'huh', 'geometry']\n",
    "london_geo = london_geo[['Borough', 'geometry']]\n",
    "london_geo = london_crimes.merge(london_geo, on='Borough')\n",
    "london_geo.tail()"
   ],
   "metadata": {
    "collapsed": false,
    "pycharm": {
     "name": "#%%\n"
    }
   }
  },
  {
   "cell_type": "markdown",
   "source": [
    "## Get venues"
   ],
   "metadata": {
    "collapsed": false,
    "pycharm": {
     "name": "#%% md\n"
    }
   }
  },
  {
   "cell_type": "code",
   "execution_count": 19,
   "outputs": [],
   "source": [
    "# function for checking something is in the right borough\n",
    "def check_venue(borough, lat, lon):\n",
    "        point = Point(lon, lat)\n",
    "        poly = london_geo[london_geo['Borough'] == borough]['geometry'].item()\n",
    "        poly = shape(poly)\n",
    "\n",
    "        if poly.contains(point):\n",
    "            return True\n",
    "        else:\n",
    "            return False\n",
    "\n",
    "\n",
    "# function for getting venues\n",
    "def get_venues(boroughs, lats, lngs, cat):\n",
    "    radius = 10000\n",
    "\n",
    "    venues_list=[]\n",
    "    for borough, lat, lng in zip(boroughs, lats, lngs):\n",
    "        url = 'https://api.foursquare.com/v2/venues/search?&client_id={}&client_secret={}&v={}&ll={},{}&radius={}&limit={}&categoryId={}'.format(\n",
    "            CLIENT_ID,\n",
    "            CLIENT_SECRET,\n",
    "            VERSION,\n",
    "            lat,\n",
    "            lng,\n",
    "            radius,\n",
    "            LIMIT,\n",
    "            cat\n",
    "            )\n",
    "\n",
    "        results = requests.get(url).json()[\"response\"]['venues']\n",
    "\n",
    "        if check_venue(borough, lat, lng):\n",
    "            venues_list.append([(\n",
    "                borough,\n",
    "                lat,\n",
    "                lng,\n",
    "                v['name'],\n",
    "                v['location']['lat'],\n",
    "                v['location']['lng'],\n",
    "                v['categories'][0]['name']) for v in results])\n",
    "\n",
    "    nearby_venues = pd.DataFrame([item for venue_list in venues_list for item in venue_list])\n",
    "    nearby_venues.columns = ['Borough',\n",
    "                             'Latitude',\n",
    "                             'Longitude',\n",
    "                             'Venue',\n",
    "                             'Venue Latitude',\n",
    "                             'Venue Longitude',\n",
    "                             'Venue Category']\n",
    "\n",
    "    return nearby_venues"
   ],
   "metadata": {
    "collapsed": false,
    "pycharm": {
     "name": "#%%\n"
    }
   }
  },
  {
   "cell_type": "code",
   "execution_count": 20,
   "outputs": [],
   "source": [
    "# different categories of venues\n",
    "cat_art = '4d4b7104d754a06370d81259'  # Arts & Entertainment\n",
    "cat_out = '4d4b7105d754a06377d81259' # outdoors recreation\n",
    "cat_study = '4d4b7105d754a06372d81259,4bf58dd8d48988d12f941735' # college and university, libraries\n",
    "cat_social = '52e81612bcbc57f1066b7a34,52e81612bcbc57f1066b7a33,4bf58dd8d48988d131941735'  # community centre, social club, religious centres\n",
    "\n",
    "# values for getting venues\n",
    "bor = london_crimes.Borough\n",
    "lat = london_crimes.latitude\n",
    "lng = london_crimes.longitude\n",
    "\n",
    "arts = get_venues(bor, lat, lng, cat_art)\n",
    "outs = get_venues(bor, lat, lng, cat_out)\n",
    "studs = get_venues(bor, lat, lng, cat_study)\n",
    "socials = get_venues(bor, lat, lng, cat_social)"
   ],
   "metadata": {
    "collapsed": false,
    "pycharm": {
     "name": "#%%\n"
    }
   }
  },
  {
   "cell_type": "code",
   "execution_count": 21,
   "outputs": [
    {
     "data": {
      "text/plain": "                Borough  Latitude  Longitude                Venue  \\\n0  Barking and Dagenham   51.5455   0.129506     Dagenham Library   \n1  Barking and Dagenham   51.5455   0.129506   Powerleague Newham   \n2  Barking and Dagenham   51.5455   0.129506            The Green   \n3  Barking and Dagenham   51.5455   0.129506            The Point   \n4  Barking and Dagenham   51.5455   0.129506  Powerleague Fairlop   \n\n   Venue Latitude  Venue Longitude                Venue Category  \n0       51.540330         0.148273                       Library  \n1       51.525194         0.078000        College Football Field  \n2       51.544845         0.011269             College Cafeteria  \n3       51.502878         0.040015  General College & University  \n4       51.600130         0.102691        College Football Field  ",
      "text/html": "<div>\n<style scoped>\n    .dataframe tbody tr th:only-of-type {\n        vertical-align: middle;\n    }\n\n    .dataframe tbody tr th {\n        vertical-align: top;\n    }\n\n    .dataframe thead th {\n        text-align: right;\n    }\n</style>\n<table border=\"1\" class=\"dataframe\">\n  <thead>\n    <tr style=\"text-align: right;\">\n      <th></th>\n      <th>Borough</th>\n      <th>Latitude</th>\n      <th>Longitude</th>\n      <th>Venue</th>\n      <th>Venue Latitude</th>\n      <th>Venue Longitude</th>\n      <th>Venue Category</th>\n    </tr>\n  </thead>\n  <tbody>\n    <tr>\n      <th>0</th>\n      <td>Barking and Dagenham</td>\n      <td>51.5455</td>\n      <td>0.129506</td>\n      <td>Dagenham Library</td>\n      <td>51.540330</td>\n      <td>0.148273</td>\n      <td>Library</td>\n    </tr>\n    <tr>\n      <th>1</th>\n      <td>Barking and Dagenham</td>\n      <td>51.5455</td>\n      <td>0.129506</td>\n      <td>Powerleague Newham</td>\n      <td>51.525194</td>\n      <td>0.078000</td>\n      <td>College Football Field</td>\n    </tr>\n    <tr>\n      <th>2</th>\n      <td>Barking and Dagenham</td>\n      <td>51.5455</td>\n      <td>0.129506</td>\n      <td>The Green</td>\n      <td>51.544845</td>\n      <td>0.011269</td>\n      <td>College Cafeteria</td>\n    </tr>\n    <tr>\n      <th>3</th>\n      <td>Barking and Dagenham</td>\n      <td>51.5455</td>\n      <td>0.129506</td>\n      <td>The Point</td>\n      <td>51.502878</td>\n      <td>0.040015</td>\n      <td>General College &amp; University</td>\n    </tr>\n    <tr>\n      <th>4</th>\n      <td>Barking and Dagenham</td>\n      <td>51.5455</td>\n      <td>0.129506</td>\n      <td>Powerleague Fairlop</td>\n      <td>51.600130</td>\n      <td>0.102691</td>\n      <td>College Football Field</td>\n    </tr>\n  </tbody>\n</table>\n</div>"
     },
     "execution_count": 21,
     "metadata": {},
     "output_type": "execute_result"
    }
   ],
   "source": [
    "studs.head()"
   ],
   "metadata": {
    "collapsed": false,
    "pycharm": {
     "name": "#%%\n"
    }
   }
  },
  {
   "cell_type": "code",
   "execution_count": 22,
   "outputs": [],
   "source": [
    "arts_total = arts.groupby('Borough').count()\n",
    "outs_total = outs.groupby('Borough').count()\n",
    "studs_total = studs.groupby('Borough').count()\n",
    "socials_total = socials.groupby('Borough').count()"
   ],
   "metadata": {
    "collapsed": false,
    "pycharm": {
     "name": "#%%\n"
    }
   }
  },
  {
   "cell_type": "code",
   "execution_count": 23,
   "outputs": [
    {
     "data": {
      "text/plain": "                      Latitude  Longitude  Venue  Venue Latitude  \\\nBorough                                                            \nBarking and Dagenham        50         50     50              50   \nBarnet                      49         49     49              49   \nBexley                      47         47     47              47   \nBrent                       49         49     49              49   \nBromley                     46         46     46              46   \n\n                      Venue Longitude  Venue Category  \nBorough                                                \nBarking and Dagenham               50              50  \nBarnet                             49              49  \nBexley                             47              47  \nBrent                              49              49  \nBromley                            46              46  ",
      "text/html": "<div>\n<style scoped>\n    .dataframe tbody tr th:only-of-type {\n        vertical-align: middle;\n    }\n\n    .dataframe tbody tr th {\n        vertical-align: top;\n    }\n\n    .dataframe thead th {\n        text-align: right;\n    }\n</style>\n<table border=\"1\" class=\"dataframe\">\n  <thead>\n    <tr style=\"text-align: right;\">\n      <th></th>\n      <th>Latitude</th>\n      <th>Longitude</th>\n      <th>Venue</th>\n      <th>Venue Latitude</th>\n      <th>Venue Longitude</th>\n      <th>Venue Category</th>\n    </tr>\n    <tr>\n      <th>Borough</th>\n      <th></th>\n      <th></th>\n      <th></th>\n      <th></th>\n      <th></th>\n      <th></th>\n    </tr>\n  </thead>\n  <tbody>\n    <tr>\n      <th>Barking and Dagenham</th>\n      <td>50</td>\n      <td>50</td>\n      <td>50</td>\n      <td>50</td>\n      <td>50</td>\n      <td>50</td>\n    </tr>\n    <tr>\n      <th>Barnet</th>\n      <td>49</td>\n      <td>49</td>\n      <td>49</td>\n      <td>49</td>\n      <td>49</td>\n      <td>49</td>\n    </tr>\n    <tr>\n      <th>Bexley</th>\n      <td>47</td>\n      <td>47</td>\n      <td>47</td>\n      <td>47</td>\n      <td>47</td>\n      <td>47</td>\n    </tr>\n    <tr>\n      <th>Brent</th>\n      <td>49</td>\n      <td>49</td>\n      <td>49</td>\n      <td>49</td>\n      <td>49</td>\n      <td>49</td>\n    </tr>\n    <tr>\n      <th>Bromley</th>\n      <td>46</td>\n      <td>46</td>\n      <td>46</td>\n      <td>46</td>\n      <td>46</td>\n      <td>46</td>\n    </tr>\n  </tbody>\n</table>\n</div>"
     },
     "execution_count": 23,
     "metadata": {},
     "output_type": "execute_result"
    }
   ],
   "source": [
    "arts_total.head()"
   ],
   "metadata": {
    "collapsed": false,
    "pycharm": {
     "name": "#%%\n"
    }
   }
  },
  {
   "cell_type": "code",
   "execution_count": 24,
   "outputs": [
    {
     "data": {
      "text/plain": "                Borough  Population  longitude  latitude  Total_Crime  \\\n0  Barking and Dagenham      212906   0.129506   51.5455        39456   \n1                Barnet      395896  -0.218210   51.6111        59167   \n2                Bexley      248287   0.146212   51.4582        33929   \n3                 Brent      329771  -0.275680   51.5644        59257   \n4               Bromley      332336   0.039246   51.3727        47499   \n\n   Crime_Rate Crime_Rate_binned  Arts  Outdoors  Study  Social and Religious  \n0    18532.12            Medium    50        42     48                    49  \n1    14945.09               Low    49        32     50                    50  \n2    13665.23               Low    47        40     44                    48  \n3    17969.14            Medium    49        37     50                    50  \n4    14292.46               Low    46        40     45                    48  ",
      "text/html": "<div>\n<style scoped>\n    .dataframe tbody tr th:only-of-type {\n        vertical-align: middle;\n    }\n\n    .dataframe tbody tr th {\n        vertical-align: top;\n    }\n\n    .dataframe thead th {\n        text-align: right;\n    }\n</style>\n<table border=\"1\" class=\"dataframe\">\n  <thead>\n    <tr style=\"text-align: right;\">\n      <th></th>\n      <th>Borough</th>\n      <th>Population</th>\n      <th>longitude</th>\n      <th>latitude</th>\n      <th>Total_Crime</th>\n      <th>Crime_Rate</th>\n      <th>Crime_Rate_binned</th>\n      <th>Arts</th>\n      <th>Outdoors</th>\n      <th>Study</th>\n      <th>Social and Religious</th>\n    </tr>\n  </thead>\n  <tbody>\n    <tr>\n      <th>0</th>\n      <td>Barking and Dagenham</td>\n      <td>212906</td>\n      <td>0.129506</td>\n      <td>51.5455</td>\n      <td>39456</td>\n      <td>18532.12</td>\n      <td>Medium</td>\n      <td>50</td>\n      <td>42</td>\n      <td>48</td>\n      <td>49</td>\n    </tr>\n    <tr>\n      <th>1</th>\n      <td>Barnet</td>\n      <td>395896</td>\n      <td>-0.218210</td>\n      <td>51.6111</td>\n      <td>59167</td>\n      <td>14945.09</td>\n      <td>Low</td>\n      <td>49</td>\n      <td>32</td>\n      <td>50</td>\n      <td>50</td>\n    </tr>\n    <tr>\n      <th>2</th>\n      <td>Bexley</td>\n      <td>248287</td>\n      <td>0.146212</td>\n      <td>51.4582</td>\n      <td>33929</td>\n      <td>13665.23</td>\n      <td>Low</td>\n      <td>47</td>\n      <td>40</td>\n      <td>44</td>\n      <td>48</td>\n    </tr>\n    <tr>\n      <th>3</th>\n      <td>Brent</td>\n      <td>329771</td>\n      <td>-0.275680</td>\n      <td>51.5644</td>\n      <td>59257</td>\n      <td>17969.14</td>\n      <td>Medium</td>\n      <td>49</td>\n      <td>37</td>\n      <td>50</td>\n      <td>50</td>\n    </tr>\n    <tr>\n      <th>4</th>\n      <td>Bromley</td>\n      <td>332336</td>\n      <td>0.039246</td>\n      <td>51.3727</td>\n      <td>47499</td>\n      <td>14292.46</td>\n      <td>Low</td>\n      <td>46</td>\n      <td>40</td>\n      <td>45</td>\n      <td>48</td>\n    </tr>\n  </tbody>\n</table>\n</div>"
     },
     "execution_count": 24,
     "metadata": {},
     "output_type": "execute_result"
    }
   ],
   "source": [
    "# add them to london_crimes df\n",
    "london1 = london_crimes.merge(arts_total['Venue'], on='Borough')\n",
    "london1.rename(columns = {'Venue':'Arts'}, inplace=True)\n",
    "london1 = london1.merge(outs_total['Venue'], on='Borough')\n",
    "london1.rename(columns = {'Venue':'Outdoors'}, inplace=True)\n",
    "london1 = london1.merge(studs_total['Venue'], on='Borough')\n",
    "london1.rename(columns = {'Venue':'Study'}, inplace=True)\n",
    "london1 = london1.merge(socials_total['Venue'], on='Borough')\n",
    "london1.rename(columns = {'Venue':'Social and Religious'}, inplace=True)\n",
    "london1.head()"
   ],
   "metadata": {
    "collapsed": false,
    "pycharm": {
     "name": "#%%\n"
    }
   }
  },
  {
   "cell_type": "code",
   "execution_count": 26,
   "outputs": [],
   "source": [
    "# get total venues\n",
    "london1['Total_Venues'] = london1.Arts + london1.Outdoors + london1.Study + london1['Social and Religious']\n",
    "london1.to_csv('london1.csv', index=False)"
   ],
   "metadata": {
    "collapsed": false,
    "pycharm": {
     "name": "#%%\n"
    }
   }
  },
  {
   "cell_type": "markdown",
   "source": [
    "## now to see what clustering comes up with"
   ],
   "metadata": {
    "collapsed": false,
    "pycharm": {
     "name": "#%% md\n"
    }
   }
  },
  {
   "cell_type": "code",
   "execution_count": 27,
   "outputs": [],
   "source": [
    "all_venues = pd.concat([arts, outs, studs, socials])"
   ],
   "metadata": {
    "collapsed": false,
    "pycharm": {
     "name": "#%%\n"
    }
   }
  },
  {
   "cell_type": "code",
   "execution_count": 28,
   "outputs": [
    {
     "data": {
      "text/plain": "                Borough  Adult Education Center  American Restaurant  \\\n0  Barking and Dagenham                       0                    0   \n1  Barking and Dagenham                       0                    0   \n2  Barking and Dagenham                       0                    0   \n3  Barking and Dagenham                       0                    0   \n4  Barking and Dagenham                       0                    0   \n\n   Animal Shelter  Arcade  Art Gallery  Art Museum  Arts & Entertainment  \\\n0               0       0            0           0                     0   \n1               0       0            0           0                     0   \n2               0       1            0           0                     0   \n3               0       0            0           0                     0   \n4               0       0            0           0                     0   \n\n   Athletics & Sports  BBQ Joint  ...  Theme Park Ride / Attraction  \\\n0                   0          0  ...                             0   \n1                   0          0  ...                             0   \n2                   0          0  ...                             0   \n3                   0          0  ...                             0   \n4                   0          0  ...                             0   \n\n   Track Stadium  Trade School  Trail  University  Water Park  Waterfront  \\\n0              0             0      0           0           0           0   \n1              0             0      0           0           0           0   \n2              0             0      0           0           0           0   \n3              0             0      0           0           0           0   \n4              0             0      0           0           0           0   \n\n   Well  Zoo  Zoo Exhibit  \n0     0    0            0  \n1     0    0            0  \n2     0    0            0  \n3     0    0            0  \n4     0    0            0  \n\n[5 rows x 166 columns]",
      "text/html": "<div>\n<style scoped>\n    .dataframe tbody tr th:only-of-type {\n        vertical-align: middle;\n    }\n\n    .dataframe tbody tr th {\n        vertical-align: top;\n    }\n\n    .dataframe thead th {\n        text-align: right;\n    }\n</style>\n<table border=\"1\" class=\"dataframe\">\n  <thead>\n    <tr style=\"text-align: right;\">\n      <th></th>\n      <th>Borough</th>\n      <th>Adult Education Center</th>\n      <th>American Restaurant</th>\n      <th>Animal Shelter</th>\n      <th>Arcade</th>\n      <th>Art Gallery</th>\n      <th>Art Museum</th>\n      <th>Arts &amp; Entertainment</th>\n      <th>Athletics &amp; Sports</th>\n      <th>BBQ Joint</th>\n      <th>...</th>\n      <th>Theme Park Ride / Attraction</th>\n      <th>Track Stadium</th>\n      <th>Trade School</th>\n      <th>Trail</th>\n      <th>University</th>\n      <th>Water Park</th>\n      <th>Waterfront</th>\n      <th>Well</th>\n      <th>Zoo</th>\n      <th>Zoo Exhibit</th>\n    </tr>\n  </thead>\n  <tbody>\n    <tr>\n      <th>0</th>\n      <td>Barking and Dagenham</td>\n      <td>0</td>\n      <td>0</td>\n      <td>0</td>\n      <td>0</td>\n      <td>0</td>\n      <td>0</td>\n      <td>0</td>\n      <td>0</td>\n      <td>0</td>\n      <td>...</td>\n      <td>0</td>\n      <td>0</td>\n      <td>0</td>\n      <td>0</td>\n      <td>0</td>\n      <td>0</td>\n      <td>0</td>\n      <td>0</td>\n      <td>0</td>\n      <td>0</td>\n    </tr>\n    <tr>\n      <th>1</th>\n      <td>Barking and Dagenham</td>\n      <td>0</td>\n      <td>0</td>\n      <td>0</td>\n      <td>0</td>\n      <td>0</td>\n      <td>0</td>\n      <td>0</td>\n      <td>0</td>\n      <td>0</td>\n      <td>...</td>\n      <td>0</td>\n      <td>0</td>\n      <td>0</td>\n      <td>0</td>\n      <td>0</td>\n      <td>0</td>\n      <td>0</td>\n      <td>0</td>\n      <td>0</td>\n      <td>0</td>\n    </tr>\n    <tr>\n      <th>2</th>\n      <td>Barking and Dagenham</td>\n      <td>0</td>\n      <td>0</td>\n      <td>0</td>\n      <td>1</td>\n      <td>0</td>\n      <td>0</td>\n      <td>0</td>\n      <td>0</td>\n      <td>0</td>\n      <td>...</td>\n      <td>0</td>\n      <td>0</td>\n      <td>0</td>\n      <td>0</td>\n      <td>0</td>\n      <td>0</td>\n      <td>0</td>\n      <td>0</td>\n      <td>0</td>\n      <td>0</td>\n    </tr>\n    <tr>\n      <th>3</th>\n      <td>Barking and Dagenham</td>\n      <td>0</td>\n      <td>0</td>\n      <td>0</td>\n      <td>0</td>\n      <td>0</td>\n      <td>0</td>\n      <td>0</td>\n      <td>0</td>\n      <td>0</td>\n      <td>...</td>\n      <td>0</td>\n      <td>0</td>\n      <td>0</td>\n      <td>0</td>\n      <td>0</td>\n      <td>0</td>\n      <td>0</td>\n      <td>0</td>\n      <td>0</td>\n      <td>0</td>\n    </tr>\n    <tr>\n      <th>4</th>\n      <td>Barking and Dagenham</td>\n      <td>0</td>\n      <td>0</td>\n      <td>0</td>\n      <td>0</td>\n      <td>0</td>\n      <td>0</td>\n      <td>0</td>\n      <td>0</td>\n      <td>0</td>\n      <td>...</td>\n      <td>0</td>\n      <td>0</td>\n      <td>0</td>\n      <td>0</td>\n      <td>0</td>\n      <td>0</td>\n      <td>0</td>\n      <td>0</td>\n      <td>0</td>\n      <td>0</td>\n    </tr>\n  </tbody>\n</table>\n<p>5 rows × 166 columns</p>\n</div>"
     },
     "execution_count": 28,
     "metadata": {},
     "output_type": "execute_result"
    }
   ],
   "source": [
    "# lets see how k-means clustering sorts them and if that correlates\n",
    "# one hot encoding\n",
    "london_onehot = pd.get_dummies(all_venues[['Venue Category']], prefix=\"\", prefix_sep=\"\")\n",
    "\n",
    "# add neighborhood column back to dataframe\n",
    "london_onehot['Borough'] = all_venues['Borough']\n",
    "\n",
    "# move neighborhood column to the first column\n",
    "fixed_columns = [london_onehot.columns[-1]] + list(london_onehot.columns[:-1])\n",
    "london_onehot = london_onehot[fixed_columns]\n",
    "\n",
    "london_onehot.head()"
   ],
   "metadata": {
    "collapsed": false,
    "pycharm": {
     "name": "#%%\n"
    }
   }
  },
  {
   "cell_type": "code",
   "execution_count": 29,
   "outputs": [
    {
     "data": {
      "text/plain": "                   Borough  Adult Education Center  American Restaurant  \\\n0     Barking and Dagenham                0.000000             0.000000   \n1                   Barnet                0.000000             0.000000   \n2                   Bexley                0.000000             0.000000   \n3                    Brent                0.000000             0.005376   \n4                  Bromley                0.000000             0.000000   \n5                   Camden                0.005348             0.005348   \n6                  Croydon                0.000000             0.000000   \n7                   Ealing                0.000000             0.005319   \n8                  Enfield                0.000000             0.000000   \n9                Greenwich                0.000000             0.000000   \n10                 Hackney                0.005376             0.005376   \n11  Hammersmith and Fulham                0.005319             0.005319   \n12                Haringey                0.005348             0.005348   \n13                  Harrow                0.000000             0.000000   \n14                Havering                0.000000             0.000000   \n15              Hillingdon                0.000000             0.000000   \n16                Hounslow                0.000000             0.000000   \n17               Islington                0.005319             0.005319   \n18  Kensington and Chelsea                0.005348             0.005348   \n19    Kingston upon Thames                0.000000             0.000000   \n20                 Lambeth                0.005348             0.005348   \n21                Lewisham                0.005319             0.000000   \n22                  Merton                0.005263             0.005263   \n23                  Newham                0.005291             0.000000   \n24               Redbridge                0.000000             0.000000   \n25    Richmond upon Thames                0.000000             0.005263   \n26               Southwark                0.005319             0.005319   \n27                  Sutton                0.000000             0.000000   \n28           Tower Hamlets                0.005319             0.005319   \n29          Waltham Forest                0.000000             0.000000   \n30              Wandsworth                0.005291             0.005291   \n31             Westminster                0.005405             0.005405   \n\n    Animal Shelter    Arcade  Art Gallery  Art Museum  Arts & Entertainment  \\\n0         0.000000  0.005291     0.047619    0.000000              0.000000   \n1         0.000000  0.000000     0.016575    0.000000              0.000000   \n2         0.000000  0.000000     0.016760    0.000000              0.000000   \n3         0.000000  0.000000     0.032258    0.010753              0.000000   \n4         0.005587  0.005587     0.022346    0.000000              0.000000   \n5         0.000000  0.000000     0.016043    0.032086              0.000000   \n6         0.000000  0.000000     0.021505    0.000000              0.000000   \n7         0.000000  0.000000     0.031915    0.010638              0.000000   \n8         0.000000  0.000000     0.032432    0.000000              0.000000   \n9         0.000000  0.000000     0.037037    0.000000              0.000000   \n10        0.000000  0.000000     0.021505    0.026882              0.000000   \n11        0.000000  0.000000     0.010638    0.031915              0.000000   \n12        0.000000  0.000000     0.021390    0.026738              0.000000   \n13        0.000000  0.005525     0.016575    0.000000              0.005525   \n14        0.000000  0.006329     0.012658    0.000000              0.000000   \n15        0.000000  0.000000     0.016304    0.000000              0.005435   \n16        0.000000  0.000000     0.015873    0.010582              0.000000   \n17        0.000000  0.000000     0.015957    0.026596              0.000000   \n18        0.000000  0.000000     0.005348    0.032086              0.000000   \n19        0.000000  0.000000     0.015873    0.010582              0.000000   \n20        0.000000  0.000000     0.010695    0.032086              0.000000   \n21        0.000000  0.000000     0.015957    0.021277              0.000000   \n22        0.000000  0.000000     0.021053    0.031579              0.000000   \n23        0.000000  0.000000     0.015873    0.021164              0.000000   \n24        0.000000  0.000000     0.047368    0.000000              0.000000   \n25        0.000000  0.000000     0.031579    0.010526              0.000000   \n26        0.000000  0.000000     0.010638    0.026596              0.000000   \n27        0.000000  0.000000     0.010695    0.000000              0.000000   \n28        0.000000  0.000000     0.021277    0.026596              0.000000   \n29        0.000000  0.000000     0.037037    0.000000              0.000000   \n30        0.000000  0.000000     0.010582    0.031746              0.000000   \n31        0.000000  0.000000     0.010811    0.032432              0.000000   \n\n    Athletics & Sports  BBQ Joint  ...  Theme Park Ride / Attraction  \\\n0             0.010582   0.000000  ...                      0.000000   \n1             0.005525   0.000000  ...                      0.000000   \n2             0.005587   0.000000  ...                      0.000000   \n3             0.010753   0.000000  ...                      0.000000   \n4             0.000000   0.000000  ...                      0.000000   \n5             0.005348   0.000000  ...                      0.000000   \n6             0.000000   0.000000  ...                      0.000000   \n7             0.010638   0.000000  ...                      0.000000   \n8             0.000000   0.000000  ...                      0.000000   \n9             0.000000   0.000000  ...                      0.000000   \n10            0.005376   0.000000  ...                      0.000000   \n11            0.005319   0.000000  ...                      0.000000   \n12            0.005348   0.000000  ...                      0.000000   \n13            0.005525   0.000000  ...                      0.000000   \n14            0.006329   0.000000  ...                      0.000000   \n15            0.000000   0.000000  ...                      0.000000   \n16            0.005291   0.000000  ...                      0.005291   \n17            0.005319   0.000000  ...                      0.000000   \n18            0.005348   0.000000  ...                      0.000000   \n19            0.005291   0.000000  ...                      0.005291   \n20            0.005348   0.000000  ...                      0.000000   \n21            0.000000   0.000000  ...                      0.000000   \n22            0.000000   0.000000  ...                      0.000000   \n23            0.000000   0.000000  ...                      0.000000   \n24            0.000000   0.005263  ...                      0.000000   \n25            0.010526   0.000000  ...                      0.000000   \n26            0.000000   0.000000  ...                      0.000000   \n27            0.000000   0.000000  ...                      0.005348   \n28            0.000000   0.000000  ...                      0.000000   \n29            0.000000   0.000000  ...                      0.000000   \n30            0.005291   0.000000  ...                      0.000000   \n31            0.005405   0.000000  ...                      0.000000   \n\n    Track Stadium  Trade School     Trail  University  Water Park  Waterfront  \\\n0        0.000000      0.000000  0.005291    0.026455    0.000000    0.000000   \n1        0.005525      0.000000  0.005525    0.038674    0.000000    0.000000   \n2        0.000000      0.000000  0.005587    0.022346    0.005587    0.000000   \n3        0.005376      0.000000  0.000000    0.043011    0.000000    0.000000   \n4        0.000000      0.000000  0.000000    0.016760    0.000000    0.000000   \n5        0.005348      0.000000  0.000000    0.058824    0.000000    0.000000   \n6        0.000000      0.005376  0.000000    0.010753    0.000000    0.000000   \n7        0.005319      0.000000  0.000000    0.015957    0.000000    0.000000   \n8        0.000000      0.005405  0.016216    0.000000    0.005405    0.000000   \n9        0.000000      0.000000  0.005291    0.052910    0.000000    0.000000   \n10       0.005376      0.000000  0.000000    0.069892    0.000000    0.000000   \n11       0.005319      0.005319  0.000000    0.058511    0.000000    0.000000   \n12       0.005348      0.000000  0.000000    0.064171    0.000000    0.000000   \n13       0.016575      0.000000  0.000000    0.022099    0.000000    0.000000   \n14       0.000000      0.012658  0.006329    0.000000    0.000000    0.000000   \n15       0.000000      0.000000  0.005435    0.027174    0.000000    0.000000   \n16       0.000000      0.000000  0.000000    0.031746    0.000000    0.005291   \n17       0.005319      0.000000  0.000000    0.063830    0.000000    0.000000   \n18       0.005348      0.005348  0.000000    0.064171    0.000000    0.000000   \n19       0.000000      0.005291  0.000000    0.026455    0.000000    0.005291   \n20       0.005348      0.005348  0.000000    0.058824    0.000000    0.000000   \n21       0.000000      0.000000  0.000000    0.058511    0.000000    0.000000   \n22       0.000000      0.005263  0.000000    0.036842    0.000000    0.000000   \n23       0.000000      0.000000  0.000000    0.052910    0.000000    0.000000   \n24       0.000000      0.000000  0.005263    0.021053    0.000000    0.000000   \n25       0.005263      0.005263  0.000000    0.021053    0.000000    0.000000   \n26       0.000000      0.000000  0.000000    0.069149    0.000000    0.000000   \n27       0.000000      0.005348  0.000000    0.021390    0.000000    0.005348   \n28       0.000000      0.000000  0.000000    0.074468    0.000000    0.000000   \n29       0.000000      0.000000  0.000000    0.031746    0.000000    0.000000   \n30       0.005291      0.005291  0.000000    0.052910    0.000000    0.000000   \n31       0.005405      0.005405  0.000000    0.059459    0.000000    0.000000   \n\n        Well       Zoo  Zoo Exhibit  \n0   0.000000  0.000000     0.005291  \n1   0.000000  0.011050     0.011050  \n2   0.000000  0.005587     0.011173  \n3   0.000000  0.005376     0.005376  \n4   0.000000  0.000000     0.000000  \n5   0.000000  0.005348     0.005348  \n6   0.000000  0.000000     0.000000  \n7   0.000000  0.000000     0.000000  \n8   0.000000  0.000000     0.005405  \n9   0.000000  0.000000     0.005291  \n10  0.000000  0.005376     0.005376  \n11  0.000000  0.005319     0.005319  \n12  0.000000  0.005348     0.005348  \n13  0.000000  0.005525     0.000000  \n14  0.000000  0.000000     0.000000  \n15  0.000000  0.000000     0.000000  \n16  0.005291  0.000000     0.000000  \n17  0.000000  0.005319     0.005319  \n18  0.000000  0.005348     0.005348  \n19  0.005291  0.000000     0.000000  \n20  0.000000  0.005348     0.005348  \n21  0.000000  0.000000     0.000000  \n22  0.000000  0.000000     0.000000  \n23  0.000000  0.000000     0.000000  \n24  0.000000  0.000000     0.005263  \n25  0.000000  0.000000     0.000000  \n26  0.000000  0.005319     0.005319  \n27  0.000000  0.000000     0.000000  \n28  0.000000  0.005319     0.005319  \n29  0.000000  0.000000     0.005291  \n30  0.000000  0.005291     0.005291  \n31  0.000000  0.005405     0.005405  \n\n[32 rows x 166 columns]",
      "text/html": "<div>\n<style scoped>\n    .dataframe tbody tr th:only-of-type {\n        vertical-align: middle;\n    }\n\n    .dataframe tbody tr th {\n        vertical-align: top;\n    }\n\n    .dataframe thead th {\n        text-align: right;\n    }\n</style>\n<table border=\"1\" class=\"dataframe\">\n  <thead>\n    <tr style=\"text-align: right;\">\n      <th></th>\n      <th>Borough</th>\n      <th>Adult Education Center</th>\n      <th>American Restaurant</th>\n      <th>Animal Shelter</th>\n      <th>Arcade</th>\n      <th>Art Gallery</th>\n      <th>Art Museum</th>\n      <th>Arts &amp; Entertainment</th>\n      <th>Athletics &amp; Sports</th>\n      <th>BBQ Joint</th>\n      <th>...</th>\n      <th>Theme Park Ride / Attraction</th>\n      <th>Track Stadium</th>\n      <th>Trade School</th>\n      <th>Trail</th>\n      <th>University</th>\n      <th>Water Park</th>\n      <th>Waterfront</th>\n      <th>Well</th>\n      <th>Zoo</th>\n      <th>Zoo Exhibit</th>\n    </tr>\n  </thead>\n  <tbody>\n    <tr>\n      <th>0</th>\n      <td>Barking and Dagenham</td>\n      <td>0.000000</td>\n      <td>0.000000</td>\n      <td>0.000000</td>\n      <td>0.005291</td>\n      <td>0.047619</td>\n      <td>0.000000</td>\n      <td>0.000000</td>\n      <td>0.010582</td>\n      <td>0.000000</td>\n      <td>...</td>\n      <td>0.000000</td>\n      <td>0.000000</td>\n      <td>0.000000</td>\n      <td>0.005291</td>\n      <td>0.026455</td>\n      <td>0.000000</td>\n      <td>0.000000</td>\n      <td>0.000000</td>\n      <td>0.000000</td>\n      <td>0.005291</td>\n    </tr>\n    <tr>\n      <th>1</th>\n      <td>Barnet</td>\n      <td>0.000000</td>\n      <td>0.000000</td>\n      <td>0.000000</td>\n      <td>0.000000</td>\n      <td>0.016575</td>\n      <td>0.000000</td>\n      <td>0.000000</td>\n      <td>0.005525</td>\n      <td>0.000000</td>\n      <td>...</td>\n      <td>0.000000</td>\n      <td>0.005525</td>\n      <td>0.000000</td>\n      <td>0.005525</td>\n      <td>0.038674</td>\n      <td>0.000000</td>\n      <td>0.000000</td>\n      <td>0.000000</td>\n      <td>0.011050</td>\n      <td>0.011050</td>\n    </tr>\n    <tr>\n      <th>2</th>\n      <td>Bexley</td>\n      <td>0.000000</td>\n      <td>0.000000</td>\n      <td>0.000000</td>\n      <td>0.000000</td>\n      <td>0.016760</td>\n      <td>0.000000</td>\n      <td>0.000000</td>\n      <td>0.005587</td>\n      <td>0.000000</td>\n      <td>...</td>\n      <td>0.000000</td>\n      <td>0.000000</td>\n      <td>0.000000</td>\n      <td>0.005587</td>\n      <td>0.022346</td>\n      <td>0.005587</td>\n      <td>0.000000</td>\n      <td>0.000000</td>\n      <td>0.005587</td>\n      <td>0.011173</td>\n    </tr>\n    <tr>\n      <th>3</th>\n      <td>Brent</td>\n      <td>0.000000</td>\n      <td>0.005376</td>\n      <td>0.000000</td>\n      <td>0.000000</td>\n      <td>0.032258</td>\n      <td>0.010753</td>\n      <td>0.000000</td>\n      <td>0.010753</td>\n      <td>0.000000</td>\n      <td>...</td>\n      <td>0.000000</td>\n      <td>0.005376</td>\n      <td>0.000000</td>\n      <td>0.000000</td>\n      <td>0.043011</td>\n      <td>0.000000</td>\n      <td>0.000000</td>\n      <td>0.000000</td>\n      <td>0.005376</td>\n      <td>0.005376</td>\n    </tr>\n    <tr>\n      <th>4</th>\n      <td>Bromley</td>\n      <td>0.000000</td>\n      <td>0.000000</td>\n      <td>0.005587</td>\n      <td>0.005587</td>\n      <td>0.022346</td>\n      <td>0.000000</td>\n      <td>0.000000</td>\n      <td>0.000000</td>\n      <td>0.000000</td>\n      <td>...</td>\n      <td>0.000000</td>\n      <td>0.000000</td>\n      <td>0.000000</td>\n      <td>0.000000</td>\n      <td>0.016760</td>\n      <td>0.000000</td>\n      <td>0.000000</td>\n      <td>0.000000</td>\n      <td>0.000000</td>\n      <td>0.000000</td>\n    </tr>\n    <tr>\n      <th>5</th>\n      <td>Camden</td>\n      <td>0.005348</td>\n      <td>0.005348</td>\n      <td>0.000000</td>\n      <td>0.000000</td>\n      <td>0.016043</td>\n      <td>0.032086</td>\n      <td>0.000000</td>\n      <td>0.005348</td>\n      <td>0.000000</td>\n      <td>...</td>\n      <td>0.000000</td>\n      <td>0.005348</td>\n      <td>0.000000</td>\n      <td>0.000000</td>\n      <td>0.058824</td>\n      <td>0.000000</td>\n      <td>0.000000</td>\n      <td>0.000000</td>\n      <td>0.005348</td>\n      <td>0.005348</td>\n    </tr>\n    <tr>\n      <th>6</th>\n      <td>Croydon</td>\n      <td>0.000000</td>\n      <td>0.000000</td>\n      <td>0.000000</td>\n      <td>0.000000</td>\n      <td>0.021505</td>\n      <td>0.000000</td>\n      <td>0.000000</td>\n      <td>0.000000</td>\n      <td>0.000000</td>\n      <td>...</td>\n      <td>0.000000</td>\n      <td>0.000000</td>\n      <td>0.005376</td>\n      <td>0.000000</td>\n      <td>0.010753</td>\n      <td>0.000000</td>\n      <td>0.000000</td>\n      <td>0.000000</td>\n      <td>0.000000</td>\n      <td>0.000000</td>\n    </tr>\n    <tr>\n      <th>7</th>\n      <td>Ealing</td>\n      <td>0.000000</td>\n      <td>0.005319</td>\n      <td>0.000000</td>\n      <td>0.000000</td>\n      <td>0.031915</td>\n      <td>0.010638</td>\n      <td>0.000000</td>\n      <td>0.010638</td>\n      <td>0.000000</td>\n      <td>...</td>\n      <td>0.000000</td>\n      <td>0.005319</td>\n      <td>0.000000</td>\n      <td>0.000000</td>\n      <td>0.015957</td>\n      <td>0.000000</td>\n      <td>0.000000</td>\n      <td>0.000000</td>\n      <td>0.000000</td>\n      <td>0.000000</td>\n    </tr>\n    <tr>\n      <th>8</th>\n      <td>Enfield</td>\n      <td>0.000000</td>\n      <td>0.000000</td>\n      <td>0.000000</td>\n      <td>0.000000</td>\n      <td>0.032432</td>\n      <td>0.000000</td>\n      <td>0.000000</td>\n      <td>0.000000</td>\n      <td>0.000000</td>\n      <td>...</td>\n      <td>0.000000</td>\n      <td>0.000000</td>\n      <td>0.005405</td>\n      <td>0.016216</td>\n      <td>0.000000</td>\n      <td>0.005405</td>\n      <td>0.000000</td>\n      <td>0.000000</td>\n      <td>0.000000</td>\n      <td>0.005405</td>\n    </tr>\n    <tr>\n      <th>9</th>\n      <td>Greenwich</td>\n      <td>0.000000</td>\n      <td>0.000000</td>\n      <td>0.000000</td>\n      <td>0.000000</td>\n      <td>0.037037</td>\n      <td>0.000000</td>\n      <td>0.000000</td>\n      <td>0.000000</td>\n      <td>0.000000</td>\n      <td>...</td>\n      <td>0.000000</td>\n      <td>0.000000</td>\n      <td>0.000000</td>\n      <td>0.005291</td>\n      <td>0.052910</td>\n      <td>0.000000</td>\n      <td>0.000000</td>\n      <td>0.000000</td>\n      <td>0.000000</td>\n      <td>0.005291</td>\n    </tr>\n    <tr>\n      <th>10</th>\n      <td>Hackney</td>\n      <td>0.005376</td>\n      <td>0.005376</td>\n      <td>0.000000</td>\n      <td>0.000000</td>\n      <td>0.021505</td>\n      <td>0.026882</td>\n      <td>0.000000</td>\n      <td>0.005376</td>\n      <td>0.000000</td>\n      <td>...</td>\n      <td>0.000000</td>\n      <td>0.005376</td>\n      <td>0.000000</td>\n      <td>0.000000</td>\n      <td>0.069892</td>\n      <td>0.000000</td>\n      <td>0.000000</td>\n      <td>0.000000</td>\n      <td>0.005376</td>\n      <td>0.005376</td>\n    </tr>\n    <tr>\n      <th>11</th>\n      <td>Hammersmith and Fulham</td>\n      <td>0.005319</td>\n      <td>0.005319</td>\n      <td>0.000000</td>\n      <td>0.000000</td>\n      <td>0.010638</td>\n      <td>0.031915</td>\n      <td>0.000000</td>\n      <td>0.005319</td>\n      <td>0.000000</td>\n      <td>...</td>\n      <td>0.000000</td>\n      <td>0.005319</td>\n      <td>0.005319</td>\n      <td>0.000000</td>\n      <td>0.058511</td>\n      <td>0.000000</td>\n      <td>0.000000</td>\n      <td>0.000000</td>\n      <td>0.005319</td>\n      <td>0.005319</td>\n    </tr>\n    <tr>\n      <th>12</th>\n      <td>Haringey</td>\n      <td>0.005348</td>\n      <td>0.005348</td>\n      <td>0.000000</td>\n      <td>0.000000</td>\n      <td>0.021390</td>\n      <td>0.026738</td>\n      <td>0.000000</td>\n      <td>0.005348</td>\n      <td>0.000000</td>\n      <td>...</td>\n      <td>0.000000</td>\n      <td>0.005348</td>\n      <td>0.000000</td>\n      <td>0.000000</td>\n      <td>0.064171</td>\n      <td>0.000000</td>\n      <td>0.000000</td>\n      <td>0.000000</td>\n      <td>0.005348</td>\n      <td>0.005348</td>\n    </tr>\n    <tr>\n      <th>13</th>\n      <td>Harrow</td>\n      <td>0.000000</td>\n      <td>0.000000</td>\n      <td>0.000000</td>\n      <td>0.005525</td>\n      <td>0.016575</td>\n      <td>0.000000</td>\n      <td>0.005525</td>\n      <td>0.005525</td>\n      <td>0.000000</td>\n      <td>...</td>\n      <td>0.000000</td>\n      <td>0.016575</td>\n      <td>0.000000</td>\n      <td>0.000000</td>\n      <td>0.022099</td>\n      <td>0.000000</td>\n      <td>0.000000</td>\n      <td>0.000000</td>\n      <td>0.005525</td>\n      <td>0.000000</td>\n    </tr>\n    <tr>\n      <th>14</th>\n      <td>Havering</td>\n      <td>0.000000</td>\n      <td>0.000000</td>\n      <td>0.000000</td>\n      <td>0.006329</td>\n      <td>0.012658</td>\n      <td>0.000000</td>\n      <td>0.000000</td>\n      <td>0.006329</td>\n      <td>0.000000</td>\n      <td>...</td>\n      <td>0.000000</td>\n      <td>0.000000</td>\n      <td>0.012658</td>\n      <td>0.006329</td>\n      <td>0.000000</td>\n      <td>0.000000</td>\n      <td>0.000000</td>\n      <td>0.000000</td>\n      <td>0.000000</td>\n      <td>0.000000</td>\n    </tr>\n    <tr>\n      <th>15</th>\n      <td>Hillingdon</td>\n      <td>0.000000</td>\n      <td>0.000000</td>\n      <td>0.000000</td>\n      <td>0.000000</td>\n      <td>0.016304</td>\n      <td>0.000000</td>\n      <td>0.005435</td>\n      <td>0.000000</td>\n      <td>0.000000</td>\n      <td>...</td>\n      <td>0.000000</td>\n      <td>0.000000</td>\n      <td>0.000000</td>\n      <td>0.005435</td>\n      <td>0.027174</td>\n      <td>0.000000</td>\n      <td>0.000000</td>\n      <td>0.000000</td>\n      <td>0.000000</td>\n      <td>0.000000</td>\n    </tr>\n    <tr>\n      <th>16</th>\n      <td>Hounslow</td>\n      <td>0.000000</td>\n      <td>0.000000</td>\n      <td>0.000000</td>\n      <td>0.000000</td>\n      <td>0.015873</td>\n      <td>0.010582</td>\n      <td>0.000000</td>\n      <td>0.005291</td>\n      <td>0.000000</td>\n      <td>...</td>\n      <td>0.005291</td>\n      <td>0.000000</td>\n      <td>0.000000</td>\n      <td>0.000000</td>\n      <td>0.031746</td>\n      <td>0.000000</td>\n      <td>0.005291</td>\n      <td>0.005291</td>\n      <td>0.000000</td>\n      <td>0.000000</td>\n    </tr>\n    <tr>\n      <th>17</th>\n      <td>Islington</td>\n      <td>0.005319</td>\n      <td>0.005319</td>\n      <td>0.000000</td>\n      <td>0.000000</td>\n      <td>0.015957</td>\n      <td>0.026596</td>\n      <td>0.000000</td>\n      <td>0.005319</td>\n      <td>0.000000</td>\n      <td>...</td>\n      <td>0.000000</td>\n      <td>0.005319</td>\n      <td>0.000000</td>\n      <td>0.000000</td>\n      <td>0.063830</td>\n      <td>0.000000</td>\n      <td>0.000000</td>\n      <td>0.000000</td>\n      <td>0.005319</td>\n      <td>0.005319</td>\n    </tr>\n    <tr>\n      <th>18</th>\n      <td>Kensington and Chelsea</td>\n      <td>0.005348</td>\n      <td>0.005348</td>\n      <td>0.000000</td>\n      <td>0.000000</td>\n      <td>0.005348</td>\n      <td>0.032086</td>\n      <td>0.000000</td>\n      <td>0.005348</td>\n      <td>0.000000</td>\n      <td>...</td>\n      <td>0.000000</td>\n      <td>0.005348</td>\n      <td>0.005348</td>\n      <td>0.000000</td>\n      <td>0.064171</td>\n      <td>0.000000</td>\n      <td>0.000000</td>\n      <td>0.000000</td>\n      <td>0.005348</td>\n      <td>0.005348</td>\n    </tr>\n    <tr>\n      <th>19</th>\n      <td>Kingston upon Thames</td>\n      <td>0.000000</td>\n      <td>0.000000</td>\n      <td>0.000000</td>\n      <td>0.000000</td>\n      <td>0.015873</td>\n      <td>0.010582</td>\n      <td>0.000000</td>\n      <td>0.005291</td>\n      <td>0.000000</td>\n      <td>...</td>\n      <td>0.005291</td>\n      <td>0.000000</td>\n      <td>0.005291</td>\n      <td>0.000000</td>\n      <td>0.026455</td>\n      <td>0.000000</td>\n      <td>0.005291</td>\n      <td>0.005291</td>\n      <td>0.000000</td>\n      <td>0.000000</td>\n    </tr>\n    <tr>\n      <th>20</th>\n      <td>Lambeth</td>\n      <td>0.005348</td>\n      <td>0.005348</td>\n      <td>0.000000</td>\n      <td>0.000000</td>\n      <td>0.010695</td>\n      <td>0.032086</td>\n      <td>0.000000</td>\n      <td>0.005348</td>\n      <td>0.000000</td>\n      <td>...</td>\n      <td>0.000000</td>\n      <td>0.005348</td>\n      <td>0.005348</td>\n      <td>0.000000</td>\n      <td>0.058824</td>\n      <td>0.000000</td>\n      <td>0.000000</td>\n      <td>0.000000</td>\n      <td>0.005348</td>\n      <td>0.005348</td>\n    </tr>\n    <tr>\n      <th>21</th>\n      <td>Lewisham</td>\n      <td>0.005319</td>\n      <td>0.000000</td>\n      <td>0.000000</td>\n      <td>0.000000</td>\n      <td>0.015957</td>\n      <td>0.021277</td>\n      <td>0.000000</td>\n      <td>0.000000</td>\n      <td>0.000000</td>\n      <td>...</td>\n      <td>0.000000</td>\n      <td>0.000000</td>\n      <td>0.000000</td>\n      <td>0.000000</td>\n      <td>0.058511</td>\n      <td>0.000000</td>\n      <td>0.000000</td>\n      <td>0.000000</td>\n      <td>0.000000</td>\n      <td>0.000000</td>\n    </tr>\n    <tr>\n      <th>22</th>\n      <td>Merton</td>\n      <td>0.005263</td>\n      <td>0.005263</td>\n      <td>0.000000</td>\n      <td>0.000000</td>\n      <td>0.021053</td>\n      <td>0.031579</td>\n      <td>0.000000</td>\n      <td>0.000000</td>\n      <td>0.000000</td>\n      <td>...</td>\n      <td>0.000000</td>\n      <td>0.000000</td>\n      <td>0.005263</td>\n      <td>0.000000</td>\n      <td>0.036842</td>\n      <td>0.000000</td>\n      <td>0.000000</td>\n      <td>0.000000</td>\n      <td>0.000000</td>\n      <td>0.000000</td>\n    </tr>\n    <tr>\n      <th>23</th>\n      <td>Newham</td>\n      <td>0.005291</td>\n      <td>0.000000</td>\n      <td>0.000000</td>\n      <td>0.000000</td>\n      <td>0.015873</td>\n      <td>0.021164</td>\n      <td>0.000000</td>\n      <td>0.000000</td>\n      <td>0.000000</td>\n      <td>...</td>\n      <td>0.000000</td>\n      <td>0.000000</td>\n      <td>0.000000</td>\n      <td>0.000000</td>\n      <td>0.052910</td>\n      <td>0.000000</td>\n      <td>0.000000</td>\n      <td>0.000000</td>\n      <td>0.000000</td>\n      <td>0.000000</td>\n    </tr>\n    <tr>\n      <th>24</th>\n      <td>Redbridge</td>\n      <td>0.000000</td>\n      <td>0.000000</td>\n      <td>0.000000</td>\n      <td>0.000000</td>\n      <td>0.047368</td>\n      <td>0.000000</td>\n      <td>0.000000</td>\n      <td>0.000000</td>\n      <td>0.005263</td>\n      <td>...</td>\n      <td>0.000000</td>\n      <td>0.000000</td>\n      <td>0.000000</td>\n      <td>0.005263</td>\n      <td>0.021053</td>\n      <td>0.000000</td>\n      <td>0.000000</td>\n      <td>0.000000</td>\n      <td>0.000000</td>\n      <td>0.005263</td>\n    </tr>\n    <tr>\n      <th>25</th>\n      <td>Richmond upon Thames</td>\n      <td>0.000000</td>\n      <td>0.005263</td>\n      <td>0.000000</td>\n      <td>0.000000</td>\n      <td>0.031579</td>\n      <td>0.010526</td>\n      <td>0.000000</td>\n      <td>0.010526</td>\n      <td>0.000000</td>\n      <td>...</td>\n      <td>0.000000</td>\n      <td>0.005263</td>\n      <td>0.005263</td>\n      <td>0.000000</td>\n      <td>0.021053</td>\n      <td>0.000000</td>\n      <td>0.000000</td>\n      <td>0.000000</td>\n      <td>0.000000</td>\n      <td>0.000000</td>\n    </tr>\n    <tr>\n      <th>26</th>\n      <td>Southwark</td>\n      <td>0.005319</td>\n      <td>0.005319</td>\n      <td>0.000000</td>\n      <td>0.000000</td>\n      <td>0.010638</td>\n      <td>0.026596</td>\n      <td>0.000000</td>\n      <td>0.000000</td>\n      <td>0.000000</td>\n      <td>...</td>\n      <td>0.000000</td>\n      <td>0.000000</td>\n      <td>0.000000</td>\n      <td>0.000000</td>\n      <td>0.069149</td>\n      <td>0.000000</td>\n      <td>0.000000</td>\n      <td>0.000000</td>\n      <td>0.005319</td>\n      <td>0.005319</td>\n    </tr>\n    <tr>\n      <th>27</th>\n      <td>Sutton</td>\n      <td>0.000000</td>\n      <td>0.000000</td>\n      <td>0.000000</td>\n      <td>0.000000</td>\n      <td>0.010695</td>\n      <td>0.000000</td>\n      <td>0.000000</td>\n      <td>0.000000</td>\n      <td>0.000000</td>\n      <td>...</td>\n      <td>0.005348</td>\n      <td>0.000000</td>\n      <td>0.005348</td>\n      <td>0.000000</td>\n      <td>0.021390</td>\n      <td>0.000000</td>\n      <td>0.005348</td>\n      <td>0.000000</td>\n      <td>0.000000</td>\n      <td>0.000000</td>\n    </tr>\n    <tr>\n      <th>28</th>\n      <td>Tower Hamlets</td>\n      <td>0.005319</td>\n      <td>0.005319</td>\n      <td>0.000000</td>\n      <td>0.000000</td>\n      <td>0.021277</td>\n      <td>0.026596</td>\n      <td>0.000000</td>\n      <td>0.000000</td>\n      <td>0.000000</td>\n      <td>...</td>\n      <td>0.000000</td>\n      <td>0.000000</td>\n      <td>0.000000</td>\n      <td>0.000000</td>\n      <td>0.074468</td>\n      <td>0.000000</td>\n      <td>0.000000</td>\n      <td>0.000000</td>\n      <td>0.005319</td>\n      <td>0.005319</td>\n    </tr>\n    <tr>\n      <th>29</th>\n      <td>Waltham Forest</td>\n      <td>0.000000</td>\n      <td>0.000000</td>\n      <td>0.000000</td>\n      <td>0.000000</td>\n      <td>0.037037</td>\n      <td>0.000000</td>\n      <td>0.000000</td>\n      <td>0.000000</td>\n      <td>0.000000</td>\n      <td>...</td>\n      <td>0.000000</td>\n      <td>0.000000</td>\n      <td>0.000000</td>\n      <td>0.000000</td>\n      <td>0.031746</td>\n      <td>0.000000</td>\n      <td>0.000000</td>\n      <td>0.000000</td>\n      <td>0.000000</td>\n      <td>0.005291</td>\n    </tr>\n    <tr>\n      <th>30</th>\n      <td>Wandsworth</td>\n      <td>0.005291</td>\n      <td>0.005291</td>\n      <td>0.000000</td>\n      <td>0.000000</td>\n      <td>0.010582</td>\n      <td>0.031746</td>\n      <td>0.000000</td>\n      <td>0.005291</td>\n      <td>0.000000</td>\n      <td>...</td>\n      <td>0.000000</td>\n      <td>0.005291</td>\n      <td>0.005291</td>\n      <td>0.000000</td>\n      <td>0.052910</td>\n      <td>0.000000</td>\n      <td>0.000000</td>\n      <td>0.000000</td>\n      <td>0.005291</td>\n      <td>0.005291</td>\n    </tr>\n    <tr>\n      <th>31</th>\n      <td>Westminster</td>\n      <td>0.005405</td>\n      <td>0.005405</td>\n      <td>0.000000</td>\n      <td>0.000000</td>\n      <td>0.010811</td>\n      <td>0.032432</td>\n      <td>0.000000</td>\n      <td>0.005405</td>\n      <td>0.000000</td>\n      <td>...</td>\n      <td>0.000000</td>\n      <td>0.005405</td>\n      <td>0.005405</td>\n      <td>0.000000</td>\n      <td>0.059459</td>\n      <td>0.000000</td>\n      <td>0.000000</td>\n      <td>0.000000</td>\n      <td>0.005405</td>\n      <td>0.005405</td>\n    </tr>\n  </tbody>\n</table>\n<p>32 rows × 166 columns</p>\n</div>"
     },
     "execution_count": 29,
     "metadata": {},
     "output_type": "execute_result"
    }
   ],
   "source": [
    "london_grouped = london_onehot.groupby('Borough').mean().reset_index()\n",
    "london_grouped"
   ],
   "metadata": {
    "collapsed": false,
    "pycharm": {
     "name": "#%%\n"
    }
   }
  },
  {
   "cell_type": "code",
   "execution_count": 30,
   "outputs": [
    {
     "data": {
      "text/plain": "                Borough 1st Most Common Venue 2nd Most Common Venue  \\\n0  Barking and Dagenham                Church                  Park   \n1                Barnet                Church                  Park   \n2                Bexley                Church                  Park   \n3                 Brent                Church                  Park   \n4               Bromley                Church                  Park   \n\n  3rd Most Common Venue 4th Most Common Venue      5th Most Common Venue  \\\n0      Community Center               Library                Art Gallery   \n1               Library            University             History Museum   \n2               Library         Historic Site  College Academic Building   \n3               Library            University                Art Gallery   \n4               Library     Community College       Gym / Fitness Center   \n\n       6th Most Common Venue         7th Most Common Venue  \\\n0  College Academic Building  General College & University   \n1  College Academic Building                 Historic Site   \n2           Community Center             College Classroom   \n3  College Academic Building                 Historic Site   \n4  College Academic Building                 Historic Site   \n\n    8th Most Common Venue         9th Most Common Venue  \\\n0           Historic Site             College Classroom   \n1  College Residence Hall  General College & University   \n2    Gym / Fitness Center                   Social Club   \n3          Soccer Stadium                        Bridge   \n4             Art Gallery         General Entertainment   \n\n         10th Most Common Venue  \n0                    University  \n1                           Pub  \n2                    University  \n3                   Social Club  \n4  General College & University  ",
      "text/html": "<div>\n<style scoped>\n    .dataframe tbody tr th:only-of-type {\n        vertical-align: middle;\n    }\n\n    .dataframe tbody tr th {\n        vertical-align: top;\n    }\n\n    .dataframe thead th {\n        text-align: right;\n    }\n</style>\n<table border=\"1\" class=\"dataframe\">\n  <thead>\n    <tr style=\"text-align: right;\">\n      <th></th>\n      <th>Borough</th>\n      <th>1st Most Common Venue</th>\n      <th>2nd Most Common Venue</th>\n      <th>3rd Most Common Venue</th>\n      <th>4th Most Common Venue</th>\n      <th>5th Most Common Venue</th>\n      <th>6th Most Common Venue</th>\n      <th>7th Most Common Venue</th>\n      <th>8th Most Common Venue</th>\n      <th>9th Most Common Venue</th>\n      <th>10th Most Common Venue</th>\n    </tr>\n  </thead>\n  <tbody>\n    <tr>\n      <th>0</th>\n      <td>Barking and Dagenham</td>\n      <td>Church</td>\n      <td>Park</td>\n      <td>Community Center</td>\n      <td>Library</td>\n      <td>Art Gallery</td>\n      <td>College Academic Building</td>\n      <td>General College &amp; University</td>\n      <td>Historic Site</td>\n      <td>College Classroom</td>\n      <td>University</td>\n    </tr>\n    <tr>\n      <th>1</th>\n      <td>Barnet</td>\n      <td>Church</td>\n      <td>Park</td>\n      <td>Library</td>\n      <td>University</td>\n      <td>History Museum</td>\n      <td>College Academic Building</td>\n      <td>Historic Site</td>\n      <td>College Residence Hall</td>\n      <td>General College &amp; University</td>\n      <td>Pub</td>\n    </tr>\n    <tr>\n      <th>2</th>\n      <td>Bexley</td>\n      <td>Church</td>\n      <td>Park</td>\n      <td>Library</td>\n      <td>Historic Site</td>\n      <td>College Academic Building</td>\n      <td>Community Center</td>\n      <td>College Classroom</td>\n      <td>Gym / Fitness Center</td>\n      <td>Social Club</td>\n      <td>University</td>\n    </tr>\n    <tr>\n      <th>3</th>\n      <td>Brent</td>\n      <td>Church</td>\n      <td>Park</td>\n      <td>Library</td>\n      <td>University</td>\n      <td>Art Gallery</td>\n      <td>College Academic Building</td>\n      <td>Historic Site</td>\n      <td>Soccer Stadium</td>\n      <td>Bridge</td>\n      <td>Social Club</td>\n    </tr>\n    <tr>\n      <th>4</th>\n      <td>Bromley</td>\n      <td>Church</td>\n      <td>Park</td>\n      <td>Library</td>\n      <td>Community College</td>\n      <td>Gym / Fitness Center</td>\n      <td>College Academic Building</td>\n      <td>Historic Site</td>\n      <td>Art Gallery</td>\n      <td>General Entertainment</td>\n      <td>General College &amp; University</td>\n    </tr>\n  </tbody>\n</table>\n</div>"
     },
     "execution_count": 30,
     "metadata": {},
     "output_type": "execute_result"
    }
   ],
   "source": [
    "# top 10 categories per borough\n",
    "\n",
    "# function to find the top venues for each neighbourhood\n",
    "def return_most_common_venues(row, num_top_venues):\n",
    "    row_categories = row.iloc[1:]\n",
    "    row_categories_sorted = row_categories.sort_values(ascending=False)\n",
    "\n",
    "    return row_categories_sorted.index.values[0:num_top_venues]\n",
    "\n",
    "num_top_venues = 10\n",
    "\n",
    "indicators = ['st', 'nd', 'rd']\n",
    "\n",
    "# create columns according to number of top venues\n",
    "columns = ['Borough']\n",
    "for ind in np.arange(num_top_venues):\n",
    "    try:\n",
    "        columns.append('{}{} Most Common Venue'.format(ind+1, indicators[ind]))\n",
    "    except:\n",
    "        columns.append('{}th Most Common Venue'.format(ind+1))\n",
    "\n",
    "# create a new dataframe\n",
    "Boroughs_venues_sorted = pd.DataFrame(columns=columns)\n",
    "Boroughs_venues_sorted['Borough'] = london_grouped['Borough']\n",
    "\n",
    "for ind in np.arange(london_grouped.shape[0]):\n",
    "    Boroughs_venues_sorted.iloc[ind, 1:] = return_most_common_venues(london_grouped.iloc[ind, :], num_top_venues)\n",
    "\n",
    "Boroughs_venues_sorted.head()"
   ],
   "metadata": {
    "collapsed": false,
    "pycharm": {
     "name": "#%%\n"
    }
   }
  },
  {
   "cell_type": "code",
   "execution_count": 31,
   "outputs": [
    {
     "data": {
      "text/plain": "array([2, 1, 2, 1, 3, 0, 3, 1, 2, 2])"
     },
     "execution_count": 31,
     "metadata": {},
     "output_type": "execute_result"
    }
   ],
   "source": [
    "# set number of clusters\n",
    "kclusters = 4\n",
    "\n",
    "toronto_grouped_clustering = london_grouped.drop('Borough', 1)\n",
    "\n",
    "# run k-means clustering\n",
    "kmeans = KMeans(n_clusters=kclusters, random_state=0).fit(toronto_grouped_clustering)\n",
    "\n",
    "# check cluster labels generated for each row in the dataframe\n",
    "kmeans.labels_[0:10]\n"
   ],
   "metadata": {
    "collapsed": false,
    "pycharm": {
     "name": "#%%\n"
    }
   }
  },
  {
   "cell_type": "code",
   "execution_count": 32,
   "outputs": [
    {
     "data": {
      "text/plain": "                Borough  Population  longitude  latitude  Total_Crime  \\\n0  Barking and Dagenham      212906   0.129506   51.5455        39456   \n1                Barnet      395896  -0.218210   51.6111        59167   \n2                Bexley      248287   0.146212   51.4582        33929   \n3                 Brent      329771  -0.275680   51.5644        59257   \n4               Bromley      332336   0.039246   51.3727        47499   \n\n   Crime_Rate Crime_Rate_binned  Cluster Labels 1st Most Common Venue  \\\n0    18532.12            Medium               2                Church   \n1    14945.09               Low               1                Church   \n2    13665.23               Low               2                Church   \n3    17969.14            Medium               1                Church   \n4    14292.46               Low               3                Church   \n\n  2nd Most Common Venue 3rd Most Common Venue 4th Most Common Venue  \\\n0                  Park      Community Center               Library   \n1                  Park               Library            University   \n2                  Park               Library         Historic Site   \n3                  Park               Library            University   \n4                  Park               Library     Community College   \n\n       5th Most Common Venue      6th Most Common Venue  \\\n0                Art Gallery  College Academic Building   \n1             History Museum  College Academic Building   \n2  College Academic Building           Community Center   \n3                Art Gallery  College Academic Building   \n4       Gym / Fitness Center  College Academic Building   \n\n          7th Most Common Venue   8th Most Common Venue  \\\n0  General College & University           Historic Site   \n1                 Historic Site  College Residence Hall   \n2             College Classroom    Gym / Fitness Center   \n3                 Historic Site          Soccer Stadium   \n4                 Historic Site             Art Gallery   \n\n          9th Most Common Venue        10th Most Common Venue  \n0             College Classroom                    University  \n1  General College & University                           Pub  \n2                   Social Club                    University  \n3                        Bridge                   Social Club  \n4         General Entertainment  General College & University  ",
      "text/html": "<div>\n<style scoped>\n    .dataframe tbody tr th:only-of-type {\n        vertical-align: middle;\n    }\n\n    .dataframe tbody tr th {\n        vertical-align: top;\n    }\n\n    .dataframe thead th {\n        text-align: right;\n    }\n</style>\n<table border=\"1\" class=\"dataframe\">\n  <thead>\n    <tr style=\"text-align: right;\">\n      <th></th>\n      <th>Borough</th>\n      <th>Population</th>\n      <th>longitude</th>\n      <th>latitude</th>\n      <th>Total_Crime</th>\n      <th>Crime_Rate</th>\n      <th>Crime_Rate_binned</th>\n      <th>Cluster Labels</th>\n      <th>1st Most Common Venue</th>\n      <th>2nd Most Common Venue</th>\n      <th>3rd Most Common Venue</th>\n      <th>4th Most Common Venue</th>\n      <th>5th Most Common Venue</th>\n      <th>6th Most Common Venue</th>\n      <th>7th Most Common Venue</th>\n      <th>8th Most Common Venue</th>\n      <th>9th Most Common Venue</th>\n      <th>10th Most Common Venue</th>\n    </tr>\n  </thead>\n  <tbody>\n    <tr>\n      <th>0</th>\n      <td>Barking and Dagenham</td>\n      <td>212906</td>\n      <td>0.129506</td>\n      <td>51.5455</td>\n      <td>39456</td>\n      <td>18532.12</td>\n      <td>Medium</td>\n      <td>2</td>\n      <td>Church</td>\n      <td>Park</td>\n      <td>Community Center</td>\n      <td>Library</td>\n      <td>Art Gallery</td>\n      <td>College Academic Building</td>\n      <td>General College &amp; University</td>\n      <td>Historic Site</td>\n      <td>College Classroom</td>\n      <td>University</td>\n    </tr>\n    <tr>\n      <th>1</th>\n      <td>Barnet</td>\n      <td>395896</td>\n      <td>-0.218210</td>\n      <td>51.6111</td>\n      <td>59167</td>\n      <td>14945.09</td>\n      <td>Low</td>\n      <td>1</td>\n      <td>Church</td>\n      <td>Park</td>\n      <td>Library</td>\n      <td>University</td>\n      <td>History Museum</td>\n      <td>College Academic Building</td>\n      <td>Historic Site</td>\n      <td>College Residence Hall</td>\n      <td>General College &amp; University</td>\n      <td>Pub</td>\n    </tr>\n    <tr>\n      <th>2</th>\n      <td>Bexley</td>\n      <td>248287</td>\n      <td>0.146212</td>\n      <td>51.4582</td>\n      <td>33929</td>\n      <td>13665.23</td>\n      <td>Low</td>\n      <td>2</td>\n      <td>Church</td>\n      <td>Park</td>\n      <td>Library</td>\n      <td>Historic Site</td>\n      <td>College Academic Building</td>\n      <td>Community Center</td>\n      <td>College Classroom</td>\n      <td>Gym / Fitness Center</td>\n      <td>Social Club</td>\n      <td>University</td>\n    </tr>\n    <tr>\n      <th>3</th>\n      <td>Brent</td>\n      <td>329771</td>\n      <td>-0.275680</td>\n      <td>51.5644</td>\n      <td>59257</td>\n      <td>17969.14</td>\n      <td>Medium</td>\n      <td>1</td>\n      <td>Church</td>\n      <td>Park</td>\n      <td>Library</td>\n      <td>University</td>\n      <td>Art Gallery</td>\n      <td>College Academic Building</td>\n      <td>Historic Site</td>\n      <td>Soccer Stadium</td>\n      <td>Bridge</td>\n      <td>Social Club</td>\n    </tr>\n    <tr>\n      <th>4</th>\n      <td>Bromley</td>\n      <td>332336</td>\n      <td>0.039246</td>\n      <td>51.3727</td>\n      <td>47499</td>\n      <td>14292.46</td>\n      <td>Low</td>\n      <td>3</td>\n      <td>Church</td>\n      <td>Park</td>\n      <td>Library</td>\n      <td>Community College</td>\n      <td>Gym / Fitness Center</td>\n      <td>College Academic Building</td>\n      <td>Historic Site</td>\n      <td>Art Gallery</td>\n      <td>General Entertainment</td>\n      <td>General College &amp; University</td>\n    </tr>\n  </tbody>\n</table>\n</div>"
     },
     "execution_count": 32,
     "metadata": {},
     "output_type": "execute_result"
    }
   ],
   "source": [
    "# add clustering labels\n",
    "Boroughs_venues_sorted.insert(0, 'Cluster Labels', kmeans.labels_)\n",
    "\n",
    "london2= london_crimes.copy()\n",
    "\n",
    "# merge toronto_grouped with toronto_data to add latitude/longitude for each Borough\n",
    "london2 = london2.join(Boroughs_venues_sorted.set_index('Borough'), on='Borough')\n",
    "\n",
    "london2.head()"
   ],
   "metadata": {
    "collapsed": false,
    "pycharm": {
     "name": "#%%\n"
    }
   }
  },
  {
   "cell_type": "code",
   "execution_count": 33,
   "outputs": [],
   "source": [
    "london2.to_csv('london2.csv', index=False)"
   ],
   "metadata": {
    "collapsed": false,
    "pycharm": {
     "name": "#%%\n"
    }
   }
  },
  {
   "cell_type": "code",
   "execution_count": null,
   "outputs": [],
   "source": [],
   "metadata": {
    "collapsed": false,
    "pycharm": {
     "name": "#%%\n"
    }
   }
  }
 ],
 "metadata": {
  "kernelspec": {
   "display_name": "Python (IBM_capstone)",
   "language": "python",
   "name": "ibm_capstone"
  },
  "language_info": {
   "codemirror_mode": {
    "name": "ipython",
    "version": 3
   },
   "file_extension": ".py",
   "mimetype": "text/x-python",
   "name": "python",
   "nbconvert_exporter": "python",
   "pygments_lexer": "ipython3",
   "version": "3.9.1"
  }
 },
 "nbformat": 4,
 "nbformat_minor": 1
}