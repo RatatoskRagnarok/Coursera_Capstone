{
 "cells": [
  {
   "cell_type": "markdown",
   "source": [
    "# Data Cleaning and Pre-Processing"
   ],
   "metadata": {
    "collapsed": false
   }
  },
  {
   "cell_type": "markdown",
   "source": [
    "### Import libraries needed"
   ],
   "metadata": {
    "collapsed": false
   }
  },
  {
   "cell_type": "code",
   "execution_count": 79,
   "outputs": [],
   "source": [
    "from math import sqrt\n",
    "import pandas as pd\n",
    "import json\n",
    "import requests\n",
    "import random\n",
    "import folium\n",
    "from shapely.geometry import Point\n",
    "from shapely.geometry import shape\n",
    "from bs4 import BeautifulSoup\n",
    "import re"
   ],
   "metadata": {
    "collapsed": false,
    "pycharm": {
     "name": "#%%\n"
    }
   }
  },
  {
   "cell_type": "markdown",
   "source": [
    "Credentials for map search later"
   ],
   "metadata": {
    "collapsed": false
   }
  },
  {
   "cell_type": "code",
   "execution_count": 184,
   "outputs": [],
   "source": [
    "# Foursquare credentials\n",
    "with open('credentials.json') as f:\n",
    "    creds = json.load(f)\n",
    "\n",
    "    CLIENT_ID = creds[0]['CLIENT_ID']\n",
    "    CLIENT_SECRET = creds[0]['CLIENT_SECRET']\n",
    "\n",
    "VERSION =  \"20200101\"\n",
    "LIMIT = 100"
   ],
   "metadata": {
    "collapsed": false,
    "pycharm": {
     "name": "#%%\n"
    }
   }
  },
  {
   "cell_type": "code",
   "execution_count": 185,
   "outputs": [
    {
     "data": {
      "text/plain": "                   MajorText                          MinorText  \\\n0  Arson and Criminal Damage                              Arson   \n1  Arson and Criminal Damage                    Criminal Damage   \n2                   Burglary  Burglary - Business and Community   \n3                   Burglary             Burglary - Residential   \n4              Drug Offences                   Drug Trafficking   \n\n     LookUp_BoroughName  201812  201901  201902  201903  201904  201905  \\\n0  Barking and Dagenham       1       5       2       5       5      11   \n1  Barking and Dagenham      88      97     127     138     130     140   \n2  Barking and Dagenham      33      45      24      29      27      21   \n3  Barking and Dagenham     164     114     107      99      96     114   \n4  Barking and Dagenham       4       6       2       6       5       9   \n\n   201906  ...  202002  202003  202004  202005  202006  202007  202008  \\\n0       3  ...       5       6       2       2       4       4       6   \n1     113  ...     103     107      80      86     121     122     114   \n2      27  ...      17      28      29      16      16      28      24   \n3      96  ...     123      97      57      42      63      72      63   \n4       6  ...       6       6      15      13      12      21       9   \n\n   202009  202010  202011  \n0       2       7       4  \n1     116     119     100  \n2      32      21      19  \n3      54      67      90  \n4      11      14      17  \n\n[5 rows x 27 columns]",
      "text/html": "<div>\n<style scoped>\n    .dataframe tbody tr th:only-of-type {\n        vertical-align: middle;\n    }\n\n    .dataframe tbody tr th {\n        vertical-align: top;\n    }\n\n    .dataframe thead th {\n        text-align: right;\n    }\n</style>\n<table border=\"1\" class=\"dataframe\">\n  <thead>\n    <tr style=\"text-align: right;\">\n      <th></th>\n      <th>MajorText</th>\n      <th>MinorText</th>\n      <th>LookUp_BoroughName</th>\n      <th>201812</th>\n      <th>201901</th>\n      <th>201902</th>\n      <th>201903</th>\n      <th>201904</th>\n      <th>201905</th>\n      <th>201906</th>\n      <th>...</th>\n      <th>202002</th>\n      <th>202003</th>\n      <th>202004</th>\n      <th>202005</th>\n      <th>202006</th>\n      <th>202007</th>\n      <th>202008</th>\n      <th>202009</th>\n      <th>202010</th>\n      <th>202011</th>\n    </tr>\n  </thead>\n  <tbody>\n    <tr>\n      <th>0</th>\n      <td>Arson and Criminal Damage</td>\n      <td>Arson</td>\n      <td>Barking and Dagenham</td>\n      <td>1</td>\n      <td>5</td>\n      <td>2</td>\n      <td>5</td>\n      <td>5</td>\n      <td>11</td>\n      <td>3</td>\n      <td>...</td>\n      <td>5</td>\n      <td>6</td>\n      <td>2</td>\n      <td>2</td>\n      <td>4</td>\n      <td>4</td>\n      <td>6</td>\n      <td>2</td>\n      <td>7</td>\n      <td>4</td>\n    </tr>\n    <tr>\n      <th>1</th>\n      <td>Arson and Criminal Damage</td>\n      <td>Criminal Damage</td>\n      <td>Barking and Dagenham</td>\n      <td>88</td>\n      <td>97</td>\n      <td>127</td>\n      <td>138</td>\n      <td>130</td>\n      <td>140</td>\n      <td>113</td>\n      <td>...</td>\n      <td>103</td>\n      <td>107</td>\n      <td>80</td>\n      <td>86</td>\n      <td>121</td>\n      <td>122</td>\n      <td>114</td>\n      <td>116</td>\n      <td>119</td>\n      <td>100</td>\n    </tr>\n    <tr>\n      <th>2</th>\n      <td>Burglary</td>\n      <td>Burglary - Business and Community</td>\n      <td>Barking and Dagenham</td>\n      <td>33</td>\n      <td>45</td>\n      <td>24</td>\n      <td>29</td>\n      <td>27</td>\n      <td>21</td>\n      <td>27</td>\n      <td>...</td>\n      <td>17</td>\n      <td>28</td>\n      <td>29</td>\n      <td>16</td>\n      <td>16</td>\n      <td>28</td>\n      <td>24</td>\n      <td>32</td>\n      <td>21</td>\n      <td>19</td>\n    </tr>\n    <tr>\n      <th>3</th>\n      <td>Burglary</td>\n      <td>Burglary - Residential</td>\n      <td>Barking and Dagenham</td>\n      <td>164</td>\n      <td>114</td>\n      <td>107</td>\n      <td>99</td>\n      <td>96</td>\n      <td>114</td>\n      <td>96</td>\n      <td>...</td>\n      <td>123</td>\n      <td>97</td>\n      <td>57</td>\n      <td>42</td>\n      <td>63</td>\n      <td>72</td>\n      <td>63</td>\n      <td>54</td>\n      <td>67</td>\n      <td>90</td>\n    </tr>\n    <tr>\n      <th>4</th>\n      <td>Drug Offences</td>\n      <td>Drug Trafficking</td>\n      <td>Barking and Dagenham</td>\n      <td>4</td>\n      <td>6</td>\n      <td>2</td>\n      <td>6</td>\n      <td>5</td>\n      <td>9</td>\n      <td>6</td>\n      <td>...</td>\n      <td>6</td>\n      <td>6</td>\n      <td>15</td>\n      <td>13</td>\n      <td>12</td>\n      <td>21</td>\n      <td>9</td>\n      <td>11</td>\n      <td>14</td>\n      <td>17</td>\n    </tr>\n  </tbody>\n</table>\n<p>5 rows × 27 columns</p>\n</div>"
     },
     "execution_count": 185,
     "metadata": {},
     "output_type": "execute_result"
    }
   ],
   "source": [
    "crime_df = pd.read_csv('MPS Borough Level Crime (most recent 24 months).csv')\n",
    "crime_df.head()"
   ],
   "metadata": {
    "collapsed": false,
    "pycharm": {
     "name": "#%%\n"
    }
   }
  },
  {
   "cell_type": "code",
   "execution_count": 186,
   "outputs": [],
   "source": [
    "crime_df['Total_Crime'] = crime_df.sum(axis=1)"
   ],
   "metadata": {
    "collapsed": false,
    "pycharm": {
     "name": "#%%\n"
    }
   }
  },
  {
   "cell_type": "code",
   "execution_count": 187,
   "outputs": [
    {
     "data": {
      "text/plain": "                       Crime               Borough  Total_Crime\n0  Arson and Criminal Damage  Barking and Dagenham          115\n1  Arson and Criminal Damage  Barking and Dagenham         2687\n2                   Burglary  Barking and Dagenham          656\n3                   Burglary  Barking and Dagenham         2193\n4              Drug Offences  Barking and Dagenham          228",
      "text/html": "<div>\n<style scoped>\n    .dataframe tbody tr th:only-of-type {\n        vertical-align: middle;\n    }\n\n    .dataframe tbody tr th {\n        vertical-align: top;\n    }\n\n    .dataframe thead th {\n        text-align: right;\n    }\n</style>\n<table border=\"1\" class=\"dataframe\">\n  <thead>\n    <tr style=\"text-align: right;\">\n      <th></th>\n      <th>Crime</th>\n      <th>Borough</th>\n      <th>Total_Crime</th>\n    </tr>\n  </thead>\n  <tbody>\n    <tr>\n      <th>0</th>\n      <td>Arson and Criminal Damage</td>\n      <td>Barking and Dagenham</td>\n      <td>115</td>\n    </tr>\n    <tr>\n      <th>1</th>\n      <td>Arson and Criminal Damage</td>\n      <td>Barking and Dagenham</td>\n      <td>2687</td>\n    </tr>\n    <tr>\n      <th>2</th>\n      <td>Burglary</td>\n      <td>Barking and Dagenham</td>\n      <td>656</td>\n    </tr>\n    <tr>\n      <th>3</th>\n      <td>Burglary</td>\n      <td>Barking and Dagenham</td>\n      <td>2193</td>\n    </tr>\n    <tr>\n      <th>4</th>\n      <td>Drug Offences</td>\n      <td>Barking and Dagenham</td>\n      <td>228</td>\n    </tr>\n  </tbody>\n</table>\n</div>"
     },
     "execution_count": 187,
     "metadata": {},
     "output_type": "execute_result"
    }
   ],
   "source": [
    "crime_df = crime_df[['MajorText', 'LookUp_BoroughName', 'Total_Crime']]\n",
    "crime_df.columns = ['Crime', 'Borough', 'Total_Crime']\n",
    "crime_df.head()"
   ],
   "metadata": {
    "collapsed": false,
    "pycharm": {
     "name": "#%%\n"
    }
   }
  },
  {
   "cell_type": "code",
   "execution_count": 188,
   "outputs": [
    {
     "data": {
      "text/plain": "                                                           Total_Crime\nBorough              Crime                                            \nBarking and Dagenham Arson and Criminal Damage                    2802\n                     Burglary                                     2849\n                     Drug Offences                                2768\n                     Miscellaneous Crimes Against Society          633\n                     Possession of Weapons                         353",
      "text/html": "<div>\n<style scoped>\n    .dataframe tbody tr th:only-of-type {\n        vertical-align: middle;\n    }\n\n    .dataframe tbody tr th {\n        vertical-align: top;\n    }\n\n    .dataframe thead th {\n        text-align: right;\n    }\n</style>\n<table border=\"1\" class=\"dataframe\">\n  <thead>\n    <tr style=\"text-align: right;\">\n      <th></th>\n      <th></th>\n      <th>Total_Crime</th>\n    </tr>\n    <tr>\n      <th>Borough</th>\n      <th>Crime</th>\n      <th></th>\n    </tr>\n  </thead>\n  <tbody>\n    <tr>\n      <th rowspan=\"5\" valign=\"top\">Barking and Dagenham</th>\n      <th>Arson and Criminal Damage</th>\n      <td>2802</td>\n    </tr>\n    <tr>\n      <th>Burglary</th>\n      <td>2849</td>\n    </tr>\n    <tr>\n      <th>Drug Offences</th>\n      <td>2768</td>\n    </tr>\n    <tr>\n      <th>Miscellaneous Crimes Against Society</th>\n      <td>633</td>\n    </tr>\n    <tr>\n      <th>Possession of Weapons</th>\n      <td>353</td>\n    </tr>\n  </tbody>\n</table>\n</div>"
     },
     "execution_count": 188,
     "metadata": {},
     "output_type": "execute_result"
    }
   ],
   "source": [
    "type_crime_df = crime_df.groupby(['Borough', 'Crime']).sum()\n",
    "type_crime_df.head()"
   ],
   "metadata": {
    "collapsed": false,
    "pycharm": {
     "name": "#%%\n"
    }
   }
  },
  {
   "cell_type": "code",
   "execution_count": 189,
   "outputs": [
    {
     "data": {
      "text/plain": "                      Total_Crime\nBorough                          \nBarking and Dagenham        39456\nBarnet                      59167\nBexley                      33929\nBrent                       59257\nBromley                     47499",
      "text/html": "<div>\n<style scoped>\n    .dataframe tbody tr th:only-of-type {\n        vertical-align: middle;\n    }\n\n    .dataframe tbody tr th {\n        vertical-align: top;\n    }\n\n    .dataframe thead th {\n        text-align: right;\n    }\n</style>\n<table border=\"1\" class=\"dataframe\">\n  <thead>\n    <tr style=\"text-align: right;\">\n      <th></th>\n      <th>Total_Crime</th>\n    </tr>\n    <tr>\n      <th>Borough</th>\n      <th></th>\n    </tr>\n  </thead>\n  <tbody>\n    <tr>\n      <th>Barking and Dagenham</th>\n      <td>39456</td>\n    </tr>\n    <tr>\n      <th>Barnet</th>\n      <td>59167</td>\n    </tr>\n    <tr>\n      <th>Bexley</th>\n      <td>33929</td>\n    </tr>\n    <tr>\n      <th>Brent</th>\n      <td>59257</td>\n    </tr>\n    <tr>\n      <th>Bromley</th>\n      <td>47499</td>\n    </tr>\n  </tbody>\n</table>\n</div>"
     },
     "execution_count": 189,
     "metadata": {},
     "output_type": "execute_result"
    }
   ],
   "source": [
    "total_crime_df = crime_df.groupby('Borough').sum()\n",
    "total_crime_df.head()"
   ],
   "metadata": {
    "collapsed": false,
    "pycharm": {
     "name": "#%%\n"
    }
   }
  },
  {
   "cell_type": "code",
   "execution_count": 250,
   "outputs": [
    {
     "name": "stdout",
     "output_type": "stream",
     "text": [
      "200\n"
     ]
    }
   ],
   "source": [
    "url = \"https://en.wikipedia.org/wiki/List_of_London_boroughs\"\n",
    "wikitable = \"wikitable sortable jquery-tablesorter\"\n",
    "response = requests.get(url)\n",
    "print(response.status_code)"
   ],
   "metadata": {
    "collapsed": false,
    "pycharm": {
     "name": "#%%\n"
    }
   }
  },
  {
   "cell_type": "code",
   "execution_count": 278,
   "outputs": [
    {
     "data": {
      "text/plain": "Index(['Borough', 'Inner', 'Status', 'Local authority', 'Political control',\n       'Headquarters', 'Area (sq mi)', 'Population (2019 est)[1]',\n       'Co-ordinates', 'Nr. in map'],\n      dtype='object')"
     },
     "execution_count": 278,
     "metadata": {},
     "output_type": "execute_result"
    }
   ],
   "source": [
    "soup = BeautifulSoup(response.text, 'html.parser')\n",
    "london, city = soup.findAll('table', {'class': \"wikitable\"})\n",
    "\n",
    "london_df = pd.read_html(str(london))\n",
    "london_df = pd.DataFrame(london_df[0])\n",
    "city_df = pd.read_html(str(city))\n",
    "city_df = pd.DataFrame(city_df[0])\n",
    "london_df.columns"
   ],
   "metadata": {
    "collapsed": false,
    "pycharm": {
     "name": "#%%\n"
    }
   }
  },
  {
   "cell_type": "code",
   "execution_count": 279,
   "outputs": [
    {
     "data": {
      "text/plain": "Index(['Borough', 'Inner', 'Status', 'Local authority', 'Political control',\n       'Headquarters', 'Area (sq mi)', 'Population(2019 est)', 'Co-ordinates',\n       'Nr. inmap'],\n      dtype='object')"
     },
     "execution_count": 279,
     "metadata": {},
     "output_type": "execute_result"
    }
   ],
   "source": [
    "city_df.columns"
   ],
   "metadata": {
    "collapsed": false,
    "pycharm": {
     "name": "#%%\n"
    }
   }
  },
  {
   "cell_type": "code",
   "execution_count": 280,
   "outputs": [
    {
     "data": {
      "text/plain": "                         Borough  Population(2019 est)  \\\n0  Barking and Dagenham [note 1]                212906   \n1                         Barnet                395896   \n2                         Bexley                248287   \n3                          Brent                329771   \n4                        Bromley                332336   \n\n                                        Co-ordinates  \n0  .mw-parser-output .geo-default,.mw-parser-outp...  \n1        51°37′31″N 0°09′06″W﻿ / ﻿51.6252°N 0.1517°W  \n2        51°27′18″N 0°09′02″E﻿ / ﻿51.4549°N 0.1505°E  \n3        51°33′32″N 0°16′54″W﻿ / ﻿51.5588°N 0.2817°W  \n4        51°24′14″N 0°01′11″E﻿ / ﻿51.4039°N 0.0198°E  ",
      "text/html": "<div>\n<style scoped>\n    .dataframe tbody tr th:only-of-type {\n        vertical-align: middle;\n    }\n\n    .dataframe tbody tr th {\n        vertical-align: top;\n    }\n\n    .dataframe thead th {\n        text-align: right;\n    }\n</style>\n<table border=\"1\" class=\"dataframe\">\n  <thead>\n    <tr style=\"text-align: right;\">\n      <th></th>\n      <th>Borough</th>\n      <th>Population(2019 est)</th>\n      <th>Co-ordinates</th>\n    </tr>\n  </thead>\n  <tbody>\n    <tr>\n      <th>0</th>\n      <td>Barking and Dagenham [note 1]</td>\n      <td>212906</td>\n      <td>.mw-parser-output .geo-default,.mw-parser-outp...</td>\n    </tr>\n    <tr>\n      <th>1</th>\n      <td>Barnet</td>\n      <td>395896</td>\n      <td>51°37′31″N 0°09′06″W﻿ / ﻿51.6252°N 0.1517°W</td>\n    </tr>\n    <tr>\n      <th>2</th>\n      <td>Bexley</td>\n      <td>248287</td>\n      <td>51°27′18″N 0°09′02″E﻿ / ﻿51.4549°N 0.1505°E</td>\n    </tr>\n    <tr>\n      <th>3</th>\n      <td>Brent</td>\n      <td>329771</td>\n      <td>51°33′32″N 0°16′54″W﻿ / ﻿51.5588°N 0.2817°W</td>\n    </tr>\n    <tr>\n      <th>4</th>\n      <td>Bromley</td>\n      <td>332336</td>\n      <td>51°24′14″N 0°01′11″E﻿ / ﻿51.4039°N 0.0198°E</td>\n    </tr>\n  </tbody>\n</table>\n</div>"
     },
     "execution_count": 280,
     "metadata": {},
     "output_type": "execute_result"
    }
   ],
   "source": [
    "london_df = london_df[['Borough','Population (2019 est)[1]', 'Co-ordinates']]\n",
    "london_df.columns = ['Borough','Population(2019 est)', 'Co-ordinates']\n",
    "london_df.head()"
   ],
   "metadata": {
    "collapsed": false,
    "pycharm": {
     "name": "#%%\n"
    }
   }
  },
  {
   "cell_type": "code",
   "execution_count": 281,
   "outputs": [],
   "source": [
    "city_df = city_df[['Borough', 'Population(2019 est)', 'Co-ordinates']]"
   ],
   "metadata": {
    "collapsed": false,
    "pycharm": {
     "name": "#%%\n"
    }
   }
  },
  {
   "cell_type": "code",
   "execution_count": 282,
   "outputs": [],
   "source": [
    "london_df = pd.concat([london_df, city_df])"
   ],
   "metadata": {
    "collapsed": false,
    "pycharm": {
     "name": "#%%\n"
    }
   }
  },
  {
   "cell_type": "code",
   "execution_count": 283,
   "outputs": [
    {
     "data": {
      "text/plain": "           Borough  Population(2019 est)  \\\n28   Tower Hamlets                324745   \n29  Waltham Forest                276983   \n30      Wandsworth                329677   \n31     Westminster                261317   \n32  City of London                  9721   \n\n                                   Co-ordinates  \n28  51°30′36″N 0°00′21″W﻿ / ﻿51.5099°N 0.0059°W  \n29  51°35′27″N 0°00′48″W﻿ / ﻿51.5908°N 0.0134°W  \n30  51°27′24″N 0°11′28″W﻿ / ﻿51.4567°N 0.1910°W  \n31  51°29′50″N 0°08′14″W﻿ / ﻿51.4973°N 0.1372°W  \n32  51°30′56″N 0°05′32″W﻿ / ﻿51.5155°N 0.0922°W  ",
      "text/html": "<div>\n<style scoped>\n    .dataframe tbody tr th:only-of-type {\n        vertical-align: middle;\n    }\n\n    .dataframe tbody tr th {\n        vertical-align: top;\n    }\n\n    .dataframe thead th {\n        text-align: right;\n    }\n</style>\n<table border=\"1\" class=\"dataframe\">\n  <thead>\n    <tr style=\"text-align: right;\">\n      <th></th>\n      <th>Borough</th>\n      <th>Population(2019 est)</th>\n      <th>Co-ordinates</th>\n    </tr>\n  </thead>\n  <tbody>\n    <tr>\n      <th>28</th>\n      <td>Tower Hamlets</td>\n      <td>324745</td>\n      <td>51°30′36″N 0°00′21″W﻿ / ﻿51.5099°N 0.0059°W</td>\n    </tr>\n    <tr>\n      <th>29</th>\n      <td>Waltham Forest</td>\n      <td>276983</td>\n      <td>51°35′27″N 0°00′48″W﻿ / ﻿51.5908°N 0.0134°W</td>\n    </tr>\n    <tr>\n      <th>30</th>\n      <td>Wandsworth</td>\n      <td>329677</td>\n      <td>51°27′24″N 0°11′28″W﻿ / ﻿51.4567°N 0.1910°W</td>\n    </tr>\n    <tr>\n      <th>31</th>\n      <td>Westminster</td>\n      <td>261317</td>\n      <td>51°29′50″N 0°08′14″W﻿ / ﻿51.4973°N 0.1372°W</td>\n    </tr>\n    <tr>\n      <th>32</th>\n      <td>City of London</td>\n      <td>9721</td>\n      <td>51°30′56″N 0°05′32″W﻿ / ﻿51.5155°N 0.0922°W</td>\n    </tr>\n  </tbody>\n</table>\n</div>"
     },
     "execution_count": 283,
     "metadata": {},
     "output_type": "execute_result"
    }
   ],
   "source": [
    "london_df.reset_index(drop=True, inplace=True)\n",
    "london_df.tail()"
   ],
   "metadata": {
    "collapsed": false,
    "pycharm": {
     "name": "#%%\n"
    }
   }
  },
  {
   "cell_type": "code",
   "execution_count": 284,
   "outputs": [
    {
     "data": {
      "text/plain": "                         Borough  Population(2019 est)  \\\n0  Barking and Dagenham [note 1]                212906   \n1                         Barnet                395896   \n2                         Bexley                248287   \n3                          Brent                329771   \n4                        Bromley                332336   \n\n                                        Co-ordinates  \n0  .mw-parser-output .geo-default,.mw-parser-outp...  \n1        51°37′31″N 0°09′06″W﻿ / ﻿51.6252°N 0.1517°W  \n2        51°27′18″N 0°09′02″E﻿ / ﻿51.4549°N 0.1505°E  \n3        51°33′32″N 0°16′54″W﻿ / ﻿51.5588°N 0.2817°W  \n4        51°24′14″N 0°01′11″E﻿ / ﻿51.4039°N 0.0198°E  ",
      "text/html": "<div>\n<style scoped>\n    .dataframe tbody tr th:only-of-type {\n        vertical-align: middle;\n    }\n\n    .dataframe tbody tr th {\n        vertical-align: top;\n    }\n\n    .dataframe thead th {\n        text-align: right;\n    }\n</style>\n<table border=\"1\" class=\"dataframe\">\n  <thead>\n    <tr style=\"text-align: right;\">\n      <th></th>\n      <th>Borough</th>\n      <th>Population(2019 est)</th>\n      <th>Co-ordinates</th>\n    </tr>\n  </thead>\n  <tbody>\n    <tr>\n      <th>0</th>\n      <td>Barking and Dagenham [note 1]</td>\n      <td>212906</td>\n      <td>.mw-parser-output .geo-default,.mw-parser-outp...</td>\n    </tr>\n    <tr>\n      <th>1</th>\n      <td>Barnet</td>\n      <td>395896</td>\n      <td>51°37′31″N 0°09′06″W﻿ / ﻿51.6252°N 0.1517°W</td>\n    </tr>\n    <tr>\n      <th>2</th>\n      <td>Bexley</td>\n      <td>248287</td>\n      <td>51°27′18″N 0°09′02″E﻿ / ﻿51.4549°N 0.1505°E</td>\n    </tr>\n    <tr>\n      <th>3</th>\n      <td>Brent</td>\n      <td>329771</td>\n      <td>51°33′32″N 0°16′54″W﻿ / ﻿51.5588°N 0.2817°W</td>\n    </tr>\n    <tr>\n      <th>4</th>\n      <td>Bromley</td>\n      <td>332336</td>\n      <td>51°24′14″N 0°01′11″E﻿ / ﻿51.4039°N 0.0198°E</td>\n    </tr>\n  </tbody>\n</table>\n</div>"
     },
     "execution_count": 284,
     "metadata": {},
     "output_type": "execute_result"
    }
   ],
   "source": [
    "london_df.head()\n"
   ],
   "metadata": {
    "collapsed": false,
    "pycharm": {
     "name": "#%%\n"
    }
   }
  },
  {
   "cell_type": "markdown",
   "source": [
    "sigh, regex here we come"
   ],
   "metadata": {
    "collapsed": false,
    "pycharm": {
     "name": "#%% md\n"
    }
   }
  },
  {
   "cell_type": "code",
   "execution_count": 285,
   "outputs": [
    {
     "data": {
      "text/plain": "                Borough  Population(2019 est)  \\\n0  Barking and Dagenham                212906   \n1                Barnet                395896   \n2                Bexley                248287   \n3                 Brent                329771   \n4               Bromley                332336   \n\n                                        Co-ordinates  \n0  .mw-parser-output .geo-default,.mw-parser-outp...  \n1        51°37′31″N 0°09′06″W﻿ / ﻿51.6252°N 0.1517°W  \n2        51°27′18″N 0°09′02″E﻿ / ﻿51.4549°N 0.1505°E  \n3        51°33′32″N 0°16′54″W﻿ / ﻿51.5588°N 0.2817°W  \n4        51°24′14″N 0°01′11″E﻿ / ﻿51.4039°N 0.0198°E  ",
      "text/html": "<div>\n<style scoped>\n    .dataframe tbody tr th:only-of-type {\n        vertical-align: middle;\n    }\n\n    .dataframe tbody tr th {\n        vertical-align: top;\n    }\n\n    .dataframe thead th {\n        text-align: right;\n    }\n</style>\n<table border=\"1\" class=\"dataframe\">\n  <thead>\n    <tr style=\"text-align: right;\">\n      <th></th>\n      <th>Borough</th>\n      <th>Population(2019 est)</th>\n      <th>Co-ordinates</th>\n    </tr>\n  </thead>\n  <tbody>\n    <tr>\n      <th>0</th>\n      <td>Barking and Dagenham</td>\n      <td>212906</td>\n      <td>.mw-parser-output .geo-default,.mw-parser-outp...</td>\n    </tr>\n    <tr>\n      <th>1</th>\n      <td>Barnet</td>\n      <td>395896</td>\n      <td>51°37′31″N 0°09′06″W﻿ / ﻿51.6252°N 0.1517°W</td>\n    </tr>\n    <tr>\n      <th>2</th>\n      <td>Bexley</td>\n      <td>248287</td>\n      <td>51°27′18″N 0°09′02″E﻿ / ﻿51.4549°N 0.1505°E</td>\n    </tr>\n    <tr>\n      <th>3</th>\n      <td>Brent</td>\n      <td>329771</td>\n      <td>51°33′32″N 0°16′54″W﻿ / ﻿51.5588°N 0.2817°W</td>\n    </tr>\n    <tr>\n      <th>4</th>\n      <td>Bromley</td>\n      <td>332336</td>\n      <td>51°24′14″N 0°01′11″E﻿ / ﻿51.4039°N 0.0198°E</td>\n    </tr>\n  </tbody>\n</table>\n</div>"
     },
     "execution_count": 285,
     "metadata": {},
     "output_type": "execute_result"
    }
   ],
   "source": [
    "london_df.Borough = london_df['Borough'].replace(to_replace =\" \\[note [1-9]\\]\", value = '', regex = True)\n",
    "london_df.head()"
   ],
   "metadata": {
    "collapsed": false,
    "pycharm": {
     "name": "#%%\n"
    }
   }
  },
  {
   "cell_type": "code",
   "execution_count": 286,
   "outputs": [
    {
     "data": {
      "text/plain": "                Borough  Population(2019 est)  \\\n0  Barking and Dagenham                212906   \n1                Barnet                395896   \n2                Bexley                248287   \n3                 Brent                329771   \n4               Bromley                332336   \n\n                                        Co-ordinates  \\\n0  .mw-parser-output .geo-default,.mw-parser-outp...   \n1        51°37′31″N 0°09′06″W﻿ / ﻿51.6252°N 0.1517°W   \n2        51°27′18″N 0°09′02″E﻿ / ﻿51.4549°N 0.1505°E   \n3        51°33′32″N 0°16′54″W﻿ / ﻿51.5588°N 0.2817°W   \n4        51°24′14″N 0°01′11″E﻿ / ﻿51.4039°N 0.0198°E   \n\n                                                junk              coords  \n0  .mw-parser-output .geo-default,.mw-parser-outp...  51.5607°N 0.1557°E  \n1                             51°37′31″N 0°09′06″W﻿   51.6252°N 0.1517°W  \n2                             51°27′18″N 0°09′02″E﻿   51.4549°N 0.1505°E  \n3                             51°33′32″N 0°16′54″W﻿   51.5588°N 0.2817°W  \n4                             51°24′14″N 0°01′11″E﻿   51.4039°N 0.0198°E  ",
      "text/html": "<div>\n<style scoped>\n    .dataframe tbody tr th:only-of-type {\n        vertical-align: middle;\n    }\n\n    .dataframe tbody tr th {\n        vertical-align: top;\n    }\n\n    .dataframe thead th {\n        text-align: right;\n    }\n</style>\n<table border=\"1\" class=\"dataframe\">\n  <thead>\n    <tr style=\"text-align: right;\">\n      <th></th>\n      <th>Borough</th>\n      <th>Population(2019 est)</th>\n      <th>Co-ordinates</th>\n      <th>junk</th>\n      <th>coords</th>\n    </tr>\n  </thead>\n  <tbody>\n    <tr>\n      <th>0</th>\n      <td>Barking and Dagenham</td>\n      <td>212906</td>\n      <td>.mw-parser-output .geo-default,.mw-parser-outp...</td>\n      <td>.mw-parser-output .geo-default,.mw-parser-outp...</td>\n      <td>51.5607°N 0.1557°E</td>\n    </tr>\n    <tr>\n      <th>1</th>\n      <td>Barnet</td>\n      <td>395896</td>\n      <td>51°37′31″N 0°09′06″W﻿ / ﻿51.6252°N 0.1517°W</td>\n      <td>51°37′31″N 0°09′06″W﻿</td>\n      <td>51.6252°N 0.1517°W</td>\n    </tr>\n    <tr>\n      <th>2</th>\n      <td>Bexley</td>\n      <td>248287</td>\n      <td>51°27′18″N 0°09′02″E﻿ / ﻿51.4549°N 0.1505°E</td>\n      <td>51°27′18″N 0°09′02″E﻿</td>\n      <td>51.4549°N 0.1505°E</td>\n    </tr>\n    <tr>\n      <th>3</th>\n      <td>Brent</td>\n      <td>329771</td>\n      <td>51°33′32″N 0°16′54″W﻿ / ﻿51.5588°N 0.2817°W</td>\n      <td>51°33′32″N 0°16′54″W﻿</td>\n      <td>51.5588°N 0.2817°W</td>\n    </tr>\n    <tr>\n      <th>4</th>\n      <td>Bromley</td>\n      <td>332336</td>\n      <td>51°24′14″N 0°01′11″E﻿ / ﻿51.4039°N 0.0198°E</td>\n      <td>51°24′14″N 0°01′11″E﻿</td>\n      <td>51.4039°N 0.0198°E</td>\n    </tr>\n  </tbody>\n</table>\n</div>"
     },
     "execution_count": 286,
     "metadata": {},
     "output_type": "execute_result"
    }
   ],
   "source": [
    "spl = u'\\ufeff'\n",
    "spl = f\"/ {spl}\"\n",
    "london_df[['junk', 'coords']] = london_df['Co-ordinates'].str.split(spl, expand=True)\n",
    "london_df.head()"
   ],
   "metadata": {
    "collapsed": false,
    "pycharm": {
     "name": "#%%\n"
    }
   }
  },
  {
   "cell_type": "code",
   "execution_count": 293,
   "outputs": [
    {
     "data": {
      "text/plain": "                Borough  Population(2019 est)              coords latitude  \\\n0  Barking and Dagenham                212906  51.5607°N 0.1557°E  51.5607   \n1                Barnet                395896  51.6252°N 0.1517°W  51.6252   \n2                Bexley                248287  51.4549°N 0.1505°E  51.4549   \n3                 Brent                329771  51.5588°N 0.2817°W  51.5588   \n4               Bromley                332336  51.4039°N 0.0198°E  51.4039   \n\n  longitude  \n0  0.1557°E  \n1  0.1517°W  \n2  0.1505°E  \n3  0.2817°W  \n4  0.0198°E  ",
      "text/html": "<div>\n<style scoped>\n    .dataframe tbody tr th:only-of-type {\n        vertical-align: middle;\n    }\n\n    .dataframe tbody tr th {\n        vertical-align: top;\n    }\n\n    .dataframe thead th {\n        text-align: right;\n    }\n</style>\n<table border=\"1\" class=\"dataframe\">\n  <thead>\n    <tr style=\"text-align: right;\">\n      <th></th>\n      <th>Borough</th>\n      <th>Population(2019 est)</th>\n      <th>coords</th>\n      <th>latitude</th>\n      <th>longitude</th>\n    </tr>\n  </thead>\n  <tbody>\n    <tr>\n      <th>0</th>\n      <td>Barking and Dagenham</td>\n      <td>212906</td>\n      <td>51.5607°N 0.1557°E</td>\n      <td>51.5607</td>\n      <td>0.1557°E</td>\n    </tr>\n    <tr>\n      <th>1</th>\n      <td>Barnet</td>\n      <td>395896</td>\n      <td>51.6252°N 0.1517°W</td>\n      <td>51.6252</td>\n      <td>0.1517°W</td>\n    </tr>\n    <tr>\n      <th>2</th>\n      <td>Bexley</td>\n      <td>248287</td>\n      <td>51.4549°N 0.1505°E</td>\n      <td>51.4549</td>\n      <td>0.1505°E</td>\n    </tr>\n    <tr>\n      <th>3</th>\n      <td>Brent</td>\n      <td>329771</td>\n      <td>51.5588°N 0.2817°W</td>\n      <td>51.5588</td>\n      <td>0.2817°W</td>\n    </tr>\n    <tr>\n      <th>4</th>\n      <td>Bromley</td>\n      <td>332336</td>\n      <td>51.4039°N 0.0198°E</td>\n      <td>51.4039</td>\n      <td>0.0198°E</td>\n    </tr>\n  </tbody>\n</table>\n</div>"
     },
     "execution_count": 293,
     "metadata": {},
     "output_type": "execute_result"
    }
   ],
   "source": [
    "london_df.drop(['Co-ordinates', 'junk'], axis=1, inplace=True)\n",
    "london_df.head()"
   ],
   "metadata": {
    "collapsed": false,
    "pycharm": {
     "name": "#%%\n"
    }
   }
  },
  {
   "cell_type": "code",
   "execution_count": 294,
   "outputs": [
    {
     "data": {
      "text/plain": "                Borough  Population(2019 est)              coords latitude  \\\n0  Barking and Dagenham                212906  51.5607°N 0.1557°E  51.5607   \n1                Barnet                395896  51.6252°N 0.1517°W  51.6252   \n2                Bexley                248287  51.4549°N 0.1505°E  51.4549   \n3                 Brent                329771  51.5588°N 0.2817°W  51.5588   \n4               Bromley                332336  51.4039°N 0.0198°E  51.4039   \n\n  longitude  \n0  0.1557°E  \n1  0.1517°W  \n2  0.1505°E  \n3  0.2817°W  \n4  0.0198°E  ",
      "text/html": "<div>\n<style scoped>\n    .dataframe tbody tr th:only-of-type {\n        vertical-align: middle;\n    }\n\n    .dataframe tbody tr th {\n        vertical-align: top;\n    }\n\n    .dataframe thead th {\n        text-align: right;\n    }\n</style>\n<table border=\"1\" class=\"dataframe\">\n  <thead>\n    <tr style=\"text-align: right;\">\n      <th></th>\n      <th>Borough</th>\n      <th>Population(2019 est)</th>\n      <th>coords</th>\n      <th>latitude</th>\n      <th>longitude</th>\n    </tr>\n  </thead>\n  <tbody>\n    <tr>\n      <th>0</th>\n      <td>Barking and Dagenham</td>\n      <td>212906</td>\n      <td>51.5607°N 0.1557°E</td>\n      <td>51.5607</td>\n      <td>0.1557°E</td>\n    </tr>\n    <tr>\n      <th>1</th>\n      <td>Barnet</td>\n      <td>395896</td>\n      <td>51.6252°N 0.1517°W</td>\n      <td>51.6252</td>\n      <td>0.1517°W</td>\n    </tr>\n    <tr>\n      <th>2</th>\n      <td>Bexley</td>\n      <td>248287</td>\n      <td>51.4549°N 0.1505°E</td>\n      <td>51.4549</td>\n      <td>0.1505°E</td>\n    </tr>\n    <tr>\n      <th>3</th>\n      <td>Brent</td>\n      <td>329771</td>\n      <td>51.5588°N 0.2817°W</td>\n      <td>51.5588</td>\n      <td>0.2817°W</td>\n    </tr>\n    <tr>\n      <th>4</th>\n      <td>Bromley</td>\n      <td>332336</td>\n      <td>51.4039°N 0.0198°E</td>\n      <td>51.4039</td>\n      <td>0.0198°E</td>\n    </tr>\n  </tbody>\n</table>\n</div>"
     },
     "execution_count": 294,
     "metadata": {},
     "output_type": "execute_result"
    }
   ],
   "source": [
    "london_df[['latitude', 'longitude']] = london_df['coords'].str.split(\"°N \", expand=True)\n",
    "london_df.head()"
   ],
   "metadata": {
    "collapsed": false,
    "pycharm": {
     "name": "#%%\n"
    }
   }
  },
  {
   "cell_type": "code",
   "execution_count": 295,
   "outputs": [
    {
     "name": "stderr",
     "output_type": "stream",
     "text": [
      "C:\\tools\\miniconda3\\envs\\IBM_capstone\\lib\\site-packages\\pandas\\core\\indexing.py:1675: SettingWithCopyWarning: \n",
      "A value is trying to be set on a copy of a slice from a DataFrame.\n",
      "Try using .loc[row_indexer,col_indexer] = value instead\n",
      "\n",
      "See the caveats in the documentation: https://pandas.pydata.org/pandas-docs/stable/user_guide/indexing.html#returning-a-view-versus-a-copy\n",
      "  self._setitem_single_column(ilocs[0], value, pi)\n"
     ]
    },
    {
     "data": {
      "text/plain": "   Borough  Population(2019 est)              coords latitude  longitude\n1   Barnet                395896  51.6252°N 0.1517°W  51.6252    -0.1517\n3    Brent                329771  51.5588°N 0.2817°W  51.5588    -0.2817\n5   Camden                270029  51.5290°N 0.1255°W  51.5290    -0.1255\n6  Croydon                386710  51.3714°N 0.0977°W  51.3714    -0.0977\n7   Ealing                341806  51.5130°N 0.3089°W  51.5130    -0.3089",
      "text/html": "<div>\n<style scoped>\n    .dataframe tbody tr th:only-of-type {\n        vertical-align: middle;\n    }\n\n    .dataframe tbody tr th {\n        vertical-align: top;\n    }\n\n    .dataframe thead th {\n        text-align: right;\n    }\n</style>\n<table border=\"1\" class=\"dataframe\">\n  <thead>\n    <tr style=\"text-align: right;\">\n      <th></th>\n      <th>Borough</th>\n      <th>Population(2019 est)</th>\n      <th>coords</th>\n      <th>latitude</th>\n      <th>longitude</th>\n    </tr>\n  </thead>\n  <tbody>\n    <tr>\n      <th>1</th>\n      <td>Barnet</td>\n      <td>395896</td>\n      <td>51.6252°N 0.1517°W</td>\n      <td>51.6252</td>\n      <td>-0.1517</td>\n    </tr>\n    <tr>\n      <th>3</th>\n      <td>Brent</td>\n      <td>329771</td>\n      <td>51.5588°N 0.2817°W</td>\n      <td>51.5588</td>\n      <td>-0.2817</td>\n    </tr>\n    <tr>\n      <th>5</th>\n      <td>Camden</td>\n      <td>270029</td>\n      <td>51.5290°N 0.1255°W</td>\n      <td>51.5290</td>\n      <td>-0.1255</td>\n    </tr>\n    <tr>\n      <th>6</th>\n      <td>Croydon</td>\n      <td>386710</td>\n      <td>51.3714°N 0.0977°W</td>\n      <td>51.3714</td>\n      <td>-0.0977</td>\n    </tr>\n    <tr>\n      <th>7</th>\n      <td>Ealing</td>\n      <td>341806</td>\n      <td>51.5130°N 0.3089°W</td>\n      <td>51.5130</td>\n      <td>-0.3089</td>\n    </tr>\n  </tbody>\n</table>\n</div>"
     },
     "execution_count": 295,
     "metadata": {},
     "output_type": "execute_result"
    }
   ],
   "source": [
    "# W is negative\n",
    "\n",
    "london_west = london_df.loc[london_df.longitude.str.contains('W')]\n",
    "london_west.loc[:, 'longitude'] = london_west.loc[:, 'longitude'].replace(to_replace='°W', value='', regex=True)\n",
    "london_west.loc[:, 'longitude'] = london_west.loc[:, 'longitude'].astype(float)\n",
    "london_west.loc[:, 'longitude'] = london_west.loc[:, 'longitude'] * -1\n",
    "\n",
    "london_west.head()"
   ],
   "metadata": {
    "collapsed": false,
    "pycharm": {
     "name": "#%%\n"
    }
   }
  },
  {
   "cell_type": "code",
   "execution_count": 296,
   "outputs": [
    {
     "name": "stderr",
     "output_type": "stream",
     "text": [
      "C:\\tools\\miniconda3\\envs\\IBM_capstone\\lib\\site-packages\\pandas\\core\\indexing.py:1675: SettingWithCopyWarning: \n",
      "A value is trying to be set on a copy of a slice from a DataFrame.\n",
      "Try using .loc[row_indexer,col_indexer] = value instead\n",
      "\n",
      "See the caveats in the documentation: https://pandas.pydata.org/pandas-docs/stable/user_guide/indexing.html#returning-a-view-versus-a-copy\n",
      "  self._setitem_single_column(ilocs[0], value, pi)\n"
     ]
    },
    {
     "data": {
      "text/plain": "                 Borough  Population(2019 est)              coords latitude  \\\n0   Barking and Dagenham                212906  51.5607°N 0.1557°E  51.5607   \n2                 Bexley                248287  51.4549°N 0.1505°E  51.4549   \n4                Bromley                332336  51.4039°N 0.0198°E  51.4039   \n9              Greenwich                287942  51.4892°N 0.0648°E  51.4892   \n14              Havering                259552  51.5812°N 0.1837°E  51.5812   \n\n    longitude  \n0      0.1557  \n2      0.1505  \n4      0.0198  \n9      0.0648  \n14     0.1837  ",
      "text/html": "<div>\n<style scoped>\n    .dataframe tbody tr th:only-of-type {\n        vertical-align: middle;\n    }\n\n    .dataframe tbody tr th {\n        vertical-align: top;\n    }\n\n    .dataframe thead th {\n        text-align: right;\n    }\n</style>\n<table border=\"1\" class=\"dataframe\">\n  <thead>\n    <tr style=\"text-align: right;\">\n      <th></th>\n      <th>Borough</th>\n      <th>Population(2019 est)</th>\n      <th>coords</th>\n      <th>latitude</th>\n      <th>longitude</th>\n    </tr>\n  </thead>\n  <tbody>\n    <tr>\n      <th>0</th>\n      <td>Barking and Dagenham</td>\n      <td>212906</td>\n      <td>51.5607°N 0.1557°E</td>\n      <td>51.5607</td>\n      <td>0.1557</td>\n    </tr>\n    <tr>\n      <th>2</th>\n      <td>Bexley</td>\n      <td>248287</td>\n      <td>51.4549°N 0.1505°E</td>\n      <td>51.4549</td>\n      <td>0.1505</td>\n    </tr>\n    <tr>\n      <th>4</th>\n      <td>Bromley</td>\n      <td>332336</td>\n      <td>51.4039°N 0.0198°E</td>\n      <td>51.4039</td>\n      <td>0.0198</td>\n    </tr>\n    <tr>\n      <th>9</th>\n      <td>Greenwich</td>\n      <td>287942</td>\n      <td>51.4892°N 0.0648°E</td>\n      <td>51.4892</td>\n      <td>0.0648</td>\n    </tr>\n    <tr>\n      <th>14</th>\n      <td>Havering</td>\n      <td>259552</td>\n      <td>51.5812°N 0.1837°E</td>\n      <td>51.5812</td>\n      <td>0.1837</td>\n    </tr>\n  </tbody>\n</table>\n</div>"
     },
     "execution_count": 296,
     "metadata": {},
     "output_type": "execute_result"
    }
   ],
   "source": [
    "london_east = london_df.loc[london_df.longitude.str.contains('E')]\n",
    "london_east.loc[:, 'longitude'] = london_east.loc[:, 'longitude'].replace(to_replace='°E', value='', regex=True)\n",
    "london_east.loc[:, 'longitude'] = london_east.loc[:, 'longitude'].replace(to_replace=u'\\ufeff', value='', regex=True)\n",
    "london_east.loc[:, 'longitude'] = london_east.loc[:, 'longitude'].astype(float)\n",
    "london_east.head()"
   ],
   "metadata": {
    "collapsed": false,
    "pycharm": {
     "name": "#%%\n"
    }
   }
  },
  {
   "cell_type": "code",
   "execution_count": 297,
   "outputs": [
    {
     "data": {
      "text/plain": "                Borough  Population(2019 est)              coords latitude  \\\n0  Barking and Dagenham                212906  51.5607°N 0.1557°E  51.5607   \n1                Barnet                395896  51.6252°N 0.1517°W  51.6252   \n2                Bexley                248287  51.4549°N 0.1505°E  51.4549   \n3                 Brent                329771  51.5588°N 0.2817°W  51.5588   \n4               Bromley                332336  51.4039°N 0.0198°E  51.4039   \n\n   longitude  \n0     0.1557  \n1    -0.1517  \n2     0.1505  \n3    -0.2817  \n4     0.0198  ",
      "text/html": "<div>\n<style scoped>\n    .dataframe tbody tr th:only-of-type {\n        vertical-align: middle;\n    }\n\n    .dataframe tbody tr th {\n        vertical-align: top;\n    }\n\n    .dataframe thead th {\n        text-align: right;\n    }\n</style>\n<table border=\"1\" class=\"dataframe\">\n  <thead>\n    <tr style=\"text-align: right;\">\n      <th></th>\n      <th>Borough</th>\n      <th>Population(2019 est)</th>\n      <th>coords</th>\n      <th>latitude</th>\n      <th>longitude</th>\n    </tr>\n  </thead>\n  <tbody>\n    <tr>\n      <th>0</th>\n      <td>Barking and Dagenham</td>\n      <td>212906</td>\n      <td>51.5607°N 0.1557°E</td>\n      <td>51.5607</td>\n      <td>0.1557</td>\n    </tr>\n    <tr>\n      <th>1</th>\n      <td>Barnet</td>\n      <td>395896</td>\n      <td>51.6252°N 0.1517°W</td>\n      <td>51.6252</td>\n      <td>-0.1517</td>\n    </tr>\n    <tr>\n      <th>2</th>\n      <td>Bexley</td>\n      <td>248287</td>\n      <td>51.4549°N 0.1505°E</td>\n      <td>51.4549</td>\n      <td>0.1505</td>\n    </tr>\n    <tr>\n      <th>3</th>\n      <td>Brent</td>\n      <td>329771</td>\n      <td>51.5588°N 0.2817°W</td>\n      <td>51.5588</td>\n      <td>-0.2817</td>\n    </tr>\n    <tr>\n      <th>4</th>\n      <td>Bromley</td>\n      <td>332336</td>\n      <td>51.4039°N 0.0198°E</td>\n      <td>51.4039</td>\n      <td>0.0198</td>\n    </tr>\n  </tbody>\n</table>\n</div>"
     },
     "execution_count": 297,
     "metadata": {},
     "output_type": "execute_result"
    }
   ],
   "source": [
    "london_df = pd.concat([london_west, london_east])\n",
    "london_df.sort_values(by='Borough', ascending=True, axis=0, inplace=True)\n",
    "london_df.reset_index(drop=True, inplace=True)\n",
    "\n",
    "london_df.head()"
   ],
   "metadata": {
    "collapsed": false,
    "pycharm": {
     "name": "#%%\n"
    }
   }
  },
  {
   "cell_type": "code",
   "execution_count": 298,
   "outputs": [
    {
     "data": {
      "text/plain": "                Borough  Population(2019 est)              coords latitude  \\\n0  Barking and Dagenham                212906  51.5607°N 0.1557°E  51.5607   \n1                Barnet                395896  51.6252°N 0.1517°W  51.6252   \n2                Bexley                248287  51.4549°N 0.1505°E  51.4549   \n3                 Brent                329771  51.5588°N 0.2817°W  51.5588   \n4               Bromley                332336  51.4039°N 0.0198°E  51.4039   \n\n   longitude  Total_Crime  \n0     0.1557        39456  \n1    -0.1517        59167  \n2     0.1505        33929  \n3    -0.2817        59257  \n4     0.0198        47499  ",
      "text/html": "<div>\n<style scoped>\n    .dataframe tbody tr th:only-of-type {\n        vertical-align: middle;\n    }\n\n    .dataframe tbody tr th {\n        vertical-align: top;\n    }\n\n    .dataframe thead th {\n        text-align: right;\n    }\n</style>\n<table border=\"1\" class=\"dataframe\">\n  <thead>\n    <tr style=\"text-align: right;\">\n      <th></th>\n      <th>Borough</th>\n      <th>Population(2019 est)</th>\n      <th>coords</th>\n      <th>latitude</th>\n      <th>longitude</th>\n      <th>Total_Crime</th>\n    </tr>\n  </thead>\n  <tbody>\n    <tr>\n      <th>0</th>\n      <td>Barking and Dagenham</td>\n      <td>212906</td>\n      <td>51.5607°N 0.1557°E</td>\n      <td>51.5607</td>\n      <td>0.1557</td>\n      <td>39456</td>\n    </tr>\n    <tr>\n      <th>1</th>\n      <td>Barnet</td>\n      <td>395896</td>\n      <td>51.6252°N 0.1517°W</td>\n      <td>51.6252</td>\n      <td>-0.1517</td>\n      <td>59167</td>\n    </tr>\n    <tr>\n      <th>2</th>\n      <td>Bexley</td>\n      <td>248287</td>\n      <td>51.4549°N 0.1505°E</td>\n      <td>51.4549</td>\n      <td>0.1505</td>\n      <td>33929</td>\n    </tr>\n    <tr>\n      <th>3</th>\n      <td>Brent</td>\n      <td>329771</td>\n      <td>51.5588°N 0.2817°W</td>\n      <td>51.5588</td>\n      <td>-0.2817</td>\n      <td>59257</td>\n    </tr>\n    <tr>\n      <th>4</th>\n      <td>Bromley</td>\n      <td>332336</td>\n      <td>51.4039°N 0.0198°E</td>\n      <td>51.4039</td>\n      <td>0.0198</td>\n      <td>47499</td>\n    </tr>\n  </tbody>\n</table>\n</div>"
     },
     "execution_count": 298,
     "metadata": {},
     "output_type": "execute_result"
    }
   ],
   "source": [
    "london_crimes = pd.merge(london_df, total_crime_df, on='Borough')\n",
    "london_crimes.head()"
   ],
   "metadata": {
    "collapsed": false,
    "pycharm": {
     "name": "#%%\n"
    }
   }
  },
  {
   "cell_type": "code",
   "execution_count": 299,
   "outputs": [
    {
     "data": {
      "text/plain": "                Borough  Population(2019 est)              coords latitude  \\\n0  Barking and Dagenham                212906  51.5607°N 0.1557°E  51.5607   \n1                Barnet                395896  51.6252°N 0.1517°W  51.6252   \n2                Bexley                248287  51.4549°N 0.1505°E  51.4549   \n3                 Brent                329771  51.5588°N 0.2817°W  51.5588   \n4               Bromley                332336  51.4039°N 0.0198°E  51.4039   \n\n   longitude  Total_Crime  Crime_Rate  \n0     0.1557        39456    18532.12  \n1    -0.1517        59167    14945.09  \n2     0.1505        33929    13665.23  \n3    -0.2817        59257    17969.14  \n4     0.0198        47499    14292.46  ",
      "text/html": "<div>\n<style scoped>\n    .dataframe tbody tr th:only-of-type {\n        vertical-align: middle;\n    }\n\n    .dataframe tbody tr th {\n        vertical-align: top;\n    }\n\n    .dataframe thead th {\n        text-align: right;\n    }\n</style>\n<table border=\"1\" class=\"dataframe\">\n  <thead>\n    <tr style=\"text-align: right;\">\n      <th></th>\n      <th>Borough</th>\n      <th>Population(2019 est)</th>\n      <th>coords</th>\n      <th>latitude</th>\n      <th>longitude</th>\n      <th>Total_Crime</th>\n      <th>Crime_Rate</th>\n    </tr>\n  </thead>\n  <tbody>\n    <tr>\n      <th>0</th>\n      <td>Barking and Dagenham</td>\n      <td>212906</td>\n      <td>51.5607°N 0.1557°E</td>\n      <td>51.5607</td>\n      <td>0.1557</td>\n      <td>39456</td>\n      <td>18532.12</td>\n    </tr>\n    <tr>\n      <th>1</th>\n      <td>Barnet</td>\n      <td>395896</td>\n      <td>51.6252°N 0.1517°W</td>\n      <td>51.6252</td>\n      <td>-0.1517</td>\n      <td>59167</td>\n      <td>14945.09</td>\n    </tr>\n    <tr>\n      <th>2</th>\n      <td>Bexley</td>\n      <td>248287</td>\n      <td>51.4549°N 0.1505°E</td>\n      <td>51.4549</td>\n      <td>0.1505</td>\n      <td>33929</td>\n      <td>13665.23</td>\n    </tr>\n    <tr>\n      <th>3</th>\n      <td>Brent</td>\n      <td>329771</td>\n      <td>51.5588°N 0.2817°W</td>\n      <td>51.5588</td>\n      <td>-0.2817</td>\n      <td>59257</td>\n      <td>17969.14</td>\n    </tr>\n    <tr>\n      <th>4</th>\n      <td>Bromley</td>\n      <td>332336</td>\n      <td>51.4039°N 0.0198°E</td>\n      <td>51.4039</td>\n      <td>0.0198</td>\n      <td>47499</td>\n      <td>14292.46</td>\n    </tr>\n  </tbody>\n</table>\n</div>"
     },
     "execution_count": 299,
     "metadata": {},
     "output_type": "execute_result"
    }
   ],
   "source": [
    "# crime rate = (total crimes / population) * 100000\n",
    "\n",
    "london_crimes['Crime_Rate'] = round((london_crimes['Total_Crime'] / london_crimes['Population(2019 est)']) * 100000, 2)\n",
    "london_crimes.head()"
   ],
   "metadata": {
    "collapsed": false,
    "pycharm": {
     "name": "#%%\n"
    }
   }
  },
  {
   "cell_type": "markdown",
   "source": [
    "let's try and get some places then"
   ],
   "metadata": {
    "collapsed": false,
    "pycharm": {
     "name": "#%% md\n"
    }
   }
  },
  {
   "cell_type": "code",
   "execution_count": 362,
   "outputs": [],
   "source": [
    "def get_venues(boroughs, lats, lngs, cat):\n",
    "    radius = 500\n",
    "\n",
    "    venues_list=[]\n",
    "    for borough, lat, lng in zip(boroughs, lats, lngs):\n",
    "        url = 'https://api.foursquare.com/v2/venues/search?&client_id={}&client_secret={}&v={}&ll={},{}&radius={}&limit={}&categoryId={}'.format(\n",
    "            CLIENT_ID,\n",
    "            CLIENT_SECRET,\n",
    "            VERSION,\n",
    "            lat,\n",
    "            lng,\n",
    "            radius,\n",
    "            LIMIT,\n",
    "            cat\n",
    "            )\n",
    "\n",
    "        results = requests.get(url).json()[\"response\"]['venues']\n",
    "\n",
    "        venues_list.append([(\n",
    "            borough,\n",
    "            lat,\n",
    "            lng,\n",
    "            v['name'],\n",
    "            v['location']['lat'],\n",
    "            v['location']['lng'],\n",
    "            v['categories'][0]['name']) for v in results])\n",
    "\n",
    "    nearby_venues = pd.DataFrame([item for venue_list in venues_list for item in venue_list])\n",
    "    nearby_venues.columns = ['Borough',\n",
    "                             'Latitude',\n",
    "                             'Longitude',\n",
    "                             'Venue',\n",
    "                             'Venue Latitude',\n",
    "                             'Venue Longitude',\n",
    "                             'Venue Category']\n",
    "\n",
    "    return nearby_venues"
   ],
   "metadata": {
    "collapsed": false,
    "pycharm": {
     "name": "#%%\n"
    }
   }
  },
  {
   "cell_type": "code",
   "execution_count": 363,
   "outputs": [],
   "source": [
    "cat_art = '4d4b7104d754a06370d81259'  # Arts & Entertainment\n",
    "cat_out = '4d4b7105d754a06377d81259' # outdoors recreation\n",
    "cat_study = '4d4b7105d754a06372d81259,4bf58dd8d48988d12f941735' # college and university, libraries\n",
    "cat_social = '52e81612bcbc57f1066b7a34,52e81612bcbc57f1066b7a33,4bf58dd8d48988d131941735'  # community centre, social club, religious centres\n",
    "\n",
    "bor = london_crimes.Borough\n",
    "lat = london_crimes.latitude\n",
    "lng = london_crimes.longitude\n",
    "\n",
    "arts = get_venues(bor, lat, lng, cat_art)\n",
    "outs = get_venues(bor, lat, lng, cat_out)\n",
    "studs = get_venues(bor, lat, lng, cat_study)\n",
    "socials = get_venues(bor, lat, lng, cat_social)"
   ],
   "metadata": {
    "collapsed": false,
    "pycharm": {
     "name": "#%%\n"
    }
   }
  },
  {
   "cell_type": "code",
   "execution_count": 364,
   "outputs": [
    {
     "data": {
      "text/plain": "                Borough Latitude  Longitude              Venue  \\\n0  Barking and Dagenham  51.5607     0.1557       Jolly Jungle   \n1                Barnet  51.6252    -0.1517  The Emerald Suite   \n2                Barnet  51.6252    -0.1517             A&C 11   \n3                Bexley  51.4549     0.1505         Buzz Bingo   \n4                Bexley  51.4549     0.1505          Cineworld   \n\n   Venue Latitude  Venue Longitude         Venue Category  \n0       51.561132         0.150931  General Entertainment  \n1       51.627060        -0.152635  General Entertainment  \n2       51.622103        -0.152740            Art Gallery  \n3       51.456011         0.150528  General Entertainment  \n4       51.455847         0.150358              Multiplex  ",
      "text/html": "<div>\n<style scoped>\n    .dataframe tbody tr th:only-of-type {\n        vertical-align: middle;\n    }\n\n    .dataframe tbody tr th {\n        vertical-align: top;\n    }\n\n    .dataframe thead th {\n        text-align: right;\n    }\n</style>\n<table border=\"1\" class=\"dataframe\">\n  <thead>\n    <tr style=\"text-align: right;\">\n      <th></th>\n      <th>Borough</th>\n      <th>Latitude</th>\n      <th>Longitude</th>\n      <th>Venue</th>\n      <th>Venue Latitude</th>\n      <th>Venue Longitude</th>\n      <th>Venue Category</th>\n    </tr>\n  </thead>\n  <tbody>\n    <tr>\n      <th>0</th>\n      <td>Barking and Dagenham</td>\n      <td>51.5607</td>\n      <td>0.1557</td>\n      <td>Jolly Jungle</td>\n      <td>51.561132</td>\n      <td>0.150931</td>\n      <td>General Entertainment</td>\n    </tr>\n    <tr>\n      <th>1</th>\n      <td>Barnet</td>\n      <td>51.6252</td>\n      <td>-0.1517</td>\n      <td>The Emerald Suite</td>\n      <td>51.627060</td>\n      <td>-0.152635</td>\n      <td>General Entertainment</td>\n    </tr>\n    <tr>\n      <th>2</th>\n      <td>Barnet</td>\n      <td>51.6252</td>\n      <td>-0.1517</td>\n      <td>A&amp;C 11</td>\n      <td>51.622103</td>\n      <td>-0.152740</td>\n      <td>Art Gallery</td>\n    </tr>\n    <tr>\n      <th>3</th>\n      <td>Bexley</td>\n      <td>51.4549</td>\n      <td>0.1505</td>\n      <td>Buzz Bingo</td>\n      <td>51.456011</td>\n      <td>0.150528</td>\n      <td>General Entertainment</td>\n    </tr>\n    <tr>\n      <th>4</th>\n      <td>Bexley</td>\n      <td>51.4549</td>\n      <td>0.1505</td>\n      <td>Cineworld</td>\n      <td>51.455847</td>\n      <td>0.150358</td>\n      <td>Multiplex</td>\n    </tr>\n  </tbody>\n</table>\n</div>"
     },
     "execution_count": 364,
     "metadata": {},
     "output_type": "execute_result"
    }
   ],
   "source": [
    "arts.head()"
   ],
   "metadata": {
    "collapsed": false,
    "pycharm": {
     "name": "#%%\n"
    }
   }
  },
  {
   "cell_type": "code",
   "execution_count": 365,
   "outputs": [
    {
     "data": {
      "text/plain": "                Borough Latitude  Longitude              Venue  \\\n0  Barking and Dagenham  51.5607     0.1557       Jolly Jungle   \n1                Barnet  51.6252    -0.1517  The Emerald Suite   \n2                Barnet  51.6252    -0.1517             A&C 11   \n3                Bexley  51.4549     0.1505         Buzz Bingo   \n4                Bexley  51.4549     0.1505          Cineworld   \n\n   Venue Latitude  Venue Longitude         Venue Category  \n0       51.561132         0.150931  General Entertainment  \n1       51.627060        -0.152635  General Entertainment  \n2       51.622103        -0.152740            Art Gallery  \n3       51.456011         0.150528  General Entertainment  \n4       51.455847         0.150358              Multiplex  ",
      "text/html": "<div>\n<style scoped>\n    .dataframe tbody tr th:only-of-type {\n        vertical-align: middle;\n    }\n\n    .dataframe tbody tr th {\n        vertical-align: top;\n    }\n\n    .dataframe thead th {\n        text-align: right;\n    }\n</style>\n<table border=\"1\" class=\"dataframe\">\n  <thead>\n    <tr style=\"text-align: right;\">\n      <th></th>\n      <th>Borough</th>\n      <th>Latitude</th>\n      <th>Longitude</th>\n      <th>Venue</th>\n      <th>Venue Latitude</th>\n      <th>Venue Longitude</th>\n      <th>Venue Category</th>\n    </tr>\n  </thead>\n  <tbody>\n    <tr>\n      <th>0</th>\n      <td>Barking and Dagenham</td>\n      <td>51.5607</td>\n      <td>0.1557</td>\n      <td>Jolly Jungle</td>\n      <td>51.561132</td>\n      <td>0.150931</td>\n      <td>General Entertainment</td>\n    </tr>\n    <tr>\n      <th>1</th>\n      <td>Barnet</td>\n      <td>51.6252</td>\n      <td>-0.1517</td>\n      <td>The Emerald Suite</td>\n      <td>51.627060</td>\n      <td>-0.152635</td>\n      <td>General Entertainment</td>\n    </tr>\n    <tr>\n      <th>2</th>\n      <td>Barnet</td>\n      <td>51.6252</td>\n      <td>-0.1517</td>\n      <td>A&amp;C 11</td>\n      <td>51.622103</td>\n      <td>-0.152740</td>\n      <td>Art Gallery</td>\n    </tr>\n    <tr>\n      <th>3</th>\n      <td>Bexley</td>\n      <td>51.4549</td>\n      <td>0.1505</td>\n      <td>Buzz Bingo</td>\n      <td>51.456011</td>\n      <td>0.150528</td>\n      <td>General Entertainment</td>\n    </tr>\n    <tr>\n      <th>4</th>\n      <td>Bexley</td>\n      <td>51.4549</td>\n      <td>0.1505</td>\n      <td>Cineworld</td>\n      <td>51.455847</td>\n      <td>0.150358</td>\n      <td>Multiplex</td>\n    </tr>\n  </tbody>\n</table>\n</div>"
     },
     "execution_count": 365,
     "metadata": {},
     "output_type": "execute_result"
    }
   ],
   "source": [
    "outs.head()"
   ],
   "metadata": {
    "collapsed": false,
    "pycharm": {
     "name": "#%%\n"
    }
   }
  },
  {
   "cell_type": "code",
   "execution_count": 366,
   "outputs": [
    {
     "data": {
      "text/plain": "                Borough Latitude  Longitude                     Venue  \\\n0  Barking and Dagenham  51.5607     0.1557      Cu London University   \n1  Barking and Dagenham  51.5607     0.1557    William bellamy school   \n2                Bexley  51.4549     0.1505           Central Library   \n3                 Brent  51.5588    -0.2817           Wembley Library   \n4                 Brent  51.5588    -0.2817  iQ Raffles House, London   \n\n   Venue Latitude  Venue Longitude                Venue Category  \n0       51.559606         0.154491                    University  \n1       51.558514         0.155535  General College & University  \n2       51.455971         0.144016                       Library  \n3       51.558666        -0.280904                       Library  \n4       51.557503        -0.283815        College Residence Hall  ",
      "text/html": "<div>\n<style scoped>\n    .dataframe tbody tr th:only-of-type {\n        vertical-align: middle;\n    }\n\n    .dataframe tbody tr th {\n        vertical-align: top;\n    }\n\n    .dataframe thead th {\n        text-align: right;\n    }\n</style>\n<table border=\"1\" class=\"dataframe\">\n  <thead>\n    <tr style=\"text-align: right;\">\n      <th></th>\n      <th>Borough</th>\n      <th>Latitude</th>\n      <th>Longitude</th>\n      <th>Venue</th>\n      <th>Venue Latitude</th>\n      <th>Venue Longitude</th>\n      <th>Venue Category</th>\n    </tr>\n  </thead>\n  <tbody>\n    <tr>\n      <th>0</th>\n      <td>Barking and Dagenham</td>\n      <td>51.5607</td>\n      <td>0.1557</td>\n      <td>Cu London University</td>\n      <td>51.559606</td>\n      <td>0.154491</td>\n      <td>University</td>\n    </tr>\n    <tr>\n      <th>1</th>\n      <td>Barking and Dagenham</td>\n      <td>51.5607</td>\n      <td>0.1557</td>\n      <td>William bellamy school</td>\n      <td>51.558514</td>\n      <td>0.155535</td>\n      <td>General College &amp; University</td>\n    </tr>\n    <tr>\n      <th>2</th>\n      <td>Bexley</td>\n      <td>51.4549</td>\n      <td>0.1505</td>\n      <td>Central Library</td>\n      <td>51.455971</td>\n      <td>0.144016</td>\n      <td>Library</td>\n    </tr>\n    <tr>\n      <th>3</th>\n      <td>Brent</td>\n      <td>51.5588</td>\n      <td>-0.2817</td>\n      <td>Wembley Library</td>\n      <td>51.558666</td>\n      <td>-0.280904</td>\n      <td>Library</td>\n    </tr>\n    <tr>\n      <th>4</th>\n      <td>Brent</td>\n      <td>51.5588</td>\n      <td>-0.2817</td>\n      <td>iQ Raffles House, London</td>\n      <td>51.557503</td>\n      <td>-0.283815</td>\n      <td>College Residence Hall</td>\n    </tr>\n  </tbody>\n</table>\n</div>"
     },
     "execution_count": 366,
     "metadata": {},
     "output_type": "execute_result"
    }
   ],
   "source": [
    "studs.head()"
   ],
   "metadata": {
    "collapsed": false,
    "pycharm": {
     "name": "#%%\n"
    }
   }
  },
  {
   "cell_type": "code",
   "execution_count": null,
   "outputs": [],
   "source": [],
   "metadata": {
    "collapsed": false,
    "pycharm": {
     "name": "#%%\n"
    }
   }
  }
 ],
 "metadata": {
  "kernelspec": {
   "display_name": "Python (IBM_capstone)",
   "language": "python",
   "name": "ibm_capstone"
  },
  "language_info": {
   "codemirror_mode": {
    "name": "ipython",
    "version": 3
   },
   "file_extension": ".py",
   "mimetype": "text/x-python",
   "name": "python",
   "nbconvert_exporter": "python",
   "pygments_lexer": "ipython3",
   "version": "3.9.1"
  }
 },
 "nbformat": 4,
 "nbformat_minor": 1
}