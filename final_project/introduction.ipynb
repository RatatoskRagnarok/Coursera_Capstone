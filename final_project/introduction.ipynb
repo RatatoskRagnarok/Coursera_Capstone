{
 "cells": [
  {
   "cell_type": "markdown",
   "metadata": {
    "collapsed": true,
    "pycharm": {
     "name": "#%% md\n"
    }
   },
   "source": [
    "# Hospital Numbers and Covid Death Rates\n"
   ]
  },
  {
   "cell_type": "markdown",
   "source": [
    "**Question:** Are case fatality rates from Covid19 higher in areas with fewer hospitals and medical facilities? Specifically, are Covid19 case fatality rates higher in Kansas (169 hospitals) than in New York state (215 hospitals)? Does it vary between counties within New York state and Kansas?\n",
    "\n",
    "**Audience:** Medical community, the Center for Disease Control (CDC), federal government, state governments, contingency planning organisations and town planners.\n",
    "\n",
    "**Introduction:** We are currently in the middle of the Covid19 pandemic. Two suggestions have been made about numbers of hospitals, and their relation to covid case fatality rates.\n",
    "\n",
    "1. Areas with fewer hospitals, usually rural, will have higher Covid19 case fatality rates, than those with more hospitals. [Link to article](https://www.healthline.com/health-news/rural-america-hardest-hit-by-covid-19-outbreak#A-lack-of-hospitals)\n",
    "2. Areas with fewer hospitals PER CAPITA, usually dense urban areas, will have higher Covid19 case fatality rates. [Link to article](https://eu.usatoday.com/story/money/2020/04/06/amid-pandemic-these-are-the-counties-with-the-fewest-hospitals/111512796/)\n",
    "\n",
    "It is important to discover if either of these are true, so that plans can be made for both the rest of *this* pandemic, and any future pandemics.\n",
    "\n",
    "If either of these prove to be true, perhaps in future pandemics there can be 'pop-up' hospitals in areas with low coverage, or perhaps new hospitals need to be built in rural areas, or expanded in urban areas. If they prove not to be true, then planning for this is not required."
   ],
   "metadata": {
    "collapsed": false,
    "pycharm": {
     "name": "#%% md\n"
    }
   }
  }
 ],
 "metadata": {
  "kernelspec": {
   "name": "ibm_capstone",
   "language": "python",
   "display_name": "Python (IBM_capstone)"
  },
  "language_info": {
   "codemirror_mode": {
    "name": "ipython",
    "version": 2
   },
   "file_extension": ".py",
   "mimetype": "text/x-python",
   "name": "python",
   "nbconvert_exporter": "python",
   "pygments_lexer": "ipython2",
   "version": "2.7.6"
  }
 },
 "nbformat": 4,
 "nbformat_minor": 0
}