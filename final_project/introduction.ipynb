{
 "cells": [
  {
   "cell_type": "markdown",
   "metadata": {
    "collapsed": true,
    "pycharm": {
     "name": "#%% md\n"
    }
   },
   "source": [
    "# Hospital Numbers and Covid Death Rates\n"
   ]
  },
  {
   "cell_type": "markdown",
   "source": [
    "**Question:** Are death rates from Covid19 higher in areas with fewer hospitals and medical facilities? Specifically, are Covid19 death rates higher in Kansas than in New York state? Does it vary between urban and rural areas of New York state and urban and rural areas of Kansas?\n",
    "\n",
    "**Audience:** Medical community, the Center for Disease Control (CDC), federal government, state governments, contingency planning organisations and town planners.\n",
    "\n",
    "**Introduction:** We are currently in the middle of the Covid19 pandemic. It has been suggested that rural areas with fewer hospitals have higher death rates than urban areas. It is important to discover if this is true, so that plans can be made for both the rest of *this* pandemic, and any future pandemics.\n",
    "\n",
    "First we need to discover if rural areas have fewer hospitals than urban areas, and if this is true at both inter and intra state levels. Then if areas with fewer hospitals have higher Covid19 death rates.\n",
    "\n",
    "Perhaps if this proves to be true, in future pandemics there can be 'pop-up' hospitals in areas with low coverage, or perhaps new hospitals need to be built in rural areas. If it proves not to be true, then planning for this is not required."
   ],
   "metadata": {
    "collapsed": false,
    "pycharm": {
     "name": "#%% md\n"
    }
   }
  }
 ],
 "metadata": {
  "kernelspec": {
   "name": "ibm_capstone",
   "language": "python",
   "display_name": "Python (IBM_capstone)"
  },
  "language_info": {
   "codemirror_mode": {
    "name": "ipython",
    "version": 2
   },
   "file_extension": ".py",
   "mimetype": "text/x-python",
   "name": "python",
   "nbconvert_exporter": "python",
   "pygments_lexer": "ipython2",
   "version": "2.7.6"
  }
 },
 "nbformat": 4,
 "nbformat_minor": 0
}